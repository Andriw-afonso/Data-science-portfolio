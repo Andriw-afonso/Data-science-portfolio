{
  "nbformat": 4,
  "nbformat_minor": 0,
  "metadata": {
    "colab": {
      "name": "BLOCKER_FRAUD_COMPANY.ipynb",
      "provenance": [],
      "collapsed_sections": [
        "e-HN8F8vIE0K",
        "0yYvm-LIIUbr",
        "Hhruxo2xIa9g",
        "M0XZw0DHIccA",
        "ucvRcvY6IrH4",
        "KgCn8dAOI-aY",
        "v8VI0DTjJC2Z",
        "wE9ZX6aTJG84",
        "2ty2lvOQJKc4",
        "OlJFVvHqOJeA",
        "zD9IibEiJScY",
        "MjhMzg-7JxR6",
        "2NLPgZOFKHLI",
        "XzUZ5Z-xK3T_",
        "XyU-Tah1LRnn",
        "sH_nWjMBMdAP",
        "MwwsXAvVMhY3",
        "yU1LRKU9wtMK",
        "S7nqPULlMn53",
        "70ED8lTYNcBX",
        "AVklj13VN6dI",
        "MvaOgZivOibe",
        "lFgdoU1xO-Z-",
        "Etm2zHVvPEh2",
        "sR0iJiLkPN_9",
        "qJCVx9icPhqe",
        "pqPsPzXOPmKu",
        "Aga1DnIxSul9",
        "sK7v7hDCTEn1",
        "ty4DOZo7TZ9F",
        "otnAxQ38Tc3N",
        "XncS_BNqTeUd",
        "gR45ERX5TkWt",
        "07b7kf0eTmHN",
        "kow0Z9RYUWGD",
        "MJOXC0zsUrRs",
        "KuLWx92_Uxmk",
        "uOzUB1c4U6_M",
        "01iSNySzVJmM",
        "dPeK1w55Vg8E",
        "0gLyVzvLVx5E",
        "QO5psljeV2hs",
        "ib_DOLWtWd-w",
        "HPE4O3ChW3J8",
        "AxbxcTIKW-Rj",
        "CJPOn-WqXCuM",
        "trQb9Be5XGe7",
        "tuF55r7hXLRT",
        "CxmMrZtWXfTj",
        "perykH4ZWvYI",
        "8VpcFt5mXxGb",
        "KUBTemPKYIYz",
        "Go7oSzpgXoZr",
        "HrqJmWXRTlXs",
        "WZsapc3IX9Fq",
        "MeZ0aoBNTzEj",
        "xQzySzJGYTdz",
        "b4TKUJG4T8DU",
        "aoseJ2aoN0jY",
        "NBMkyZFaUGGr",
        "yY_AUWPzZYxt",
        "XePBn6Zwe6SD",
        "dGpqW0_1ed3Z",
        "6lt0TgU-ed3a",
        "_-gktjyHfI5t",
        "jDtB6Rz_fI51",
        "5U7NwxmYY2XT",
        "u7j3l4avY9Eb",
        "ggunoaLQZANs",
        "XNgufp4nZMza",
        "G5MqjiseZcez",
        "olrRbmpSZlpr",
        "lE3Sxx6BZsrS",
        "K2ALxcCaaLQd",
        "4IogQnHDaVcS",
        "XjFOAq--aRKS",
        "0B6dkQxlbyDO",
        "yW1rXSSScDgE",
        "AMtvcEYZcNOk",
        "Ub61SJoQcS-c",
        "TRdl2cRkcZLE",
        "g3adyUl1cex0",
        "6DMlVJjBaela",
        "eoe3WFtfa0yS",
        "A1lqCvdPa7-q",
        "9fnxebzna_zC"
      ]
    },
    "kernelspec": {
      "name": "python3",
      "display_name": "Python 3"
    }
  },
  "cells": [
    {
      "cell_type": "markdown",
      "metadata": {
        "id": "e-HN8F8vIE0K"
      },
      "source": [
        "#0.0 IMPORTS"
      ]
    },
    {
      "cell_type": "code",
      "metadata": {
        "id": "NYx7XuAcHzUK",
        "colab": {
          "base_uri": "https://localhost:8080/"
        },
        "outputId": "fae96e9e-ee31-4cf8-94c2-30d06868f344"
      },
      "source": [
        "pip install boruta"
      ],
      "execution_count": 1,
      "outputs": [
        {
          "output_type": "stream",
          "text": [
            "Requirement already satisfied: boruta in /usr/local/lib/python3.7/dist-packages (0.3)\n",
            "Requirement already satisfied: scikit-learn>=0.17.1 in /usr/local/lib/python3.7/dist-packages (from boruta) (0.22.2.post1)\n",
            "Requirement already satisfied: scipy>=0.17.0 in /usr/local/lib/python3.7/dist-packages (from boruta) (1.4.1)\n",
            "Requirement already satisfied: numpy>=1.10.4 in /usr/local/lib/python3.7/dist-packages (from boruta) (1.19.5)\n",
            "Requirement already satisfied: joblib>=0.11 in /usr/local/lib/python3.7/dist-packages (from scikit-learn>=0.17.1->boruta) (1.0.1)\n"
          ],
          "name": "stdout"
        }
      ]
    },
    {
      "cell_type": "code",
      "metadata": {
        "id": "v5N9moORvrn1"
      },
      "source": [
        "import pandas              as pd\n",
        "import numpy               as np\n",
        "import seaborn             as sns\n",
        "import matplotlib.pyplot   as plt\n",
        "import matplotlib.gridspec as gridspec\n",
        "import scipy.stats         as stats\n",
        "import sklearn.metrics     as metrics\n",
        "\n",
        "import warnings\n",
        "import random\n",
        "import requests\n",
        "import json\n",
        "import datetime\n",
        "import math\n",
        "import pickle\n",
        "\n",
        "\n",
        "from sklearn.preprocessing     import RobustScaler,MinMaxScaler\n",
        "from tabulate                  import tabulate\n",
        "from boruta                    import BorutaPy\n",
        "from IPython.display           import Image\n",
        "from sklearn.preprocessing     import LabelEncoder,RobustScaler,MinMaxScaler\n",
        "from sklearn.model_selection   import train_test_split\n",
        "from sklearn.metrics           import precision_score, recall_score, f1_score\n",
        "from sklearn.ensemble          import RandomForestRegressor,RandomForestClassifier\n",
        "from sklearn.dummy             import DummyClassifier\n",
        "from sklearn.linear_model      import LogisticRegression\n",
        "from sklearn.neighbors         import KNeighborsClassifier \n",
        "from sklearn.naive_bayes       import GaussianNB,BernoulliNB\n",
        "from sklearn.svm               import SVC\n",
        "from sklearn.ensemble          import GradientBoostingClassifier\n",
        "from sklearn.tree              import DecisionTreeClassifier\n",
        "from sklearn.metrics           import roc_curve, auc\n",
        "from sklearn.metrics           import accuracy_score\n",
        "from sklearn.model_selection   import cross_val_predict\n",
        "from sklearn.metrics           import confusion_matrix\n",
        "from sklearn.model_selection   import StratifiedKFold\n",
        "from sklearn.metrics           import precision_recall_curve\n",
        "from sklearn.metrics           import recall_score"
      ],
      "execution_count": 2,
      "outputs": []
    },
    {
      "cell_type": "markdown",
      "metadata": {
        "id": "0yYvm-LIIUbr"
      },
      "source": [
        "##0.1 Helper Functions"
      ]
    },
    {
      "cell_type": "code",
      "metadata": {
        "id": "eaOpsHN8Y2VT"
      },
      "source": [
        "def model_perform(y_test,yhat,model_name):\n",
        "\n",
        "  data=pd.DataFrame({       'model Name':   model_name, \n",
        "                            'accuracy'  :   accuracy_score(y_test, yhat),                                                                                                  \n",
        "                            'precision' :   precision_score(y_test,yhat),\n",
        "                            'recall'    :   recall_score(y_test,yhat, average='macro'),\n",
        "                            'f1 score'  :   f1_score(y_test,yhat)                     \n",
        "                                                                   },index=[0])\n",
        "  return data\n",
        "\n",
        "\n",
        "def cross_validation(data,kfold,model_name,model):\n",
        "  \n",
        "  accuracy_list=[]\n",
        "  precision_list=[]\n",
        "  recall_list=[]\n",
        "  f1_score_list=[]\n",
        "  \n",
        "  \n",
        "  fim=[]\n",
        "  inicio=[]  \n",
        "  razao=data.index.max()/kfold\n",
        "  for i in range(1,kfold+1):\n",
        "    fim.append(round(razao*i,2))\n",
        "    inicio.append(round((razao*i)-razao,2))\n",
        "\n",
        "  for k in range(0,kfold):\n",
        "\n",
        "    #Start and end for validation\n",
        "    validation_start=inicio[k]\n",
        "    validation_end=fim[k]\n",
        "\n",
        "    #Filtering in dataset\n",
        "    aux=data[(data.index>=validation_start) & (data.index<=validation_end)]\n",
        "    training=data.drop(aux.index,axis=0)\n",
        "    validation=data[(data.index>=validation_start) & (data.index<=validation_end)]\n",
        "\n",
        "\n",
        "    #Training and validation dataset\n",
        "    #Training\n",
        "    xtraining=training.drop(['fraude'],axis=1)\n",
        "    ytraining=training['fraude']\n",
        "\n",
        "    #Validation\n",
        "    xvalidation=validation.drop(['fraude'],axis=1)\n",
        "    yvalidation=validation['fraude']\n",
        "\n",
        "    #model\n",
        "    m=model.fit(xtraining,ytraining)\n",
        "\n",
        "    #prediction\n",
        "    yhat=m.predict(xvalidation)\n",
        "\n",
        "    performaces=model_perform(yvalidation,yhat,model_name)\n",
        "    \n",
        "    #performance of each KFold iteration\n",
        "    accuracy_list.append(performaces['accuracy'])\n",
        "    precision_list.append(performaces['precision'])\n",
        "    recall_list.append(performaces['recall'])\n",
        "    f1_score_list.append(performaces['f1 score'])\n",
        "    \n",
        "    \n",
        "\n",
        "\n",
        "  return pd.DataFrame({ 'Model name':               model_name,  \n",
        "                        'accuracy CV':              np.round(np.mean(accuracy_list),2).astype(str)+ '+/-' + np.round(np.std(accuracy_list),2).astype(str),                    \n",
        "                        'precision CV':             np.round(np.mean(precision_list),2).astype(str)+ '+/-' + np.round(np.std(precision_list),2).astype(str),\n",
        "                        'recall CV':                np.round(np.mean(recall_list),2).astype(str)+ '+/-' + np.round(np.std(recall_list),2).astype(str),\n",
        "                        'f1 score CV':              np.round(np.mean(f1_score_list),2).astype(str)+ '+/-' + np.round(np.std(f1_score_list),2).astype(str)\n",
        "                        \n",
        "                        \n",
        "                       \n",
        "                        },index=[0])\n",
        "  \n",
        "\n",
        "\n",
        "def boruta (x_train,y_train):\n",
        "  \n",
        "  #Training and test dataset for Boruta\n",
        "  X_train_boruta = x_train.values\n",
        "  Y_train_boruta = y_train.values.ravel()\n",
        "\n",
        "  #Define RandomForestRegressor\n",
        "  rf=RandomForestRegressor(n_jobs=-1)\n",
        "\n",
        "  #Define Boruta\n",
        "  boruta=BorutaPy(rf,n_estimators='auto',verbose=2,random_state=42).fit(X_train_boruta,Y_train_boruta)  \n",
        "  \n",
        "  return boruta\n",
        "  \n",
        "\n",
        "\n",
        "def best_features(boruta,x_train):\n",
        "\n",
        "  cols_selected=boruta.support_.tolist()\n",
        "\n",
        "  #best features\n",
        "  x_train_fs=x_train\n",
        "  cols_selected_boruta=x_train_fs.iloc[:,cols_selected].columns.to_list()\n",
        "\n",
        "  #not selected boruta\n",
        "  cols_not_selected_boruta=list(np.setdiff1d(x_train_fs.columns,cols_selected_boruta))\n",
        "\n",
        "  return cols_selected_boruta\n",
        "\n",
        "\n",
        "#rescaling\n",
        "def rescaling(poucos_outliers,muitos_outliers,data):\n",
        "  \n",
        "  rs=RobustScaler()\n",
        "  mms=MinMaxScaler()\n",
        "\n",
        "  #poucos_outliers\n",
        "  for i in range(0,len(poucos_outliers)):\n",
        "    data[poucos_outliers[i]]=mms.fit_transform(data[[poucos_outliers[i]]].values)   \n",
        "\n",
        "  #muitos_outliers\n",
        "  for i in range(0,len(muitos_outliers)):\n",
        "    data[muitos_outliers[i]]=rs.fit_transform(data[[muitos_outliers[i]]].values)     \n",
        "\n",
        "  return data\n",
        "\n",
        "\n",
        "def correlacao_features_numericas(numericos,data):\n",
        "\n",
        "  columns=numericos.columns\n",
        "  aux=data[columns]\n",
        "\n",
        "  correlation=aux.corr(method='pearson')\n",
        "  ax=sns.heatmap(correlation,annot=True);\n",
        "  ax.figure.set_size_inches(18,10)\n",
        "  ax.set_title('Correlação entre features numéricas',fontsize=14)\n",
        "\n",
        "  return ax\n",
        "\n",
        "\n",
        "def correlacao_categorica(data):\n",
        "\n",
        "  #selecao\n",
        "  a=data.select_dtypes(include='object')\n",
        "\n",
        "  #lista 1 , todas correlacoes\n",
        "  columns=a.columns\n",
        "  lista=[]\n",
        "  for i2 in range(0,len(columns)):\n",
        "    for i in range(0,len(columns)):\n",
        "      lista.append(cramer_v(a[columns[i2]],a[columns[i]]))\n",
        "\n",
        "  #lista 2 , correlacoes por features\n",
        "  lista2=[]\n",
        "  n_features=len(columns)\n",
        "  for i in range(0,n_features):\n",
        "\n",
        "    a=n_features*i\n",
        "    b=n_features*(i+1)\n",
        "\n",
        "    lista2.append(lista[a:b])\n",
        "  \n",
        "  return lista2\n",
        "\n",
        "  \n",
        "def cramer_v(x,y):\n",
        "  \n",
        "  cm=pd.crosstab(x, y).to_numpy()\n",
        "  n=cm.sum()\n",
        "  r,k=cm.shape\n",
        "  chi2=stats.chi2_contingency(cm)[0]\n",
        "  chi2corr=max(0,chi2-(k-1)*(r-1)/(n-1))\n",
        "  kcorr=k-(k-1)**2/(n-1)\n",
        "  rcorr=r-(r-1)**2/(n-1)\n",
        "\n",
        "  return np.sqrt((chi2corr/n)/(min(kcorr-1,rcorr-1)))\n",
        "\n",
        "\n",
        "def estatistica_descritiva(data):\n",
        "\n",
        "  #selecao\n",
        "  num_attributes=data.select_dtypes(include=['int64','float64'])\n",
        "\n",
        "  #Central tendency=mean,median\n",
        "  ct1=pd.DataFrame(num_attributes.apply(np.mean)).T\n",
        "  ct2=pd.DataFrame(num_attributes.apply(np.median)).T\n",
        "\n",
        "  # Dispersion=std,min,max,range,skew,kurtosis\n",
        "  d1=pd.DataFrame(num_attributes.apply(np.std)).T\n",
        "  d2=pd.DataFrame(num_attributes.apply(min)).T\n",
        "  d3=pd.DataFrame(num_attributes.apply(max)).T\n",
        "  d4=pd.DataFrame(num_attributes.apply(lambda x:x.mean()-x.min())).T\n",
        "  d5=pd.DataFrame(num_attributes.apply(lambda x:x.skew())).T\n",
        "  d6=pd.DataFrame(num_attributes.apply(lambda x:x.kurtosis())).T\n",
        "\n",
        "  #Concatenate\n",
        "  aux=pd.concat([d2,d3,d4,ct1,ct2,d1,d5,d6]).T.reset_index()  \n",
        "  aux.columns=(['attributes','min','max','range','mean','median','std','skew','kurtosis']) \n",
        "\n",
        "  return aux\n",
        "\n",
        "\n",
        "def curva_roc(y_test,yhat):\n",
        "  \n",
        "  fpr, tpr, threshold = metrics.roc_curve(y_test, yhat)\n",
        "  roc_auc = metrics.auc(fpr, tpr)\n",
        "\n",
        "  plt.title('Receiver Operating Characteristic')\n",
        "  plt.plot(fpr, tpr, 'b', label = 'AUC = %0.2f' % roc_auc)\n",
        "  plt.legend(loc = 'lower right')\n",
        "  plt.plot([0, 1], [0, 1],'r--')\n",
        "  plt.xlim([0, 1])\n",
        "  plt.ylim([0, 1])\n",
        "  plt.ylabel('True Positive Rate')\n",
        "  plt.xlabel('False Positive Rate')\n",
        "  return plt.show()\n",
        "\n",
        "\n",
        "\n",
        "def calcula_limite_superior_e_inferior(data):\n",
        "\n",
        "  q1=data.quantile(0.25)\n",
        "  q3=data.quantile(0.75)\n",
        "  \n",
        "  iiq=q3-q1\n",
        "\n",
        "  limite_inferior=q1-1.5*iiq\n",
        "  limite_superior=q3+1.5*iiq\n",
        "  \n",
        "  return [limite_superior,limite_inferior]"
      ],
      "execution_count": 3,
      "outputs": []
    },
    {
      "cell_type": "markdown",
      "metadata": {
        "id": "Hhruxo2xIa9g"
      },
      "source": [
        "##0.2 Loading Data"
      ]
    },
    {
      "cell_type": "code",
      "metadata": {
        "id": "zQG4J1MbIbfH",
        "colab": {
          "base_uri": "https://localhost:8080/",
          "height": 204
        },
        "outputId": "c44e8ad4-685c-467d-dbbf-fe952b254b88"
      },
      "source": [
        "df_raw=pd.read_csv('/content/PS_20174392719_1491204439457_log.csv')\n",
        "df_raw.head()"
      ],
      "execution_count": 4,
      "outputs": [
        {
          "output_type": "execute_result",
          "data": {
            "text/html": [
              "<div>\n",
              "<style scoped>\n",
              "    .dataframe tbody tr th:only-of-type {\n",
              "        vertical-align: middle;\n",
              "    }\n",
              "\n",
              "    .dataframe tbody tr th {\n",
              "        vertical-align: top;\n",
              "    }\n",
              "\n",
              "    .dataframe thead th {\n",
              "        text-align: right;\n",
              "    }\n",
              "</style>\n",
              "<table border=\"1\" class=\"dataframe\">\n",
              "  <thead>\n",
              "    <tr style=\"text-align: right;\">\n",
              "      <th></th>\n",
              "      <th>step</th>\n",
              "      <th>type</th>\n",
              "      <th>amount</th>\n",
              "      <th>nameOrig</th>\n",
              "      <th>oldbalanceOrg</th>\n",
              "      <th>newbalanceOrig</th>\n",
              "      <th>nameDest</th>\n",
              "      <th>oldbalanceDest</th>\n",
              "      <th>newbalanceDest</th>\n",
              "      <th>isFraud</th>\n",
              "      <th>isFlaggedFraud</th>\n",
              "    </tr>\n",
              "  </thead>\n",
              "  <tbody>\n",
              "    <tr>\n",
              "      <th>0</th>\n",
              "      <td>1</td>\n",
              "      <td>PAYMENT</td>\n",
              "      <td>9839.64</td>\n",
              "      <td>C1231006815</td>\n",
              "      <td>170136.0</td>\n",
              "      <td>160296.36</td>\n",
              "      <td>M1979787155</td>\n",
              "      <td>0.0</td>\n",
              "      <td>0.0</td>\n",
              "      <td>0</td>\n",
              "      <td>0</td>\n",
              "    </tr>\n",
              "    <tr>\n",
              "      <th>1</th>\n",
              "      <td>1</td>\n",
              "      <td>PAYMENT</td>\n",
              "      <td>1864.28</td>\n",
              "      <td>C1666544295</td>\n",
              "      <td>21249.0</td>\n",
              "      <td>19384.72</td>\n",
              "      <td>M2044282225</td>\n",
              "      <td>0.0</td>\n",
              "      <td>0.0</td>\n",
              "      <td>0</td>\n",
              "      <td>0</td>\n",
              "    </tr>\n",
              "    <tr>\n",
              "      <th>2</th>\n",
              "      <td>1</td>\n",
              "      <td>TRANSFER</td>\n",
              "      <td>181.00</td>\n",
              "      <td>C1305486145</td>\n",
              "      <td>181.0</td>\n",
              "      <td>0.00</td>\n",
              "      <td>C553264065</td>\n",
              "      <td>0.0</td>\n",
              "      <td>0.0</td>\n",
              "      <td>1</td>\n",
              "      <td>0</td>\n",
              "    </tr>\n",
              "    <tr>\n",
              "      <th>3</th>\n",
              "      <td>1</td>\n",
              "      <td>CASH_OUT</td>\n",
              "      <td>181.00</td>\n",
              "      <td>C840083671</td>\n",
              "      <td>181.0</td>\n",
              "      <td>0.00</td>\n",
              "      <td>C38997010</td>\n",
              "      <td>21182.0</td>\n",
              "      <td>0.0</td>\n",
              "      <td>1</td>\n",
              "      <td>0</td>\n",
              "    </tr>\n",
              "    <tr>\n",
              "      <th>4</th>\n",
              "      <td>1</td>\n",
              "      <td>PAYMENT</td>\n",
              "      <td>11668.14</td>\n",
              "      <td>C2048537720</td>\n",
              "      <td>41554.0</td>\n",
              "      <td>29885.86</td>\n",
              "      <td>M1230701703</td>\n",
              "      <td>0.0</td>\n",
              "      <td>0.0</td>\n",
              "      <td>0</td>\n",
              "      <td>0</td>\n",
              "    </tr>\n",
              "  </tbody>\n",
              "</table>\n",
              "</div>"
            ],
            "text/plain": [
              "   step      type    amount  ... newbalanceDest  isFraud  isFlaggedFraud\n",
              "0     1   PAYMENT   9839.64  ...            0.0        0               0\n",
              "1     1   PAYMENT   1864.28  ...            0.0        0               0\n",
              "2     1  TRANSFER    181.00  ...            0.0        1               0\n",
              "3     1  CASH_OUT    181.00  ...            0.0        1               0\n",
              "4     1   PAYMENT  11668.14  ...            0.0        0               0\n",
              "\n",
              "[5 rows x 11 columns]"
            ]
          },
          "metadata": {
            "tags": []
          },
          "execution_count": 4
        }
      ]
    },
    {
      "cell_type": "code",
      "metadata": {
        "id": "Yt-Yrz0zBPRa"
      },
      "source": [
        "df_test_deploy=df_raw[df_raw.index<1000]"
      ],
      "execution_count": 5,
      "outputs": []
    },
    {
      "cell_type": "markdown",
      "metadata": {
        "id": "M0XZw0DHIccA"
      },
      "source": [
        "# 1.0 PASSO 1 - DESCRIPTION OF THE DATA"
      ]
    },
    {
      "cell_type": "code",
      "metadata": {
        "id": "XdoVIRfrIw-j"
      },
      "source": [
        "#copia do dataframe\n",
        "df1=df_raw.copy()"
      ],
      "execution_count": 6,
      "outputs": []
    },
    {
      "cell_type": "markdown",
      "metadata": {
        "id": "ucvRcvY6IrH4"
      },
      "source": [
        "##1.1 Rename Columns"
      ]
    },
    {
      "cell_type": "code",
      "metadata": {
        "id": "UcyqLj73I36Y",
        "colab": {
          "base_uri": "https://localhost:8080/",
          "height": 224
        },
        "outputId": "8e88a8bc-689c-4ca0-d52f-d41a4d295159"
      },
      "source": [
        "columns={   'step':'etapa','type':'tipos','amount':'montante','nameOrig':'remetente',\n",
        "            'oldbalanceOrg':'saldo_inicial_remetente','newbalanceOrig':'saldo_atual_remetente',\n",
        "            'nameDest':'destinatario','oldbalanceDest':'saldo_inicial_destinatario',\n",
        "            'newbalanceDest':'saldo_atual_destinatario','isFraud':'fraude','isFlaggedFraud':'fraude_sinalizada'}\n",
        "df1=df1.rename(columns=columns)\n",
        "df1.head()"
      ],
      "execution_count": 7,
      "outputs": [
        {
          "output_type": "execute_result",
          "data": {
            "text/html": [
              "<div>\n",
              "<style scoped>\n",
              "    .dataframe tbody tr th:only-of-type {\n",
              "        vertical-align: middle;\n",
              "    }\n",
              "\n",
              "    .dataframe tbody tr th {\n",
              "        vertical-align: top;\n",
              "    }\n",
              "\n",
              "    .dataframe thead th {\n",
              "        text-align: right;\n",
              "    }\n",
              "</style>\n",
              "<table border=\"1\" class=\"dataframe\">\n",
              "  <thead>\n",
              "    <tr style=\"text-align: right;\">\n",
              "      <th></th>\n",
              "      <th>etapa</th>\n",
              "      <th>tipos</th>\n",
              "      <th>montante</th>\n",
              "      <th>remetente</th>\n",
              "      <th>saldo_inicial_remetente</th>\n",
              "      <th>saldo_atual_remetente</th>\n",
              "      <th>destinatario</th>\n",
              "      <th>saldo_inicial_destinatario</th>\n",
              "      <th>saldo_atual_destinatario</th>\n",
              "      <th>fraude</th>\n",
              "      <th>fraude_sinalizada</th>\n",
              "    </tr>\n",
              "  </thead>\n",
              "  <tbody>\n",
              "    <tr>\n",
              "      <th>0</th>\n",
              "      <td>1</td>\n",
              "      <td>PAYMENT</td>\n",
              "      <td>9839.64</td>\n",
              "      <td>C1231006815</td>\n",
              "      <td>170136.0</td>\n",
              "      <td>160296.36</td>\n",
              "      <td>M1979787155</td>\n",
              "      <td>0.0</td>\n",
              "      <td>0.0</td>\n",
              "      <td>0</td>\n",
              "      <td>0</td>\n",
              "    </tr>\n",
              "    <tr>\n",
              "      <th>1</th>\n",
              "      <td>1</td>\n",
              "      <td>PAYMENT</td>\n",
              "      <td>1864.28</td>\n",
              "      <td>C1666544295</td>\n",
              "      <td>21249.0</td>\n",
              "      <td>19384.72</td>\n",
              "      <td>M2044282225</td>\n",
              "      <td>0.0</td>\n",
              "      <td>0.0</td>\n",
              "      <td>0</td>\n",
              "      <td>0</td>\n",
              "    </tr>\n",
              "    <tr>\n",
              "      <th>2</th>\n",
              "      <td>1</td>\n",
              "      <td>TRANSFER</td>\n",
              "      <td>181.00</td>\n",
              "      <td>C1305486145</td>\n",
              "      <td>181.0</td>\n",
              "      <td>0.00</td>\n",
              "      <td>C553264065</td>\n",
              "      <td>0.0</td>\n",
              "      <td>0.0</td>\n",
              "      <td>1</td>\n",
              "      <td>0</td>\n",
              "    </tr>\n",
              "    <tr>\n",
              "      <th>3</th>\n",
              "      <td>1</td>\n",
              "      <td>CASH_OUT</td>\n",
              "      <td>181.00</td>\n",
              "      <td>C840083671</td>\n",
              "      <td>181.0</td>\n",
              "      <td>0.00</td>\n",
              "      <td>C38997010</td>\n",
              "      <td>21182.0</td>\n",
              "      <td>0.0</td>\n",
              "      <td>1</td>\n",
              "      <td>0</td>\n",
              "    </tr>\n",
              "    <tr>\n",
              "      <th>4</th>\n",
              "      <td>1</td>\n",
              "      <td>PAYMENT</td>\n",
              "      <td>11668.14</td>\n",
              "      <td>C2048537720</td>\n",
              "      <td>41554.0</td>\n",
              "      <td>29885.86</td>\n",
              "      <td>M1230701703</td>\n",
              "      <td>0.0</td>\n",
              "      <td>0.0</td>\n",
              "      <td>0</td>\n",
              "      <td>0</td>\n",
              "    </tr>\n",
              "  </tbody>\n",
              "</table>\n",
              "</div>"
            ],
            "text/plain": [
              "   etapa     tipos  ...  fraude fraude_sinalizada\n",
              "0      1   PAYMENT  ...       0                 0\n",
              "1      1   PAYMENT  ...       0                 0\n",
              "2      1  TRANSFER  ...       1                 0\n",
              "3      1  CASH_OUT  ...       1                 0\n",
              "4      1   PAYMENT  ...       0                 0\n",
              "\n",
              "[5 rows x 11 columns]"
            ]
          },
          "metadata": {
            "tags": []
          },
          "execution_count": 7
        }
      ]
    },
    {
      "cell_type": "markdown",
      "metadata": {
        "id": "KgCn8dAOI-aY"
      },
      "source": [
        "##1.2 Data Dimensions"
      ]
    },
    {
      "cell_type": "code",
      "metadata": {
        "id": "gcnarEM4I_AM",
        "colab": {
          "base_uri": "https://localhost:8080/"
        },
        "outputId": "bf2edba6-d675-42c9-a418-09feca0da289"
      },
      "source": [
        "print('Number of rows: {}'.format(df1.shape[0]))\n",
        "print('Number of cols: {}'.format(df1.shape[1]))"
      ],
      "execution_count": 8,
      "outputs": [
        {
          "output_type": "stream",
          "text": [
            "Number of rows: 6362620\n",
            "Number of cols: 11\n"
          ],
          "name": "stdout"
        }
      ]
    },
    {
      "cell_type": "markdown",
      "metadata": {
        "id": "v8VI0DTjJC2Z"
      },
      "source": [
        "##1.3 Data Types"
      ]
    },
    {
      "cell_type": "code",
      "metadata": {
        "id": "NvykRIwwJDm2",
        "colab": {
          "base_uri": "https://localhost:8080/"
        },
        "outputId": "84a4dac5-f19b-4165-9927-ba71c735bc07"
      },
      "source": [
        "df1.dtypes"
      ],
      "execution_count": 9,
      "outputs": [
        {
          "output_type": "execute_result",
          "data": {
            "text/plain": [
              "etapa                           int64\n",
              "tipos                          object\n",
              "montante                      float64\n",
              "remetente                      object\n",
              "saldo_inicial_remetente       float64\n",
              "saldo_atual_remetente         float64\n",
              "destinatario                   object\n",
              "saldo_inicial_destinatario    float64\n",
              "saldo_atual_destinatario      float64\n",
              "fraude                          int64\n",
              "fraude_sinalizada               int64\n",
              "dtype: object"
            ]
          },
          "metadata": {
            "tags": []
          },
          "execution_count": 9
        }
      ]
    },
    {
      "cell_type": "markdown",
      "metadata": {
        "id": "wE9ZX6aTJG84"
      },
      "source": [
        "##1.4 Check NA"
      ]
    },
    {
      "cell_type": "code",
      "metadata": {
        "id": "kjnuK3DpJHpG",
        "colab": {
          "base_uri": "https://localhost:8080/"
        },
        "outputId": "c6404fcc-3a01-4c8e-ff9a-de3ca97ba91b"
      },
      "source": [
        "df1.isna().sum()"
      ],
      "execution_count": 10,
      "outputs": [
        {
          "output_type": "execute_result",
          "data": {
            "text/plain": [
              "etapa                         0\n",
              "tipos                         0\n",
              "montante                      0\n",
              "remetente                     0\n",
              "saldo_inicial_remetente       0\n",
              "saldo_atual_remetente         0\n",
              "destinatario                  0\n",
              "saldo_inicial_destinatario    0\n",
              "saldo_atual_destinatario      0\n",
              "fraude                        0\n",
              "fraude_sinalizada             0\n",
              "dtype: int64"
            ]
          },
          "metadata": {
            "tags": []
          },
          "execution_count": 10
        }
      ]
    },
    {
      "cell_type": "markdown",
      "metadata": {
        "id": "2ty2lvOQJKc4"
      },
      "source": [
        "##1.5 Fillout NA"
      ]
    },
    {
      "cell_type": "code",
      "metadata": {
        "id": "QHcLxqineGr0"
      },
      "source": [
        "df1=df1[df1['destinatario'].isna()==False]"
      ],
      "execution_count": 11,
      "outputs": []
    },
    {
      "cell_type": "markdown",
      "metadata": {
        "id": "OlJFVvHqOJeA"
      },
      "source": [
        "##1.6 Change types"
      ]
    },
    {
      "cell_type": "code",
      "metadata": {
        "id": "SraSxqWNOTsj"
      },
      "source": [
        "df1['fraude']=df1['fraude'].astype(str)\n",
        "df1['fraude_sinalizada']=df1['fraude_sinalizada'].astype(str)"
      ],
      "execution_count": 12,
      "outputs": []
    },
    {
      "cell_type": "markdown",
      "metadata": {
        "id": "zD9IibEiJScY"
      },
      "source": [
        "##1.7 Descriptive Statistical"
      ]
    },
    {
      "cell_type": "code",
      "metadata": {
        "id": "zloVBKPSJS9-"
      },
      "source": [
        "num_attributes=df1.select_dtypes(include=['int64','float64'])\n",
        "cat_attributes=df1.select_dtypes(include=['object'])"
      ],
      "execution_count": 13,
      "outputs": []
    },
    {
      "cell_type": "markdown",
      "metadata": {
        "id": "MjhMzg-7JxR6"
      },
      "source": [
        "###1.7.1 Numerical Attributes"
      ]
    },
    {
      "cell_type": "code",
      "metadata": {
        "id": "HUPUx-mIJ09R",
        "colab": {
          "base_uri": "https://localhost:8080/",
          "height": 235
        },
        "outputId": "a009c578-ffe1-4620-bfbd-78b44487a823"
      },
      "source": [
        "estatistica_descritiva(num_attributes)"
      ],
      "execution_count": 14,
      "outputs": [
        {
          "output_type": "execute_result",
          "data": {
            "text/html": [
              "<div>\n",
              "<style scoped>\n",
              "    .dataframe tbody tr th:only-of-type {\n",
              "        vertical-align: middle;\n",
              "    }\n",
              "\n",
              "    .dataframe tbody tr th {\n",
              "        vertical-align: top;\n",
              "    }\n",
              "\n",
              "    .dataframe thead th {\n",
              "        text-align: right;\n",
              "    }\n",
              "</style>\n",
              "<table border=\"1\" class=\"dataframe\">\n",
              "  <thead>\n",
              "    <tr style=\"text-align: right;\">\n",
              "      <th></th>\n",
              "      <th>attributes</th>\n",
              "      <th>min</th>\n",
              "      <th>max</th>\n",
              "      <th>range</th>\n",
              "      <th>mean</th>\n",
              "      <th>median</th>\n",
              "      <th>std</th>\n",
              "      <th>skew</th>\n",
              "      <th>kurtosis</th>\n",
              "    </tr>\n",
              "  </thead>\n",
              "  <tbody>\n",
              "    <tr>\n",
              "      <th>0</th>\n",
              "      <td>etapa</td>\n",
              "      <td>1.0</td>\n",
              "      <td>7.430000e+02</td>\n",
              "      <td>2.423972e+02</td>\n",
              "      <td>2.433972e+02</td>\n",
              "      <td>239.000</td>\n",
              "      <td>1.423320e+02</td>\n",
              "      <td>0.375177</td>\n",
              "      <td>0.329071</td>\n",
              "    </tr>\n",
              "    <tr>\n",
              "      <th>1</th>\n",
              "      <td>montante</td>\n",
              "      <td>0.0</td>\n",
              "      <td>9.244552e+07</td>\n",
              "      <td>1.798619e+05</td>\n",
              "      <td>1.798619e+05</td>\n",
              "      <td>74871.940</td>\n",
              "      <td>6.038582e+05</td>\n",
              "      <td>30.993949</td>\n",
              "      <td>1797.956705</td>\n",
              "    </tr>\n",
              "    <tr>\n",
              "      <th>2</th>\n",
              "      <td>saldo_inicial_remetente</td>\n",
              "      <td>0.0</td>\n",
              "      <td>5.958504e+07</td>\n",
              "      <td>8.338831e+05</td>\n",
              "      <td>8.338831e+05</td>\n",
              "      <td>14208.000</td>\n",
              "      <td>2.888242e+06</td>\n",
              "      <td>5.249136</td>\n",
              "      <td>32.964879</td>\n",
              "    </tr>\n",
              "    <tr>\n",
              "      <th>3</th>\n",
              "      <td>saldo_atual_remetente</td>\n",
              "      <td>0.0</td>\n",
              "      <td>4.958504e+07</td>\n",
              "      <td>8.551137e+05</td>\n",
              "      <td>8.551137e+05</td>\n",
              "      <td>0.000</td>\n",
              "      <td>2.924048e+06</td>\n",
              "      <td>5.176884</td>\n",
              "      <td>32.066985</td>\n",
              "    </tr>\n",
              "    <tr>\n",
              "      <th>4</th>\n",
              "      <td>saldo_inicial_destinatario</td>\n",
              "      <td>0.0</td>\n",
              "      <td>3.560159e+08</td>\n",
              "      <td>1.100702e+06</td>\n",
              "      <td>1.100702e+06</td>\n",
              "      <td>132705.665</td>\n",
              "      <td>3.399180e+06</td>\n",
              "      <td>19.921758</td>\n",
              "      <td>948.674125</td>\n",
              "    </tr>\n",
              "    <tr>\n",
              "      <th>5</th>\n",
              "      <td>saldo_atual_destinatario</td>\n",
              "      <td>0.0</td>\n",
              "      <td>3.561793e+08</td>\n",
              "      <td>1.224996e+06</td>\n",
              "      <td>1.224996e+06</td>\n",
              "      <td>214661.440</td>\n",
              "      <td>3.674129e+06</td>\n",
              "      <td>19.352302</td>\n",
              "      <td>862.156508</td>\n",
              "    </tr>\n",
              "  </tbody>\n",
              "</table>\n",
              "</div>"
            ],
            "text/plain": [
              "                   attributes  min  ...       skew     kurtosis\n",
              "0                       etapa  1.0  ...   0.375177     0.329071\n",
              "1                    montante  0.0  ...  30.993949  1797.956705\n",
              "2     saldo_inicial_remetente  0.0  ...   5.249136    32.964879\n",
              "3       saldo_atual_remetente  0.0  ...   5.176884    32.066985\n",
              "4  saldo_inicial_destinatario  0.0  ...  19.921758   948.674125\n",
              "5    saldo_atual_destinatario  0.0  ...  19.352302   862.156508\n",
              "\n",
              "[6 rows x 9 columns]"
            ]
          },
          "metadata": {
            "tags": []
          },
          "execution_count": 14
        }
      ]
    },
    {
      "cell_type": "markdown",
      "metadata": {
        "id": "2NLPgZOFKHLI"
      },
      "source": [
        "###1.7.2 Categorical attributes\n"
      ]
    },
    {
      "cell_type": "code",
      "metadata": {
        "id": "BtUghqRXKIFG",
        "colab": {
          "base_uri": "https://localhost:8080/"
        },
        "outputId": "e5fea13b-0b96-4254-b1eb-36b3d9a5f0b6"
      },
      "source": [
        "#numero de classes por feature\n",
        "cat_attributes.apply(lambda x: x.unique().shape[0])"
      ],
      "execution_count": 15,
      "outputs": [
        {
          "output_type": "execute_result",
          "data": {
            "text/plain": [
              "tipos                      5\n",
              "remetente            6353307\n",
              "destinatario         2722362\n",
              "fraude                     2\n",
              "fraude_sinalizada          2\n",
              "dtype: int64"
            ]
          },
          "metadata": {
            "tags": []
          },
          "execution_count": 15
        }
      ]
    },
    {
      "cell_type": "code",
      "metadata": {
        "id": "FBFfB8S9Knll",
        "colab": {
          "base_uri": "https://localhost:8080/",
          "height": 422
        },
        "outputId": "b612fda5-3e5b-4a94-ccb1-217cc1e23da1"
      },
      "source": [
        "#plot das features categoricas em relacao a variavel resposta\n",
        "fraude=df1[df1['fraude']=='1']\n",
        "ax=sns.countplot(x='tipos', data=fraude)\n",
        "ax.figure.set_size_inches(12,6)\n",
        "ax.set_title('Número de fraudes por tipos de transferência.')"
      ],
      "execution_count": 16,
      "outputs": [
        {
          "output_type": "execute_result",
          "data": {
            "text/plain": [
              "Text(0.5, 1.0, 'Número de fraudes por tipos de transferência.')"
            ]
          },
          "metadata": {
            "tags": []
          },
          "execution_count": 16
        },
        {
          "output_type": "display_data",
          "data": {
            "image/png": "[encoded data removed]",
            "text/plain": [
              "<Figure size 864x432 with 1 Axes>"
            ]
          },
          "metadata": {
            "tags": [],
            "needs_background": "light"
          }
        }
      ]
    },
    {
      "cell_type": "markdown",
      "metadata": {
        "id": "XzUZ5Z-xK3T_"
      },
      "source": [
        "#2.0 PASSO 2 - FEATURE ENGINEERING"
      ]
    },
    {
      "cell_type": "code",
      "metadata": {
        "id": "GmZYlduZK34F"
      },
      "source": [
        "#copia do dataframe\n",
        "df2=df1.copy()"
      ],
      "execution_count": 17,
      "outputs": []
    },
    {
      "cell_type": "markdown",
      "metadata": {
        "id": "XyU-Tah1LRnn"
      },
      "source": [
        "##2.1 Mapa mental de Hipoteses"
      ]
    },
    {
      "cell_type": "code",
      "metadata": {
        "id": "4UaC0ZiiLSM8",
        "colab": {
          "base_uri": "https://localhost:8080/",
          "height": 512
        },
        "outputId": "51e6abcf-f185-4fb9-8253-92e1ea264d7a"
      },
      "source": [
        "Image('/content/Transacoes.png')"
      ],
      "execution_count": 18,
      "outputs": [
        {
          "output_type": "execute_result",
          "data": {
            "image/png": "[encoded data removed]",
            "text/plain": [
              "<IPython.core.display.Image object>"
            ]
          },
          "metadata": {
            "tags": []
          },
          "execution_count": 18
        }
      ]
    },
    {
      "cell_type": "markdown",
      "metadata": {
        "id": "Clp8FrelMYKY"
      },
      "source": [
        "##2.1 Criação das hipoteses"
      ]
    },
    {
      "cell_type": "markdown",
      "metadata": {
        "id": "sH_nWjMBMdAP"
      },
      "source": [
        "### 2.1.1 Hipoteses Saldos"
      ]
    },
    {
      "cell_type": "markdown",
      "metadata": {
        "id": "_y63imwMM1qv"
      },
      "source": [
        "**1.** Quanto maior o saldo inicial do destinatário, maior é a chance de fraude."
      ]
    },
    {
      "cell_type": "markdown",
      "metadata": {
        "id": "HgBtk1VRM9qG"
      },
      "source": [
        "**2.** Quanto maior o saldo atual do destinatário, maior é a chance de fraude."
      ]
    },
    {
      "cell_type": "markdown",
      "metadata": {
        "id": "uJFpQzqMM-PG"
      },
      "source": [
        " **3.** Quanto maior o saldo inicial do remetente , maior é a chance de fraude."
      ]
    },
    {
      "cell_type": "markdown",
      "metadata": {
        "id": "lLHJ6TG9vB8x"
      },
      "source": [
        "**4.** Quanto maior o saldo atual do remetente , maior é a chance de fraude."
      ]
    },
    {
      "cell_type": "markdown",
      "metadata": {
        "id": "MwwsXAvVMhY3"
      },
      "source": [
        "### 2.1.2 Hipoteses Clientes"
      ]
    },
    {
      "cell_type": "markdown",
      "metadata": {
        "id": "H5i8MLZsNLDw"
      },
      "source": [
        "**1.** Há maior chance de fraude quando o nome do remetente for inconsistente."
      ]
    },
    {
      "cell_type": "markdown",
      "metadata": {
        "id": "yU1LRKU9wtMK"
      },
      "source": [
        "### 2.1.3 Hipoteses Tipos"
      ]
    },
    {
      "cell_type": "markdown",
      "metadata": {
        "id": "vGkW-ITjwtMp"
      },
      "source": [
        "**1.** Há maior chance de fraude , quando as transações são dos tipos TRANSFER e CASH OUT."
      ]
    },
    {
      "cell_type": "markdown",
      "metadata": {
        "id": "S7nqPULlMn53"
      },
      "source": [
        "### 2.1.4 Hipoteses Outros"
      ]
    },
    {
      "cell_type": "markdown",
      "metadata": {
        "id": "DQ26N_DJNNTE"
      },
      "source": [
        "**1.** Quanto maior  a etapa de medição, maior é a chance de fraude."
      ]
    },
    {
      "cell_type": "markdown",
      "metadata": {
        "id": "70ED8lTYNcBX"
      },
      "source": [
        "##2.2 Lista final de hipoteses"
      ]
    },
    {
      "cell_type": "markdown",
      "metadata": {
        "id": "ZuuvvGj4Nh2m"
      },
      "source": [
        "**H1-**. Quanto maior o saldo inicial do destinatário, maior é a chance de fraude.\n",
        "\n",
        "**H2-**. Quanto maior o saldo atual do destinatário, maior é a chance de fraude.\n",
        "\n",
        "**H3-**. Quanto maior o saldo inicial do remetente , maior é a chance de fraude.\n",
        "\n",
        "**H4-**. Quanto maior o saldo atual do destinatário , maior é a chance de fraude.\n",
        "\n",
        "**H5-**. Quanto maior o valor do montante , maior é a chance de fraude.\n",
        "\n",
        "\n",
        "**H6-**. Quanto maior  a etapa de medição, maior é a chance de fraude."
      ]
    },
    {
      "cell_type": "markdown",
      "metadata": {
        "id": "AVklj13VN6dI"
      },
      "source": [
        "##2.3 Feature Engineering"
      ]
    },
    {
      "cell_type": "code",
      "metadata": {
        "id": "CVDaJCHsQqLx"
      },
      "source": [
        "#alerta_montante\n",
        "df2['alerta_montante']=df2['montante']\n",
        "df2['alerta_montante']=df2['alerta_montante'].apply(lambda x: '1' if x>300000 else '0')\n",
        "\n",
        "#alerta_etapa\n",
        "df2['alerta_etapa']=df2['etapa']\n",
        "df2['alerta_etapa']=df2['alerta_etapa'].apply(lambda x: '1' if x>367 else '0')\n",
        "\n",
        "#alerta_saldo_inicial_remetente\n",
        "df2['alerta_saldo_inicial_remetente']=df2['saldo_inicial_remetente']\n",
        "df2['alerta_saldo_inicial_remetente']=df2['alerta_saldo_inicial_remetente'].apply(lambda x: '1' if x>1500000 else '0')"
      ],
      "execution_count": 19,
      "outputs": []
    },
    {
      "cell_type": "markdown",
      "metadata": {
        "id": "MvaOgZivOibe"
      },
      "source": [
        "#3.0. PASSO 3 - VARIABLES FILTERING"
      ]
    },
    {
      "cell_type": "code",
      "metadata": {
        "id": "Zc2Z2do8Ok27"
      },
      "source": [
        "#copia do dataframe\n",
        "df3=df2.copy()"
      ],
      "execution_count": 20,
      "outputs": []
    },
    {
      "cell_type": "markdown",
      "metadata": {
        "id": "lFgdoU1xO-Z-"
      },
      "source": [
        "##3.1. Line Filtering"
      ]
    },
    {
      "cell_type": "code",
      "metadata": {
        "id": "QJ4mkTzFPAxY"
      },
      "source": [
        "df3['fraude']=df3['fraude'].apply(lambda x: 'sim' if x=='1' else 'nao')"
      ],
      "execution_count": 21,
      "outputs": []
    },
    {
      "cell_type": "markdown",
      "metadata": {
        "id": "Etm2zHVvPEh2"
      },
      "source": [
        "##3.2. Column selection"
      ]
    },
    {
      "cell_type": "code",
      "metadata": {
        "id": "OIlmr9upPFF7"
      },
      "source": [
        ""
      ],
      "execution_count": 21,
      "outputs": []
    },
    {
      "cell_type": "markdown",
      "metadata": {
        "id": "sR0iJiLkPN_9"
      },
      "source": [
        "#4.0. PASSO 4 - EXPLORATORY DATA ANALYSIS"
      ]
    },
    {
      "cell_type": "code",
      "metadata": {
        "id": "u_Lb_BBdPQCD"
      },
      "source": [
        "#copia do dataframe\n",
        "df4=df3.copy()"
      ],
      "execution_count": 22,
      "outputs": []
    },
    {
      "cell_type": "markdown",
      "metadata": {
        "id": "PAmggbCsPcbd"
      },
      "source": [
        "## 4.1 Univariate Analysis"
      ]
    },
    {
      "cell_type": "markdown",
      "metadata": {
        "id": "qJCVx9icPhqe"
      },
      "source": [
        "###4.1.1. Response Variable"
      ]
    },
    {
      "cell_type": "code",
      "metadata": {
        "colab": {
          "base_uri": "https://localhost:8080/",
          "height": 453
        },
        "id": "zpdtABob1Bba",
        "outputId": "cab15ef4-87cd-468c-97e7-451d43f3ac42"
      },
      "source": [
        "ax=sns.countplot(df4['fraude'])\n",
        "ax.figure.set_size_inches(12,6)"
      ],
      "execution_count": 23,
      "outputs": [
        {
          "output_type": "stream",
          "text": [
            "/usr/local/lib/python3.7/dist-packages/seaborn/_decorators.py:43: FutureWarning: Pass the following variable as a keyword arg: x. From version 0.12, the only valid positional argument will be `data`, and passing other arguments without an explicit keyword will result in an error or misinterpretation.\n",
            "  FutureWarning\n"
          ],
          "name": "stderr"
        },
        {
          "output_type": "display_data",
          "data": {
            "image/png": "[encoded data removed]",
            "text/plain": [
              "<Figure size 864x432 with 1 Axes>"
            ]
          },
          "metadata": {
            "tags": [],
            "needs_background": "light"
          }
        }
      ]
    },
    {
      "cell_type": "markdown",
      "metadata": {
        "id": "pqPsPzXOPmKu"
      },
      "source": [
        "###4.1.2. Numerical Variable"
      ]
    },
    {
      "cell_type": "code",
      "metadata": {
        "id": "5tdulmzAPmzF",
        "colab": {
          "base_uri": "https://localhost:8080/",
          "height": 415
        },
        "outputId": "8ecc7cd1-f0b3-46bc-9450-24e35263b6c6"
      },
      "source": [
        "# num_attributes and cat_attributes\n",
        "num_attributes=df4[['etapa','montante','saldo_inicial_remetente','saldo_atual_remetente',\n",
        "                    'saldo_inicial_destinatario','saldo_atual_destinatario']]\n",
        "cat_attributes=df4[['tipos','destinatario','remetente','fraude','fraude_sinalizada']]\n",
        "\n",
        "#plot das features numericas\n",
        "warnings.filterwarnings('ignore')\n",
        "\n",
        "lista=num_attributes.columns\n",
        "\n",
        "for i in range(0,len(lista)):\n",
        "\n",
        "  plt.subplot(len(lista),3,i+1)\n",
        "  ax=sns.distplot(df4[lista[i]])  \n",
        "  ax.figure.set_size_inches(16,20)"
      ],
      "execution_count": 24,
      "outputs": [
        {
          "output_type": "display_data",
          "data": {
            "image/png": "[encoded data removed]",
            "text/plain": [
              "<Figure size 1152x1440 with 6 Axes>"
            ]
          },
          "metadata": {
            "tags": [],
            "needs_background": "light"
          }
        }
      ]
    },
    {
      "cell_type": "markdown",
      "metadata": {
        "id": "Aga1DnIxSul9"
      },
      "source": [
        "###4.1.3. Categorical Variable"
      ]
    },
    {
      "cell_type": "code",
      "metadata": {
        "colab": {
          "base_uri": "https://localhost:8080/",
          "height": 310
        },
        "id": "lFvk88LEDEoS",
        "outputId": "fdfb6055-cb5a-4ac2-f1ec-6de7a0b4ec65"
      },
      "source": [
        "#separados por fraudes e dados normais\n",
        "fraudes=cat_attributes[cat_attributes['fraude']=='sim']\n",
        "normais=cat_attributes[cat_attributes['fraude']=='nao']\n",
        "\n",
        "#tipos\n",
        "plt.subplot(4,2,1)\n",
        "ax=sns.countplot(x='tipos', data=normais)\n",
        "ax.figure.set_size_inches(12,20)\n",
        "plt.subplot(4,2,2)\n",
        "ax=sns.countplot(x='tipos', data=fraudes)"
      ],
      "execution_count": 25,
      "outputs": [
        {
          "output_type": "display_data",
          "data": {
            "image/png": "[encoded data removed]",
            "text/plain": [
              "<Figure size 864x1440 with 2 Axes>"
            ]
          },
          "metadata": {
            "tags": [],
            "needs_background": "light"
          }
        }
      ]
    },
    {
      "cell_type": "markdown",
      "metadata": {
        "id": "VHWqLgWqS9AN"
      },
      "source": [
        "## 4.2 Bivariate Analysis"
      ]
    },
    {
      "cell_type": "markdown",
      "metadata": {
        "id": "sK7v7hDCTEn1"
      },
      "source": [
        "### ***H1***. Quanto maior o saldo inicial do destinatário, maior é a chance de fraude.(FALSE)"
      ]
    },
    {
      "cell_type": "code",
      "metadata": {
        "id": "PdZ0BMxFN1Xz"
      },
      "source": [
        "fraudes=df4[df4['fraude']=='sim']\n",
        "normais=df4[df4['fraude']=='nao']"
      ],
      "execution_count": 26,
      "outputs": []
    },
    {
      "cell_type": "code",
      "metadata": {
        "id": "NL6R-TogS9em",
        "colab": {
          "base_uri": "https://localhost:8080/",
          "height": 0
        },
        "outputId": "99c84ca3-1b4a-4bdb-c1d1-bb4ec9a5e27a"
      },
      "source": [
        "plt.subplot(1,2,1)\n",
        "ax=sns.boxplot(x='saldo_inicial_destinatario', data=normais)\n",
        "ax.figure.set_size_inches(12,6)\n",
        "plt.subplot(1,2,2)\n",
        "ax=sns.boxplot(x='saldo_inicial_destinatario', data=fraudes)"
      ],
      "execution_count": 27,
      "outputs": [
        {
          "output_type": "display_data",
          "data": {
            "image/png": "[encoded data removed]",
            "text/plain": [
              "<Figure size 864x432 with 2 Axes>"
            ]
          },
          "metadata": {
            "tags": [],
            "needs_background": "light"
          }
        }
      ]
    },
    {
      "cell_type": "code",
      "metadata": {
        "id": "J14B51cnPGT0",
        "colab": {
          "base_uri": "https://localhost:8080/"
        },
        "outputId": "ec6c019d-f8c6-466c-ff3d-dde633bec509"
      },
      "source": [
        "media_saldo_inicial_destinatario_fraudes=fraudes['saldo_inicial_destinatario'].mean()\n",
        "media_saldo_inicial_destinatario_normais=normais['saldo_inicial_destinatario'].mean()\n",
        "razao=media_saldo_inicial_destinatario_fraudes/media_saldo_inicial_destinatario_normais\n",
        "razao"
      ],
      "execution_count": 28,
      "outputs": [
        {
          "output_type": "execute_result",
          "data": {
            "text/plain": [
              "0.49413410589970663"
            ]
          },
          "metadata": {
            "tags": []
          },
          "execution_count": 28
        }
      ]
    },
    {
      "cell_type": "code",
      "metadata": {
        "id": "hdYoMdAyR_fL",
        "colab": {
          "base_uri": "https://localhost:8080/"
        },
        "outputId": "d1e4477d-9cc8-4901-81f5-e82d0d59d25a"
      },
      "source": [
        "print('A média do saldo em transações fraudulentas é 2x menor, ou seja em fraudes o saldo tende a ser menor do que {}'.format(media_saldo_inicial_destinatario_fraudes))"
      ],
      "execution_count": 29,
      "outputs": [
        {
          "output_type": "stream",
          "text": [
            "A média do saldo em transações fraudulentas é 2x menor, ou seja em fraudes o saldo tende a ser menor do que 544249.6190746377\n"
          ],
          "name": "stdout"
        }
      ]
    },
    {
      "cell_type": "markdown",
      "metadata": {
        "id": "ty4DOZo7TZ9F"
      },
      "source": [
        "### ***H2***. Quanto maior o saldo atual do destinatário, maior é a chance de fraude.(FALSE)"
      ]
    },
    {
      "cell_type": "code",
      "metadata": {
        "id": "UF2uE3tZTvoV",
        "colab": {
          "base_uri": "https://localhost:8080/",
          "height": 0
        },
        "outputId": "77fd0c32-0353-4db4-aa87-4c60776706b1"
      },
      "source": [
        "plt.subplot(1,2,1)\n",
        "ax=sns.boxplot(x='saldo_atual_destinatario', data=normais)\n",
        "ax.figure.set_size_inches(12,6)\n",
        "plt.subplot(1,2,2)\n",
        "ax=sns.boxplot(x='saldo_atual_destinatario', data=fraudes)"
      ],
      "execution_count": 30,
      "outputs": [
        {
          "output_type": "display_data",
          "data": {
            "image/png": "[encoded data removed]",
            "text/plain": [
              "<Figure size 864x432 with 2 Axes>"
            ]
          },
          "metadata": {
            "tags": [],
            "needs_background": "light"
          }
        }
      ]
    },
    {
      "cell_type": "code",
      "metadata": {
        "id": "y3H0btpAgNPU",
        "colab": {
          "base_uri": "https://localhost:8080/"
        },
        "outputId": "f9d63f9f-4d12-4527-bbc7-c928e64a0a83"
      },
      "source": [
        "media_saldo_atual_destinatario_fraudes=fraudes['saldo_atual_destinatario'].mean()\n",
        "media_saldo_atual_destinatario_normais=normais['saldo_atual_destinatario'].mean()\n",
        "razao=media_saldo_atual_destinatario_fraudes/media_saldo_atual_destinatario_normais\n",
        "razao"
      ],
      "execution_count": 31,
      "outputs": [
        {
          "output_type": "execute_result",
          "data": {
            "text/plain": [
              "1.0447226580951414"
            ]
          },
          "metadata": {
            "tags": []
          },
          "execution_count": 31
        }
      ]
    },
    {
      "cell_type": "markdown",
      "metadata": {
        "id": "otnAxQ38Tc3N"
      },
      "source": [
        "### ***H3***. Quanto maior o saldo inicial do remetente , maior é a chance de fraude. (TRUE)"
      ]
    },
    {
      "cell_type": "code",
      "metadata": {
        "id": "n8sw-kydTwRd",
        "colab": {
          "base_uri": "https://localhost:8080/",
          "height": 0
        },
        "outputId": "69354c31-e559-4489-c961-3923603ecbe4"
      },
      "source": [
        "plt.subplot(1,2,1)\n",
        "ax=sns.boxplot(x='saldo_inicial_remetente', data=normais)\n",
        "ax.figure.set_size_inches(12,6)\n",
        "plt.subplot(1,2,2)\n",
        "ax=sns.boxplot(x='saldo_inicial_remetente', data=fraudes)"
      ],
      "execution_count": 32,
      "outputs": [
        {
          "output_type": "display_data",
          "data": {
            "image/png": "[encoded data removed]",
            "text/plain": [
              "<Figure size 864x432 with 2 Axes>"
            ]
          },
          "metadata": {
            "tags": [],
            "needs_background": "light"
          }
        }
      ]
    },
    {
      "cell_type": "code",
      "metadata": {
        "id": "6fOd3ZHHjwVF",
        "colab": {
          "base_uri": "https://localhost:8080/"
        },
        "outputId": "b315aed3-ffc8-42a2-a6ab-68ce70cf66d1"
      },
      "source": [
        "media_saldo_inicial_remetente_fraudes=fraudes['saldo_inicial_remetente'].mean()\n",
        "media_saldo_inicial_remetente_normais=normais['saldo_inicial_remetente'].mean()\n",
        "razao=media_saldo_inicial_remetente_fraudes/media_saldo_inicial_remetente_normais\n",
        "razao"
      ],
      "execution_count": 33,
      "outputs": [
        {
          "output_type": "execute_result",
          "data": {
            "text/plain": [
              "1.980800592585633"
            ]
          },
          "metadata": {
            "tags": []
          },
          "execution_count": 33
        }
      ]
    },
    {
      "cell_type": "code",
      "metadata": {
        "id": "WisemSPHVJUA",
        "colab": {
          "base_uri": "https://localhost:8080/"
        },
        "outputId": "be1783cf-3cd6-4b0a-b7fb-1ecb7c6e33f4"
      },
      "source": [
        "media_saldo_inicial_remetente_fraudes"
      ],
      "execution_count": 34,
      "outputs": [
        {
          "output_type": "execute_result",
          "data": {
            "text/plain": [
              "1649667.6057116783"
            ]
          },
          "metadata": {
            "tags": []
          },
          "execution_count": 34
        }
      ]
    },
    {
      "cell_type": "markdown",
      "metadata": {
        "id": "XncS_BNqTeUd"
      },
      "source": [
        "### ***H4***. Quanto maior o saldo atual do remetente , maior é a chance de fraude. (FALSE)"
      ]
    },
    {
      "cell_type": "code",
      "metadata": {
        "id": "wa45G90OTw80",
        "colab": {
          "base_uri": "https://localhost:8080/",
          "height": 0
        },
        "outputId": "6bd800c0-47d2-458a-94f7-d6d7d54518a8"
      },
      "source": [
        "plt.subplot(1,2,1)\n",
        "ax=sns.boxplot(x='saldo_atual_remetente', data=normais)\n",
        "ax.figure.set_size_inches(12,6)\n",
        "plt.subplot(1,2,2)\n",
        "ax=sns.boxplot(x='saldo_atual_remetente', data=fraudes)"
      ],
      "execution_count": 35,
      "outputs": [
        {
          "output_type": "display_data",
          "data": {
            "image/png": "[encoded data removed]",
            "text/plain": [
              "<Figure size 864x432 with 2 Axes>"
            ]
          },
          "metadata": {
            "tags": [],
            "needs_background": "light"
          }
        }
      ]
    },
    {
      "cell_type": "code",
      "metadata": {
        "id": "6jEqELnskrH1",
        "colab": {
          "base_uri": "https://localhost:8080/"
        },
        "outputId": "095c22bd-fdeb-4ecd-d1e2-4b46494c19bb"
      },
      "source": [
        "media_saldo_atual_remetente_fraudes=fraudes['saldo_atual_remetente'].mean()\n",
        "media_saldo_atual_remetente_normais=normais['saldo_atual_remetente'].mean()\n",
        "razao=media_saldo_atual_remetente_fraudes/media_saldo_inicial_remetente_normais\n",
        "razao"
      ],
      "execution_count": 36,
      "outputs": [
        {
          "output_type": "execute_result",
          "data": {
            "text/plain": [
              "0.23101104600140188"
            ]
          },
          "metadata": {
            "tags": []
          },
          "execution_count": 36
        }
      ]
    },
    {
      "cell_type": "markdown",
      "metadata": {
        "id": "gR45ERX5TkWt"
      },
      "source": [
        "### ***H5***. Quanto maior o valor do montante , maior é a chance de fraude. (TRUE)\n"
      ]
    },
    {
      "cell_type": "code",
      "metadata": {
        "id": "zeC2ImZctHiF",
        "colab": {
          "base_uri": "https://localhost:8080/",
          "height": 0
        },
        "outputId": "daa738d1-0eae-4f17-ae14-726c37cfa440"
      },
      "source": [
        "plt.subplot(1,2,1)\n",
        "ax=sns.boxplot(x='montante', data=normais)\n",
        "ax.set_title('Normais')\n",
        "ax.figure.set_size_inches(12,6)\n",
        "plt.subplot(1,2,2)\n",
        "ax=sns.boxplot(x='montante', data=fraudes)\n",
        "ax.set_title('Fraude')"
      ],
      "execution_count": 37,
      "outputs": [
        {
          "output_type": "execute_result",
          "data": {
            "text/plain": [
              "Text(0.5, 1.0, 'Fraude')"
            ]
          },
          "metadata": {
            "tags": []
          },
          "execution_count": 37
        },
        {
          "output_type": "display_data",
          "data": {
            "image/png": "[encoded data removed]",
            "text/plain": [
              "<Figure size 864x432 with 2 Axes>"
            ]
          },
          "metadata": {
            "tags": [],
            "needs_background": "light"
          }
        }
      ]
    },
    {
      "cell_type": "code",
      "metadata": {
        "id": "0aHCK2NrsJst",
        "colab": {
          "base_uri": "https://localhost:8080/"
        },
        "outputId": "7b53fbd9-fd1d-4b43-aa78-5f036f8114af"
      },
      "source": [
        "media_montante_fraudes=fraudes['montante'].mean()\n",
        "media_montante_normais=normais['montante'].mean()\n",
        "razao=media_montante_fraudes/media_montante_normais\n",
        "razao"
      ],
      "execution_count": 38,
      "outputs": [
        {
          "output_type": "execute_result",
          "data": {
            "text/plain": [
              "8.23788815409209"
            ]
          },
          "metadata": {
            "tags": []
          },
          "execution_count": 38
        }
      ]
    },
    {
      "cell_type": "code",
      "metadata": {
        "id": "xFcz5zT2w0Hm",
        "colab": {
          "base_uri": "https://localhost:8080/"
        },
        "outputId": "1ef06fe3-29b3-4ae2-a950-6ef71356270b"
      },
      "source": [
        "q1=fraudes['montante'].quantile(0.25)\n",
        "q3=fraudes['montante'].quantile(0.75)\n",
        "\n",
        "Q1=normais['montante'].quantile(0.25)\n",
        "Q3=normais['montante'].quantile(0.75)\n",
        "\n",
        "print('O valor do montante fraudulento está entre R$ {} e  R$ {}.'.format(q1,q3))\n",
        "print('O valor do montante sem fraude está entre R$ {} e  R$ {}.'.format(Q1,Q3))"
      ],
      "execution_count": 39,
      "outputs": [
        {
          "output_type": "stream",
          "text": [
            "O valor do montante fraudulento está entre R$ 127091.33 e  R$ 1517771.48.\n",
            "O valor do montante sem fraude está entre R$ 13368.395 e  R$ 208364.76.\n"
          ],
          "name": "stdout"
        }
      ]
    },
    {
      "cell_type": "markdown",
      "metadata": {
        "id": "07b7kf0eTmHN"
      },
      "source": [
        "### ***H6***. Quanto maior  a etapa de medição, maior é a chance de fraude. (TRUE)"
      ]
    },
    {
      "cell_type": "code",
      "metadata": {
        "id": "gBEsLzR_7-Uf",
        "colab": {
          "base_uri": "https://localhost:8080/",
          "height": 0
        },
        "outputId": "d169339e-5fbb-45a6-bccb-933b5a668fca"
      },
      "source": [
        "ax=sns.boxplot(x='fraude',y='etapa',data=df4)\n",
        "ax.figure.set_size_inches(12,6)"
      ],
      "execution_count": 40,
      "outputs": [
        {
          "output_type": "display_data",
          "data": {
            "image/png": "[encoded data removed]",
            "text/plain": [
              "<Figure size 864x432 with 1 Axes>"
            ]
          },
          "metadata": {
            "tags": [],
            "needs_background": "light"
          }
        }
      ]
    },
    {
      "cell_type": "code",
      "metadata": {
        "id": "dX7WYAS-TZk6",
        "colab": {
          "base_uri": "https://localhost:8080/"
        },
        "outputId": "e541ea4f-bc8e-4ba1-917a-16d9b6a2065a"
      },
      "source": [
        "df4[df4['fraude']=='sim']['etapa'].quantile(0.5)"
      ],
      "execution_count": 41,
      "outputs": [
        {
          "output_type": "execute_result",
          "data": {
            "text/plain": [
              "367.0"
            ]
          },
          "metadata": {
            "tags": []
          },
          "execution_count": 41
        }
      ]
    },
    {
      "cell_type": "markdown",
      "metadata": {
        "id": "kow0Z9RYUWGD"
      },
      "source": [
        "### 4.2.1 Summary of hypotheses"
      ]
    },
    {
      "cell_type": "code",
      "metadata": {
        "id": "gbslqyTZUXSM",
        "colab": {
          "base_uri": "https://localhost:8080/"
        },
        "outputId": "e4b6f86e-a8ec-4e33-dcd3-6764c8fddd77"
      },
      "source": [
        "#dataframe com o resumo das hipoteses\n",
        "tab=[['Hipoteses','conclusao','Relevancia'],\n",
        "     ['H1','Falsa','Media'],\n",
        "     ['H2','Falsa','Baixa'],\n",
        "     ['H3','Verdadeira','Alta'],\n",
        "     ['H4','Falsa','Baixa'],\n",
        "     ['H5','Verdadeira','Alta'],\n",
        "     ['H6','Verdadeira','Media']]\n",
        "\n",
        "print(tabulate(tab,headers='firstrow'))"
      ],
      "execution_count": 42,
      "outputs": [
        {
          "output_type": "stream",
          "text": [
            "Hipoteses    conclusao    Relevancia\n",
            "-----------  -----------  ------------\n",
            "H1           Falsa        Media\n",
            "H2           Falsa        Baixa\n",
            "H3           Verdadeira   Alta\n",
            "H4           Falsa        Baixa\n",
            "H5           Verdadeira   Alta\n",
            "H6           Verdadeira   Media\n"
          ],
          "name": "stdout"
        }
      ]
    },
    {
      "cell_type": "markdown",
      "metadata": {
        "id": "MJOXC0zsUrRs"
      },
      "source": [
        "## 4.3 Multivariate Analysis"
      ]
    },
    {
      "cell_type": "markdown",
      "metadata": {
        "id": "KuLWx92_Uxmk"
      },
      "source": [
        "###4.3.1. Numerical Atributes"
      ]
    },
    {
      "cell_type": "code",
      "metadata": {
        "id": "bedIbV3EUr1a",
        "colab": {
          "base_uri": "https://localhost:8080/",
          "height": 742
        },
        "outputId": "e5e5bc0d-c3c7-4408-faef-a8e19cab9277"
      },
      "source": [
        "#grafico de correlacao\n",
        "correlacao_features_numericas(num_attributes,df4)"
      ],
      "execution_count": 43,
      "outputs": [
        {
          "output_type": "execute_result",
          "data": {
            "text/plain": [
              "<matplotlib.axes._subplots.AxesSubplot at 0x7f492d2c4910>"
            ]
          },
          "metadata": {
            "tags": []
          },
          "execution_count": 43
        },
        {
          "output_type": "display_data",
          "data": {
            "image/png": "[encoded data removed]",
            "text/plain": [
              "<Figure size 1296x720 with 2 Axes>"
            ]
          },
          "metadata": {
            "tags": [],
            "needs_background": "light"
          }
        }
      ]
    },
    {
      "cell_type": "markdown",
      "metadata": {
        "id": "uOzUB1c4U6_M"
      },
      "source": [
        "###4.3.2. Categorical Atributes"
      ]
    },
    {
      "cell_type": "code",
      "metadata": {
        "id": "LiGZnYvlVDrp",
        "colab": {
          "base_uri": "https://localhost:8080/",
          "height": 204
        },
        "outputId": "0a6d223d-a955-43e3-bfe2-d89373ee5715"
      },
      "source": [
        "lista=correlacao_categorica(df4[df4.index<10000])\n",
        "\n",
        "d=pd.DataFrame({'tipos':                           lista[0],\n",
        "                'remetente':                       lista[1],\n",
        "                'destinatario':                    lista[2],\n",
        "                'fraude':                          lista[3],\n",
        "                'fraude_sinalizada':               lista[4], \n",
        "                'alerta_montante':                 lista[5],\n",
        "                'alerta_etapa':                    lista[6],\n",
        "                'alerta_saldo_inicial_remetente':  lista[7]             \n",
        "                })\n",
        "\n",
        "d=d.set_index(d.columns)\n",
        "\n",
        "d.head()"
      ],
      "execution_count": 45,
      "outputs": [
        {
          "output_type": "execute_result",
          "data": {
            "text/html": [
              "<div>\n",
              "<style scoped>\n",
              "    .dataframe tbody tr th:only-of-type {\n",
              "        vertical-align: middle;\n",
              "    }\n",
              "\n",
              "    .dataframe tbody tr th {\n",
              "        vertical-align: top;\n",
              "    }\n",
              "\n",
              "    .dataframe thead th {\n",
              "        text-align: right;\n",
              "    }\n",
              "</style>\n",
              "<table border=\"1\" class=\"dataframe\">\n",
              "  <thead>\n",
              "    <tr style=\"text-align: right;\">\n",
              "      <th></th>\n",
              "      <th>tipos</th>\n",
              "      <th>remetente</th>\n",
              "      <th>destinatario</th>\n",
              "      <th>fraude</th>\n",
              "      <th>fraude_sinalizada</th>\n",
              "      <th>alerta_montante</th>\n",
              "      <th>alerta_etapa</th>\n",
              "      <th>alerta_saldo_inicial_remetente</th>\n",
              "    </tr>\n",
              "  </thead>\n",
              "  <tbody>\n",
              "    <tr>\n",
              "      <th>tipos</th>\n",
              "      <td>1.000200</td>\n",
              "      <td>inf</td>\n",
              "      <td>0.663502</td>\n",
              "      <td>0.156185</td>\n",
              "      <td>NaN</td>\n",
              "      <td>0.479162</td>\n",
              "      <td>NaN</td>\n",
              "      <td>0.838592</td>\n",
              "    </tr>\n",
              "    <tr>\n",
              "      <th>remetente</th>\n",
              "      <td>inf</td>\n",
              "      <td>inf</td>\n",
              "      <td>inf</td>\n",
              "      <td>inf</td>\n",
              "      <td>NaN</td>\n",
              "      <td>inf</td>\n",
              "      <td>NaN</td>\n",
              "      <td>inf</td>\n",
              "    </tr>\n",
              "    <tr>\n",
              "      <th>destinatario</th>\n",
              "      <td>0.663502</td>\n",
              "      <td>inf</td>\n",
              "      <td>1.665836</td>\n",
              "      <td>0.768233</td>\n",
              "      <td>NaN</td>\n",
              "      <td>0.582777</td>\n",
              "      <td>NaN</td>\n",
              "      <td>0.616771</td>\n",
              "    </tr>\n",
              "    <tr>\n",
              "      <th>fraude</th>\n",
              "      <td>0.156185</td>\n",
              "      <td>inf</td>\n",
              "      <td>0.768233</td>\n",
              "      <td>0.992646</td>\n",
              "      <td>NaN</td>\n",
              "      <td>0.018320</td>\n",
              "      <td>NaN</td>\n",
              "      <td>0.020884</td>\n",
              "    </tr>\n",
              "    <tr>\n",
              "      <th>fraude_sinalizada</th>\n",
              "      <td>NaN</td>\n",
              "      <td>NaN</td>\n",
              "      <td>NaN</td>\n",
              "      <td>NaN</td>\n",
              "      <td>NaN</td>\n",
              "      <td>NaN</td>\n",
              "      <td>NaN</td>\n",
              "      <td>NaN</td>\n",
              "    </tr>\n",
              "  </tbody>\n",
              "</table>\n",
              "</div>"
            ],
            "text/plain": [
              "                      tipos  ...  alerta_saldo_inicial_remetente\n",
              "tipos              1.000200  ...                        0.838592\n",
              "remetente               inf  ...                             inf\n",
              "destinatario       0.663502  ...                        0.616771\n",
              "fraude             0.156185  ...                        0.020884\n",
              "fraude_sinalizada       NaN  ...                             NaN\n",
              "\n",
              "[5 rows x 8 columns]"
            ]
          },
          "metadata": {
            "tags": []
          },
          "execution_count": 45
        }
      ]
    },
    {
      "cell_type": "markdown",
      "metadata": {
        "id": "01iSNySzVJmM"
      },
      "source": [
        "#5.0. PASSO 5 - DATA PREPARATION"
      ]
    },
    {
      "cell_type": "code",
      "metadata": {
        "id": "NM3kNzKHVKHC"
      },
      "source": [
        "#copia do dataframe\n",
        "df5=df4.copy()"
      ],
      "execution_count": 46,
      "outputs": []
    },
    {
      "cell_type": "markdown",
      "metadata": {
        "id": "dPeK1w55Vg8E"
      },
      "source": [
        "##5.1. Rescaling"
      ]
    },
    {
      "cell_type": "code",
      "metadata": {
        "id": "jyzdgpDqVhdS",
        "colab": {
          "base_uri": "https://localhost:8080/",
          "height": 878
        },
        "outputId": "1d908893-c74d-4d04-c401-4f68a275af98"
      },
      "source": [
        "#num_attributes e cat_attributes\n",
        "num_attributes=df5.select_dtypes(include=['int64','float64'])\n",
        "cat_attributes=df5.select_dtypes(include='object')\n",
        "\n",
        "#grafico para verificacao de outliers\n",
        "columns=num_attributes.columns\n",
        "\n",
        "for i in range(0,len(columns)):\n",
        "\n",
        "  plt.subplot(3,2,i+1)\n",
        "  ax=sns.boxplot(num_attributes[columns[i]])\n",
        "  ax.figure.set_size_inches(10,15)"
      ],
      "execution_count": 47,
      "outputs": [
        {
          "output_type": "display_data",
          "data": {
            "image/png": "[encoded data removed]",
            "text/plain": [
              "<Figure size 720x1080 with 6 Axes>"
            ]
          },
          "metadata": {
            "tags": [],
            "needs_background": "light"
          }
        }
      ]
    },
    {
      "cell_type": "code",
      "metadata": {
        "id": "iWlZAvu4QHY9"
      },
      "source": [
        "#outliers\n",
        "muitos_outliers=['saldo_inicial_destinatario','saldo_atual_destinatario',\n",
        "                 'saldo_inicial_remetente','saldo_atual_remetente']\n",
        "poucos_outliers=['etapa']\n",
        "\n",
        "#rescaling\n",
        "df5=rescaling(poucos_outliers,muitos_outliers,df5)"
      ],
      "execution_count": 48,
      "outputs": []
    },
    {
      "cell_type": "markdown",
      "metadata": {
        "id": "0gLyVzvLVx5E"
      },
      "source": [
        "## 5.2. Transformation"
      ]
    },
    {
      "cell_type": "markdown",
      "metadata": {
        "id": "QO5psljeV2hs"
      },
      "source": [
        "###5.3.1. Encoding"
      ]
    },
    {
      "cell_type": "code",
      "metadata": {
        "id": "JErD9HHkUejG"
      },
      "source": [
        "#Label Encoding\n",
        "#tipos\n",
        "le=LabelEncoder()\n",
        "df5['tipos']=le.fit_transform(df5['tipos'])\n",
        "\n",
        "#cliente_remetente\n",
        "df5['remetente']=le.fit_transform(df5['remetente'])\n",
        "\n",
        "#cliente_destinatario\n",
        "df5['destinatario']=le.fit_transform(df5['destinatario'])\n",
        "\n",
        "#fraude\n",
        "df5['fraude']=le.fit_transform(df5['fraude'])\n",
        "\n",
        "\n",
        "#One Hot Encoding\n",
        "#fraude_sinalizada\n",
        "df5=pd.get_dummies(df5,prefix=['fraude_sinalizada'],columns=['fraude_sinalizada'])\n",
        "\n",
        "#alerta_montante\n",
        "df5=pd.get_dummies(df5,prefix=['alerta_montante'],columns=['alerta_montante'])\n",
        "\n",
        "#alerta_etapa\n",
        "df5=pd.get_dummies(df5,prefix=['alerta_etapa'],columns=['alerta_etapa'])\n",
        "\n",
        "#alerta_saldo_inicial_remetente\n",
        "df5=pd.get_dummies(df5,prefix=['alerta_saldo_inicial_remetente'],columns=['alerta_saldo_inicial_remetente'])"
      ],
      "execution_count": 49,
      "outputs": []
    },
    {
      "cell_type": "code",
      "metadata": {
        "id": "uhhqqfNiKy2e"
      },
      "source": [
        "#transformation\n",
        "#montante\n",
        "df5['montante']=np.log1p(df5['montante'])"
      ],
      "execution_count": 50,
      "outputs": []
    },
    {
      "cell_type": "markdown",
      "metadata": {
        "id": "ib_DOLWtWd-w"
      },
      "source": [
        "#6.0. PASSO 6 - FEATURE SELECTION"
      ]
    },
    {
      "cell_type": "code",
      "metadata": {
        "id": "i1D8VyFyWef1"
      },
      "source": [
        "#copia do dataframe\n",
        "df6=df5.copy()"
      ],
      "execution_count": 51,
      "outputs": []
    },
    {
      "cell_type": "markdown",
      "metadata": {
        "id": "HPE4O3ChW3J8"
      },
      "source": [
        "##6.1. Split dataframe into training and test dataset."
      ]
    },
    {
      "cell_type": "code",
      "metadata": {
        "id": "NZqykUEdW3sq"
      },
      "source": [
        "#df_test_deploy\n",
        "df_test_deploy=df6[df6.index<1000]\n",
        "\n",
        "#split train and test\n",
        "df6=df6[df6.index>=1000]\n",
        "y=df6['fraude']\n",
        "x=df6.drop(['fraude'],axis=1)\n",
        "x_train,x_test,y_train,y_test=train_test_split(x,y,test_size=0.3,random_state=2811)"
      ],
      "execution_count": 52,
      "outputs": []
    },
    {
      "cell_type": "markdown",
      "metadata": {
        "id": "AxbxcTIKW-Rj"
      },
      "source": [
        "##6.2. Boruta as feature selector\n"
      ]
    },
    {
      "cell_type": "code",
      "metadata": {
        "id": "s31geH8UW_HL",
        "colab": {
          "base_uri": "https://localhost:8080/",
          "height": 35
        },
        "outputId": "076441ee-ee33-43d9-b100-8851e1814f82"
      },
      "source": [
        "boruta=boruta(x_train,y_train)"
      ],
      "execution_count": 53,
      "outputs": [
        {
          "output_type": "execute_result",
          "data": {
            "application/vnd.google.colaboratory.intrinsic+json": {
              "type": "string"
            },
            "text/plain": [
              "'boruta=boruta(x_train,y_train)'"
            ]
          },
          "metadata": {
            "tags": []
          },
          "execution_count": 53
        }
      ]
    },
    {
      "cell_type": "markdown",
      "metadata": {
        "id": "CJPOn-WqXCuM"
      },
      "source": [
        "###6.2.1. Best Features from Boruta"
      ]
    },
    {
      "cell_type": "code",
      "metadata": {
        "id": "OFDZg5VUXDOB",
        "colab": {
          "base_uri": "https://localhost:8080/",
          "height": 35
        },
        "outputId": "9f8691b5-c96c-4546-e25f-e2130aedf5b8"
      },
      "source": [
        "best_features(boruta,x_train)"
      ],
      "execution_count": 54,
      "outputs": [
        {
          "output_type": "execute_result",
          "data": {
            "application/vnd.google.colaboratory.intrinsic+json": {
              "type": "string"
            },
            "text/plain": [
              "'best_features(boruta,x_train)'"
            ]
          },
          "metadata": {
            "tags": []
          },
          "execution_count": 54
        }
      ]
    },
    {
      "cell_type": "markdown",
      "metadata": {
        "id": "trQb9Be5XGe7"
      },
      "source": [
        "##6.3. Manual Feature selection\n"
      ]
    },
    {
      "cell_type": "code",
      "metadata": {
        "id": "WN75evLsXHVQ"
      },
      "source": [
        "cols_selected_boruta=['etapa','tipos','montante','saldo_inicial_remetente',\n",
        "                      'saldo_atual_remetente','destinatario','saldo_atual_destinatario']\n",
        "\n",
        "#Columns to add\n",
        "feat_to_add=['fraude']\n",
        "cols_selected_boruta_full=cols_selected_boruta.copy()\n",
        "cols_selected_boruta_full.extend(feat_to_add)"
      ],
      "execution_count": 55,
      "outputs": []
    },
    {
      "cell_type": "markdown",
      "metadata": {
        "id": "tuF55r7hXLRT"
      },
      "source": [
        "#7.0. PASSO 7 - MACHINE LEARNING MODELLING"
      ]
    },
    {
      "cell_type": "code",
      "metadata": {
        "id": "Nis1hfezXL9M"
      },
      "source": [
        "#copia do dataframe\n",
        "df7=df6[cols_selected_boruta_full].copy()\n",
        "\n",
        "x_train=x_train[cols_selected_boruta]\n",
        "x_test=x_test[cols_selected_boruta]"
      ],
      "execution_count": 56,
      "outputs": []
    },
    {
      "cell_type": "markdown",
      "metadata": {
        "id": "CxmMrZtWXfTj"
      },
      "source": [
        "##7.1. Base Line"
      ]
    },
    {
      "cell_type": "code",
      "metadata": {
        "id": "RiOttWuP17NK",
        "colab": {
          "base_uri": "https://localhost:8080/",
          "height": 80
        },
        "outputId": "d332dd36-664a-464b-a2dc-e7a45f79b5e5"
      },
      "source": [
        "#model\n",
        "dc = DummyClassifier()\n",
        "dc_train=dc.fit(x_train,y_train)\n",
        "\n",
        "#predict\n",
        "yhat_dc=dc_train.predict(x_test)\n",
        "\n",
        "#performance\n",
        "dc_result=model_perform(y_test,yhat_dc,'baseline')\n",
        "dc_result"
      ],
      "execution_count": 105,
      "outputs": [
        {
          "output_type": "execute_result",
          "data": {
            "text/html": [
              "<div>\n",
              "<style scoped>\n",
              "    .dataframe tbody tr th:only-of-type {\n",
              "        vertical-align: middle;\n",
              "    }\n",
              "\n",
              "    .dataframe tbody tr th {\n",
              "        vertical-align: top;\n",
              "    }\n",
              "\n",
              "    .dataframe thead th {\n",
              "        text-align: right;\n",
              "    }\n",
              "</style>\n",
              "<table border=\"1\" class=\"dataframe\">\n",
              "  <thead>\n",
              "    <tr style=\"text-align: right;\">\n",
              "      <th></th>\n",
              "      <th>model Name</th>\n",
              "      <th>accuracy</th>\n",
              "      <th>precision</th>\n",
              "      <th>recall</th>\n",
              "      <th>f1 score</th>\n",
              "    </tr>\n",
              "  </thead>\n",
              "  <tbody>\n",
              "    <tr>\n",
              "      <th>0</th>\n",
              "      <td>baseline</td>\n",
              "      <td>0.997375</td>\n",
              "      <td>0.000796</td>\n",
              "      <td>0.499741</td>\n",
              "      <td>0.000798</td>\n",
              "    </tr>\n",
              "  </tbody>\n",
              "</table>\n",
              "</div>"
            ],
            "text/plain": [
              "  model Name  accuracy  precision    recall  f1 score\n",
              "0   baseline  0.997375   0.000796  0.499741  0.000798"
            ]
          },
          "metadata": {
            "tags": []
          },
          "execution_count": 105
        }
      ]
    },
    {
      "cell_type": "markdown",
      "metadata": {
        "id": "perykH4ZWvYI"
      },
      "source": [
        "###7.1.1. Base Line - Cross validation"
      ]
    },
    {
      "cell_type": "code",
      "metadata": {
        "id": "fBcxF_wJLwWZ",
        "colab": {
          "base_uri": "https://localhost:8080/",
          "height": 35
        },
        "outputId": "485f5d20-4561-4ad9-de8c-88922bb80993"
      },
      "source": [
        "dc_result_cv=cross_validation(df7,5,'baseline',dc)\n",
        "dc_result_cv"
      ],
      "execution_count": 59,
      "outputs": [
        {
          "output_type": "execute_result",
          "data": {
            "application/vnd.google.colaboratory.intrinsic+json": {
              "type": "string"
            },
            "text/plain": [
              "\"dc_result_cv=cross_validation(df7,5,'baseline',dc)\\ndc_result_cv\""
            ]
          },
          "metadata": {
            "tags": []
          },
          "execution_count": 59
        }
      ]
    },
    {
      "cell_type": "markdown",
      "metadata": {
        "id": "8VpcFt5mXxGb"
      },
      "source": [
        "##7.2. Random Forest Classifier\n"
      ]
    },
    {
      "cell_type": "code",
      "metadata": {
        "id": "p7iDjVJ8XyDh",
        "colab": {
          "base_uri": "https://localhost:8080/",
          "height": 52
        },
        "outputId": "01afd8c9-8d76-4a99-c4b4-4b7b685e267f"
      },
      "source": [
        "#model\n",
        "rfc=RandomForestClassifier(max_depth=2, random_state=0)\n",
        "rfc_train=rfc.fit(x_train,y_train)\n",
        "\n",
        "#predict\n",
        "yhat_rfc=rfc_train.predict(x_test)\n",
        "\n",
        "#performance\n",
        "rfc_result=model_perform(y_test,yhat_rfc,'RandomForestClassifier')\n",
        "rfc_result"
      ],
      "execution_count": 60,
      "outputs": [
        {
          "output_type": "execute_result",
          "data": {
            "application/vnd.google.colaboratory.intrinsic+json": {
              "type": "string"
            },
            "text/plain": [
              "\"#model\\nrfc=RandomForestClassifier(max_depth=2, random_state=0)\\nrfc_train=rfc.fit(x_train,y_train)\\n\\n#predict\\nyhat_rfc=rfc_train.predict(x_test)\\n\\n#performance\\nrfc_result=model_perform(y_test,yhat_rfc,'RandomForestClassifier')\\nrfc_result\""
            ]
          },
          "metadata": {
            "tags": []
          },
          "execution_count": 60
        }
      ]
    },
    {
      "cell_type": "markdown",
      "metadata": {
        "id": "KUBTemPKYIYz"
      },
      "source": [
        "###7.2.1. Random Forest Classifier-Cross validation"
      ]
    },
    {
      "cell_type": "code",
      "metadata": {
        "id": "7LjtWhibYon2",
        "colab": {
          "base_uri": "https://localhost:8080/",
          "height": 35
        },
        "outputId": "374ea5b8-69f2-446a-a81b-a8fe0b31c025"
      },
      "source": [
        "rfc_result_cv=cross_validation(df7,5,'RandomForestClassifier',rfc)\n",
        "rfc_result_cv"
      ],
      "execution_count": 62,
      "outputs": [
        {
          "output_type": "execute_result",
          "data": {
            "application/vnd.google.colaboratory.intrinsic+json": {
              "type": "string"
            },
            "text/plain": [
              "\"rfc_result_cv=cross_validation(df7,5,'RandomForestClassifier',rfc)\\nrfc_result_cv\""
            ]
          },
          "metadata": {
            "tags": []
          },
          "execution_count": 62
        }
      ]
    },
    {
      "cell_type": "markdown",
      "metadata": {
        "id": "Go7oSzpgXoZr"
      },
      "source": [
        "##7.3. Logistic Regression"
      ]
    },
    {
      "cell_type": "code",
      "metadata": {
        "id": "5kyznuE8Xo46",
        "colab": {
          "base_uri": "https://localhost:8080/",
          "height": 52
        },
        "outputId": "657d67b1-8d18-4df5-f74d-16910eff38c8"
      },
      "source": [
        "#model\n",
        "lr= LogisticRegression(random_state=0)\n",
        "lr_train=lr.fit(x_train,y_train)\n",
        "\n",
        "#predict\n",
        "yhat_lr=lr_train.predict(x_test)\n",
        "\n",
        "#performance\n",
        "lr_result=model_perform(y_test,yhat_lr,'Logistic Regression')\n",
        "lr_result"
      ],
      "execution_count": 63,
      "outputs": [
        {
          "output_type": "execute_result",
          "data": {
            "application/vnd.google.colaboratory.intrinsic+json": {
              "type": "string"
            },
            "text/plain": [
              "\"#model\\nlr= LogisticRegression(random_state=0)\\nlr_train=lr.fit(x_train,y_train)\\n\\n#predict\\nyhat_lr=lr_train.predict(x_test)\\n\\n#performance\\nlr_result=model_perform(y_test,yhat_lr,'Logistic Regression')\\nlr_result\""
            ]
          },
          "metadata": {
            "tags": []
          },
          "execution_count": 63
        }
      ]
    },
    {
      "cell_type": "markdown",
      "metadata": {
        "id": "HrqJmWXRTlXs"
      },
      "source": [
        "###7.3.1 Logistic Regression cross validation"
      ]
    },
    {
      "cell_type": "code",
      "metadata": {
        "id": "OKwD4bE9jg3n",
        "colab": {
          "base_uri": "https://localhost:8080/",
          "height": 35
        },
        "outputId": "e73acd98-9a95-4c1e-ff15-274c4e53cc59"
      },
      "source": [
        "lr_result_cv=cross_validation(df7,5,'Logistic Regression',lr)\n",
        "lr_result_cv"
      ],
      "execution_count": 65,
      "outputs": [
        {
          "output_type": "execute_result",
          "data": {
            "application/vnd.google.colaboratory.intrinsic+json": {
              "type": "string"
            },
            "text/plain": [
              "\"lr_result_cv=cross_validation(df7,5,'Logistic Regression',lr)\\nlr_result_cv\""
            ]
          },
          "metadata": {
            "tags": []
          },
          "execution_count": 65
        }
      ]
    },
    {
      "cell_type": "markdown",
      "metadata": {
        "id": "WZsapc3IX9Fq"
      },
      "source": [
        "##7.4. KNeighbors Classifier \n"
      ]
    },
    {
      "cell_type": "code",
      "metadata": {
        "id": "1qN5sE-5X9Fs",
        "colab": {
          "base_uri": "https://localhost:8080/",
          "height": 52
        },
        "outputId": "b7ba8009-3cc8-4708-d0b1-3177da305f96"
      },
      "source": [
        "#model\n",
        "knn = KNeighborsClassifier(n_neighbors=5)\n",
        "knn_train=knn.fit(x_train,y_train)\n",
        "\n",
        "#prediction\n",
        "yhat_knn=knn_train.predict(x_test)\n",
        "\n",
        "#performance\n",
        "knn_result=model_perform(y_test,yhat_knn,'KNeighbors Classifier')\n",
        "knn_result"
      ],
      "execution_count": 66,
      "outputs": [
        {
          "output_type": "execute_result",
          "data": {
            "application/vnd.google.colaboratory.intrinsic+json": {
              "type": "string"
            },
            "text/plain": [
              "\"#model\\nknn = KNeighborsClassifier(n_neighbors=5)\\nknn_train=knn.fit(x_train,y_train)\\n\\n#prediction\\nyhat_knn=knn_train.predict(x_test)\\n\\n#performance\\nknn_result=model_perform(y_test,yhat_knn,'KNeighbors Classifier')\\nknn_result\""
            ]
          },
          "metadata": {
            "tags": []
          },
          "execution_count": 66
        }
      ]
    },
    {
      "cell_type": "markdown",
      "metadata": {
        "id": "MeZ0aoBNTzEj"
      },
      "source": [
        "###7.4.1 KNeighbors Classifier cross validation"
      ]
    },
    {
      "cell_type": "code",
      "metadata": {
        "id": "9HcT3m-1jqbo",
        "colab": {
          "base_uri": "https://localhost:8080/",
          "height": 35
        },
        "outputId": "1a0945c7-e8ff-42e3-9ad9-a6825f54dad1"
      },
      "source": [
        "knn_result_cv=cross_validation(df7,5,'KNeighbors Classifier',knn)\n",
        "knn_result_cv"
      ],
      "execution_count": 68,
      "outputs": [
        {
          "output_type": "execute_result",
          "data": {
            "application/vnd.google.colaboratory.intrinsic+json": {
              "type": "string"
            },
            "text/plain": [
              "\"knn_result_cv=cross_validation(df7,5,'KNeighbors Classifier',knn)\\nknn_result_cv\""
            ]
          },
          "metadata": {
            "tags": []
          },
          "execution_count": 68
        }
      ]
    },
    {
      "cell_type": "markdown",
      "metadata": {
        "id": "xQzySzJGYTdz"
      },
      "source": [
        "##7.5. Naive Bayes Gaussian"
      ]
    },
    {
      "cell_type": "code",
      "metadata": {
        "id": "Wc1rnO30YJEp",
        "colab": {
          "base_uri": "https://localhost:8080/",
          "height": 52
        },
        "outputId": "652259c9-fa9d-4ba1-b36b-d91d01e1b151"
      },
      "source": [
        "#model\n",
        "gau = GaussianNB()\n",
        "gau_train=gau.fit(x_train,y_train)\n",
        "\n",
        "#prediction\n",
        "yhat_gau=gau_train.predict(x_test)\n",
        "\n",
        "#performance\n",
        "gau_result=model_perform(y_test,yhat_gau,'Naive Bayes Gaussian')\n",
        "gau_result"
      ],
      "execution_count": 69,
      "outputs": [
        {
          "output_type": "execute_result",
          "data": {
            "application/vnd.google.colaboratory.intrinsic+json": {
              "type": "string"
            },
            "text/plain": [
              "\"#model\\ngau = GaussianNB()\\ngau_train=gau.fit(x_train,y_train)\\n\\n#prediction\\nyhat_gau=gau_train.predict(x_test)\\n\\n#performance\\ngau_result=model_perform(y_test,yhat_gau,'Naive Bayes Gaussian')\\ngau_result\""
            ]
          },
          "metadata": {
            "tags": []
          },
          "execution_count": 69
        }
      ]
    },
    {
      "cell_type": "markdown",
      "metadata": {
        "id": "b4TKUJG4T8DU"
      },
      "source": [
        "###7.5.1 Naive Bayes Gaussian cross validation"
      ]
    },
    {
      "cell_type": "code",
      "metadata": {
        "id": "7k7jWGcNj8ff",
        "colab": {
          "base_uri": "https://localhost:8080/",
          "height": 35
        },
        "outputId": "a8e581ed-d604-4d53-f825-d91d9a58c5e1"
      },
      "source": [
        "gau_result_cv=cross_validation(df7,5,'Naive Bayes Gaussian',gau)\n",
        "gau_result_cv"
      ],
      "execution_count": 71,
      "outputs": [
        {
          "output_type": "execute_result",
          "data": {
            "application/vnd.google.colaboratory.intrinsic+json": {
              "type": "string"
            },
            "text/plain": [
              "\"gau_result_cv=cross_validation(df7,5,'Naive Bayes Gaussian',gau)\\ngau_result_cv\""
            ]
          },
          "metadata": {
            "tags": []
          },
          "execution_count": 71
        }
      ]
    },
    {
      "cell_type": "markdown",
      "metadata": {
        "id": "aoseJ2aoN0jY"
      },
      "source": [
        "##7.6. Naive Bayes Bernoulli"
      ]
    },
    {
      "cell_type": "code",
      "metadata": {
        "id": "0_rSiiPPLywQ",
        "colab": {
          "base_uri": "https://localhost:8080/",
          "height": 52
        },
        "outputId": "ae8746bb-b42f-49f7-e6ea-5c1d91581cbe"
      },
      "source": [
        "#model\n",
        "ber= BernoulliNB()\n",
        "ber_train=ber.fit(x_train,y_train)\n",
        "\n",
        "#prediction\n",
        "yhat_ber=ber_train.predict(x_test)\n",
        "\n",
        "#performance\n",
        "ber_result=model_perform(y_test,yhat_ber,'Naive Bayes Bernoulli')\n",
        "ber_result"
      ],
      "execution_count": 72,
      "outputs": [
        {
          "output_type": "execute_result",
          "data": {
            "application/vnd.google.colaboratory.intrinsic+json": {
              "type": "string"
            },
            "text/plain": [
              "\"#model\\nber= BernoulliNB()\\nber_train=ber.fit(x_train,y_train)\\n\\n#prediction\\nyhat_ber=ber_train.predict(x_test)\\n\\n#performance\\nber_result=model_perform(y_test,yhat_ber,'Naive Bayes Bernoulli')\\nber_result\""
            ]
          },
          "metadata": {
            "tags": []
          },
          "execution_count": 72
        }
      ]
    },
    {
      "cell_type": "markdown",
      "metadata": {
        "id": "NBMkyZFaUGGr"
      },
      "source": [
        "###7.6.1 Naive Bayes Bernoulli cross validation"
      ]
    },
    {
      "cell_type": "code",
      "metadata": {
        "id": "AGasNm5zWM5S",
        "colab": {
          "base_uri": "https://localhost:8080/",
          "height": 35
        },
        "outputId": "c26fa0eb-8173-48a6-a1c5-88d74a8718dd"
      },
      "source": [
        "ber_result_cv=cross_validation(df7,5,'Naive Bayes Bernoulli',ber)\n",
        "ber_result_cv"
      ],
      "execution_count": 74,
      "outputs": [
        {
          "output_type": "execute_result",
          "data": {
            "application/vnd.google.colaboratory.intrinsic+json": {
              "type": "string"
            },
            "text/plain": [
              "\"ber_result_cv=cross_validation(df7,5,'Naive Bayes Bernoulli',ber)\\nber_result_cv\""
            ]
          },
          "metadata": {
            "tags": []
          },
          "execution_count": 74
        }
      ]
    },
    {
      "cell_type": "markdown",
      "metadata": {
        "id": "yY_AUWPzZYxt"
      },
      "source": [
        "##7.7. SVM"
      ]
    },
    {
      "cell_type": "code",
      "metadata": {
        "id": "9yjxM_AViX9t",
        "colab": {
          "base_uri": "https://localhost:8080/",
          "height": 52
        },
        "outputId": "dadf6951-a0be-473a-e7cd-5857b35e52f4"
      },
      "source": [
        "#model\n",
        "svc = SVC(gamma=\"auto\")\n",
        "svc_train=svc.fit(x_train,y_train)\n",
        "\n",
        "#prediction\n",
        "yhat_svc=svc.predict(x_test)\n",
        "\n",
        "#performance\n",
        "svc_result=model_perform(y_test,yhat_svc,'SVM')\n",
        "svc_result"
      ],
      "execution_count": 75,
      "outputs": [
        {
          "output_type": "execute_result",
          "data": {
            "application/vnd.google.colaboratory.intrinsic+json": {
              "type": "string"
            },
            "text/plain": [
              "'#model\\nsvc = SVC(gamma=\"auto\")\\nsvc_train=svc.fit(x_train,y_train)\\n\\n#prediction\\nyhat_svc=svc.predict(x_test)\\n\\n#performance\\nsvc_result=model_perform(y_test,yhat_svc,\\'SVM\\')\\nsvc_result'"
            ]
          },
          "metadata": {
            "tags": []
          },
          "execution_count": 75
        }
      ]
    },
    {
      "cell_type": "markdown",
      "metadata": {
        "id": "XePBn6Zwe6SD"
      },
      "source": [
        "###7.7.1 SVM cross validation"
      ]
    },
    {
      "cell_type": "code",
      "metadata": {
        "id": "vQ9HqjnffLhA",
        "colab": {
          "base_uri": "https://localhost:8080/",
          "height": 35
        },
        "outputId": "013f8317-a24c-4ea0-82e3-ff79eb774efc"
      },
      "source": [
        "svc_result_cv=cross_validation(df7,5,'SVM',svc)\n",
        "svc_result_cv"
      ],
      "execution_count": 77,
      "outputs": [
        {
          "output_type": "execute_result",
          "data": {
            "application/vnd.google.colaboratory.intrinsic+json": {
              "type": "string"
            },
            "text/plain": [
              "\"svc_result_cv=cross_validation(df7,5,'SVM',svc)\\nsvc_result_cv\""
            ]
          },
          "metadata": {
            "tags": []
          },
          "execution_count": 77
        }
      ]
    },
    {
      "cell_type": "markdown",
      "metadata": {
        "id": "dGpqW0_1ed3Z"
      },
      "source": [
        "##7.8. Gradient Boosting Classifier"
      ]
    },
    {
      "cell_type": "code",
      "metadata": {
        "id": "E0HORi2fed3a",
        "colab": {
          "base_uri": "https://localhost:8080/",
          "height": 52
        },
        "outputId": "f952b6e4-528e-42e7-c149-b275202b87be"
      },
      "source": [
        "#model\n",
        "gbc = GradientBoostingClassifier(n_estimators=100, learning_rate=1.0,\n",
        "    max_depth=1, random_state=0)\n",
        "\n",
        "gbc_train=gbc.fit(x_train, y_train)\n",
        "\n",
        "#prediction\n",
        "yhat_gbc=gbc_train.predict(x_test)\n",
        "\n",
        "#performance\n",
        "gbc_result=model_perform(y_test,yhat_gbc,'GradientBoostingClassifier')\n",
        "gbc_result"
      ],
      "execution_count": 78,
      "outputs": [
        {
          "output_type": "execute_result",
          "data": {
            "application/vnd.google.colaboratory.intrinsic+json": {
              "type": "string"
            },
            "text/plain": [
              "\"#model\\ngbc = GradientBoostingClassifier(n_estimators=100, learning_rate=1.0,\\n    max_depth=1, random_state=0)\\n\\ngbc_train=gbc.fit(x_train, y_train)\\n\\n#prediction\\nyhat_gbc=gbc_train.predict(x_test)\\n\\n#performance\\ngbc_result=model_perform(y_test,yhat_gbc,'GradientBoostingClassifier')\\ngbc_result\""
            ]
          },
          "metadata": {
            "tags": []
          },
          "execution_count": 78
        }
      ]
    },
    {
      "cell_type": "markdown",
      "metadata": {
        "id": "6lt0TgU-ed3a"
      },
      "source": [
        "###7.8.1. Gradient Boosting Classifier - Cross validation"
      ]
    },
    {
      "cell_type": "code",
      "metadata": {
        "id": "UmbLG3whed3b",
        "colab": {
          "base_uri": "https://localhost:8080/",
          "height": 35
        },
        "outputId": "babf4032-110d-42ce-e780-2b63801dc4b0"
      },
      "source": [
        "gbc_result_cv=cross_validation(df7,5,'GradientBoostingClassifier',gbc)\n",
        "gbc_result_cv"
      ],
      "execution_count": 80,
      "outputs": [
        {
          "output_type": "execute_result",
          "data": {
            "application/vnd.google.colaboratory.intrinsic+json": {
              "type": "string"
            },
            "text/plain": [
              "\"gbc_result_cv=cross_validation(df7,5,'GradientBoostingClassifier',gbc)\\ngbc_result_cv\""
            ]
          },
          "metadata": {
            "tags": []
          },
          "execution_count": 80
        }
      ]
    },
    {
      "cell_type": "markdown",
      "metadata": {
        "id": "_-gktjyHfI5t"
      },
      "source": [
        "##7.9. Decision Tree Classifier"
      ]
    },
    {
      "cell_type": "code",
      "metadata": {
        "id": "1dI6g7AdfI50",
        "colab": {
          "base_uri": "https://localhost:8080/",
          "height": 52
        },
        "outputId": "e1c373f5-e29b-47b2-d5c6-490a1aa6864d"
      },
      "source": [
        "#model\n",
        "dtc = DecisionTreeClassifier(random_state=0)\n",
        "\n",
        "dtc_train=dtc.fit(x_train, y_train)\n",
        "\n",
        "#prediction\n",
        "yhat_dtc=dtc_train.predict(x_test)\n",
        "\n",
        "#performance\n",
        "dtc_result=model_perform(y_test,yhat_dtc,'DecisionTreeClassifier')\n",
        "dtc_result"
      ],
      "execution_count": 81,
      "outputs": [
        {
          "output_type": "execute_result",
          "data": {
            "application/vnd.google.colaboratory.intrinsic+json": {
              "type": "string"
            },
            "text/plain": [
              "\"#model\\ndtc = DecisionTreeClassifier(random_state=0)\\n\\ndtc_train=dtc.fit(x_train, y_train)\\n\\n#prediction\\nyhat_dtc=dtc_train.predict(x_test)\\n\\n#performance\\ndtc_result=model_perform(y_test,yhat_dtc,'DecisionTreeClassifier')\\ndtc_result\""
            ]
          },
          "metadata": {
            "tags": []
          },
          "execution_count": 81
        }
      ]
    },
    {
      "cell_type": "markdown",
      "metadata": {
        "id": "jDtB6Rz_fI51"
      },
      "source": [
        "###7.9.1. Decision Tree Classifier - Cross validation"
      ]
    },
    {
      "cell_type": "code",
      "metadata": {
        "id": "nVdACl2IfI51",
        "colab": {
          "base_uri": "https://localhost:8080/",
          "height": 35
        },
        "outputId": "682b03fa-0227-4a23-af4b-ef307aa6ed0e"
      },
      "source": [
        "dtc_result_cv=cross_validation(df7,5,'DecisionTreeClassifier',dtc)\n",
        "dtc_result_cv"
      ],
      "execution_count": 83,
      "outputs": [
        {
          "output_type": "execute_result",
          "data": {
            "application/vnd.google.colaboratory.intrinsic+json": {
              "type": "string"
            },
            "text/plain": [
              "\"dtc_result_cv=cross_validation(df7,5,'DecisionTreeClassifier',dtc)\\ndtc_result_cv\""
            ]
          },
          "metadata": {
            "tags": []
          },
          "execution_count": 83
        }
      ]
    },
    {
      "cell_type": "markdown",
      "metadata": {
        "id": "5U7NwxmYY2XT"
      },
      "source": [
        "##7.10. Compare Model's Performance"
      ]
    },
    {
      "cell_type": "markdown",
      "metadata": {
        "id": "u7j3l4avY9Eb"
      },
      "source": [
        "###7.10.1. Single Performance\n"
      ]
    },
    {
      "cell_type": "code",
      "metadata": {
        "id": "pXVuY_iBY_Dz",
        "colab": {
          "base_uri": "https://localhost:8080/",
          "height": 52
        },
        "outputId": "29e09bef-be15-41cb-c324-cc9a86be0f09"
      },
      "source": [
        "modelling_results=pd.concat([dc_result,rfc_result,lr_result,knn_result,gau_result,ber_result,svc_result,gbc_result,dtc_result],axis=0)\n",
        "modelling_results.sort_values('recall',ascending=False)"
      ],
      "execution_count": 84,
      "outputs": [
        {
          "output_type": "execute_result",
          "data": {
            "application/vnd.google.colaboratory.intrinsic+json": {
              "type": "string"
            },
            "text/plain": [
              "\"modelling_results=pd.concat([dc_result,rfc_result,lr_result,knn_result,gau_result,ber_result,svc_result,gbc_result,dtc_result],axis=0)\\nmodelling_results.sort_values('recall',ascending=False)\""
            ]
          },
          "metadata": {
            "tags": []
          },
          "execution_count": 84
        }
      ]
    },
    {
      "cell_type": "markdown",
      "metadata": {
        "id": "ggunoaLQZANs"
      },
      "source": [
        "###7.10.2. Real Performance - Cross Validation\n"
      ]
    },
    {
      "cell_type": "code",
      "metadata": {
        "id": "GGx6jS-kY224",
        "colab": {
          "base_uri": "https://localhost:8080/",
          "height": 52
        },
        "outputId": "76e26359-fba6-45ed-db94-e269b5cfd118"
      },
      "source": [
        "modelling_results_cv=pd.concat([dc_result_cv,rfc_result_cv,lr_result_cv,knn_result_cv,gau_result_cv,ber_result_cv,svc_result_cv,gbc_result_cv,dtc_result_cv])\n",
        "modelling_results_cv.sort_values('recall CV',ascending=False)"
      ],
      "execution_count": 85,
      "outputs": [
        {
          "output_type": "execute_result",
          "data": {
            "application/vnd.google.colaboratory.intrinsic+json": {
              "type": "string"
            },
            "text/plain": [
              "\"modelling_results_cv=pd.concat([dc_result_cv,rfc_result_cv,lr_result_cv,knn_result_cv,gau_result_cv,ber_result_cv,svc_result_cv,gbc_result_cv,dtc_result_cv])\\nmodelling_results_cv.sort_values('recall CV',ascending=False)\""
            ]
          },
          "metadata": {
            "tags": []
          },
          "execution_count": 85
        }
      ]
    },
    {
      "cell_type": "markdown",
      "metadata": {
        "id": "XNgufp4nZMza"
      },
      "source": [
        "#8.0. PASSO 8 - HYPERPARAMETER FINE TUNING"
      ]
    },
    {
      "cell_type": "code",
      "metadata": {
        "id": "eUiUrsO_ZNOw"
      },
      "source": [
        "#copia do dataframe\n",
        "df8=df7.copy()"
      ],
      "execution_count": 86,
      "outputs": []
    },
    {
      "cell_type": "markdown",
      "metadata": {
        "id": "G5MqjiseZcez"
      },
      "source": [
        "##8.1.Random Search"
      ]
    },
    {
      "cell_type": "code",
      "metadata": {
        "id": "jjYyZEGCZc7U",
        "colab": {
          "base_uri": "https://localhost:8080/",
          "height": 120
        },
        "outputId": "c97321b6-7def-43a5-ec97-63d05f5619ce"
      },
      "source": [
        "warnings.filterwarnings('ignore')\n",
        "\n",
        "#params\n",
        "param={        'criterion':            ['gini','entropy'],\n",
        "               'max_depth':            range(1,10),\n",
        "               'min_samples_split':    range(2,11),\n",
        "               'min_samples_leaf':     range(1,5)}\n",
        "\n",
        "MAX_EVAL=10\n",
        "\n",
        "final_results=pd.DataFrame()\n",
        "\n",
        "for i in range (MAX_EVAL):\n",
        "\n",
        "  #Choose values for parameters randomly\n",
        "  hp={k:random.sample(v,1)[0] for k,v in param.items()}\n",
        "  print(hp)\n",
        "\n",
        "  #model\n",
        "  model_dtc=DecisionTreeClassifier(     criterion=          hp['criterion'],\n",
        "                                        max_depth=          hp['max_depth'],\n",
        "                                        min_samples_split=  hp['min_samples_split'],\n",
        "                                        min_samples_leaf=   hp['min_samples_leaf'])             \n",
        "                            \n",
        "  \n",
        "  #performance\n",
        "  results=cross_validation(df8,3,'DecisionTreeClassifier',model_dtc) \n",
        "  final_results=pd.concat([final_results,results])\n",
        "final_results"
      ],
      "execution_count": 87,
      "outputs": [
        {
          "output_type": "execute_result",
          "data": {
            "application/vnd.google.colaboratory.intrinsic+json": {
              "type": "string"
            },
            "text/plain": [
              "\"warnings.filterwarnings('ignore')\\n\\n#params\\nparam={        'criterion':            ['gini','entropy'],\\n               'max_depth':            range(1,10),\\n               'min_samples_split':    range(2,11),\\n               'min_samples_leaf':     range(1,5)}\\n\\nMAX_EVAL=10\\n\\nfinal_results=pd.DataFrame()\\n\\nfor i in range (MAX_EVAL):\\n\\n  #Choose values for parameters randomly\\n  hp={k:random.sample(v,1)[0] for k,v in param.items()}\\n  print(hp)\\n\\n  #model\\n  model_dtc=DecisionTreeClassifier(     criterion=          hp['criterion'],\\n                                        max_depth=          hp['max_depth'],\\n                                        min_samples_split=  hp['min_samples_split'],\\n                                        min_samples_leaf=   hp['min_samples_leaf'])             \\n                            \\n  \\n  #performance\\n  results=cross_validation(df8,3,'DecisionTreeClassifier',model_dtc) \\n  final_results=pd.concat([final_results,results])\\nfinal_results\""
            ]
          },
          "metadata": {
            "tags": []
          },
          "execution_count": 87
        }
      ]
    },
    {
      "cell_type": "markdown",
      "metadata": {
        "id": "olrRbmpSZlpr"
      },
      "source": [
        "##8.2.Final Model"
      ]
    },
    {
      "cell_type": "code",
      "metadata": {
        "id": "BzzpBRmpZmIZ",
        "colab": {
          "base_uri": "https://localhost:8080/",
          "height": 80
        },
        "outputId": "a51871d8-519d-47c2-9980-5c0a899701c5"
      },
      "source": [
        "#params tuned\n",
        "params_tuned={'criterion': 'entropy', 'max_depth': 9, 'min_samples_split': 4, 'min_samples_leaf': 4}\n",
        "\n",
        "#model\n",
        "model_dtc_tuned=DecisionTreeClassifier(     criterion=          params_tuned['criterion'],\n",
        "                                            max_depth=          params_tuned['max_depth'],\n",
        "                                            min_samples_split=  params_tuned['min_samples_split'],\n",
        "                                            min_samples_leaf=   params_tuned['min_samples_leaf'])\n",
        "\n",
        "\n",
        "#training\n",
        "model_dtc_train=model_dtc_tuned.fit(x_train,y_train)\n",
        "\n",
        "#prediction\n",
        "yhat_dtc_tuned=model_dtc_train.predict(x_test)\n",
        "\n",
        "#performance\n",
        "dtc_result_cv=cross_validation(df8,5,'DecisionTreeClassifier',model_dtc_tuned)\n",
        "dtc_result_cv"
      ],
      "execution_count": 88,
      "outputs": [
        {
          "output_type": "execute_result",
          "data": {
            "text/html": [
              "<div>\n",
              "<style scoped>\n",
              "    .dataframe tbody tr th:only-of-type {\n",
              "        vertical-align: middle;\n",
              "    }\n",
              "\n",
              "    .dataframe tbody tr th {\n",
              "        vertical-align: top;\n",
              "    }\n",
              "\n",
              "    .dataframe thead th {\n",
              "        text-align: right;\n",
              "    }\n",
              "</style>\n",
              "<table border=\"1\" class=\"dataframe\">\n",
              "  <thead>\n",
              "    <tr style=\"text-align: right;\">\n",
              "      <th></th>\n",
              "      <th>Model name</th>\n",
              "      <th>accuracy CV</th>\n",
              "      <th>precision CV</th>\n",
              "      <th>recall CV</th>\n",
              "      <th>f1 score CV</th>\n",
              "    </tr>\n",
              "  </thead>\n",
              "  <tbody>\n",
              "    <tr>\n",
              "      <th>0</th>\n",
              "      <td>DecisionTreeClassifier</td>\n",
              "      <td>1.0+/-0.0</td>\n",
              "      <td>0.96+/-0.04</td>\n",
              "      <td>0.86+/-0.01</td>\n",
              "      <td>0.82+/-0.02</td>\n",
              "    </tr>\n",
              "  </tbody>\n",
              "</table>\n",
              "</div>"
            ],
            "text/plain": [
              "               Model name accuracy CV precision CV    recall CV  f1 score CV\n",
              "0  DecisionTreeClassifier   1.0+/-0.0  0.96+/-0.04  0.86+/-0.01  0.82+/-0.02"
            ]
          },
          "metadata": {
            "tags": []
          },
          "execution_count": 88
        }
      ]
    },
    {
      "cell_type": "markdown",
      "metadata": {
        "id": "lE3Sxx6BZsrS"
      },
      "source": [
        "#9.0. PASSO 9 - TRANSLATION AND INTERPRETATION OF THE ERROR"
      ]
    },
    {
      "cell_type": "code",
      "metadata": {
        "id": "NNtNrZvZsne9"
      },
      "source": [
        "df9=df8.copy()"
      ],
      "execution_count": 89,
      "outputs": []
    },
    {
      "cell_type": "markdown",
      "metadata": {
        "id": "K2ALxcCaaLQd"
      },
      "source": [
        "##9.1.Business Performance"
      ]
    },
    {
      "cell_type": "code",
      "metadata": {
        "id": "2wSCjGjqaL7l",
        "colab": {
          "base_uri": "https://localhost:8080/"
        },
        "outputId": "209ed5f0-30f9-4576-b387-e57f4c1539d2"
      },
      "source": [
        "#Criando o dataframe com as previsões de teste\n",
        "yhat_dtc_tuned=pd.DataFrame(data=yhat_dtc_tuned,columns=['yhat_dtc_tuned'])\n",
        "aux=pd.concat([x_test.reset_index(),y_test.reset_index(),yhat_dtc_tuned],axis=1)\n",
        "aux=aux[['montante','fraude','yhat_dtc_tuned']]\n",
        "aux['montante']=np.expm1(aux['montante'])\n",
        "\n",
        "#criando o código de verificação\n",
        "aux['status']=aux['fraude'].astype(str)+aux['yhat_dtc_tuned'].astype(str)\n",
        "\n",
        "#Definindo o percentual de ganho \n",
        "aux['status']=aux['status'].apply(lambda x : 0.25 if x=='11' else 0.05 if x=='01' else -1 if x=='10' else 0)\n",
        "\n",
        "#Lucro por transação\n",
        "aux['Lucro']=aux['status']*aux['montante']\n",
        "\n",
        "#calculando o ganho de 25%\n",
        "vintecinco=aux[aux['status']==0.25]['Lucro'].sum()\n",
        "\n",
        "#Calculando o ganho de 5%\n",
        "cinco=aux[aux['status']==0.05]['Lucro'].sum()\n",
        "\n",
        "#Calculando as perdas\n",
        "perdas=aux[aux['status']==-1]['Lucro'].sum()\n",
        "\n",
        "#Resumo de resultados\n",
        "print('Resumo dos resultados de negócio')\n",
        "print('A empresa vai receber 25% do valor de cada transação detectada verdadeiramente como fraude. R$ {}'.format(vintecinco))\n",
        "print('A empresa vai receber 5% do valor de cada transação detectada como fraude, porém a transação é verdadeiramente legítima. R$ {}'.format(cinco))\n",
        "print('A empresa vai devolver 100% do valor para o cliente, a cada transação detectada como legítima, porém a transação é verdadeiramente uma fraude. R$ {}'.format(perdas*(-1)))\n",
        "print()\n",
        "print('Com os dados de teste foi alcançado um lucro de R$ {}, o Lucro foi {} x maior do que as despesas.'.format(vintecinco+cinco+perdas,(vintecinco+cinco)/perdas*(-1)))"
      ],
      "execution_count": 90,
      "outputs": [
        {
          "output_type": "stream",
          "text": [
            "Resumo dos resultados de negócio\n",
            "A empresa vai receber 25% do valor de cada transação detectada verdadeiramente como fraude. R$ 876992782.9\n",
            "A empresa vai receber 5% do valor de cada transação detectada como fraude, porém a transação é verdadeiramente legítima. R$ 1699287.8674999997\n",
            "A empresa vai devolver 100% do valor para o cliente, a cada transação detectada como legítima, porém a transação é verdadeiramente uma fraude. R$ 91521083.72999999\n",
            "\n",
            "Com os dados de teste foi alcançado um lucro de R$ 787170987.0374999, o Lucro foi 9.600979741015355 x maior do que as despesas.\n"
          ],
          "name": "stdout"
        }
      ]
    },
    {
      "cell_type": "markdown",
      "metadata": {
        "id": "4IogQnHDaVcS"
      },
      "source": [
        "##9.2.Machine Learning Performance"
      ]
    },
    {
      "cell_type": "code",
      "metadata": {
        "colab": {
          "base_uri": "https://localhost:8080/",
          "height": 69
        },
        "id": "LDPQ9MzPQRDL",
        "outputId": "4cd692f1-d937-4e5f-cd1f-5b1202c1058b"
      },
      "source": [
        "#AUC Curve\n",
        "fpr, tpr, threshold = metrics.roc_curve(y_test, yhat_dtc_tuned)\n",
        "roc_auc = metrics.auc(fpr, tpr)\n",
        "\n",
        "\n",
        "plt.title('Receiver Operating Characteristic')\n",
        "plt.plot(fpr, tpr, 'b', label = 'AUC = %0.2f' % roc_auc)\n",
        "plt.legend(loc = 'lower right')\n",
        "plt.plot([0, 1], [0, 1],'r--')\n",
        "plt.xlim([0, 1])\n",
        "plt.ylim([0, 1])\n",
        "plt.ylabel('True Positive Rate')\n",
        "plt.xlabel('False Positive Rate')\n",
        "plt.show()"
      ],
      "execution_count": 91,
      "outputs": [
        {
          "output_type": "execute_result",
          "data": {
            "application/vnd.google.colaboratory.intrinsic+json": {
              "type": "string"
            },
            "text/plain": [
              "\"#AUC Curve\\nfpr, tpr, threshold = metrics.roc_curve(y_test, yhat_dtc_tuned)\\nroc_auc = metrics.auc(fpr, tpr)\\n\\n\\nplt.title('Receiver Operating Characteristic')\\nplt.plot(fpr, tpr, 'b', label = 'AUC = %0.2f' % roc_auc)\\nplt.legend(loc = 'lower right')\\nplt.plot([0, 1], [0, 1],'r--')\\nplt.xlim([0, 1])\\nplt.ylim([0, 1])\\nplt.ylabel('True Positive Rate')\\nplt.xlabel('False Positive Rate')\\nplt.show()\""
            ]
          },
          "metadata": {
            "tags": []
          },
          "execution_count": 91
        }
      ]
    },
    {
      "cell_type": "code",
      "metadata": {
        "colab": {
          "base_uri": "https://localhost:8080/",
          "height": 69
        },
        "id": "er1NPP-iRkYT",
        "outputId": "d8b337aa-8bf4-4ca2-f18b-7acb5ae8b592"
      },
      "source": [
        "#Matriz de Confusão\n",
        "np.random.seed(2811)\n",
        "\n",
        "cv = StratifiedKFold(n_splits = 5, shuffle = True)\n",
        "y_pred = cross_val_predict(model_dtc_tuned , x_train, y_train, cv = cv)\n",
        "\n",
        "\n",
        "fig, ax = plt.subplots()\n",
        "sns.heatmap(confusion_matrix(y_train, y_pred), annot=True,ax=ax, fmt='d', cmap='Reds')\n",
        "ax.set_title(\"Matriz de Confusão\", fontsize=18)\n",
        "ax.set_ylabel(\"True label\")\n",
        "ax.set_xlabel(\"Predicted Label\")\n",
        "plt.tight_layout()"
      ],
      "execution_count": 92,
      "outputs": [
        {
          "output_type": "execute_result",
          "data": {
            "application/vnd.google.colaboratory.intrinsic+json": {
              "type": "string"
            },
            "text/plain": [
              "'#Matriz de Confusão\\nnp.random.seed(2811)\\n\\ncv = StratifiedKFold(n_splits = 5, shuffle = True)\\ny_pred = cross_val_predict(model_dtc_tuned , x_train, y_train, cv = cv)\\n\\n\\nfig, ax = plt.subplots()\\nsns.heatmap(confusion_matrix(y_train, y_pred), annot=True,ax=ax, fmt=\\'d\\', cmap=\\'Reds\\')\\nax.set_title(\"Matriz de Confusão\", fontsize=18)\\nax.set_ylabel(\"True label\")\\nax.set_xlabel(\"Predicted Label\")\\nplt.tight_layout()'"
            ]
          },
          "metadata": {
            "tags": []
          },
          "execution_count": 92
        }
      ]
    },
    {
      "cell_type": "code",
      "metadata": {
        "colab": {
          "base_uri": "https://localhost:8080/",
          "height": 86
        },
        "id": "f_WzJdCoTpoR",
        "outputId": "2dcf633b-af02-4106-963c-945ef14343d2"
      },
      "source": [
        "#Precisão x Recall\n",
        "np.random.seed(2811)\n",
        "cv = StratifiedKFold(n_splits = 5, shuffle = True)\n",
        "model = model_dtc_tuned\n",
        "\n",
        "y_scores = cross_val_predict(model, x_train, y_train, cv = cv)\n",
        "precisions, recalls, thresholds = precision_recall_curve(y_train, y_scores)\n",
        "\n",
        "\n",
        "fig, ax = plt.subplots(figsize = (12,3))\n",
        "plt.plot(thresholds, precisions[:-1], 'b--', label = 'Precisão')\n",
        "plt.plot(thresholds, recalls[:-1], 'g-', label = 'Recall')\n",
        "plt.xlabel('Threshold')\n",
        "plt.legend(loc = 'center right')\n",
        "plt.ylim([0,1])\n",
        "plt.title('Precisão x Recall', fontsize = 14)\n",
        "plt.show()"
      ],
      "execution_count": 93,
      "outputs": [
        {
          "output_type": "execute_result",
          "data": {
            "application/vnd.google.colaboratory.intrinsic+json": {
              "type": "string"
            },
            "text/plain": [
              "\"#Precisão x Recall\\nnp.random.seed(2811)\\ncv = StratifiedKFold(n_splits = 5, shuffle = True)\\nmodel = model_dtc_tuned\\n\\ny_scores = cross_val_predict(model, x_train, y_train, cv = cv)\\nprecisions, recalls, thresholds = precision_recall_curve(y_train, y_scores)\\n\\n\\nfig, ax = plt.subplots(figsize = (12,3))\\nplt.plot(thresholds, precisions[:-1], 'b--', label = 'Precisão')\\nplt.plot(thresholds, recalls[:-1], 'g-', label = 'Recall')\\nplt.xlabel('Threshold')\\nplt.legend(loc = 'center right')\\nplt.ylim([0,1])\\nplt.title('Precisão x Recall', fontsize = 14)\\nplt.show()\""
            ]
          },
          "metadata": {
            "tags": []
          },
          "execution_count": 93
        }
      ]
    },
    {
      "cell_type": "markdown",
      "metadata": {
        "id": "XjFOAq--aRKS"
      },
      "source": [
        "##9.3.Total Performance"
      ]
    },
    {
      "cell_type": "markdown",
      "metadata": {
        "id": "0B6dkQxlbyDO"
      },
      "source": [
        "###9.3.1 Respondendo a perguntas propostas"
      ]
    },
    {
      "cell_type": "markdown",
      "metadata": {
        "id": "yW1rXSSScDgE"
      },
      "source": [
        "####Qual a Precisão e Acurácia do modelo?"
      ]
    },
    {
      "cell_type": "code",
      "metadata": {
        "id": "lhTv91CNcMhl",
        "colab": {
          "base_uri": "https://localhost:8080/"
        },
        "outputId": "c0cbd7f5-b5e4-4897-a8ca-c9085ee51fb5"
      },
      "source": [
        "print('Precisão: {} e Acurácia: {}'.format(dtc_result_cv['precision CV'][0],dtc_result_cv['accuracy CV'][0]))"
      ],
      "execution_count": 94,
      "outputs": [
        {
          "output_type": "stream",
          "text": [
            "Precisão: 0.96+/-0.04 e Acurácia: 1.0+/-0.0\n"
          ],
          "name": "stdout"
        }
      ]
    },
    {
      "cell_type": "markdown",
      "metadata": {
        "id": "AMtvcEYZcNOk"
      },
      "source": [
        "####Qual a Confiabilidade do modelo em classificar as transações como legítimas ou fraudulentas?"
      ]
    },
    {
      "cell_type": "code",
      "metadata": {
        "id": "ORl6D7vKcR90",
        "colab": {
          "base_uri": "https://localhost:8080/"
        },
        "outputId": "67a045dd-d40c-40bb-f528-a26482a30c81"
      },
      "source": [
        "print('Confiabilidade: {}'.format(dtc_result_cv['recall CV'][0]))"
      ],
      "execution_count": 95,
      "outputs": [
        {
          "output_type": "stream",
          "text": [
            "Confiabilidade: 0.86+/-0.01\n"
          ],
          "name": "stdout"
        }
      ]
    },
    {
      "cell_type": "markdown",
      "metadata": {
        "id": "Ub61SJoQcS-c"
      },
      "source": [
        "####Qual o Faturamento Esperado pela Empresa se classificarmos 100% das transações com o modelo?"
      ]
    },
    {
      "cell_type": "code",
      "metadata": {
        "colab": {
          "base_uri": "https://localhost:8080/"
        },
        "id": "vOJRUvw2fMA1",
        "outputId": "89951b4a-4c5d-4102-c26c-805b87d8275f"
      },
      "source": [
        "aux=df9[df9['fraude']==1]\n",
        "aux['montante']=np.expm1(aux['montante'])\n",
        "lucro_em_caso_de_acerto=aux['montante'].sum()*0.25\n",
        "print('Acertando todas as fraudes do Dataframe : R$ {}'.format(lucro_em_caso_de_acerto))"
      ],
      "execution_count": 96,
      "outputs": [
        {
          "output_type": "stream",
          "text": [
            "Acertando todas as fraudes do Dataframe : R$ 3013349692.7425\n"
          ],
          "name": "stdout"
        }
      ]
    },
    {
      "cell_type": "markdown",
      "metadata": {
        "id": "TRdl2cRkcZLE"
      },
      "source": [
        "####Qual o Prejuízo Esperado pela Empresa em caso de falha do modelo?"
      ]
    },
    {
      "cell_type": "code",
      "metadata": {
        "id": "a49EkDa_cdrM",
        "colab": {
          "base_uri": "https://localhost:8080/"
        },
        "outputId": "f69fbb7e-c871-4d45-89d9-ccbfd71e53c4"
      },
      "source": [
        "aux=df9[df9['fraude']==1]\n",
        "aux['montante']=np.expm1(aux['montante'])\n",
        "prejuizo_em_caso_de_erro=aux['montante'].sum()\n",
        "print('Errando  todas as fraudes do Dataframe : R$ {}'.format(prejuizo_em_caso_de_erro))"
      ],
      "execution_count": 97,
      "outputs": [
        {
          "output_type": "stream",
          "text": [
            "Errando  todas as fraudes do Dataframe : R$ 12053398770.97\n"
          ],
          "name": "stdout"
        }
      ]
    },
    {
      "cell_type": "markdown",
      "metadata": {
        "id": "g3adyUl1cex0"
      },
      "source": [
        "####Qual o Lucro Esperado pela Blocker Fraud Company ao utilizar o modelo?"
      ]
    },
    {
      "cell_type": "code",
      "metadata": {
        "id": "NMFGmtpOcjb8",
        "colab": {
          "base_uri": "https://localhost:8080/"
        },
        "outputId": "449e0ae9-576d-4aae-d7af-b4fc9338a4e9"
      },
      "source": [
        "percentual_de_ganho_em_cima_do_montante=0.002291245467809374\n",
        "ganho=np.expm1(df9['montante']).sum()*percentual_de_ganho_em_cima_do_montante\n",
        "print('Lucro esperado considerando todo o dataset: R$ {}'.format(ganho))"
      ],
      "execution_count": 98,
      "outputs": [
        {
          "output_type": "stream",
          "text": [
            "Lucro esperado considerando todo o dataset: R$ 2621814323.94716\n"
          ],
          "name": "stdout"
        }
      ]
    },
    {
      "cell_type": "markdown",
      "metadata": {
        "id": "6DMlVJjBaela"
      },
      "source": [
        "#10.0. PASSO 10 - DEPLOY MODEL TO PRODUCTION"
      ]
    },
    {
      "cell_type": "code",
      "metadata": {
        "id": "U2cB8pTYafDY",
        "colab": {
          "base_uri": "https://localhost:8080/",
          "height": 35
        },
        "outputId": "f51b64f6-a277-435e-cbe0-5d3ac65380d6"
      },
      "source": [
        "#Save trained model\n",
        "pickle.dump(model_dtc_train,open('/content/model_dtc_train.pkl','wb'))"
      ],
      "execution_count": 99,
      "outputs": [
        {
          "output_type": "execute_result",
          "data": {
            "application/vnd.google.colaboratory.intrinsic+json": {
              "type": "string"
            },
            "text/plain": [
              "\"#Save trained model\\npickle.dump(model_dtc_train,open('/content/model_dtc_train.pkl','wb'))\""
            ]
          },
          "metadata": {
            "tags": []
          },
          "execution_count": 99
        }
      ]
    },
    {
      "cell_type": "markdown",
      "metadata": {
        "id": "eoe3WFtfa0yS"
      },
      "source": [
        "##10.1.transformacões class"
      ]
    },
    {
      "cell_type": "code",
      "metadata": {
        "id": "tq1Sd-ima3WB",
        "colab": {
          "base_uri": "https://localhost:8080/",
          "height": 0
        },
        "outputId": "78f52741-a033-4e03-abc2-e870eb1d9a27"
      },
      "source": [
        "'''import pandas as pd\n",
        "from sklearn.preprocessing   import RobustScaler,MinMaxScaler,LabelEncoder\n",
        "\n",
        "def transformacoes(data):\n",
        "\n",
        "  columns={   'step':'etapa','type':'tipos','amount':'montante','nameOrig':'remetente',\n",
        "              'oldbalanceOrg':'saldo_inicial_remetente','newbalanceOrig':'saldo_atual_remetente',\n",
        "              'nameDest':'destinatario','oldbalanceDest':'saldo_inicial_destinatario',\n",
        "              'newbalanceDest':'saldo_atual_destinatario','isFraud':'fraude','isFlaggedFraud':'fraude_sinalizada'}\n",
        "\n",
        "  data=data.rename(columns=columns)\n",
        "\n",
        "  data['fraude']=data['fraude'].apply(lambda x:'sim' if x==1.0 else 'nao')\n",
        "\n",
        "  data=data[data.index !=42270]\n",
        "\n",
        "  data['fraude_sinalizada']=data['fraude_sinalizada'].astype(str)\n",
        "\n",
        "  rs=RobustScaler()\n",
        "  mms=MinMaxScaler()\n",
        "\n",
        "  #MinMaxScaler\n",
        "  #etapa\n",
        "  data['etapa']=mms.fit_transform(data[['etapa']].values)\n",
        "\n",
        "  #RobustScaler\n",
        "  #montante\n",
        "  data['montante']=rs.fit_transform(data[['montante']].values)\n",
        "\n",
        "  #saldo_inicial_remetente\n",
        "  data['saldo_inicial_remetente']=rs.fit_transform(data[['saldo_inicial_remetente']].values)\n",
        "\n",
        "  #saldo_atual_remetente\n",
        "  data['saldo_atual_remetente']=rs.fit_transform(data[['saldo_atual_remetente']].values)\n",
        "\n",
        "  #saldo_inicial_destinatario\n",
        "  data['saldo_inicial_destinatario']=rs.fit_transform(data[['saldo_inicial_destinatario']].values)\n",
        "\n",
        "  #saldo_atual_destinatario\n",
        "  data['saldo_atual_destinatario']=rs.fit_transform(data[['saldo_atual_destinatario']].values)\n",
        "\n",
        "  #Label Encoding\n",
        "  #tipo\n",
        "  le=LabelEncoder()\n",
        "  data['tipos']=le.fit_transform(data['tipos'])\n",
        "\n",
        "  #cliente_remetente\n",
        "  data['remetente']=le.fit_transform(data['remetente'])\n",
        "\n",
        "  #cliente_destinatario\n",
        "  data['destinatario']=le.fit_transform(data['destinatario'])\n",
        "\n",
        "  #One Hot Encoding \n",
        "  #fraude\n",
        "  data['fraude']=data['fraude'].apply(lambda x: 1 if x=='sim' else 0)\n",
        "\n",
        "  data=data[['etapa','tipos','montante','saldo_inicial_remetente',\n",
        "             'saldo_atual_remetente','destinatario','saldo_atual_destinatario']]\n",
        "  return data\n",
        " \n",
        "def get_prediction(model,dado_original,data_transforme):\n",
        "  #prediction\n",
        "  pred=model.predict(data_transforme)\n",
        "\n",
        "  #join pred into the original data\n",
        "  dado_original['predicoes']=pred\n",
        "\n",
        "  return dado_original.to_json(orient='records',date_format='iso')'''"
      ],
      "execution_count": 100,
      "outputs": [
        {
          "output_type": "execute_result",
          "data": {
            "application/vnd.google.colaboratory.intrinsic+json": {
              "type": "string"
            },
            "text/plain": [
              "\"import pandas as pd\\nfrom sklearn.preprocessing   import RobustScaler,MinMaxScaler,LabelEncoder\\n\\ndef transformacoes(data):\\n\\n  columns={   'step':'etapa','type':'tipos','amount':'montante','nameOrig':'remetente',\\n              'oldbalanceOrg':'saldo_inicial_remetente','newbalanceOrig':'saldo_atual_remetente',\\n              'nameDest':'destinatario','oldbalanceDest':'saldo_inicial_destinatario',\\n              'newbalanceDest':'saldo_atual_destinatario','isFraud':'fraude','isFlaggedFraud':'fraude_sinalizada'}\\n\\n  data=data.rename(columns=columns)\\n\\n  data['fraude']=data['fraude'].apply(lambda x:'sim' if x==1.0 else 'nao')\\n\\n  data=data[data.index !=42270]\\n\\n  data['fraude_sinalizada']=data['fraude_sinalizada'].astype(str)\\n\\n  rs=RobustScaler()\\n  mms=MinMaxScaler()\\n\\n  #MinMaxScaler\\n  #etapa\\n  data['etapa']=mms.fit_transform(data[['etapa']].values)\\n\\n  #RobustScaler\\n  #montante\\n  data['montante']=rs.fit_transform(data[['montante']].values)\\n\\n  #saldo_inicial_remetente\\n  data['saldo_inicial_remetente']=rs.fit_transform(data[['saldo_inicial_remetente']].values)\\n\\n  #saldo_atual_remetente\\n  data['saldo_atual_remetente']=rs.fit_transform(data[['saldo_atual_remetente']].values)\\n\\n  #saldo_inicial_destinatario\\n  data['saldo_inicial_destinatario']=rs.fit_transform(data[['saldo_inicial_destinatario']].values)\\n\\n  #saldo_atual_destinatario\\n  data['saldo_atual_destinatario']=rs.fit_transform(data[['saldo_atual_destinatario']].values)\\n\\n  #Label Encoding\\n  #tipo\\n  le=LabelEncoder()\\n  data['tipos']=le.fit_transform(data['tipos'])\\n\\n  #cliente_remetente\\n  data['remetente']=le.fit_transform(data['remetente'])\\n\\n  #cliente_destinatario\\n  data['destinatario']=le.fit_transform(data['destinatario'])\\n\\n  #One Hot Encoding \\n  #fraude\\n  data['fraude']=data['fraude'].apply(lambda x: 1 if x=='sim' else 0)\\n\\n  data=data[['etapa','tipos','montante','saldo_inicial_remetente',\\n             'saldo_atual_remetente','destinatario','saldo_atual_destinatario']]\\n  return data\\n \\ndef get_prediction(model,dado_original,data_transforme):\\n  #prediction\\n  pred=model.predict(data_transforme)\\n\\n  #join pred into the original data\\n  dado_original['predicoes']=pred\\n\\n  return dado_original.to_json(orient='records',date_format='iso')\""
            ]
          },
          "metadata": {
            "tags": []
          },
          "execution_count": 100
        }
      ]
    },
    {
      "cell_type": "markdown",
      "metadata": {
        "id": "A1lqCvdPa7-q"
      },
      "source": [
        "##10.2.API Handler"
      ]
    },
    {
      "cell_type": "code",
      "metadata": {
        "id": "fhB7BW2ya8df",
        "colab": {
          "base_uri": "https://localhost:8080/",
          "height": 137
        },
        "outputId": "a293716f-62f7-4f6c-aa92-92dd07868980"
      },
      "source": [
        "'''from flask                         import Flask,request,Response\n",
        "from transformacoes.transformacoes import transformacoes\n",
        "from transformacoes.transformacoes import get_prediction\n",
        "import os\n",
        "import pickle\n",
        "import pandas              as pd\n",
        "\n",
        "\n",
        "#Loading model\n",
        "model=pickle.load(open('model/model_dtc_train.pkl','rb'))\n",
        "\n",
        "#Initialize API\n",
        "app=Flask(__name__)\n",
        "\n",
        "@app.route('/oi',methods=['POST'])\n",
        "def diagnostico_predict():\n",
        "  test_json=request.get_json()\n",
        "\n",
        "  if test_json:\n",
        "    if isinstance (test_json,dict):\n",
        "      test_raw=pd.DataFrame(test_json,index=[0])\n",
        "\n",
        "    else:\n",
        "      test_raw=pd.DataFrame(test_json,columns=test_json[0].keys())\n",
        "    \n",
        "    #transformacoes    \n",
        "    data=transformacoes(test_raw)\n",
        "    \n",
        "    #predict\n",
        "    df_response=get_prediction(model,test_raw,data)\n",
        "    return df_response\n",
        "\n",
        "  else:\n",
        "    return Response('{}',status=200,mimetype='application/json')\n",
        "\n",
        "if __name__ == \"__main__\":\n",
        "    port = int(os.environ.get(\"PORT\", 5000))\n",
        "    app.run(host='0.0.0.0', port=port)'''"
      ],
      "execution_count": 101,
      "outputs": [
        {
          "output_type": "execute_result",
          "data": {
            "application/vnd.google.colaboratory.intrinsic+json": {
              "type": "string"
            },
            "text/plain": [
              "'from flask                         import Flask,request,Response\\nfrom transformacoes.transformacoes import transformacoes\\nfrom transformacoes.transformacoes import get_prediction\\nimport os\\nimport pickle\\nimport pandas              as pd\\n\\n\\n#Loading model\\nmodel=pickle.load(open(\\'model/model_dtc_train.pkl\\',\\'rb\\'))\\n\\n#Initialize API\\napp=Flask(__name__)\\n\\n@app.route(\\'/oi\\',methods=[\\'POST\\'])\\ndef diagnostico_predict():\\n  test_json=request.get_json()\\n\\n  if test_json:\\n    if isinstance (test_json,dict):\\n      test_raw=pd.DataFrame(test_json,index=[0])\\n\\n    else:\\n      test_raw=pd.DataFrame(test_json,columns=test_json[0].keys())\\n    \\n    #transformacoes    \\n    data=transformacoes(test_raw)\\n    \\n    #predict\\n    df_response=get_prediction(model,test_raw,data)\\n    return df_response\\n\\n  else:\\n    return Response(\\'{}\\',status=200,mimetype=\\'application/json\\')\\n\\nif __name__ == \"__main__\":\\n    port = int(os.environ.get(\"PORT\", 5000))\\n    app.run(host=\\'0.0.0.0\\', port=port)'"
            ]
          },
          "metadata": {
            "tags": []
          },
          "execution_count": 101
        }
      ]
    },
    {
      "cell_type": "markdown",
      "metadata": {
        "id": "9fnxebzna_zC"
      },
      "source": [
        "##10.3.API Tester"
      ]
    },
    {
      "cell_type": "code",
      "metadata": {
        "id": "RgecqyKdbAOQ",
        "colab": {
          "base_uri": "https://localhost:8080/",
          "height": 52
        },
        "outputId": "5cf28fb4-12c3-46b9-f368-077045069dbf"
      },
      "source": [
        "'''#filtrando a linha da predicap\n",
        "df_test_deploy=df_test_deploy[df_test_deploy.index.isin([2,3,251,252,680,681,724,969,970])]\n",
        "\n",
        "#converter em json\n",
        "df_test_deploy=json.dumps(df_test_deploy.to_dict(orient='records'))'''"
      ],
      "execution_count": 102,
      "outputs": [
        {
          "output_type": "execute_result",
          "data": {
            "application/vnd.google.colaboratory.intrinsic+json": {
              "type": "string"
            },
            "text/plain": [
              "\"#filtrando a linha da predicap\\ndf_test_deploy=df_test_deploy[df_test_deploy.index.isin([2,3,251,252,680,681,724,969,970])]\\n\\n#converter em json\\ndf_test_deploy=json.dumps(df_test_deploy.to_dict(orient='records'))\""
            ]
          },
          "metadata": {
            "tags": []
          },
          "execution_count": 102
        }
      ]
    },
    {
      "cell_type": "code",
      "metadata": {
        "id": "vAQoC20LxraP",
        "colab": {
          "base_uri": "https://localhost:8080/",
          "height": 52
        },
        "outputId": "4cfd42b2-0ca6-4dbf-fe83-d67b4e11e72e"
      },
      "source": [
        "'''#API call\n",
        "url='https://fraudefinanceira.herokuapp.com/oi'\n",
        "headers={'content-type':'application/json'}\n",
        "data=df_test_deploy\n",
        "r=requests.post(url,data=data,headers=headers)\n",
        "print('Status code {}'.format(r.status_code))'''"
      ],
      "execution_count": 103,
      "outputs": [
        {
          "output_type": "execute_result",
          "data": {
            "application/vnd.google.colaboratory.intrinsic+json": {
              "type": "string"
            },
            "text/plain": [
              "\"#API call\\nurl='https://fraudefinanceira.herokuapp.com/oi'\\nheaders={'content-type':'application/json'}\\ndata=df_test_deploy\\nr=requests.post(url,data=data,headers=headers)\\nprint('Status code {}'.format(r.status_code))\""
            ]
          },
          "metadata": {
            "tags": []
          },
          "execution_count": 103
        }
      ]
    },
    {
      "cell_type": "code",
      "metadata": {
        "id": "X4pQ52H9xskk",
        "colab": {
          "base_uri": "https://localhost:8080/",
          "height": 35
        },
        "outputId": "e7416a5e-3b05-48f0-a72e-e4cac0d95c3c"
      },
      "source": [
        "'''#Prediction\n",
        "df1=pd.DataFrame(r.json(),columns=r.json()[0].keys())\n",
        "df1=df1.drop(['isFraud'],axis=1)\n",
        "df1'''"
      ],
      "execution_count": 104,
      "outputs": [
        {
          "output_type": "execute_result",
          "data": {
            "application/vnd.google.colaboratory.intrinsic+json": {
              "type": "string"
            },
            "text/plain": [
              "\"#Prediction\\ndf1=pd.DataFrame(r.json(),columns=r.json()[0].keys())\\ndf1=df1.drop(['isFraud'],axis=1)\\ndf1\""
            ]
          },
          "metadata": {
            "tags": []
          },
          "execution_count": 104
        }
      ]
    }
  ]
}