{
  "nbformat": 4,
  "nbformat_minor": 0,
  "metadata": {
    "colab": {
      "name": "Early_diagnosis_of_cardiovascular_diseases.ipynb",
      "provenance": [],
      "collapsed_sections": [
        "e-HN8F8vIE0K",
        "0yYvm-LIIUbr",
        "Hhruxo2xIa9g",
        "M0XZw0DHIccA",
        "ucvRcvY6IrH4",
        "KgCn8dAOI-aY",
        "v8VI0DTjJC2Z",
        "wE9ZX6aTJG84",
        "EUIwEmz2TrdM",
        "GpaejhizMc-r",
        "zD9IibEiJScY",
        "XyU-Tah1LRnn",
        "sH_nWjMBMdAP",
        "MwwsXAvVMhY3",
        "S7nqPULlMn53",
        "70ED8lTYNcBX",
        "AVklj13VN6dI",
        "MvaOgZivOibe",
        "lFgdoU1xO-Z-",
        "sR0iJiLkPN_9",
        "qJCVx9icPhqe",
        "pqPsPzXOPmKu",
        "Aga1DnIxSul9",
        "VHWqLgWqS9AN",
        "sK7v7hDCTEn1",
        "ty4DOZo7TZ9F",
        "otnAxQ38Tc3N",
        "XncS_BNqTeUd",
        "yA92tDyiTfbl",
        "gR45ERX5TkWt",
        "07b7kf0eTmHN",
        "5rhg5iwwTnXF",
        "fbWpfZYuTosM",
        "xy1zoWE4TpwM",
        "8Yg0gj-HTqx0",
        "kow0Z9RYUWGD",
        "KuLWx92_Uxmk",
        "01iSNySzVJmM",
        "dPeK1w55Vg8E",
        "0gLyVzvLVx5E",
        "QO5psljeV2hs",
        "ib_DOLWtWd-w",
        "HPE4O3ChW3J8",
        "AxbxcTIKW-Rj",
        "CJPOn-WqXCuM",
        "trQb9Be5XGe7",
        "tuF55r7hXLRT",
        "ZaBD1bLD6kS8",
        "CxmMrZtWXfTj",
        "XePBn6Zwe6SD",
        "Dq4lVVsUXjvL",
        "qa_-oZAwTYR8",
        "Go7oSzpgXoZr",
        "HrqJmWXRTlXs",
        "8VpcFt5mXxGb",
        "MeZ0aoBNTzEj",
        "xQzySzJGYTdz",
        "b4TKUJG4T8DU",
        "aoseJ2aoN0jY",
        "NBMkyZFaUGGr",
        "5U7NwxmYY2XT",
        "u7j3l4avY9Eb",
        "ggunoaLQZANs",
        "XNgufp4nZMza",
        "G5MqjiseZcez",
        "olrRbmpSZlpr",
        "lE3Sxx6BZsrS",
        "5D3ktiHa-j-v",
        "K2ALxcCaaLQd",
        "e6oI5VofQbbR",
        "Cv3RDwLdZswt",
        "_RuzkKWXZuM9",
        "A1lqCvdPa7-q"
      ]
    },
    "kernelspec": {
      "display_name": "Python 3",
      "name": "python3"
    }
  },
  "cells": [
    {
      "cell_type": "markdown",
      "metadata": {
        "id": "e-HN8F8vIE0K"
      },
      "source": [
        "#0.0 IMPORTS"
      ]
    },
    {
      "cell_type": "code",
      "metadata": {
        "id": "v5N9moORvrn1"
      },
      "source": [
        "import warnings\n",
        "import random\n",
        "import requests\n",
        "import json\n",
        "import math\n",
        "import pickle\n",
        "import os\n",
        "\n",
        "import pandas              as pd\n",
        "import numpy               as np\n",
        "import seaborn             as sns\n",
        "import matplotlib.pyplot   as plt\n",
        "import scipy.stats         as stats\n",
        "import xgboost             as xgb\n",
        "\n",
        "from sklearn.preprocessing     import LabelEncoder,RobustScaler,MinMaxScaler\n",
        "from sklearn.ensemble          import RandomForestRegressor,RandomForestClassifier\n",
        "from sklearn.linear_model      import LinearRegression,Lasso,LogisticRegression\n",
        "from tabulate                  import tabulate\n",
        "from IPython.display           import Image\n",
        "from sklearn.model_selection   import train_test_split\n",
        "from sklearn.svm               import SVC,SVR\n",
        "from sklearn                   import tree,metrics\n",
        "from sklearn.neighbors         import KNeighborsClassifier \n",
        "from sklearn.naive_bayes       import GaussianNB,BernoulliNB\n",
        "from flask                     import Flask, request,Response\n",
        "from sklearn.feature_selection import RFE\n",
        "from sklearn.metrics           import roc_curve, auc,accuracy_score\n",
        "from sklearn.metrics           import precision_score, recall_score, f1_score\n",
        "from imblearn.under_sampling   import NearMiss\n",
        "from sklearn.model_selection   import StratifiedKFold,cross_val_predict\n",
        "from sklearn.metrics           import confusion_matrix \n",
        "from sklearn.model_selection   import RandomizedSearchCV\n",
        "\n",
        "warnings.filterwarnings('ignore')\n",
        "\n",
        "pd.set_option('display.float_format', lambda x: '%.2f' % x)"
      ],
      "execution_count": 1,
      "outputs": []
    },
    {
      "cell_type": "markdown",
      "metadata": {
        "id": "0yYvm-LIIUbr"
      },
      "source": [
        "##0.1 Helper Functions"
      ]
    },
    {
      "cell_type": "code",
      "metadata": {
        "id": "1Zhu7iwVFvXO"
      },
      "source": [
        "def split_and_balancing(y,x,response):\n",
        "\n",
        "  #split into train and test\n",
        "  x_train,x_test,y_train,y_test=train_test_split(x,y,test_size=0.3,random_state=2811)\n",
        "\n",
        "  #NearMiss\n",
        "  nr=NearMiss()\n",
        "  x_train_nm,y_train_nm=nr.fit_resample(x_train,y_train)\n",
        "  x_test_nm,y_test_nm=nr.fit_resample(x_test,y_test)\n",
        "\n",
        "  #Concat\n",
        "  aux1=pd.DataFrame(data=x_train_nm,columns=x_train.columns)\n",
        "  aux1[response]=y_train_nm\n",
        "\n",
        "  aux2=pd.DataFrame(data=x_test_nm,columns=x_test.columns)\n",
        "  aux2[response]=y_test_nm\n",
        "\n",
        "  df=pd.concat([aux1,aux2],axis=0)\n",
        "\n",
        "  #split\n",
        "  y=df[response]\n",
        "  x=df.drop([response,'index','Id'],axis=1)\n",
        "\n",
        "  x_train,x_test,y_train,y_test=train_test_split(x,y,test_size=0.3,random_state=2811)\n",
        "\n",
        "  return [x_train,x_test,y_train,y_test]\n",
        "\n",
        "\n",
        "def graph_of_levels(data,feature):\n",
        "\n",
        "  lista=[]\n",
        "  lista2=['medium','high','very_high']\n",
        "\n",
        "  for i in range(0,len(lista2)):\n",
        "\n",
        "    #healthy\n",
        "    aux1=df4[df4[feature]==lista2[i]]\n",
        "    aux2=aux1.shape[0]\n",
        "\n",
        "    #sick\n",
        "    aux3=aux1[aux1['Cardio']=='yes']\n",
        "    aux4=aux3.shape[0]\n",
        "\n",
        "    #percentage\n",
        "    lista.append((aux4/aux2)*100)\n",
        "\n",
        "  labels=lista2\n",
        "  valores=lista\n",
        "\n",
        "  ax=sns.barplot(x=labels, y=valores)\n",
        "  ax.figure.set_size_inches(8,4)\n",
        "  ax.set_title('Percentage of sick people by levels of {}'.format(feature)) \n",
        "   \n",
        "  return ax\n",
        "\n",
        "\n",
        "def numeric_correlation(numerics,data):\n",
        "\n",
        "  columns=numerics.columns\n",
        "  aux=data[columns]\n",
        "\n",
        "  correlation=aux.corr(method='pearson')\n",
        "  ax=sns.heatmap(correlation,annot=True);\n",
        "  ax.figure.set_size_inches(10,5)\n",
        "  ax.set_title('Correlation between numerical features',fontsize=14)\n",
        "\n",
        "  return ax\n",
        "\n",
        "\n",
        "def model_performance(y_test,yhat,name):\n",
        "\n",
        "  dataframe=pd.DataFrame({ 'ModelName':    name,                                                                                                   \n",
        "                           'Precision':    precision_score(y_test,yhat),                           \n",
        "                           'Recall':       recall_score(y_test,yhat),\n",
        "                           'F1Score':      f1_score(y_test,yhat),\n",
        "                           'Accuracy':     accuracy_score(y_test,yhat)\n",
        "                         },index=[0])\n",
        "  return dataframe\n",
        "\n",
        "\n",
        "def cross_validation(data,kfold,model_name,model,variable_response):\n",
        "  \n",
        "  precision_list=[]\n",
        "  f1_score_list=[]\n",
        "  recall_list=[]\n",
        "  accuracy_list=[]\n",
        "  \n",
        "\n",
        "  fim=[]\n",
        "  inicio=[]  \n",
        "  razao=data.index.max()/kfold\n",
        "  for i in range(1,kfold+1):\n",
        "    fim.append(round(razao*i,2))\n",
        "    inicio.append(round((razao*i)-razao,2))\n",
        "\n",
        "  for k in range(0,kfold):\n",
        "\n",
        "    #Start and end  for validation\n",
        "    validation_start=inicio[k]\n",
        "    validation_end=fim[k]\n",
        "\n",
        "    #Filtering in dataset\n",
        "    aux=data[(data.index>=validation_start) & (data.index<=validation_end)]\n",
        "    training=data.drop(aux.index,axis=0)\n",
        "    validation=data[(data.index>=validation_start) & (data.index<=validation_end)]\n",
        "\n",
        "\n",
        "    #Training and validation dataset\n",
        "\n",
        "    #Training\n",
        "    xtraining=training.drop([variable_response],axis=1)\n",
        "    ytraining=training[variable_response]\n",
        "\n",
        "    #Validation\n",
        "    xvalidation=validation.drop([variable_response],axis=1)\n",
        "    yvalidation=validation[variable_response]\n",
        "\n",
        "\n",
        "    #model\n",
        "    m=model.fit(xtraining,ytraining)\n",
        "\n",
        "    #prediction\n",
        "    yhat=m.predict(xvalidation)\n",
        "\n",
        "    performaces=model_performance(yvalidation,yhat,model_name)\n",
        "    \n",
        "    #performance of each KFold iteration\n",
        "    precision_list.append(performaces['Precision'])\n",
        "    f1_score_list.append(performaces['F1Score'])\n",
        "    recall_list.append(performaces['Recall'])\n",
        "    accuracy_list.append(performaces['Accuracy'])\n",
        "    \n",
        "\n",
        "\n",
        "  return pd.DataFrame({ 'ModelName':     model_name,                        \n",
        "                        'PrecisionCV':   np.round(np.mean(precision_list),2).astype(str)+ '+/-' + np.round(np.std(precision_list),2).astype(str),\n",
        "                        'RecallCV':      np.round(np.mean(recall_list),2).astype(str)+ '+/-'    + np.round(np.std(recall_list),2).astype(str),\n",
        "                        'F1ScoreCV':     np.round(np.mean(f1_score_list),2).astype(str)+ '+/-' +  np.round(np.std(f1_score_list),2).astype(str),                        \n",
        "                        'AccuracyCV':    np.round(np.mean(accuracy_list),2).astype(str)+ '+/-' +  np.round(np.std(accuracy_list),2).astype(str)\n",
        "                       \n",
        "                        },index=[0])\n",
        "  \n",
        "\n",
        "def categorical_correlation(data):\n",
        "\n",
        "  #selected\n",
        "  a=data.select_dtypes(include='object')\n",
        "\n",
        "  #list one , all correlations\n",
        "  columns=a.columns\n",
        "  lista=[]\n",
        "  for i2 in range(0,len(columns)):\n",
        "    for i in range(0,len(columns)):\n",
        "      lista.append(cramer_v(a[columns[i2]],a[columns[i]]))\n",
        "\n",
        "  #list two , correlations by features\n",
        "  lista2=[]\n",
        "  n_features=len(columns)\n",
        "  for i in range(0,n_features):\n",
        "\n",
        "    a=n_features*i\n",
        "    b=n_features*(i+1)\n",
        "\n",
        "    lista2.append(lista[a:b])\n",
        "  \n",
        "  return lista2\n",
        "\n",
        "\n",
        "\n",
        "def descriptive_statistics(data):\n",
        "\n",
        "  #selected\n",
        "  num_attributes=data.select_dtypes(include=['int64','float64'])\n",
        "\n",
        "  #Central tendency=mean,median\n",
        "  ct1=pd.DataFrame(num_attributes.apply(np.mean)).T\n",
        "  ct2=pd.DataFrame(num_attributes.apply(np.median)).T\n",
        "\n",
        "  # Dispersion=std,min,max,range,skew,kurtosis\n",
        "  d1=pd.DataFrame(num_attributes.apply(np.std)).T\n",
        "  d2=pd.DataFrame(num_attributes.apply(min)).T\n",
        "  d3=pd.DataFrame(num_attributes.apply(max)).T\n",
        "  d4=pd.DataFrame(num_attributes.apply(lambda x:x.mean()-x.min())).T\n",
        "  d5=pd.DataFrame(num_attributes.apply(lambda x:x.skew())).T\n",
        "  d6=pd.DataFrame(num_attributes.apply(lambda x:x.kurtosis())).T\n",
        "\n",
        "  #Concatenate\n",
        "  aux=pd.concat([d2,d3,d4,ct1,ct2,d1,d5,d6]).T.reset_index()  \n",
        "  aux.columns=(['Attributes','Min','Max','range','Mean','Median','Std','Skew','kurtosis']) \n",
        "\n",
        "  return aux\n",
        "\n",
        "\n",
        "def cramer_v(x,y):\n",
        "  \n",
        "  cm=pd.crosstab(x, y).to_numpy()\n",
        "  n=cm.sum()\n",
        "  r,k=cm.shape\n",
        "  chi2=stats.chi2_contingency(cm)[0]\n",
        "  chi2corr=max(0,chi2-(k-1)*(r-1)/(n-1))\n",
        "  kcorr=k-(k-1)**2/(n-1)\n",
        "  rcorr=r-(r-1)**2/(n-1)\n",
        "\n",
        "  return np.sqrt((chi2corr/n)/(min(kcorr-1,rcorr-1)))\n",
        "\n",
        "\n",
        "def frequency_chart(response,feature2,data):\n",
        "\n",
        "  plt.subplot(1,2,1)\n",
        "  aux=data[data[response]=='yes']\n",
        "  ax=sns.countplot(aux[feature2])\n",
        "  ax.set_title('Healthy')\n",
        "  ax.figure.set_size_inches(8,4)\n",
        "\n",
        "  plt.subplot(1,2,2)\n",
        "  aux=df4[df4[response]=='no']\n",
        "  ax=sns.countplot(aux[feature2])\n",
        "  ax.set_title('Sick')\n",
        "\n",
        "  return ax\n",
        "\n",
        "\n",
        "def plot_numeric_categorical(feature,feature_response,data):\n",
        "  \n",
        "  plt.subplot(2,2,1)\n",
        "  ax=sns.barplot(x=feature_response,y=feature,data=df4)\n",
        "  ax.figure.set_size_inches(12,6)\n",
        "\n",
        "  plt.subplot(2,2,2)\n",
        "  sns.boxplot(x=feature_response,y=feature,data=df4)\n",
        "\n",
        "  plt.subplot(2,2,3)\n",
        "  numeric_categorical(feature,feature_response,df4)\n",
        "\n",
        "  return ax\n",
        "\n",
        "\n",
        "def numeric_categorical(feature,feature_response,data):\n",
        "\n",
        "  aux=data.copy()\n",
        "  aux[feature_response]=aux[feature_response].apply(lambda x: 1 if x=='yes' else 0)\n",
        "  correlation=aux[[feature,feature_response]].corr(method='pearson')\n",
        "  ax=sns.heatmap(correlation,annot=True);\n",
        "\n",
        "  return ax"
      ],
      "execution_count": 2,
      "outputs": []
    },
    {
      "cell_type": "markdown",
      "metadata": {
        "id": "Hhruxo2xIa9g"
      },
      "source": [
        "##0.2 Loading Data"
      ]
    },
    {
      "cell_type": "code",
      "metadata": {
        "id": "zQG4J1MbIbfH",
        "colab": {
          "base_uri": "https://localhost:8080/",
          "height": 206
        },
        "outputId": "9d682b76-84c1-46d1-99c3-32c2ef3588ee"
      },
      "source": [
        "df_raw=pd.read_csv('/content/cardio_train.csv',sep=';')\n",
        "df_raw.head()"
      ],
      "execution_count": 3,
      "outputs": [
        {
          "output_type": "execute_result",
          "data": {
            "text/html": [
              "<div>\n",
              "<style scoped>\n",
              "    .dataframe tbody tr th:only-of-type {\n",
              "        vertical-align: middle;\n",
              "    }\n",
              "\n",
              "    .dataframe tbody tr th {\n",
              "        vertical-align: top;\n",
              "    }\n",
              "\n",
              "    .dataframe thead th {\n",
              "        text-align: right;\n",
              "    }\n",
              "</style>\n",
              "<table border=\"1\" class=\"dataframe\">\n",
              "  <thead>\n",
              "    <tr style=\"text-align: right;\">\n",
              "      <th></th>\n",
              "      <th>id</th>\n",
              "      <th>age</th>\n",
              "      <th>gender</th>\n",
              "      <th>height</th>\n",
              "      <th>weight</th>\n",
              "      <th>ap_hi</th>\n",
              "      <th>ap_lo</th>\n",
              "      <th>cholesterol</th>\n",
              "      <th>gluc</th>\n",
              "      <th>smoke</th>\n",
              "      <th>alco</th>\n",
              "      <th>active</th>\n",
              "      <th>cardio</th>\n",
              "    </tr>\n",
              "  </thead>\n",
              "  <tbody>\n",
              "    <tr>\n",
              "      <th>0</th>\n",
              "      <td>0</td>\n",
              "      <td>18393</td>\n",
              "      <td>2</td>\n",
              "      <td>168</td>\n",
              "      <td>62.00</td>\n",
              "      <td>110</td>\n",
              "      <td>80</td>\n",
              "      <td>1</td>\n",
              "      <td>1</td>\n",
              "      <td>0</td>\n",
              "      <td>0</td>\n",
              "      <td>1</td>\n",
              "      <td>0</td>\n",
              "    </tr>\n",
              "    <tr>\n",
              "      <th>1</th>\n",
              "      <td>1</td>\n",
              "      <td>20228</td>\n",
              "      <td>1</td>\n",
              "      <td>156</td>\n",
              "      <td>85.00</td>\n",
              "      <td>140</td>\n",
              "      <td>90</td>\n",
              "      <td>3</td>\n",
              "      <td>1</td>\n",
              "      <td>0</td>\n",
              "      <td>0</td>\n",
              "      <td>1</td>\n",
              "      <td>1</td>\n",
              "    </tr>\n",
              "    <tr>\n",
              "      <th>2</th>\n",
              "      <td>2</td>\n",
              "      <td>18857</td>\n",
              "      <td>1</td>\n",
              "      <td>165</td>\n",
              "      <td>64.00</td>\n",
              "      <td>130</td>\n",
              "      <td>70</td>\n",
              "      <td>3</td>\n",
              "      <td>1</td>\n",
              "      <td>0</td>\n",
              "      <td>0</td>\n",
              "      <td>0</td>\n",
              "      <td>1</td>\n",
              "    </tr>\n",
              "    <tr>\n",
              "      <th>3</th>\n",
              "      <td>3</td>\n",
              "      <td>17623</td>\n",
              "      <td>2</td>\n",
              "      <td>169</td>\n",
              "      <td>82.00</td>\n",
              "      <td>150</td>\n",
              "      <td>100</td>\n",
              "      <td>1</td>\n",
              "      <td>1</td>\n",
              "      <td>0</td>\n",
              "      <td>0</td>\n",
              "      <td>1</td>\n",
              "      <td>1</td>\n",
              "    </tr>\n",
              "    <tr>\n",
              "      <th>4</th>\n",
              "      <td>4</td>\n",
              "      <td>17474</td>\n",
              "      <td>1</td>\n",
              "      <td>156</td>\n",
              "      <td>56.00</td>\n",
              "      <td>100</td>\n",
              "      <td>60</td>\n",
              "      <td>1</td>\n",
              "      <td>1</td>\n",
              "      <td>0</td>\n",
              "      <td>0</td>\n",
              "      <td>0</td>\n",
              "      <td>0</td>\n",
              "    </tr>\n",
              "  </tbody>\n",
              "</table>\n",
              "</div>"
            ],
            "text/plain": [
              "   id    age  gender  height  weight  ...  gluc  smoke  alco  active  cardio\n",
              "0   0  18393       2     168   62.00  ...     1      0     0       1       0\n",
              "1   1  20228       1     156   85.00  ...     1      0     0       1       1\n",
              "2   2  18857       1     165   64.00  ...     1      0     0       0       1\n",
              "3   3  17623       2     169   82.00  ...     1      0     0       1       1\n",
              "4   4  17474       1     156   56.00  ...     1      0     0       0       0\n",
              "\n",
              "[5 rows x 13 columns]"
            ]
          },
          "metadata": {},
          "execution_count": 3
        }
      ]
    },
    {
      "cell_type": "markdown",
      "metadata": {
        "id": "M0XZw0DHIccA"
      },
      "source": [
        "# 1.0. DESCRIPTION OF THE DATA"
      ]
    },
    {
      "cell_type": "code",
      "metadata": {
        "id": "XdoVIRfrIw-j"
      },
      "source": [
        "df1=df_raw.copy()"
      ],
      "execution_count": 4,
      "outputs": []
    },
    {
      "cell_type": "markdown",
      "metadata": {
        "id": "ucvRcvY6IrH4"
      },
      "source": [
        "##1.1 Rename Columns"
      ]
    },
    {
      "cell_type": "code",
      "metadata": {
        "id": "jGzMfM53L1xQ"
      },
      "source": [
        "columns={  'id':'Id','age':'Age','gender':'Gender','height':'Height',\n",
        "           'weight':'Weight','ap_hi':'ApHi','ap_lo':'ApLo',\n",
        "           'cholesterol':'Cholesterol','gluc':'Gluc','smoke':'Smoke',\n",
        "           'alco':'Alco','active':'Active','cardio':'Cardio'}\n",
        "\n",
        "df1.rename(columns=columns,inplace=True)"
      ],
      "execution_count": 5,
      "outputs": []
    },
    {
      "cell_type": "markdown",
      "metadata": {
        "id": "KgCn8dAOI-aY"
      },
      "source": [
        "##1.2 Data Dimensions"
      ]
    },
    {
      "cell_type": "code",
      "metadata": {
        "id": "gcnarEM4I_AM",
        "colab": {
          "base_uri": "https://localhost:8080/"
        },
        "outputId": "1bccee96-e949-46c4-b2b5-cfd5b5035e5f"
      },
      "source": [
        "print('Number of rows: {}'.format(df1.shape[0]))\n",
        "print('Number of cols: {}'.format(df1.shape[1]))"
      ],
      "execution_count": 6,
      "outputs": [
        {
          "output_type": "stream",
          "name": "stdout",
          "text": [
            "Number of rows: 70000\n",
            "Number of cols: 13\n"
          ]
        }
      ]
    },
    {
      "cell_type": "markdown",
      "metadata": {
        "id": "v8VI0DTjJC2Z"
      },
      "source": [
        "##1.3 Data Types"
      ]
    },
    {
      "cell_type": "code",
      "metadata": {
        "id": "NvykRIwwJDm2",
        "colab": {
          "base_uri": "https://localhost:8080/"
        },
        "outputId": "3d60d5f8-6e24-47e8-f10b-fb07327d433c"
      },
      "source": [
        "df1.dtypes"
      ],
      "execution_count": 7,
      "outputs": [
        {
          "output_type": "execute_result",
          "data": {
            "text/plain": [
              "Id               int64\n",
              "Age              int64\n",
              "Gender           int64\n",
              "Height           int64\n",
              "Weight         float64\n",
              "ApHi             int64\n",
              "ApLo             int64\n",
              "Cholesterol      int64\n",
              "Gluc             int64\n",
              "Smoke            int64\n",
              "Alco             int64\n",
              "Active           int64\n",
              "Cardio           int64\n",
              "dtype: object"
            ]
          },
          "metadata": {},
          "execution_count": 7
        }
      ]
    },
    {
      "cell_type": "markdown",
      "metadata": {
        "id": "wE9ZX6aTJG84"
      },
      "source": [
        "##1.4 Check NA"
      ]
    },
    {
      "cell_type": "code",
      "metadata": {
        "id": "kjnuK3DpJHpG",
        "colab": {
          "base_uri": "https://localhost:8080/"
        },
        "outputId": "e786622a-ca8b-4790-b4a3-9bdff03989e0"
      },
      "source": [
        "df1.isna().sum()"
      ],
      "execution_count": 8,
      "outputs": [
        {
          "output_type": "execute_result",
          "data": {
            "text/plain": [
              "Id             0\n",
              "Age            0\n",
              "Gender         0\n",
              "Height         0\n",
              "Weight         0\n",
              "ApHi           0\n",
              "ApLo           0\n",
              "Cholesterol    0\n",
              "Gluc           0\n",
              "Smoke          0\n",
              "Alco           0\n",
              "Active         0\n",
              "Cardio         0\n",
              "dtype: int64"
            ]
          },
          "metadata": {},
          "execution_count": 8
        }
      ]
    },
    {
      "cell_type": "markdown",
      "metadata": {
        "id": "EUIwEmz2TrdM"
      },
      "source": [
        "##1.5 Change types"
      ]
    },
    {
      "cell_type": "code",
      "metadata": {
        "id": "1bQ1qUSIjuzs"
      },
      "source": [
        "aux=['Gender','Smoke','Alco','Active','Cholesterol','Gluc','Cardio']\n",
        "df1[aux]=df1[aux].astype(str)"
      ],
      "execution_count": 9,
      "outputs": []
    },
    {
      "cell_type": "markdown",
      "metadata": {
        "id": "GpaejhizMc-r"
      },
      "source": [
        "##1.6 Rewriting the variables"
      ]
    },
    {
      "cell_type": "code",
      "metadata": {
        "id": "NeQYOnInM_o6"
      },
      "source": [
        "levels={'1':'medium','2':'high','3':'very_high'} \n",
        "status={'1':'yes','0':'no'}\n",
        "gender={'1':'woman','2':'man'}\n",
        "\n",
        "#Cholesterol\n",
        "df1['Cholesterol']=df1['Cholesterol'].map(levels)\n",
        "\n",
        "#Gluc\n",
        "df1['Gluc']=df1['Gluc'].map(levels)\n",
        "\n",
        "#Smoke\n",
        "df1['Smoke']=df1['Smoke'].map(status)\n",
        "\n",
        "#Alco\n",
        "df1['Alco']=df1['Alco'].map(status)\n",
        "\n",
        "#Active\n",
        "df1['Active']=df1['Active'].map(status)\n",
        "\n",
        "#Cardio\n",
        "df1['Cardio']=df1['Cardio'].map(status)\n",
        "\n",
        "#Gender\n",
        "df1['Gender']=df1['Gender'].map(gender)\n",
        "\n",
        "#Age\n",
        "df1['Age']=df1['Age']/365\n",
        "\n",
        "#Height\n",
        "df1['Height']=df1['Height']/100"
      ],
      "execution_count": 10,
      "outputs": []
    },
    {
      "cell_type": "code",
      "metadata": {
        "id": "JBrp022-ZOCO"
      },
      "source": [
        "#ApHi\n",
        "df1['ApHi']=df1['ApHi'].apply(lambda x: x*(-1) if x<0 else x)\n",
        "df1=df1[df1['ApHi']<200]"
      ],
      "execution_count": 11,
      "outputs": []
    },
    {
      "cell_type": "code",
      "metadata": {
        "id": "FNE30_9pZ4J-"
      },
      "source": [
        "#AApLo\n",
        "df1['ApLo']=df1['ApLo'].apply(lambda x: x*(-1) if x<0 else x)\n",
        "df1=df1[df1['ApLo']<200]"
      ],
      "execution_count": 12,
      "outputs": []
    },
    {
      "cell_type": "code",
      "metadata": {
        "colab": {
          "base_uri": "https://localhost:8080/",
          "height": 296
        },
        "id": "Ww56PGf5YnLW",
        "outputId": "e8ad1720-e011-44f8-9172-0b780794eccf"
      },
      "source": [
        "sns.boxplot(df1['ApLo'])"
      ],
      "execution_count": 13,
      "outputs": [
        {
          "output_type": "execute_result",
          "data": {
            "text/plain": [
              "<matplotlib.axes._subplots.AxesSubplot at 0x7f805a29f0d0>"
            ]
          },
          "metadata": {},
          "execution_count": 13
        },
        {
          "output_type": "display_data",
          "data": {
            "image/png": "[encoded data removed]",
            "text/plain": [
              "<Figure size 432x288 with 1 Axes>"
            ]
          },
          "metadata": {
            "needs_background": "light"
          }
        }
      ]
    },
    {
      "cell_type": "markdown",
      "metadata": {
        "id": "zD9IibEiJScY"
      },
      "source": [
        "##1.7 Descriptive Statistical"
      ]
    },
    {
      "cell_type": "code",
      "metadata": {
        "id": "zloVBKPSJS9-"
      },
      "source": [
        "num_attributes=df1.select_dtypes(include=['int64','float64'])\n",
        "num_attributes.drop(['Id'],axis=1,inplace=True)\n",
        "\n",
        "cat_attributes=df1.select_dtypes(include=['object'])"
      ],
      "execution_count": 14,
      "outputs": []
    },
    {
      "cell_type": "markdown",
      "metadata": {
        "id": "MjhMzg-7JxR6"
      },
      "source": [
        "###1.7.1 Numerical Attributes"
      ]
    },
    {
      "cell_type": "code",
      "metadata": {
        "id": "HUPUx-mIJ09R",
        "colab": {
          "base_uri": "https://localhost:8080/",
          "height": 206
        },
        "outputId": "36dd435b-a8ce-4cba-de99-2c78db809d9f"
      },
      "source": [
        "#Descriptive statistics\n",
        "descriptive_statistics(num_attributes)"
      ],
      "execution_count": 15,
      "outputs": [
        {
          "output_type": "execute_result",
          "data": {
            "text/html": [
              "<div>\n",
              "<style scoped>\n",
              "    .dataframe tbody tr th:only-of-type {\n",
              "        vertical-align: middle;\n",
              "    }\n",
              "\n",
              "    .dataframe tbody tr th {\n",
              "        vertical-align: top;\n",
              "    }\n",
              "\n",
              "    .dataframe thead th {\n",
              "        text-align: right;\n",
              "    }\n",
              "</style>\n",
              "<table border=\"1\" class=\"dataframe\">\n",
              "  <thead>\n",
              "    <tr style=\"text-align: right;\">\n",
              "      <th></th>\n",
              "      <th>Attributes</th>\n",
              "      <th>Min</th>\n",
              "      <th>Max</th>\n",
              "      <th>range</th>\n",
              "      <th>Mean</th>\n",
              "      <th>Median</th>\n",
              "      <th>Std</th>\n",
              "      <th>Skew</th>\n",
              "      <th>kurtosis</th>\n",
              "    </tr>\n",
              "  </thead>\n",
              "  <tbody>\n",
              "    <tr>\n",
              "      <th>0</th>\n",
              "      <td>Age</td>\n",
              "      <td>29.58</td>\n",
              "      <td>64.97</td>\n",
              "      <td>23.74</td>\n",
              "      <td>53.32</td>\n",
              "      <td>53.97</td>\n",
              "      <td>6.76</td>\n",
              "      <td>-0.30</td>\n",
              "      <td>-0.83</td>\n",
              "    </tr>\n",
              "    <tr>\n",
              "      <th>1</th>\n",
              "      <td>Height</td>\n",
              "      <td>0.55</td>\n",
              "      <td>2.50</td>\n",
              "      <td>1.09</td>\n",
              "      <td>1.64</td>\n",
              "      <td>1.65</td>\n",
              "      <td>0.08</td>\n",
              "      <td>-0.65</td>\n",
              "      <td>8.07</td>\n",
              "    </tr>\n",
              "    <tr>\n",
              "      <th>2</th>\n",
              "      <td>Weight</td>\n",
              "      <td>11.00</td>\n",
              "      <td>200.00</td>\n",
              "      <td>63.09</td>\n",
              "      <td>74.09</td>\n",
              "      <td>72.00</td>\n",
              "      <td>14.30</td>\n",
              "      <td>1.00</td>\n",
              "      <td>2.53</td>\n",
              "    </tr>\n",
              "    <tr>\n",
              "      <th>3</th>\n",
              "      <td>ApHi</td>\n",
              "      <td>7.00</td>\n",
              "      <td>197.00</td>\n",
              "      <td>119.15</td>\n",
              "      <td>126.15</td>\n",
              "      <td>120.00</td>\n",
              "      <td>17.33</td>\n",
              "      <td>-0.06</td>\n",
              "      <td>4.98</td>\n",
              "    </tr>\n",
              "    <tr>\n",
              "      <th>4</th>\n",
              "      <td>ApLo</td>\n",
              "      <td>0.00</td>\n",
              "      <td>190.00</td>\n",
              "      <td>81.26</td>\n",
              "      <td>81.26</td>\n",
              "      <td>80.00</td>\n",
              "      <td>9.74</td>\n",
              "      <td>0.27</td>\n",
              "      <td>5.48</td>\n",
              "    </tr>\n",
              "  </tbody>\n",
              "</table>\n",
              "</div>"
            ],
            "text/plain": [
              "  Attributes   Min    Max  range   Mean  Median   Std  Skew  kurtosis\n",
              "0        Age 29.58  64.97  23.74  53.32   53.97  6.76 -0.30     -0.83\n",
              "1     Height  0.55   2.50   1.09   1.64    1.65  0.08 -0.65      8.07\n",
              "2     Weight 11.00 200.00  63.09  74.09   72.00 14.30  1.00      2.53\n",
              "3       ApHi  7.00 197.00 119.15 126.15  120.00 17.33 -0.06      4.98\n",
              "4       ApLo  0.00 190.00  81.26  81.26   80.00  9.74  0.27      5.48"
            ]
          },
          "metadata": {},
          "execution_count": 15
        }
      ]
    },
    {
      "cell_type": "markdown",
      "metadata": {
        "id": "2NLPgZOFKHLI"
      },
      "source": [
        "###1.7.2 Categorical attributes\n"
      ]
    },
    {
      "cell_type": "code",
      "metadata": {
        "id": "BtUghqRXKIFG",
        "colab": {
          "base_uri": "https://localhost:8080/"
        },
        "outputId": "e9f53d3c-ba53-47f6-ec07-e23f7a87eeb0"
      },
      "source": [
        "#number of classes per feature\n",
        "cat_attributes.apply(lambda x: x.unique().shape[0])"
      ],
      "execution_count": 16,
      "outputs": [
        {
          "output_type": "execute_result",
          "data": {
            "text/plain": [
              "Gender         2\n",
              "Cholesterol    3\n",
              "Gluc           3\n",
              "Smoke          2\n",
              "Alco           2\n",
              "Active         2\n",
              "Cardio         2\n",
              "dtype: int64"
            ]
          },
          "metadata": {},
          "execution_count": 16
        }
      ]
    },
    {
      "cell_type": "code",
      "metadata": {
        "id": "FBFfB8S9Knll",
        "colab": {
          "base_uri": "https://localhost:8080/",
          "height": 328
        },
        "outputId": "2f702463-4d8c-44bb-cc70-2ba142b5390e"
      },
      "source": [
        "#Plot of categorical features \n",
        "sick=df1[df1['Cardio']=='yes']\n",
        "columns=cat_attributes.columns[:6]\n",
        "\n",
        "for i in range(0,6):\n",
        "  plt.subplot(2,3,i+1)\n",
        "  ax=sns.countplot(x=columns[i], data=sick)\n",
        "  ax.figure.set_size_inches(16,6)"
      ],
      "execution_count": 17,
      "outputs": [
        {
          "output_type": "display_data",
          "data": {
            "image/png": "[encoded data removed]",
            "text/plain": [
              "<Figure size 1152x432 with 6 Axes>"
            ]
          },
          "metadata": {
            "needs_background": "light"
          }
        }
      ]
    },
    {
      "cell_type": "markdown",
      "metadata": {
        "id": "XzUZ5Z-xK3T_"
      },
      "source": [
        "#2.0. FEATURE ENGINEERING"
      ]
    },
    {
      "cell_type": "code",
      "metadata": {
        "id": "GmZYlduZK34F"
      },
      "source": [
        "df2=df1.copy()"
      ],
      "execution_count": 18,
      "outputs": []
    },
    {
      "cell_type": "markdown",
      "metadata": {
        "id": "XyU-Tah1LRnn"
      },
      "source": [
        "##2.1 Hypothesis mind map"
      ]
    },
    {
      "cell_type": "code",
      "metadata": {
        "id": "4UaC0ZiiLSM8",
        "colab": {
          "base_uri": "https://localhost:8080/",
          "height": 317
        },
        "outputId": "b2f331df-c565-4f22-fe19-7a936cda14ff"
      },
      "source": [
        "Image('/content/Health.png')"
      ],
      "execution_count": 19,
      "outputs": [
        {
          "output_type": "execute_result",
          "data": {
            "image/png": "[encoded data removed]",
            "text/plain": [
              "<IPython.core.display.Image object>"
            ]
          },
          "metadata": {},
          "execution_count": 19
        }
      ]
    },
    {
      "cell_type": "markdown",
      "metadata": {
        "id": "Clp8FrelMYKY"
      },
      "source": [
        "##2.2 Creation of hypotheses"
      ]
    },
    {
      "cell_type": "markdown",
      "metadata": {
        "id": "sH_nWjMBMdAP"
      },
      "source": [
        "### 2.1.1 Habits"
      ]
    },
    {
      "cell_type": "markdown",
      "metadata": {
        "id": "_y63imwMM1qv"
      },
      "source": [
        "**1.** Sportspersons are less prone to heart disease."
      ]
    },
    {
      "cell_type": "markdown",
      "metadata": {
        "id": "HgBtk1VRM9qG"
      },
      "source": [
        "**2.** Smokers are more prone to heart disease."
      ]
    },
    {
      "cell_type": "markdown",
      "metadata": {
        "id": "uJFpQzqMM-PG"
      },
      "source": [
        " **3.** Alcoholic beverage consumers are more prone to heart disease."
      ]
    },
    {
      "cell_type": "markdown",
      "metadata": {
        "id": "MwwsXAvVMhY3"
      },
      "source": [
        "### 2.1.2 Physical properties"
      ]
    },
    {
      "cell_type": "markdown",
      "metadata": {
        "id": "H5i8MLZsNLDw"
      },
      "source": [
        "**1.** Smaller people are more prone to heart disease."
      ]
    },
    {
      "cell_type": "markdown",
      "metadata": {
        "id": "v-ZEFQV3NLDx"
      },
      "source": [
        "**2.** Pessoas com o gênero masculino tem maior propensão a doenças cardíacas."
      ]
    },
    {
      "cell_type": "markdown",
      "metadata": {
        "id": "uuY1r2wLNLDx"
      },
      "source": [
        " **3.** Older people are more prone to heart disease."
      ]
    },
    {
      "cell_type": "markdown",
      "metadata": {
        "id": "crzFtZEsoAm5"
      },
      "source": [
        "**4.** People with high body weight are more prone to heart disease."
      ]
    },
    {
      "cell_type": "markdown",
      "metadata": {
        "id": "S7nqPULlMn53"
      },
      "source": [
        "### 2.1.3 Medical history"
      ]
    },
    {
      "cell_type": "markdown",
      "metadata": {
        "id": "DQ26N_DJNNTE"
      },
      "source": [
        "**1.** People with high cholesterol are more prone to heart disease."
      ]
    },
    {
      "cell_type": "markdown",
      "metadata": {
        "id": "URapvuomNNTF"
      },
      "source": [
        "**2.** People with high systolic blood pressure are more prone to heart disease."
      ]
    },
    {
      "cell_type": "markdown",
      "metadata": {
        "id": "BFqNYezGNNTK"
      },
      "source": [
        " **3.** People with high diastolic blood pressure are more prone to heart disease."
      ]
    },
    {
      "cell_type": "markdown",
      "metadata": {
        "id": "1M7UG3ZNpITh"
      },
      "source": [
        "**4.** People with high blood glucose are more prone to heart disease."
      ]
    },
    {
      "cell_type": "markdown",
      "metadata": {
        "id": "70ED8lTYNcBX"
      },
      "source": [
        "##2.3 Final list of hypotheses"
      ]
    },
    {
      "cell_type": "markdown",
      "metadata": {
        "id": "ZuuvvGj4Nh2m"
      },
      "source": [
        "**H1-**.Players of sports are less prone to heart disease.\n",
        "\n",
        "**H2-**.Smokers are more prone to heart disease.\n",
        "\n",
        "**H3-**.Consumers of alcoholic beverages are more prone to heart disease.\n",
        "\n",
        "**H4-**.People of shorter stature are more prone to heart disease.\n",
        "\n",
        "**H5-**.People with the male gender are more prone to heart disease.\n",
        "\n",
        "**H6-**. People with advanced age are more prone to heart disease.\n",
        "\n",
        "**H7-**.People with high body weight are more prone to heart disease.\n",
        "\n",
        "**H8-**.People with high cholesterol are more prone to heart disease.\n",
        "\n",
        "**H9-**.People with high systolic blood pressure are more prone to heart disease.\n",
        "\n",
        "**H10-**.People with high diastolic blood pressure are more prone to heart disease.\n",
        "\n",
        "**H11-**.People with high glucose are more prone to heart disease."
      ]
    },
    {
      "cell_type": "markdown",
      "metadata": {
        "id": "AVklj13VN6dI"
      },
      "source": [
        "##2.4 Feature Engineering"
      ]
    },
    {
      "cell_type": "code",
      "metadata": {
        "id": "qsduv1pr0sSE"
      },
      "source": [
        "#ApHiLevel\n",
        "df2['ApHiLevel']=df2['ApHi'].apply(lambda x:'level1' if x<80 else 'level2' if (x>=80)&(x<140) else 'level3')\n",
        "\n",
        "#ApLoLevel\n",
        "df2['ApLoLevel']=df2['ApLo'].apply(lambda x:'level1' if x<70 else 'level2' if (x>=75)&(x<100) else 'level3')\n",
        "\n",
        "#WeightLevel\n",
        "df2['WeightLevel']=df2['Weight'].apply(lambda x: 'level1' if x<50 else 'level2'if (x>=50)&(x<=80) else 'level3')\n",
        "\n",
        "#AgeLevel\n",
        "df2['AgeLevel']=df2['Age'].apply(lambda x : 'level1' if x<45 else'level2' if (x>=45)&(x<60) else 'level3')\n",
        "\n",
        "#Imc\n",
        "df2['Imc']=df2['Weight']/(df2['Height']**2)"
      ],
      "execution_count": 20,
      "outputs": []
    },
    {
      "cell_type": "markdown",
      "metadata": {
        "id": "MvaOgZivOibe"
      },
      "source": [
        "#3.0. VARIABLES FILTERING"
      ]
    },
    {
      "cell_type": "code",
      "metadata": {
        "id": "Zc2Z2do8Ok27"
      },
      "source": [
        "df3=df2.copy()"
      ],
      "execution_count": 21,
      "outputs": []
    },
    {
      "cell_type": "markdown",
      "metadata": {
        "id": "lFgdoU1xO-Z-"
      },
      "source": [
        "##3.1. Line Filtering"
      ]
    },
    {
      "cell_type": "code",
      "metadata": {
        "id": "nV0C7fptLZYq"
      },
      "source": [
        "#ApHi\n",
        "aphi_mean=df3['ApHi'].mean()\n",
        "df3['ApHi']=df3['ApHi'].apply(lambda x: aphi_mean if x<100 else  aphi_mean if x>200 else x)\n",
        "\n",
        "#ApLo\n",
        "aplo_mean=df3['ApLo'].mean()\n",
        "df3['ApLo']=df3['ApLo'].apply(lambda x: aplo_mean if x<75 else  aplo_mean if x>100 else x)\n",
        "\n",
        "#Weight\n",
        "weight_mean=df3['Weight'].mean()\n",
        "df3['Weight']=df3['Weight'].apply(lambda x: weight_mean if x<40 else  x)\n",
        "\n",
        "#Height\n",
        "height_mean=df3['Height'].mean()\n",
        "df3['Height']=df3['Height'].apply(lambda x: height_mean if x<1.25  else x)\n",
        "df3=df3.reset_index()"
      ],
      "execution_count": 22,
      "outputs": []
    },
    {
      "cell_type": "markdown",
      "metadata": {
        "id": "sR0iJiLkPN_9"
      },
      "source": [
        "#4.0. EXPLORATORY DATA ANALYSIS"
      ]
    },
    {
      "cell_type": "code",
      "metadata": {
        "id": "u_Lb_BBdPQCD"
      },
      "source": [
        "df4=df3.copy()"
      ],
      "execution_count": 23,
      "outputs": []
    },
    {
      "cell_type": "markdown",
      "metadata": {
        "id": "PAmggbCsPcbd"
      },
      "source": [
        "## 4.1 Univariate Analysis"
      ]
    },
    {
      "cell_type": "markdown",
      "metadata": {
        "id": "qJCVx9icPhqe"
      },
      "source": [
        "###4.1.1. Response Variable"
      ]
    },
    {
      "cell_type": "code",
      "metadata": {
        "id": "mka8XN6PPc_T",
        "colab": {
          "base_uri": "https://localhost:8080/",
          "height": 279
        },
        "outputId": "28fe7c18-dbb0-46a6-c578-4fe60f03712e"
      },
      "source": [
        "ax=sns.countplot(df4['Cardio'])"
      ],
      "execution_count": 24,
      "outputs": [
        {
          "output_type": "display_data",
          "data": {
            "image/png": "[encoded data removed]",
            "text/plain": [
              "<Figure size 432x288 with 1 Axes>"
            ]
          },
          "metadata": {
            "needs_background": "light"
          }
        }
      ]
    },
    {
      "cell_type": "markdown",
      "metadata": {
        "id": "pqPsPzXOPmKu"
      },
      "source": [
        "###4.1.2. Numerical Variable"
      ]
    },
    {
      "cell_type": "code",
      "metadata": {
        "id": "5tdulmzAPmzF",
        "colab": {
          "base_uri": "https://localhost:8080/",
          "height": 404
        },
        "outputId": "49650395-4757-41ab-ba42-17f7b2bf92d2"
      },
      "source": [
        "#plot of numerical features\n",
        "columns=num_attributes.columns\n",
        "\n",
        "for i in range(0,len(columns)):\n",
        "\n",
        "  plt.subplot(len(columns),3,i+1)\n",
        "  ax=sns.distplot(df4[columns[i]])  \n",
        "  ax.figure.set_size_inches(16,20)"
      ],
      "execution_count": 25,
      "outputs": [
        {
          "output_type": "display_data",
          "data": {
            "image/png": "[encoded data removed]",
            "text/plain": [
              "<Figure size 1152x1440 with 5 Axes>"
            ]
          },
          "metadata": {
            "needs_background": "light"
          }
        }
      ]
    },
    {
      "cell_type": "markdown",
      "metadata": {
        "id": "Aga1DnIxSul9"
      },
      "source": [
        "###4.1.3. Categorical Variable"
      ]
    },
    {
      "cell_type": "code",
      "metadata": {
        "id": "Y9zqIuHfSvH2",
        "colab": {
          "base_uri": "https://localhost:8080/",
          "height": 1000
        },
        "outputId": "4b9fb3d4-6df2-4eef-8e59-0c1b34e87a87"
      },
      "source": [
        "sick=df4[df4['Cardio']=='yes']\n",
        "healthy=df4[df4['Cardio']=='no']\n",
        "\n",
        "#Genero\n",
        "plt.subplot(6,2,1)\n",
        "ax=sns.countplot(sick['Gender'])\n",
        "ax.figure.set_size_inches(12,20)\n",
        "\n",
        "plt.subplot(6,2,2)\n",
        "ax=sns.kdeplot(sick[sick['Gender']=='man']['Age'],label='Gender',shade=True)\n",
        "ax=sns.kdeplot(sick[sick['Gender']=='woman']['Age'],label='Gender',shade=True)\n",
        "\n",
        "#Cholesterol\n",
        "plt.subplot(6,2,3)\n",
        "ax=sns.countplot(sick['Cholesterol'])\n",
        "\n",
        "plt.subplot(6,2,4)\n",
        "ax=sns.kdeplot(sick[sick['Cholesterol']=='medium']['Age'],label='Cholesterol',shade=True)\n",
        "ax=sns.kdeplot(sick[sick['Cholesterol']=='high']['Age'],label='Cholesterol',shade=True)\n",
        "ax=sns.kdeplot(sick[sick['Cholesterol']=='very_high']['Age'],label='Cholesterol',shade=True)\n",
        "\n",
        "#Gluc\n",
        "plt.subplot(6,2,5)\n",
        "ax=sns.countplot(sick['Gluc'])\n",
        "\n",
        "plt.subplot(6,2,6)\n",
        "ax=sns.kdeplot(sick[sick['Gluc']=='medium']['Age'],label='Gender',shade=True)\n",
        "ax=sns.kdeplot(sick[sick['Gluc']=='high']['Age'],label='Gender',shade=True)\n",
        "ax=sns.kdeplot(sick[sick['Gluc']=='very_high']['Age'],label='Gender',shade=True)\n",
        "\n",
        "#Smoke\n",
        "plt.subplot(6,2,7)\n",
        "ax=sns.countplot(sick['Smoke'])\n",
        "\n",
        "plt.subplot(6,2,8)\n",
        "ax=sns.kdeplot(sick[sick['Smoke']=='Age']['Age'],label='Age',shade=True)\n",
        "ax=sns.kdeplot(sick[sick['Smoke']=='Age']['Age'],label='Gender',shade=True)\n",
        "\n",
        "#Alco\n",
        "plt.subplot(6,2,9)\n",
        "ax=sns.countplot(sick['Alco'])\n",
        "\n",
        "plt.subplot(6,2,10)\n",
        "ax=sns.kdeplot(sick[sick['Alco']=='yes']['Age'],label='Age',shade=True)\n",
        "ax=sns.kdeplot(sick[sick['Alco']=='no']['Age'],label='Age',shade=True)\n",
        "\n",
        "#Active\n",
        "plt.subplot(6,2,11)\n",
        "ax=sns.countplot(sick['Active'])\n",
        "\n",
        "plt.subplot(6,2,12)\n",
        "ax=sns.kdeplot(sick[sick['Active']=='yes']['Age'],label='Gender',shade=True)\n",
        "ax=sns.kdeplot(sick[sick['Active']=='no']['Age'],label='Gender',shade=True)"
      ],
      "execution_count": 26,
      "outputs": [
        {
          "output_type": "display_data",
          "data": {
            "image/png": "[encoded data removed]",
            "text/plain": [
              "<Figure size 864x1440 with 12 Axes>"
            ]
          },
          "metadata": {
            "needs_background": "light"
          }
        }
      ]
    },
    {
      "cell_type": "markdown",
      "metadata": {
        "id": "VHWqLgWqS9AN"
      },
      "source": [
        "## 4.2 Bivariate Analysis"
      ]
    },
    {
      "cell_type": "markdown",
      "metadata": {
        "id": "sK7v7hDCTEn1"
      },
      "source": [
        "### ***H1***. Players of sports are less prone to heart disease.(False-Low)"
      ]
    },
    {
      "cell_type": "code",
      "metadata": {
        "colab": {
          "base_uri": "https://localhost:8080/",
          "height": 312
        },
        "id": "5CJiyB2pJkP0",
        "outputId": "3082a168-addf-48cb-c173-f30c95d84fdf"
      },
      "source": [
        "frequency_chart('Cardio','Active',df4)"
      ],
      "execution_count": 27,
      "outputs": [
        {
          "output_type": "execute_result",
          "data": {
            "text/plain": [
              "<matplotlib.axes._subplots.AxesSubplot at 0x7f804dee0990>"
            ]
          },
          "metadata": {},
          "execution_count": 27
        },
        {
          "output_type": "display_data",
          "data": {
            "image/png": "[encoded data removed]",
            "text/plain": [
              "<Figure size 576x288 with 2 Axes>"
            ]
          },
          "metadata": {
            "needs_background": "light"
          }
        }
      ]
    },
    {
      "cell_type": "markdown",
      "metadata": {
        "id": "ty4DOZo7TZ9F"
      },
      "source": [
        "### ***H2***. Smokers are more prone to heart disease.(False-Low)\n"
      ]
    },
    {
      "cell_type": "code",
      "metadata": {
        "colab": {
          "base_uri": "https://localhost:8080/",
          "height": 0
        },
        "id": "xM8J0KnqJ9n9",
        "outputId": "b64aeab2-8c0a-4c3c-fee3-422482d6906a"
      },
      "source": [
        "frequency_chart('Cardio','Smoke',df4)"
      ],
      "execution_count": 28,
      "outputs": [
        {
          "output_type": "execute_result",
          "data": {
            "text/plain": [
              "<matplotlib.axes._subplots.AxesSubplot at 0x7f804de171d0>"
            ]
          },
          "metadata": {},
          "execution_count": 28
        },
        {
          "output_type": "display_data",
          "data": {
            "image/png": "[encoded data removed]",
            "text/plain": [
              "<Figure size 576x288 with 2 Axes>"
            ]
          },
          "metadata": {
            "needs_background": "light"
          }
        }
      ]
    },
    {
      "cell_type": "markdown",
      "metadata": {
        "id": "otnAxQ38Tc3N"
      },
      "source": [
        "### ***H3***. Consumers of alcoholic beverages are more prone to heart disease.(FALSE-Low)"
      ]
    },
    {
      "cell_type": "code",
      "metadata": {
        "colab": {
          "base_uri": "https://localhost:8080/",
          "height": 0
        },
        "id": "4L3Jb3IkLJdd",
        "outputId": "5fd5ee94-4d7c-48aa-e385-361455980eb7"
      },
      "source": [
        "frequency_chart('Cardio','Alco',df4)"
      ],
      "execution_count": 29,
      "outputs": [
        {
          "output_type": "execute_result",
          "data": {
            "text/plain": [
              "<matplotlib.axes._subplots.AxesSubplot at 0x7f805a945e90>"
            ]
          },
          "metadata": {},
          "execution_count": 29
        },
        {
          "output_type": "display_data",
          "data": {
            "image/png": "[encoded data removed]",
            "text/plain": [
              "<Figure size 576x288 with 2 Axes>"
            ]
          },
          "metadata": {
            "needs_background": "light"
          }
        }
      ]
    },
    {
      "cell_type": "markdown",
      "metadata": {
        "id": "XncS_BNqTeUd"
      },
      "source": [
        "### ***H4***. People of shorter stature are more prone to heart disease.(FALSE-Low)"
      ]
    },
    {
      "cell_type": "code",
      "metadata": {
        "colab": {
          "base_uri": "https://localhost:8080/",
          "height": 0
        },
        "id": "_iDUQV8PL5Ld",
        "outputId": "ab5f3ee3-a9c0-4210-b7e8-a356230b25cf"
      },
      "source": [
        "plot_numeric_categorical('Height','Cardio',df4)"
      ],
      "execution_count": 30,
      "outputs": [
        {
          "output_type": "execute_result",
          "data": {
            "text/plain": [
              "<matplotlib.axes._subplots.AxesSubplot at 0x7f805a3c1090>"
            ]
          },
          "metadata": {},
          "execution_count": 30
        },
        {
          "output_type": "display_data",
          "data": {
            "image/png": "[encoded data removed]",
            "text/plain": [
              "<Figure size 864x432 with 4 Axes>"
            ]
          },
          "metadata": {
            "needs_background": "light"
          }
        }
      ]
    },
    {
      "cell_type": "markdown",
      "metadata": {
        "id": "yA92tDyiTfbl"
      },
      "source": [
        "### ***H5***. People with the male gender are more prone to heart disease.(FALSE-Low)\n"
      ]
    },
    {
      "cell_type": "code",
      "metadata": {
        "colab": {
          "base_uri": "https://localhost:8080/",
          "height": 0
        },
        "id": "rAvEZy0vPXv3",
        "outputId": "feb8b86d-a776-4e0e-90f7-b993020d9cc0"
      },
      "source": [
        "frequency_chart('Cardio','Gender',df4)"
      ],
      "execution_count": 31,
      "outputs": [
        {
          "output_type": "execute_result",
          "data": {
            "text/plain": [
              "<matplotlib.axes._subplots.AxesSubplot at 0x7f805a483e10>"
            ]
          },
          "metadata": {},
          "execution_count": 31
        },
        {
          "output_type": "display_data",
          "data": {
            "image/png": "[encoded data removed]",
            "text/plain": [
              "<Figure size 576x288 with 2 Axes>"
            ]
          },
          "metadata": {
            "needs_background": "light"
          }
        }
      ]
    },
    {
      "cell_type": "markdown",
      "metadata": {
        "id": "gR45ERX5TkWt"
      },
      "source": [
        "### ***H6***. People with advanced age are more prone to heart disease.(TRUE-Medium)\n"
      ]
    },
    {
      "cell_type": "code",
      "metadata": {
        "colab": {
          "base_uri": "https://localhost:8080/",
          "height": 0
        },
        "id": "BUh5t_rWRU0_",
        "outputId": "1a41b076-8000-440f-a9a3-cfd50b18a581"
      },
      "source": [
        "plot_numeric_categorical('Age','Cardio',df4)"
      ],
      "execution_count": 32,
      "outputs": [
        {
          "output_type": "execute_result",
          "data": {
            "text/plain": [
              "<matplotlib.axes._subplots.AxesSubplot at 0x7f805a940250>"
            ]
          },
          "metadata": {},
          "execution_count": 32
        },
        {
          "output_type": "display_data",
          "data": {
            "image/png": "[encoded data removed]",
            "text/plain": [
              "<Figure size 864x432 with 4 Axes>"
            ]
          },
          "metadata": {
            "needs_background": "light"
          }
        }
      ]
    },
    {
      "cell_type": "markdown",
      "metadata": {
        "id": "07b7kf0eTmHN"
      },
      "source": [
        "### ***H7***. People with high body weight are more prone to heart disease.(TRUE-Low)"
      ]
    },
    {
      "cell_type": "code",
      "metadata": {
        "colab": {
          "base_uri": "https://localhost:8080/",
          "height": 0
        },
        "id": "2A03BtQeR_I3",
        "outputId": "12a2e3b9-5cac-4e44-aba4-25aae1c521a3"
      },
      "source": [
        "plot_numeric_categorical('Weight','Cardio',df4)"
      ],
      "execution_count": 33,
      "outputs": [
        {
          "output_type": "execute_result",
          "data": {
            "text/plain": [
              "<matplotlib.axes._subplots.AxesSubplot at 0x7f805a54b690>"
            ]
          },
          "metadata": {},
          "execution_count": 33
        },
        {
          "output_type": "display_data",
          "data": {
            "image/png": "[encoded data removed]",
            "text/plain": [
              "<Figure size 864x432 with 4 Axes>"
            ]
          },
          "metadata": {
            "needs_background": "light"
          }
        }
      ]
    },
    {
      "cell_type": "markdown",
      "metadata": {
        "id": "5rhg5iwwTnXF"
      },
      "source": [
        "### ***H8***. People with high cholesterol are more prone to heart disease.(TRUE-High)"
      ]
    },
    {
      "cell_type": "code",
      "metadata": {
        "id": "abTiIW7Akx6G",
        "colab": {
          "base_uri": "https://localhost:8080/",
          "height": 0
        },
        "outputId": "dad4867e-0404-4e0b-9bee-0b80ced622a3"
      },
      "source": [
        "#Calculation of the percentage of sick people by cholesterol levels\n",
        "lista=[]\n",
        "lista2=['medium','high','very_high']\n",
        "\n",
        "for i in range(0,len(lista2)):\n",
        "\n",
        "  #healphy\n",
        "  aux1=df4[df4['Cholesterol']==lista2[i]]\n",
        "  aux2=aux1.shape[0]\n",
        "\n",
        "  #sick\n",
        "  aux3=aux1[aux1['Cardio']=='yes']\n",
        "  aux4=aux3.shape[0]\n",
        "\n",
        "  #Percentage\n",
        "  lista.append((aux4/aux2)*100)\n",
        "\n",
        "#plot\n",
        "labels=lista2\n",
        "valores=lista\n",
        "\n",
        "ax=sns.barplot(x=labels, y=valores)\n",
        "ax.figure.set_size_inches(8,4)\n",
        "ax.set_title('Percentage of people sick by cholesterol levels')"
      ],
      "execution_count": 34,
      "outputs": [
        {
          "output_type": "execute_result",
          "data": {
            "text/plain": [
              "Text(0.5, 1.0, 'Percentage of people sick by cholesterol levels')"
            ]
          },
          "metadata": {},
          "execution_count": 34
        },
        {
          "output_type": "display_data",
          "data": {
            "image/png": "[encoded data removed]",
            "text/plain": [
              "<Figure size 576x288 with 1 Axes>"
            ]
          },
          "metadata": {
            "needs_background": "light"
          }
        }
      ]
    },
    {
      "cell_type": "markdown",
      "metadata": {
        "id": "fbWpfZYuTosM"
      },
      "source": [
        "### ***H9***. People with high systolic blood pressure are more prone to heart disease.(TRUE-High)"
      ]
    },
    {
      "cell_type": "code",
      "metadata": {
        "id": "MookZO9ApXYl",
        "colab": {
          "base_uri": "https://localhost:8080/",
          "height": 0
        },
        "outputId": "c4c44a46-059e-405f-914a-aa3b98b57aca"
      },
      "source": [
        "ax=sns.boxplot(x='Cardio', y='ApHi',data=df4)       \n",
        "ax.figure.set_size_inches(8,4) "
      ],
      "execution_count": 35,
      "outputs": [
        {
          "output_type": "display_data",
          "data": {
            "image/png": "[encoded data removed]",
            "text/plain": [
              "<Figure size 576x288 with 1 Axes>"
            ]
          },
          "metadata": {
            "needs_background": "light"
          }
        }
      ]
    },
    {
      "cell_type": "markdown",
      "metadata": {
        "id": "xy1zoWE4TpwM"
      },
      "source": [
        "### ***H10***. People with high diastolic blood pressure are more prone to heart disease.(TRUE-medium)"
      ]
    },
    {
      "cell_type": "code",
      "metadata": {
        "id": "jKrf2doBT03E",
        "colab": {
          "base_uri": "https://localhost:8080/",
          "height": 0
        },
        "outputId": "cc27baac-fec4-454c-c4b3-8bc3f68af7a3"
      },
      "source": [
        "ax=sns.boxplot(x='Cardio', y='ApLo',data=df4)       \n",
        "ax.figure.set_size_inches(8,4) "
      ],
      "execution_count": 36,
      "outputs": [
        {
          "output_type": "display_data",
          "data": {
            "image/png": "[encoded data removed]",
            "text/plain": [
              "<Figure size 576x288 with 1 Axes>"
            ]
          },
          "metadata": {
            "needs_background": "light"
          }
        }
      ]
    },
    {
      "cell_type": "markdown",
      "metadata": {
        "id": "8Yg0gj-HTqx0"
      },
      "source": [
        "### ***H11***. People with high glucose are more prone to heart disease.(TRUE-High)"
      ]
    },
    {
      "cell_type": "code",
      "metadata": {
        "id": "TFn6laBEx5zl",
        "colab": {
          "base_uri": "https://localhost:8080/",
          "height": 0
        },
        "outputId": "9bf1c276-058d-41b5-ae7c-f044c14df21b"
      },
      "source": [
        "graph_of_levels(df4,'Gluc')"
      ],
      "execution_count": 37,
      "outputs": [
        {
          "output_type": "execute_result",
          "data": {
            "text/plain": [
              "<matplotlib.axes._subplots.AxesSubplot at 0x7f804db8ab90>"
            ]
          },
          "metadata": {},
          "execution_count": 37
        },
        {
          "output_type": "display_data",
          "data": {
            "image/png": "[encoded data removed]",
            "text/plain": [
              "<Figure size 576x288 with 1 Axes>"
            ]
          },
          "metadata": {
            "needs_background": "light"
          }
        }
      ]
    },
    {
      "cell_type": "markdown",
      "metadata": {
        "id": "kow0Z9RYUWGD"
      },
      "source": [
        "### 4.2.1 Summary of hypotheses"
      ]
    },
    {
      "cell_type": "code",
      "metadata": {
        "id": "gbslqyTZUXSM",
        "colab": {
          "base_uri": "https://localhost:8080/"
        },
        "outputId": "d4cb83fa-cf4c-4d05-8eec-3f205c47b499"
      },
      "source": [
        "tab=[['Hypotheses','Status'  ,'Relevance'],\n",
        "     ['H1'        ,'False'   ,'low'],\n",
        "     ['H2'        ,'False'   ,'low'],\n",
        "     ['H3'        ,'False'   ,'low'],\n",
        "     ['H4'        ,'False'   ,'low'],\n",
        "     ['H5'        ,'True'    ,'medium'],\n",
        "     ['H6'        ,'True'    ,'low'],\n",
        "     ['H7'        ,'True'    ,'low'],\n",
        "     ['H8'        ,'True'    ,'right'],\n",
        "     ['H9'        ,'True'    ,'right'],\n",
        "     ['H10'       ,'True'    ,'medium'],\n",
        "     ['H11'       ,'True'    ,'high']]\n",
        "\n",
        "print(tabulate(tab,headers='firstrow'))"
      ],
      "execution_count": 38,
      "outputs": [
        {
          "output_type": "stream",
          "name": "stdout",
          "text": [
            "Hypotheses    Status    Relevance\n",
            "------------  --------  -----------\n",
            "H1            False     low\n",
            "H2            False     low\n",
            "H3            False     low\n",
            "H4            False     low\n",
            "H5            True      medium\n",
            "H6            True      low\n",
            "H7            True      low\n",
            "H8            True      right\n",
            "H9            True      right\n",
            "H10           True      medium\n",
            "H11           True      high\n"
          ]
        }
      ]
    },
    {
      "cell_type": "markdown",
      "metadata": {
        "id": "MJOXC0zsUrRs"
      },
      "source": [
        "## 4.3 Multivariate Analysis"
      ]
    },
    {
      "cell_type": "markdown",
      "metadata": {
        "id": "KuLWx92_Uxmk"
      },
      "source": [
        "###4.3.1. Numerical Atributes"
      ]
    },
    {
      "cell_type": "code",
      "metadata": {
        "id": "7MudXpNcm-Z-",
        "colab": {
          "base_uri": "https://localhost:8080/",
          "height": 0
        },
        "outputId": "f22a5eec-4534-4bb2-b4e0-5ef94567639e"
      },
      "source": [
        "numeric_correlation(num_attributes,df4)"
      ],
      "execution_count": 39,
      "outputs": [
        {
          "output_type": "execute_result",
          "data": {
            "text/plain": [
              "<matplotlib.axes._subplots.AxesSubplot at 0x7f805a8b3d10>"
            ]
          },
          "metadata": {},
          "execution_count": 39
        },
        {
          "output_type": "display_data",
          "data": {
            "image/png": "[encoded data removed]",
            "text/plain": [
              "<Figure size 720x360 with 2 Axes>"
            ]
          },
          "metadata": {
            "needs_background": "light"
          }
        }
      ]
    },
    {
      "cell_type": "markdown",
      "metadata": {
        "id": "uOzUB1c4U6_M"
      },
      "source": [
        "###4.3.2. Categorical Atributes"
      ]
    },
    {
      "cell_type": "code",
      "metadata": {
        "id": "5RBcE_Ya1_D9",
        "colab": {
          "base_uri": "https://localhost:8080/",
          "height": 414
        },
        "outputId": "6df14b47-0d3d-41fe-d95e-c082d67b8907"
      },
      "source": [
        "lista=categorical_correlation(df4)\n",
        "\n",
        "d=pd.DataFrame({'Gender':       lista[0],\n",
        "                'Cholesterol':  lista[1],\n",
        "                'Gluc':         lista[2],\n",
        "                'Smoke':        lista[3],\n",
        "                'Alco':         lista[4],\n",
        "                'Active':       lista[5],\n",
        "                'Cardio':       lista[6],\n",
        "                'ApHiLevel':    lista[7],\n",
        "                'ApLoLevel':    lista[8],\n",
        "                'WeightLevel':  lista[9],\n",
        "                'AgeLevel':     lista[10]\n",
        "                })\n",
        "\n",
        "d=d.set_index(d.columns)\n",
        "\n",
        "d"
      ],
      "execution_count": 40,
      "outputs": [
        {
          "output_type": "execute_result",
          "data": {
            "text/html": [
              "<div>\n",
              "<style scoped>\n",
              "    .dataframe tbody tr th:only-of-type {\n",
              "        vertical-align: middle;\n",
              "    }\n",
              "\n",
              "    .dataframe tbody tr th {\n",
              "        vertical-align: top;\n",
              "    }\n",
              "\n",
              "    .dataframe thead th {\n",
              "        text-align: right;\n",
              "    }\n",
              "</style>\n",
              "<table border=\"1\" class=\"dataframe\">\n",
              "  <thead>\n",
              "    <tr style=\"text-align: right;\">\n",
              "      <th></th>\n",
              "      <th>Gender</th>\n",
              "      <th>Cholesterol</th>\n",
              "      <th>Gluc</th>\n",
              "      <th>Smoke</th>\n",
              "      <th>Alco</th>\n",
              "      <th>Active</th>\n",
              "      <th>Cardio</th>\n",
              "      <th>ApHiLevel</th>\n",
              "      <th>ApLoLevel</th>\n",
              "      <th>WeightLevel</th>\n",
              "      <th>AgeLevel</th>\n",
              "    </tr>\n",
              "  </thead>\n",
              "  <tbody>\n",
              "    <tr>\n",
              "      <th>Gender</th>\n",
              "      <td>1.00</td>\n",
              "      <td>0.04</td>\n",
              "      <td>0.02</td>\n",
              "      <td>0.34</td>\n",
              "      <td>0.17</td>\n",
              "      <td>0.00</td>\n",
              "      <td>0.01</td>\n",
              "      <td>0.03</td>\n",
              "      <td>0.05</td>\n",
              "      <td>0.12</td>\n",
              "      <td>0.03</td>\n",
              "    </tr>\n",
              "    <tr>\n",
              "      <th>Cholesterol</th>\n",
              "      <td>0.04</td>\n",
              "      <td>1.00</td>\n",
              "      <td>0.39</td>\n",
              "      <td>0.02</td>\n",
              "      <td>0.04</td>\n",
              "      <td>0.01</td>\n",
              "      <td>0.22</td>\n",
              "      <td>0.13</td>\n",
              "      <td>0.04</td>\n",
              "      <td>0.09</td>\n",
              "      <td>0.09</td>\n",
              "    </tr>\n",
              "    <tr>\n",
              "      <th>Gluc</th>\n",
              "      <td>0.02</td>\n",
              "      <td>0.39</td>\n",
              "      <td>1.00</td>\n",
              "      <td>0.02</td>\n",
              "      <td>0.03</td>\n",
              "      <td>0.01</td>\n",
              "      <td>0.09</td>\n",
              "      <td>0.07</td>\n",
              "      <td>0.02</td>\n",
              "      <td>0.07</td>\n",
              "      <td>0.06</td>\n",
              "    </tr>\n",
              "    <tr>\n",
              "      <th>Smoke</th>\n",
              "      <td>0.34</td>\n",
              "      <td>0.02</td>\n",
              "      <td>0.02</td>\n",
              "      <td>1.00</td>\n",
              "      <td>0.34</td>\n",
              "      <td>0.03</td>\n",
              "      <td>0.02</td>\n",
              "      <td>0.02</td>\n",
              "      <td>0.01</td>\n",
              "      <td>0.06</td>\n",
              "      <td>0.04</td>\n",
              "    </tr>\n",
              "    <tr>\n",
              "      <th>Alco</th>\n",
              "      <td>0.17</td>\n",
              "      <td>0.04</td>\n",
              "      <td>0.03</td>\n",
              "      <td>0.34</td>\n",
              "      <td>1.00</td>\n",
              "      <td>0.03</td>\n",
              "      <td>0.01</td>\n",
              "      <td>0.02</td>\n",
              "      <td>0.01</td>\n",
              "      <td>0.06</td>\n",
              "      <td>0.03</td>\n",
              "    </tr>\n",
              "    <tr>\n",
              "      <th>Active</th>\n",
              "      <td>0.00</td>\n",
              "      <td>0.01</td>\n",
              "      <td>0.01</td>\n",
              "      <td>0.03</td>\n",
              "      <td>0.03</td>\n",
              "      <td>1.00</td>\n",
              "      <td>0.04</td>\n",
              "      <td>0.01</td>\n",
              "      <td>0.01</td>\n",
              "      <td>0.02</td>\n",
              "      <td>0.01</td>\n",
              "    </tr>\n",
              "    <tr>\n",
              "      <th>Cardio</th>\n",
              "      <td>0.01</td>\n",
              "      <td>0.22</td>\n",
              "      <td>0.09</td>\n",
              "      <td>0.02</td>\n",
              "      <td>0.01</td>\n",
              "      <td>0.04</td>\n",
              "      <td>1.00</td>\n",
              "      <td>0.41</td>\n",
              "      <td>0.12</td>\n",
              "      <td>0.15</td>\n",
              "      <td>0.22</td>\n",
              "    </tr>\n",
              "    <tr>\n",
              "      <th>ApHiLevel</th>\n",
              "      <td>0.03</td>\n",
              "      <td>0.13</td>\n",
              "      <td>0.07</td>\n",
              "      <td>0.02</td>\n",
              "      <td>0.02</td>\n",
              "      <td>0.01</td>\n",
              "      <td>0.41</td>\n",
              "      <td>1.00</td>\n",
              "      <td>0.08</td>\n",
              "      <td>0.13</td>\n",
              "      <td>0.10</td>\n",
              "    </tr>\n",
              "    <tr>\n",
              "      <th>ApLoLevel</th>\n",
              "      <td>0.05</td>\n",
              "      <td>0.04</td>\n",
              "      <td>0.02</td>\n",
              "      <td>0.01</td>\n",
              "      <td>0.01</td>\n",
              "      <td>0.01</td>\n",
              "      <td>0.12</td>\n",
              "      <td>0.08</td>\n",
              "      <td>1.00</td>\n",
              "      <td>0.08</td>\n",
              "      <td>0.07</td>\n",
              "    </tr>\n",
              "    <tr>\n",
              "      <th>WeightLevel</th>\n",
              "      <td>0.12</td>\n",
              "      <td>0.09</td>\n",
              "      <td>0.07</td>\n",
              "      <td>0.06</td>\n",
              "      <td>0.06</td>\n",
              "      <td>0.02</td>\n",
              "      <td>0.15</td>\n",
              "      <td>0.13</td>\n",
              "      <td>0.08</td>\n",
              "      <td>1.00</td>\n",
              "      <td>0.03</td>\n",
              "    </tr>\n",
              "    <tr>\n",
              "      <th>AgeLevel</th>\n",
              "      <td>0.03</td>\n",
              "      <td>0.09</td>\n",
              "      <td>0.06</td>\n",
              "      <td>0.04</td>\n",
              "      <td>0.03</td>\n",
              "      <td>0.01</td>\n",
              "      <td>0.22</td>\n",
              "      <td>0.10</td>\n",
              "      <td>0.07</td>\n",
              "      <td>0.03</td>\n",
              "      <td>1.00</td>\n",
              "    </tr>\n",
              "  </tbody>\n",
              "</table>\n",
              "</div>"
            ],
            "text/plain": [
              "             Gender  Cholesterol  Gluc  ...  ApLoLevel  WeightLevel  AgeLevel\n",
              "Gender         1.00         0.04  0.02  ...       0.05         0.12      0.03\n",
              "Cholesterol    0.04         1.00  0.39  ...       0.04         0.09      0.09\n",
              "Gluc           0.02         0.39  1.00  ...       0.02         0.07      0.06\n",
              "Smoke          0.34         0.02  0.02  ...       0.01         0.06      0.04\n",
              "Alco           0.17         0.04  0.03  ...       0.01         0.06      0.03\n",
              "Active         0.00         0.01  0.01  ...       0.01         0.02      0.01\n",
              "Cardio         0.01         0.22  0.09  ...       0.12         0.15      0.22\n",
              "ApHiLevel      0.03         0.13  0.07  ...       0.08         0.13      0.10\n",
              "ApLoLevel      0.05         0.04  0.02  ...       1.00         0.08      0.07\n",
              "WeightLevel    0.12         0.09  0.07  ...       0.08         1.00      0.03\n",
              "AgeLevel       0.03         0.09  0.06  ...       0.07         0.03      1.00\n",
              "\n",
              "[11 rows x 11 columns]"
            ]
          },
          "metadata": {},
          "execution_count": 40
        }
      ]
    },
    {
      "cell_type": "code",
      "metadata": {
        "id": "LiGZnYvlVDrp",
        "colab": {
          "base_uri": "https://localhost:8080/",
          "height": 375
        },
        "outputId": "36eb7ab4-4d91-479c-bef3-fb35bae1763d"
      },
      "source": [
        "#Heatmap\n",
        "ax=sns.heatmap(d,annot=True)\n",
        "ax.figure.set_size_inches(10,5)"
      ],
      "execution_count": 41,
      "outputs": [
        {
          "output_type": "display_data",
          "data": {
            "image/png": "[encoded data removed]",
            "text/plain": [
              "<Figure size 720x360 with 2 Axes>"
            ]
          },
          "metadata": {
            "needs_background": "light"
          }
        }
      ]
    },
    {
      "cell_type": "markdown",
      "metadata": {
        "id": "01iSNySzVJmM"
      },
      "source": [
        "#5.0. DATA PREPARATION"
      ]
    },
    {
      "cell_type": "code",
      "metadata": {
        "id": "NM3kNzKHVKHC"
      },
      "source": [
        "df5=df4.copy()"
      ],
      "execution_count": 42,
      "outputs": []
    },
    {
      "cell_type": "markdown",
      "metadata": {
        "id": "dPeK1w55Vg8E"
      },
      "source": [
        "##5.1. Rescaling"
      ]
    },
    {
      "cell_type": "code",
      "metadata": {
        "id": "f62odEti5o1o",
        "colab": {
          "base_uri": "https://localhost:8080/",
          "height": 0
        },
        "outputId": "b1847400-7abd-4e59-e503-39d6ef3aed3f"
      },
      "source": [
        "#viewing outliers\n",
        "num_attributes=pd.concat([df5[num_attributes.columns],df5['Imc']],axis=1)\n",
        "columns=num_attributes.columns\n",
        "\n",
        "for i in range(0,len(columns)):\n",
        "\n",
        "  plt.subplot(4,2,i+1)\n",
        "  ax=sns.boxplot(num_attributes[columns[i]])\n",
        "  ax.figure.set_size_inches(12,16)"
      ],
      "execution_count": 43,
      "outputs": [
        {
          "output_type": "display_data",
          "data": {
            "image/png": "[encoded data removed]",
            "text/plain": [
              "<Figure size 864x1152 with 6 Axes>"
            ]
          },
          "metadata": {
            "needs_background": "light"
          }
        }
      ]
    },
    {
      "cell_type": "code",
      "metadata": {
        "id": "Lhe3swDPLTKH"
      },
      "source": [
        "mms=MinMaxScaler()\n",
        "rs=RobustScaler()\n",
        "\n",
        "#MinMaxScaler\n",
        "#Age\n",
        "df5['Age']=np.log1p(df5['Age'])\n",
        "\n",
        "\n",
        "#ApLo\n",
        "df5['ApLo']=np.log1p(df5['ApLo'])\n",
        "\n",
        "\n",
        "#RobustScaler\n",
        "#Height\n",
        "df5['Height']=rs.fit_transform(df5[['Height']].values)\n",
        "pickle.dump(rs,open('/content/Height_scaler.pkl','wb'))\n",
        "\n",
        "#Weight\n",
        "df5['Weight']=rs.fit_transform(df5[['Weight']].values)\n",
        "pickle.dump(rs,open('/content/Weight_scaler.pkl','wb'))\n",
        "\n",
        "#ApHi\n",
        "df5['ApHi']=np.log1p(df5['ApHi'])\n",
        "\n",
        "#Imc\n",
        "df5['Imc']=rs.fit_transform(df5[['Imc']].values)\n",
        "pickle.dump(rs,open('/content/Imc_scaler.pkl','wb'))"
      ],
      "execution_count": 44,
      "outputs": []
    },
    {
      "cell_type": "markdown",
      "metadata": {
        "id": "0gLyVzvLVx5E"
      },
      "source": [
        "## 5.2. Transformation"
      ]
    },
    {
      "cell_type": "markdown",
      "metadata": {
        "id": "QO5psljeV2hs"
      },
      "source": [
        "###5.2.1. Encoding"
      ]
    },
    {
      "cell_type": "code",
      "metadata": {
        "id": "0X4mz8ctI5j1"
      },
      "source": [
        "#OneHotEncoder\n",
        "#Gender\n",
        "df5=pd.get_dummies(df5,prefix=['Gender'],columns=['Gender'])\n",
        "\n",
        "#Smoke\n",
        "df5=pd.get_dummies(df5,prefix=['Smoke'],columns=['Smoke'])\n",
        "\n",
        "#Alco\n",
        "df5=pd.get_dummies(df5,prefix=['Alco'],columns=['Alco'])\n",
        "\n",
        "#Active\n",
        "df5=pd.get_dummies(df5,prefix=['Active'],columns=['Active'])\n",
        "\n",
        "#LabelEncoder\n",
        "#Cardio\n",
        "le=LabelEncoder()\n",
        "df5['Cardio']=le.fit_transform(df5['Cardio'])\n",
        "\n",
        "#OrdinalEncoder\n",
        "#Cholesterol\n",
        "assortment_dict={'medium':1,'high':2,'very_high':3}\n",
        "df5['Cholesterol']=df5['Cholesterol'].map(assortment_dict)\n",
        "\n",
        "#Gluc\n",
        "assortment_dict={'medium':1,'high':2,'very_high':3}\n",
        "df5['Gluc']=df5['Gluc'].map(assortment_dict)\n",
        "\n",
        "#ApLoLevel\n",
        "assortment_dict={'level1':1,'level2':2,'level3':3}\n",
        "df5['ApLoLevel']=df5['ApLoLevel'].map(assortment_dict)\n",
        "\n",
        "#WeightLevel\n",
        "assortment_dict={'level1':1,'level2':2,'level3':3}\n",
        "df5['WeightLevel']=df5['WeightLevel'].map(assortment_dict)\n",
        "\n",
        "#AgeLevel\n",
        "assortment_dict={'level1':1,'level2':2,'level3':3}\n",
        "df5['AgeLevel']=df5['AgeLevel'].map(assortment_dict)\n",
        "\n",
        "#ApHiLevel\n",
        "assortment_dict={'level1':1,'level2':2,'level3':3}\n",
        "df5['ApHiLevel']=df5['ApHiLevel'].map(assortment_dict)"
      ],
      "execution_count": 45,
      "outputs": []
    },
    {
      "cell_type": "markdown",
      "metadata": {
        "id": "ib_DOLWtWd-w"
      },
      "source": [
        "#6.0. FEATURE SELECTION"
      ]
    },
    {
      "cell_type": "code",
      "metadata": {
        "id": "pzAXouvnMM-0"
      },
      "source": [
        "df6=df5.copy()"
      ],
      "execution_count": 46,
      "outputs": []
    },
    {
      "cell_type": "code",
      "metadata": {
        "colab": {
          "base_uri": "https://localhost:8080/",
          "height": 0
        },
        "id": "WDSF0suZ38Ws",
        "outputId": "cbe0e429-896d-4dfc-9467-adbb819d2821"
      },
      "source": [
        "df6.head(2)"
      ],
      "execution_count": 47,
      "outputs": [
        {
          "output_type": "execute_result",
          "data": {
            "text/html": [
              "<div>\n",
              "<style scoped>\n",
              "    .dataframe tbody tr th:only-of-type {\n",
              "        vertical-align: middle;\n",
              "    }\n",
              "\n",
              "    .dataframe tbody tr th {\n",
              "        vertical-align: top;\n",
              "    }\n",
              "\n",
              "    .dataframe thead th {\n",
              "        text-align: right;\n",
              "    }\n",
              "</style>\n",
              "<table border=\"1\" class=\"dataframe\">\n",
              "  <thead>\n",
              "    <tr style=\"text-align: right;\">\n",
              "      <th></th>\n",
              "      <th>index</th>\n",
              "      <th>Id</th>\n",
              "      <th>Age</th>\n",
              "      <th>Height</th>\n",
              "      <th>Weight</th>\n",
              "      <th>ApHi</th>\n",
              "      <th>ApLo</th>\n",
              "      <th>Cholesterol</th>\n",
              "      <th>Gluc</th>\n",
              "      <th>Cardio</th>\n",
              "      <th>ApHiLevel</th>\n",
              "      <th>ApLoLevel</th>\n",
              "      <th>WeightLevel</th>\n",
              "      <th>AgeLevel</th>\n",
              "      <th>Imc</th>\n",
              "      <th>Gender_man</th>\n",
              "      <th>Gender_woman</th>\n",
              "      <th>Smoke_no</th>\n",
              "      <th>Smoke_yes</th>\n",
              "      <th>Alco_no</th>\n",
              "      <th>Alco_yes</th>\n",
              "      <th>Active_no</th>\n",
              "      <th>Active_yes</th>\n",
              "    </tr>\n",
              "  </thead>\n",
              "  <tbody>\n",
              "    <tr>\n",
              "      <th>0</th>\n",
              "      <td>0</td>\n",
              "      <td>0</td>\n",
              "      <td>3.94</td>\n",
              "      <td>0.27</td>\n",
              "      <td>-0.59</td>\n",
              "      <td>4.71</td>\n",
              "      <td>4.39</td>\n",
              "      <td>1</td>\n",
              "      <td>1</td>\n",
              "      <td>0</td>\n",
              "      <td>2</td>\n",
              "      <td>2</td>\n",
              "      <td>2</td>\n",
              "      <td>2</td>\n",
              "      <td>-0.70</td>\n",
              "      <td>1</td>\n",
              "      <td>0</td>\n",
              "      <td>1</td>\n",
              "      <td>0</td>\n",
              "      <td>1</td>\n",
              "      <td>0</td>\n",
              "      <td>0</td>\n",
              "      <td>1</td>\n",
              "    </tr>\n",
              "    <tr>\n",
              "      <th>1</th>\n",
              "      <td>1</td>\n",
              "      <td>1</td>\n",
              "      <td>4.03</td>\n",
              "      <td>-0.82</td>\n",
              "      <td>0.76</td>\n",
              "      <td>4.95</td>\n",
              "      <td>4.51</td>\n",
              "      <td>3</td>\n",
              "      <td>1</td>\n",
              "      <td>1</td>\n",
              "      <td>3</td>\n",
              "      <td>2</td>\n",
              "      <td>3</td>\n",
              "      <td>2</td>\n",
              "      <td>1.37</td>\n",
              "      <td>0</td>\n",
              "      <td>1</td>\n",
              "      <td>1</td>\n",
              "      <td>0</td>\n",
              "      <td>1</td>\n",
              "      <td>0</td>\n",
              "      <td>0</td>\n",
              "      <td>1</td>\n",
              "    </tr>\n",
              "  </tbody>\n",
              "</table>\n",
              "</div>"
            ],
            "text/plain": [
              "   index  Id  Age  Height  ...  Alco_no  Alco_yes  Active_no  Active_yes\n",
              "0      0   0 3.94    0.27  ...        1         0          0           1\n",
              "1      1   1 4.03   -0.82  ...        1         0          0           1\n",
              "\n",
              "[2 rows x 23 columns]"
            ]
          },
          "metadata": {},
          "execution_count": 47
        }
      ]
    },
    {
      "cell_type": "markdown",
      "metadata": {
        "id": "HPE4O3ChW3J8"
      },
      "source": [
        "##6.1. Split dataframe into training and test dataset."
      ]
    },
    {
      "cell_type": "code",
      "metadata": {
        "id": "w1HVSJz7Qmr1"
      },
      "source": [
        "df6=df6[df6.index <69500]\n",
        "\n",
        "#Train and test\n",
        "Y_train=df6['Cardio']\n",
        "X_train=df6.drop(['Cardio',],axis=1)\n",
        "x_train,x_test,y_train,y_test=split_and_balancing(Y_train,X_train,'Cardio')\n",
        "\n",
        "#Dataset cross validation\n",
        "aux1=pd.DataFrame(data=y_train,columns=['Cardio'])\n",
        "aux1=pd.concat([x_train,aux1],axis=1)\n",
        "aux2=pd.DataFrame(data=y_test,columns=['Cardio'])\n",
        "aux2=pd.concat([x_test,aux2],axis=1)\n",
        "df6=pd.concat([aux1.reset_index(drop=True), aux2.reset_index(drop=True)], axis= 0)"
      ],
      "execution_count": 48,
      "outputs": []
    },
    {
      "cell_type": "markdown",
      "metadata": {
        "id": "AxbxcTIKW-Rj"
      },
      "source": [
        "##6.2. RFE as feature selector\n"
      ]
    },
    {
      "cell_type": "code",
      "metadata": {
        "id": "s31geH8UW_HL",
        "colab": {
          "base_uri": "https://localhost:8080/",
          "height": 0
        },
        "outputId": "73c77680-4444-4c4b-8125-d59ed9187cf3"
      },
      "source": [
        "'''svr = SVR(kernel=\"linear\")\n",
        "selector = RFE(svr, n_features_to_select=1, step=1).fit(x_train, y_train)'''"
      ],
      "execution_count": 49,
      "outputs": [
        {
          "output_type": "execute_result",
          "data": {
            "application/vnd.google.colaboratory.intrinsic+json": {
              "type": "string"
            },
            "text/plain": [
              "'svr = SVR(kernel=\"linear\")\\nselector = RFE(svr, n_features_to_select=1, step=1).fit(x_train, y_train)'"
            ]
          },
          "metadata": {},
          "execution_count": 49
        }
      ]
    },
    {
      "cell_type": "markdown",
      "metadata": {
        "id": "CJPOn-WqXCuM"
      },
      "source": [
        "##6.2.1. Best Features from RFE"
      ]
    },
    {
      "cell_type": "code",
      "metadata": {
        "colab": {
          "base_uri": "https://localhost:8080/",
          "height": 0
        },
        "id": "VAU3WJb0dDpS",
        "outputId": "06aa6455-dd06-4ec1-f725-f65be78b5655"
      },
      "source": [
        "'''x_train.columns'''"
      ],
      "execution_count": 50,
      "outputs": [
        {
          "output_type": "execute_result",
          "data": {
            "application/vnd.google.colaboratory.intrinsic+json": {
              "type": "string"
            },
            "text/plain": [
              "'x_train.columns'"
            ]
          },
          "metadata": {},
          "execution_count": 50
        }
      ]
    },
    {
      "cell_type": "code",
      "metadata": {
        "id": "OFDZg5VUXDOB",
        "colab": {
          "base_uri": "https://localhost:8080/",
          "height": 0
        },
        "outputId": "db0ae012-8543-4d06-8f82-4edf91b90ccb"
      },
      "source": [
        "'''selector.ranking_'''"
      ],
      "execution_count": 51,
      "outputs": [
        {
          "output_type": "execute_result",
          "data": {
            "application/vnd.google.colaboratory.intrinsic+json": {
              "type": "string"
            },
            "text/plain": [
              "'selector.ranking_'"
            ]
          },
          "metadata": {},
          "execution_count": 51
        }
      ]
    },
    {
      "cell_type": "code",
      "metadata": {
        "id": "b-50QjFhvUcv"
      },
      "source": [
        " #['ApHiLevel','Cholesterol','ApLo','ApHi','AgeLevel','Age']"
      ],
      "execution_count": 52,
      "outputs": []
    },
    {
      "cell_type": "markdown",
      "metadata": {
        "id": "trQb9Be5XGe7"
      },
      "source": [
        "##6.3. Manual Feature selection\n"
      ]
    },
    {
      "cell_type": "code",
      "metadata": {
        "id": "pLCXI4EV9_pB"
      },
      "source": [
        "cols_selected_rfe=['ApHiLevel','Cholesterol','ApLo','ApHi','AgeLevel','Age']\n",
        "\n",
        "#Columns to add\n",
        "feat_to_add=['Cardio']\n",
        "cols_selected_rfe_full=cols_selected_rfe.copy()\n",
        "cols_selected_rfe_full.extend(feat_to_add)"
      ],
      "execution_count": 53,
      "outputs": []
    },
    {
      "cell_type": "markdown",
      "metadata": {
        "id": "tuF55r7hXLRT"
      },
      "source": [
        "#7.0. MACHINE LEARNING MODELLING"
      ]
    },
    {
      "cell_type": "code",
      "metadata": {
        "id": "Nis1hfezXL9M"
      },
      "source": [
        "#Copy\n",
        "df7=df6[cols_selected_rfe_full].copy()\n",
        "\n",
        "#Ativar as colunas \n",
        "x_train=x_train[cols_selected_rfe]\n",
        "x_test=x_test[cols_selected_rfe]"
      ],
      "execution_count": 54,
      "outputs": []
    },
    {
      "cell_type": "markdown",
      "metadata": {
        "id": "ZaBD1bLD6kS8"
      },
      "source": [
        "##7.1. Baseline"
      ]
    },
    {
      "cell_type": "code",
      "metadata": {
        "id": "jTShSAgF6oF6",
        "colab": {
          "base_uri": "https://localhost:8080/",
          "height": 0
        },
        "outputId": "3301f16a-0534-44ea-e516-5e09ea277e72"
      },
      "source": [
        "#Prediction\n",
        "yhat_rendom=np.ones(len(y_test))\n",
        "\n",
        "#Performance\n",
        "baseline_result=model_performance(y_test,yhat_rendom,'Baseline')\n",
        "baseline_result"
      ],
      "execution_count": 55,
      "outputs": [
        {
          "output_type": "execute_result",
          "data": {
            "text/html": [
              "<div>\n",
              "<style scoped>\n",
              "    .dataframe tbody tr th:only-of-type {\n",
              "        vertical-align: middle;\n",
              "    }\n",
              "\n",
              "    .dataframe tbody tr th {\n",
              "        vertical-align: top;\n",
              "    }\n",
              "\n",
              "    .dataframe thead th {\n",
              "        text-align: right;\n",
              "    }\n",
              "</style>\n",
              "<table border=\"1\" class=\"dataframe\">\n",
              "  <thead>\n",
              "    <tr style=\"text-align: right;\">\n",
              "      <th></th>\n",
              "      <th>ModelName</th>\n",
              "      <th>Precision</th>\n",
              "      <th>Recall</th>\n",
              "      <th>F1Score</th>\n",
              "      <th>Accuracy</th>\n",
              "    </tr>\n",
              "  </thead>\n",
              "  <tbody>\n",
              "    <tr>\n",
              "      <th>0</th>\n",
              "      <td>Baseline</td>\n",
              "      <td>0.50</td>\n",
              "      <td>1.00</td>\n",
              "      <td>0.66</td>\n",
              "      <td>0.50</td>\n",
              "    </tr>\n",
              "  </tbody>\n",
              "</table>\n",
              "</div>"
            ],
            "text/plain": [
              "  ModelName  Precision  Recall  F1Score  Accuracy\n",
              "0  Baseline       0.50    1.00     0.66      0.50"
            ]
          },
          "metadata": {},
          "execution_count": 55
        }
      ]
    },
    {
      "cell_type": "markdown",
      "metadata": {
        "id": "CxmMrZtWXfTj"
      },
      "source": [
        "##7.2. SVM"
      ]
    },
    {
      "cell_type": "code",
      "metadata": {
        "id": "9yjxM_AViX9t",
        "colab": {
          "base_uri": "https://localhost:8080/",
          "height": 0
        },
        "outputId": "a5ab1eac-19e8-4671-e94b-baadc6f02c47"
      },
      "source": [
        "#Model\n",
        "svc = SVC(gamma=\"auto\")\n",
        "svc_train=svc.fit(x_train,y_train)\n",
        "\n",
        "#Prediction\n",
        "yhat_svc=svc_train.predict(x_test)\n",
        "\n",
        "#Performance\n",
        "svc_result=model_performance(y_test,yhat_svc,'SVM')\n",
        "svc_result"
      ],
      "execution_count": 56,
      "outputs": [
        {
          "output_type": "execute_result",
          "data": {
            "text/html": [
              "<div>\n",
              "<style scoped>\n",
              "    .dataframe tbody tr th:only-of-type {\n",
              "        vertical-align: middle;\n",
              "    }\n",
              "\n",
              "    .dataframe tbody tr th {\n",
              "        vertical-align: top;\n",
              "    }\n",
              "\n",
              "    .dataframe thead th {\n",
              "        text-align: right;\n",
              "    }\n",
              "</style>\n",
              "<table border=\"1\" class=\"dataframe\">\n",
              "  <thead>\n",
              "    <tr style=\"text-align: right;\">\n",
              "      <th></th>\n",
              "      <th>ModelName</th>\n",
              "      <th>Precision</th>\n",
              "      <th>Recall</th>\n",
              "      <th>F1Score</th>\n",
              "      <th>Accuracy</th>\n",
              "    </tr>\n",
              "  </thead>\n",
              "  <tbody>\n",
              "    <tr>\n",
              "      <th>0</th>\n",
              "      <td>SVM</td>\n",
              "      <td>0.75</td>\n",
              "      <td>0.65</td>\n",
              "      <td>0.70</td>\n",
              "      <td>0.72</td>\n",
              "    </tr>\n",
              "  </tbody>\n",
              "</table>\n",
              "</div>"
            ],
            "text/plain": [
              "  ModelName  Precision  Recall  F1Score  Accuracy\n",
              "0       SVM       0.75    0.65     0.70      0.72"
            ]
          },
          "metadata": {},
          "execution_count": 56
        }
      ]
    },
    {
      "cell_type": "markdown",
      "metadata": {
        "id": "XePBn6Zwe6SD"
      },
      "source": [
        "###7.2.1 SVM cross validation"
      ]
    },
    {
      "cell_type": "code",
      "metadata": {
        "id": "vQ9HqjnffLhA",
        "colab": {
          "base_uri": "https://localhost:8080/",
          "height": 0
        },
        "outputId": "ef241897-fcd6-49fc-ba1d-960efe88482a"
      },
      "source": [
        "svc_result_cv=cross_validation(df7,5,'SVM',svc,'Cardio')\n",
        "svc_result_cv"
      ],
      "execution_count": 57,
      "outputs": [
        {
          "output_type": "execute_result",
          "data": {
            "text/html": [
              "<div>\n",
              "<style scoped>\n",
              "    .dataframe tbody tr th:only-of-type {\n",
              "        vertical-align: middle;\n",
              "    }\n",
              "\n",
              "    .dataframe tbody tr th {\n",
              "        vertical-align: top;\n",
              "    }\n",
              "\n",
              "    .dataframe thead th {\n",
              "        text-align: right;\n",
              "    }\n",
              "</style>\n",
              "<table border=\"1\" class=\"dataframe\">\n",
              "  <thead>\n",
              "    <tr style=\"text-align: right;\">\n",
              "      <th></th>\n",
              "      <th>ModelName</th>\n",
              "      <th>PrecisionCV</th>\n",
              "      <th>RecallCV</th>\n",
              "      <th>F1ScoreCV</th>\n",
              "      <th>AccuracyCV</th>\n",
              "    </tr>\n",
              "  </thead>\n",
              "  <tbody>\n",
              "    <tr>\n",
              "      <th>0</th>\n",
              "      <td>SVM</td>\n",
              "      <td>0.75+/-0.0</td>\n",
              "      <td>0.65+/-0.0</td>\n",
              "      <td>0.7+/-0.0</td>\n",
              "      <td>0.72+/-0.0</td>\n",
              "    </tr>\n",
              "  </tbody>\n",
              "</table>\n",
              "</div>"
            ],
            "text/plain": [
              "  ModelName PrecisionCV    RecallCV  F1ScoreCV  AccuracyCV\n",
              "0       SVM  0.75+/-0.0  0.65+/-0.0  0.7+/-0.0  0.72+/-0.0"
            ]
          },
          "metadata": {},
          "execution_count": 57
        }
      ]
    },
    {
      "cell_type": "markdown",
      "metadata": {
        "id": "Dq4lVVsUXjvL"
      },
      "source": [
        "##7.3. Random Forest Classifier"
      ]
    },
    {
      "cell_type": "code",
      "metadata": {
        "id": "kQlCxSdQvpJM",
        "colab": {
          "base_uri": "https://localhost:8080/",
          "height": 0
        },
        "outputId": "1c856886-6370-43d8-af0c-07095f20a316"
      },
      "source": [
        "#Model\n",
        "rfc=RandomForestClassifier(max_depth=2, random_state=0)\n",
        "rfc_train=rfc.fit(x_train,y_train)\n",
        "\n",
        "#Predict\n",
        "yhat_rfc=rfc_train.predict(x_test)\n",
        "\n",
        "#Performance\n",
        "rfc_result=model_performance(y_test,yhat_rfc,'RandomForestClassifier')\n",
        "rfc_result"
      ],
      "execution_count": 58,
      "outputs": [
        {
          "output_type": "execute_result",
          "data": {
            "text/html": [
              "<div>\n",
              "<style scoped>\n",
              "    .dataframe tbody tr th:only-of-type {\n",
              "        vertical-align: middle;\n",
              "    }\n",
              "\n",
              "    .dataframe tbody tr th {\n",
              "        vertical-align: top;\n",
              "    }\n",
              "\n",
              "    .dataframe thead th {\n",
              "        text-align: right;\n",
              "    }\n",
              "</style>\n",
              "<table border=\"1\" class=\"dataframe\">\n",
              "  <thead>\n",
              "    <tr style=\"text-align: right;\">\n",
              "      <th></th>\n",
              "      <th>ModelName</th>\n",
              "      <th>Precision</th>\n",
              "      <th>Recall</th>\n",
              "      <th>F1Score</th>\n",
              "      <th>Accuracy</th>\n",
              "    </tr>\n",
              "  </thead>\n",
              "  <tbody>\n",
              "    <tr>\n",
              "      <th>0</th>\n",
              "      <td>RandomForestClassifier</td>\n",
              "      <td>0.78</td>\n",
              "      <td>0.61</td>\n",
              "      <td>0.69</td>\n",
              "      <td>0.72</td>\n",
              "    </tr>\n",
              "  </tbody>\n",
              "</table>\n",
              "</div>"
            ],
            "text/plain": [
              "                ModelName  Precision  Recall  F1Score  Accuracy\n",
              "0  RandomForestClassifier       0.78    0.61     0.69      0.72"
            ]
          },
          "metadata": {},
          "execution_count": 58
        }
      ]
    },
    {
      "cell_type": "markdown",
      "metadata": {
        "id": "qa_-oZAwTYR8"
      },
      "source": [
        "###7.3.1 Random Forest Classifier cross validation"
      ]
    },
    {
      "cell_type": "code",
      "metadata": {
        "id": "hpfESilpjBR9",
        "colab": {
          "base_uri": "https://localhost:8080/",
          "height": 0
        },
        "outputId": "b8f78436-8c83-4769-8cc8-4103fd1a4867"
      },
      "source": [
        "rfc_result_cv=cross_validation(df7,5,'RandomForestClassifier',rfc,'Cardio')\n",
        "rfc_result_cv"
      ],
      "execution_count": 59,
      "outputs": [
        {
          "output_type": "execute_result",
          "data": {
            "text/html": [
              "<div>\n",
              "<style scoped>\n",
              "    .dataframe tbody tr th:only-of-type {\n",
              "        vertical-align: middle;\n",
              "    }\n",
              "\n",
              "    .dataframe tbody tr th {\n",
              "        vertical-align: top;\n",
              "    }\n",
              "\n",
              "    .dataframe thead th {\n",
              "        text-align: right;\n",
              "    }\n",
              "</style>\n",
              "<table border=\"1\" class=\"dataframe\">\n",
              "  <thead>\n",
              "    <tr style=\"text-align: right;\">\n",
              "      <th></th>\n",
              "      <th>ModelName</th>\n",
              "      <th>PrecisionCV</th>\n",
              "      <th>RecallCV</th>\n",
              "      <th>F1ScoreCV</th>\n",
              "      <th>AccuracyCV</th>\n",
              "    </tr>\n",
              "  </thead>\n",
              "  <tbody>\n",
              "    <tr>\n",
              "      <th>0</th>\n",
              "      <td>RandomForestClassifier</td>\n",
              "      <td>0.78+/-0.01</td>\n",
              "      <td>0.61+/-0.0</td>\n",
              "      <td>0.69+/-0.0</td>\n",
              "      <td>0.72+/-0.0</td>\n",
              "    </tr>\n",
              "  </tbody>\n",
              "</table>\n",
              "</div>"
            ],
            "text/plain": [
              "                ModelName  PrecisionCV    RecallCV   F1ScoreCV  AccuracyCV\n",
              "0  RandomForestClassifier  0.78+/-0.01  0.61+/-0.0  0.69+/-0.0  0.72+/-0.0"
            ]
          },
          "metadata": {},
          "execution_count": 59
        }
      ]
    },
    {
      "cell_type": "markdown",
      "metadata": {
        "id": "Go7oSzpgXoZr"
      },
      "source": [
        "##7.4. Logistic Regression"
      ]
    },
    {
      "cell_type": "code",
      "metadata": {
        "id": "5kyznuE8Xo46",
        "colab": {
          "base_uri": "https://localhost:8080/",
          "height": 0
        },
        "outputId": "74f7a5e6-bb7e-4dc9-9262-320e365721be"
      },
      "source": [
        "#Model\n",
        "lr= LogisticRegression(random_state=0)\n",
        "lr_train=lr.fit(x_train,y_train)\n",
        "\n",
        "#Predict\n",
        "yhat_lr=lr_train.predict(x_test)\n",
        "\n",
        "#Performance\n",
        "lr_result=model_performance(y_test,yhat_lr,'Logistic Regression')\n",
        "lr_result"
      ],
      "execution_count": 60,
      "outputs": [
        {
          "output_type": "execute_result",
          "data": {
            "text/html": [
              "<div>\n",
              "<style scoped>\n",
              "    .dataframe tbody tr th:only-of-type {\n",
              "        vertical-align: middle;\n",
              "    }\n",
              "\n",
              "    .dataframe tbody tr th {\n",
              "        vertical-align: top;\n",
              "    }\n",
              "\n",
              "    .dataframe thead th {\n",
              "        text-align: right;\n",
              "    }\n",
              "</style>\n",
              "<table border=\"1\" class=\"dataframe\">\n",
              "  <thead>\n",
              "    <tr style=\"text-align: right;\">\n",
              "      <th></th>\n",
              "      <th>ModelName</th>\n",
              "      <th>Precision</th>\n",
              "      <th>Recall</th>\n",
              "      <th>F1Score</th>\n",
              "      <th>Accuracy</th>\n",
              "    </tr>\n",
              "  </thead>\n",
              "  <tbody>\n",
              "    <tr>\n",
              "      <th>0</th>\n",
              "      <td>Logistic Regression</td>\n",
              "      <td>0.78</td>\n",
              "      <td>0.62</td>\n",
              "      <td>0.69</td>\n",
              "      <td>0.73</td>\n",
              "    </tr>\n",
              "  </tbody>\n",
              "</table>\n",
              "</div>"
            ],
            "text/plain": [
              "             ModelName  Precision  Recall  F1Score  Accuracy\n",
              "0  Logistic Regression       0.78    0.62     0.69      0.73"
            ]
          },
          "metadata": {},
          "execution_count": 60
        }
      ]
    },
    {
      "cell_type": "markdown",
      "metadata": {
        "id": "HrqJmWXRTlXs"
      },
      "source": [
        "###7.4.1 Logistic Regression cross validation"
      ]
    },
    {
      "cell_type": "code",
      "metadata": {
        "id": "OKwD4bE9jg3n",
        "colab": {
          "base_uri": "https://localhost:8080/",
          "height": 0
        },
        "outputId": "b0a8bb12-5c50-4bd3-98b7-654e236c9537"
      },
      "source": [
        "lr_result_cv=cross_validation(df7,5,'Logistic Regression',lr,'Cardio')\n",
        "lr_result_cv"
      ],
      "execution_count": 61,
      "outputs": [
        {
          "output_type": "execute_result",
          "data": {
            "text/html": [
              "<div>\n",
              "<style scoped>\n",
              "    .dataframe tbody tr th:only-of-type {\n",
              "        vertical-align: middle;\n",
              "    }\n",
              "\n",
              "    .dataframe tbody tr th {\n",
              "        vertical-align: top;\n",
              "    }\n",
              "\n",
              "    .dataframe thead th {\n",
              "        text-align: right;\n",
              "    }\n",
              "</style>\n",
              "<table border=\"1\" class=\"dataframe\">\n",
              "  <thead>\n",
              "    <tr style=\"text-align: right;\">\n",
              "      <th></th>\n",
              "      <th>ModelName</th>\n",
              "      <th>PrecisionCV</th>\n",
              "      <th>RecallCV</th>\n",
              "      <th>F1ScoreCV</th>\n",
              "      <th>AccuracyCV</th>\n",
              "    </tr>\n",
              "  </thead>\n",
              "  <tbody>\n",
              "    <tr>\n",
              "      <th>0</th>\n",
              "      <td>Logistic Regression</td>\n",
              "      <td>0.78+/-0.0</td>\n",
              "      <td>0.62+/-0.0</td>\n",
              "      <td>0.69+/-0.0</td>\n",
              "      <td>0.72+/-0.0</td>\n",
              "    </tr>\n",
              "  </tbody>\n",
              "</table>\n",
              "</div>"
            ],
            "text/plain": [
              "             ModelName PrecisionCV    RecallCV   F1ScoreCV  AccuracyCV\n",
              "0  Logistic Regression  0.78+/-0.0  0.62+/-0.0  0.69+/-0.0  0.72+/-0.0"
            ]
          },
          "metadata": {},
          "execution_count": 61
        }
      ]
    },
    {
      "cell_type": "markdown",
      "metadata": {
        "id": "8VpcFt5mXxGb"
      },
      "source": [
        "##7.5. KNeighbors Classifier \n"
      ]
    },
    {
      "cell_type": "code",
      "metadata": {
        "id": "p7iDjVJ8XyDh",
        "colab": {
          "base_uri": "https://localhost:8080/",
          "height": 0
        },
        "outputId": "2bdca4bc-6a18-4b6f-e00f-c4703354cf3e"
      },
      "source": [
        "#Model\n",
        "knn = KNeighborsClassifier(n_neighbors=5)\n",
        "knn_train=knn.fit(x_train,y_train)\n",
        "\n",
        "#Prediction\n",
        "yhat_knn=knn_train.predict(x_test)\n",
        "\n",
        "#Performance\n",
        "knn_result=model_performance(y_test,yhat_knn,'KNeighbors Classifier')\n",
        "knn_result"
      ],
      "execution_count": 62,
      "outputs": [
        {
          "output_type": "execute_result",
          "data": {
            "text/html": [
              "<div>\n",
              "<style scoped>\n",
              "    .dataframe tbody tr th:only-of-type {\n",
              "        vertical-align: middle;\n",
              "    }\n",
              "\n",
              "    .dataframe tbody tr th {\n",
              "        vertical-align: top;\n",
              "    }\n",
              "\n",
              "    .dataframe thead th {\n",
              "        text-align: right;\n",
              "    }\n",
              "</style>\n",
              "<table border=\"1\" class=\"dataframe\">\n",
              "  <thead>\n",
              "    <tr style=\"text-align: right;\">\n",
              "      <th></th>\n",
              "      <th>ModelName</th>\n",
              "      <th>Precision</th>\n",
              "      <th>Recall</th>\n",
              "      <th>F1Score</th>\n",
              "      <th>Accuracy</th>\n",
              "    </tr>\n",
              "  </thead>\n",
              "  <tbody>\n",
              "    <tr>\n",
              "      <th>0</th>\n",
              "      <td>KNeighbors Classifier</td>\n",
              "      <td>0.69</td>\n",
              "      <td>0.69</td>\n",
              "      <td>0.69</td>\n",
              "      <td>0.70</td>\n",
              "    </tr>\n",
              "  </tbody>\n",
              "</table>\n",
              "</div>"
            ],
            "text/plain": [
              "               ModelName  Precision  Recall  F1Score  Accuracy\n",
              "0  KNeighbors Classifier       0.69    0.69     0.69      0.70"
            ]
          },
          "metadata": {},
          "execution_count": 62
        }
      ]
    },
    {
      "cell_type": "markdown",
      "metadata": {
        "id": "MeZ0aoBNTzEj"
      },
      "source": [
        "###7.5.1 KNeighbors Classifier cross validation"
      ]
    },
    {
      "cell_type": "code",
      "metadata": {
        "id": "9HcT3m-1jqbo",
        "colab": {
          "base_uri": "https://localhost:8080/",
          "height": 0
        },
        "outputId": "572c93d6-3ee3-4227-9ade-713e34160090"
      },
      "source": [
        "knn_result_cv=cross_validation(df7,5,'KNeighbors Classifier',knn,'Cardio')\n",
        "knn_result_cv"
      ],
      "execution_count": 63,
      "outputs": [
        {
          "output_type": "execute_result",
          "data": {
            "text/html": [
              "<div>\n",
              "<style scoped>\n",
              "    .dataframe tbody tr th:only-of-type {\n",
              "        vertical-align: middle;\n",
              "    }\n",
              "\n",
              "    .dataframe tbody tr th {\n",
              "        vertical-align: top;\n",
              "    }\n",
              "\n",
              "    .dataframe thead th {\n",
              "        text-align: right;\n",
              "    }\n",
              "</style>\n",
              "<table border=\"1\" class=\"dataframe\">\n",
              "  <thead>\n",
              "    <tr style=\"text-align: right;\">\n",
              "      <th></th>\n",
              "      <th>ModelName</th>\n",
              "      <th>PrecisionCV</th>\n",
              "      <th>RecallCV</th>\n",
              "      <th>F1ScoreCV</th>\n",
              "      <th>AccuracyCV</th>\n",
              "    </tr>\n",
              "  </thead>\n",
              "  <tbody>\n",
              "    <tr>\n",
              "      <th>0</th>\n",
              "      <td>KNeighbors Classifier</td>\n",
              "      <td>0.7+/-0.0</td>\n",
              "      <td>0.68+/-0.0</td>\n",
              "      <td>0.69+/-0.0</td>\n",
              "      <td>0.69+/-0.0</td>\n",
              "    </tr>\n",
              "  </tbody>\n",
              "</table>\n",
              "</div>"
            ],
            "text/plain": [
              "               ModelName PrecisionCV    RecallCV   F1ScoreCV  AccuracyCV\n",
              "0  KNeighbors Classifier   0.7+/-0.0  0.68+/-0.0  0.69+/-0.0  0.69+/-0.0"
            ]
          },
          "metadata": {},
          "execution_count": 63
        }
      ]
    },
    {
      "cell_type": "markdown",
      "metadata": {
        "id": "xQzySzJGYTdz"
      },
      "source": [
        "##7.6. Naive Bayes Gaussian"
      ]
    },
    {
      "cell_type": "code",
      "metadata": {
        "id": "Wc1rnO30YJEp",
        "colab": {
          "base_uri": "https://localhost:8080/",
          "height": 0
        },
        "outputId": "4ff6d730-da4a-48bf-c375-2c3de4a3aeae"
      },
      "source": [
        "#Model\n",
        "gau = GaussianNB()\n",
        "gau_train=gau.fit(x_train,y_train)\n",
        "\n",
        "#Prediction\n",
        "yhat_gau=gau_train.predict(x_test)\n",
        "\n",
        "#Performance\n",
        "gau_result=model_performance(y_test,yhat_gau,'Naive Bayes Gaussian')\n",
        "gau_result"
      ],
      "execution_count": 64,
      "outputs": [
        {
          "output_type": "execute_result",
          "data": {
            "text/html": [
              "<div>\n",
              "<style scoped>\n",
              "    .dataframe tbody tr th:only-of-type {\n",
              "        vertical-align: middle;\n",
              "    }\n",
              "\n",
              "    .dataframe tbody tr th {\n",
              "        vertical-align: top;\n",
              "    }\n",
              "\n",
              "    .dataframe thead th {\n",
              "        text-align: right;\n",
              "    }\n",
              "</style>\n",
              "<table border=\"1\" class=\"dataframe\">\n",
              "  <thead>\n",
              "    <tr style=\"text-align: right;\">\n",
              "      <th></th>\n",
              "      <th>ModelName</th>\n",
              "      <th>Precision</th>\n",
              "      <th>Recall</th>\n",
              "      <th>F1Score</th>\n",
              "      <th>Accuracy</th>\n",
              "    </tr>\n",
              "  </thead>\n",
              "  <tbody>\n",
              "    <tr>\n",
              "      <th>0</th>\n",
              "      <td>Naive Bayes Gaussian</td>\n",
              "      <td>0.79</td>\n",
              "      <td>0.60</td>\n",
              "      <td>0.68</td>\n",
              "      <td>0.72</td>\n",
              "    </tr>\n",
              "  </tbody>\n",
              "</table>\n",
              "</div>"
            ],
            "text/plain": [
              "              ModelName  Precision  Recall  F1Score  Accuracy\n",
              "0  Naive Bayes Gaussian       0.79    0.60     0.68      0.72"
            ]
          },
          "metadata": {},
          "execution_count": 64
        }
      ]
    },
    {
      "cell_type": "markdown",
      "metadata": {
        "id": "b4TKUJG4T8DU"
      },
      "source": [
        "###7.6.1 Naive Bayes Gaussian cross validation"
      ]
    },
    {
      "cell_type": "code",
      "metadata": {
        "id": "7k7jWGcNj8ff",
        "colab": {
          "base_uri": "https://localhost:8080/",
          "height": 0
        },
        "outputId": "b72fe9eb-610b-496f-d2f6-d22692283fbd"
      },
      "source": [
        "gau_result_cv=cross_validation(df7,5,'Naive Bayes Gaussian',gau,'Cardio')\n",
        "gau_result_cv"
      ],
      "execution_count": 65,
      "outputs": [
        {
          "output_type": "execute_result",
          "data": {
            "text/html": [
              "<div>\n",
              "<style scoped>\n",
              "    .dataframe tbody tr th:only-of-type {\n",
              "        vertical-align: middle;\n",
              "    }\n",
              "\n",
              "    .dataframe tbody tr th {\n",
              "        vertical-align: top;\n",
              "    }\n",
              "\n",
              "    .dataframe thead th {\n",
              "        text-align: right;\n",
              "    }\n",
              "</style>\n",
              "<table border=\"1\" class=\"dataframe\">\n",
              "  <thead>\n",
              "    <tr style=\"text-align: right;\">\n",
              "      <th></th>\n",
              "      <th>ModelName</th>\n",
              "      <th>PrecisionCV</th>\n",
              "      <th>RecallCV</th>\n",
              "      <th>F1ScoreCV</th>\n",
              "      <th>AccuracyCV</th>\n",
              "    </tr>\n",
              "  </thead>\n",
              "  <tbody>\n",
              "    <tr>\n",
              "      <th>0</th>\n",
              "      <td>Naive Bayes Gaussian</td>\n",
              "      <td>0.79+/-0.0</td>\n",
              "      <td>0.59+/-0.0</td>\n",
              "      <td>0.68+/-0.0</td>\n",
              "      <td>0.72+/-0.0</td>\n",
              "    </tr>\n",
              "  </tbody>\n",
              "</table>\n",
              "</div>"
            ],
            "text/plain": [
              "              ModelName PrecisionCV    RecallCV   F1ScoreCV  AccuracyCV\n",
              "0  Naive Bayes Gaussian  0.79+/-0.0  0.59+/-0.0  0.68+/-0.0  0.72+/-0.0"
            ]
          },
          "metadata": {},
          "execution_count": 65
        }
      ]
    },
    {
      "cell_type": "markdown",
      "metadata": {
        "id": "aoseJ2aoN0jY"
      },
      "source": [
        "##7.7. XGBClassifier"
      ]
    },
    {
      "cell_type": "code",
      "metadata": {
        "id": "0_rSiiPPLywQ",
        "colab": {
          "base_uri": "https://localhost:8080/",
          "height": 0
        },
        "outputId": "54421c5d-c8e5-4207-e1bc-3a2a6553456c"
      },
      "source": [
        "#Model\n",
        "xgbc= xgb.XGBClassifier()\n",
        "xgbc_train=xgbc.fit(x_train,y_train)\n",
        "\n",
        "#Prediction\n",
        "yhat_xgbc=xgbc_train.predict(x_test)\n",
        "\n",
        "#Performance\n",
        "xgbc_result=model_performance(y_test,yhat_xgbc,'XGBClassifier')\n",
        "xgbc_result"
      ],
      "execution_count": 66,
      "outputs": [
        {
          "output_type": "execute_result",
          "data": {
            "text/html": [
              "<div>\n",
              "<style scoped>\n",
              "    .dataframe tbody tr th:only-of-type {\n",
              "        vertical-align: middle;\n",
              "    }\n",
              "\n",
              "    .dataframe tbody tr th {\n",
              "        vertical-align: top;\n",
              "    }\n",
              "\n",
              "    .dataframe thead th {\n",
              "        text-align: right;\n",
              "    }\n",
              "</style>\n",
              "<table border=\"1\" class=\"dataframe\">\n",
              "  <thead>\n",
              "    <tr style=\"text-align: right;\">\n",
              "      <th></th>\n",
              "      <th>ModelName</th>\n",
              "      <th>Precision</th>\n",
              "      <th>Recall</th>\n",
              "      <th>F1Score</th>\n",
              "      <th>Accuracy</th>\n",
              "    </tr>\n",
              "  </thead>\n",
              "  <tbody>\n",
              "    <tr>\n",
              "      <th>0</th>\n",
              "      <td>XGBClassifier</td>\n",
              "      <td>0.75</td>\n",
              "      <td>0.70</td>\n",
              "      <td>0.72</td>\n",
              "      <td>0.73</td>\n",
              "    </tr>\n",
              "  </tbody>\n",
              "</table>\n",
              "</div>"
            ],
            "text/plain": [
              "       ModelName  Precision  Recall  F1Score  Accuracy\n",
              "0  XGBClassifier       0.75    0.70     0.72      0.73"
            ]
          },
          "metadata": {},
          "execution_count": 66
        }
      ]
    },
    {
      "cell_type": "markdown",
      "metadata": {
        "id": "NBMkyZFaUGGr"
      },
      "source": [
        "###7.7.1 XGBClassifier cross validation"
      ]
    },
    {
      "cell_type": "code",
      "metadata": {
        "id": "AGasNm5zWM5S",
        "colab": {
          "base_uri": "https://localhost:8080/",
          "height": 0
        },
        "outputId": "aec204d8-69c8-4ee8-d3fc-7930e70fae21"
      },
      "source": [
        "xgbc_result_cv=cross_validation(df7,5,'XGBClassifier',xgbc,'Cardio')\n",
        "xgbc_result_cv"
      ],
      "execution_count": 67,
      "outputs": [
        {
          "output_type": "execute_result",
          "data": {
            "text/html": [
              "<div>\n",
              "<style scoped>\n",
              "    .dataframe tbody tr th:only-of-type {\n",
              "        vertical-align: middle;\n",
              "    }\n",
              "\n",
              "    .dataframe tbody tr th {\n",
              "        vertical-align: top;\n",
              "    }\n",
              "\n",
              "    .dataframe thead th {\n",
              "        text-align: right;\n",
              "    }\n",
              "</style>\n",
              "<table border=\"1\" class=\"dataframe\">\n",
              "  <thead>\n",
              "    <tr style=\"text-align: right;\">\n",
              "      <th></th>\n",
              "      <th>ModelName</th>\n",
              "      <th>PrecisionCV</th>\n",
              "      <th>RecallCV</th>\n",
              "      <th>F1ScoreCV</th>\n",
              "      <th>AccuracyCV</th>\n",
              "    </tr>\n",
              "  </thead>\n",
              "  <tbody>\n",
              "    <tr>\n",
              "      <th>0</th>\n",
              "      <td>XGBClassifier</td>\n",
              "      <td>0.75+/-0.0</td>\n",
              "      <td>0.69+/-0.0</td>\n",
              "      <td>0.72+/-0.0</td>\n",
              "      <td>0.73+/-0.0</td>\n",
              "    </tr>\n",
              "  </tbody>\n",
              "</table>\n",
              "</div>"
            ],
            "text/plain": [
              "       ModelName PrecisionCV    RecallCV   F1ScoreCV  AccuracyCV\n",
              "0  XGBClassifier  0.75+/-0.0  0.69+/-0.0  0.72+/-0.0  0.73+/-0.0"
            ]
          },
          "metadata": {},
          "execution_count": 67
        }
      ]
    },
    {
      "cell_type": "markdown",
      "metadata": {
        "id": "5U7NwxmYY2XT"
      },
      "source": [
        "##7.8. Compare Model's Performance"
      ]
    },
    {
      "cell_type": "markdown",
      "metadata": {
        "id": "u7j3l4avY9Eb"
      },
      "source": [
        "###7.8.1. Single Performance\n"
      ]
    },
    {
      "cell_type": "code",
      "metadata": {
        "id": "pXVuY_iBY_Dz",
        "colab": {
          "base_uri": "https://localhost:8080/",
          "height": 0
        },
        "outputId": "1ffbd1c0-7bc8-4b6f-b92e-d165609b15a0"
      },
      "source": [
        "modelling_results=pd.concat([svc_result,rfc_result,lr_result,knn_result,gau_result,xgbc_result],axis=0)\n",
        "modelling_results.sort_values('F1Score',ascending=False)"
      ],
      "execution_count": 68,
      "outputs": [
        {
          "output_type": "execute_result",
          "data": {
            "text/html": [
              "<div>\n",
              "<style scoped>\n",
              "    .dataframe tbody tr th:only-of-type {\n",
              "        vertical-align: middle;\n",
              "    }\n",
              "\n",
              "    .dataframe tbody tr th {\n",
              "        vertical-align: top;\n",
              "    }\n",
              "\n",
              "    .dataframe thead th {\n",
              "        text-align: right;\n",
              "    }\n",
              "</style>\n",
              "<table border=\"1\" class=\"dataframe\">\n",
              "  <thead>\n",
              "    <tr style=\"text-align: right;\">\n",
              "      <th></th>\n",
              "      <th>ModelName</th>\n",
              "      <th>Precision</th>\n",
              "      <th>Recall</th>\n",
              "      <th>F1Score</th>\n",
              "      <th>Accuracy</th>\n",
              "    </tr>\n",
              "  </thead>\n",
              "  <tbody>\n",
              "    <tr>\n",
              "      <th>0</th>\n",
              "      <td>XGBClassifier</td>\n",
              "      <td>0.75</td>\n",
              "      <td>0.70</td>\n",
              "      <td>0.72</td>\n",
              "      <td>0.73</td>\n",
              "    </tr>\n",
              "    <tr>\n",
              "      <th>0</th>\n",
              "      <td>SVM</td>\n",
              "      <td>0.75</td>\n",
              "      <td>0.65</td>\n",
              "      <td>0.70</td>\n",
              "      <td>0.72</td>\n",
              "    </tr>\n",
              "    <tr>\n",
              "      <th>0</th>\n",
              "      <td>Logistic Regression</td>\n",
              "      <td>0.78</td>\n",
              "      <td>0.62</td>\n",
              "      <td>0.69</td>\n",
              "      <td>0.73</td>\n",
              "    </tr>\n",
              "    <tr>\n",
              "      <th>0</th>\n",
              "      <td>KNeighbors Classifier</td>\n",
              "      <td>0.69</td>\n",
              "      <td>0.69</td>\n",
              "      <td>0.69</td>\n",
              "      <td>0.70</td>\n",
              "    </tr>\n",
              "    <tr>\n",
              "      <th>0</th>\n",
              "      <td>RandomForestClassifier</td>\n",
              "      <td>0.78</td>\n",
              "      <td>0.61</td>\n",
              "      <td>0.69</td>\n",
              "      <td>0.72</td>\n",
              "    </tr>\n",
              "    <tr>\n",
              "      <th>0</th>\n",
              "      <td>Naive Bayes Gaussian</td>\n",
              "      <td>0.79</td>\n",
              "      <td>0.60</td>\n",
              "      <td>0.68</td>\n",
              "      <td>0.72</td>\n",
              "    </tr>\n",
              "  </tbody>\n",
              "</table>\n",
              "</div>"
            ],
            "text/plain": [
              "                ModelName  Precision  Recall  F1Score  Accuracy\n",
              "0           XGBClassifier       0.75    0.70     0.72      0.73\n",
              "0                     SVM       0.75    0.65     0.70      0.72\n",
              "0     Logistic Regression       0.78    0.62     0.69      0.73\n",
              "0   KNeighbors Classifier       0.69    0.69     0.69      0.70\n",
              "0  RandomForestClassifier       0.78    0.61     0.69      0.72\n",
              "0    Naive Bayes Gaussian       0.79    0.60     0.68      0.72"
            ]
          },
          "metadata": {},
          "execution_count": 68
        }
      ]
    },
    {
      "cell_type": "markdown",
      "metadata": {
        "id": "ggunoaLQZANs"
      },
      "source": [
        "###7.8.2. Real Performance - Cross Validation\n"
      ]
    },
    {
      "cell_type": "code",
      "metadata": {
        "id": "GGx6jS-kY224",
        "colab": {
          "base_uri": "https://localhost:8080/",
          "height": 0
        },
        "outputId": "5c484d77-94dd-4870-d17b-0d9017a35910"
      },
      "source": [
        "modelling_results_cv=pd.concat([svc_result_cv,rfc_result_cv,lr_result_cv,knn_result_cv,gau_result_cv,xgbc_result_cv],axis=0)\n",
        "modelling_results_cv.sort_values('F1ScoreCV',ascending=False)"
      ],
      "execution_count": 69,
      "outputs": [
        {
          "output_type": "execute_result",
          "data": {
            "text/html": [
              "<div>\n",
              "<style scoped>\n",
              "    .dataframe tbody tr th:only-of-type {\n",
              "        vertical-align: middle;\n",
              "    }\n",
              "\n",
              "    .dataframe tbody tr th {\n",
              "        vertical-align: top;\n",
              "    }\n",
              "\n",
              "    .dataframe thead th {\n",
              "        text-align: right;\n",
              "    }\n",
              "</style>\n",
              "<table border=\"1\" class=\"dataframe\">\n",
              "  <thead>\n",
              "    <tr style=\"text-align: right;\">\n",
              "      <th></th>\n",
              "      <th>ModelName</th>\n",
              "      <th>PrecisionCV</th>\n",
              "      <th>RecallCV</th>\n",
              "      <th>F1ScoreCV</th>\n",
              "      <th>AccuracyCV</th>\n",
              "    </tr>\n",
              "  </thead>\n",
              "  <tbody>\n",
              "    <tr>\n",
              "      <th>0</th>\n",
              "      <td>XGBClassifier</td>\n",
              "      <td>0.75+/-0.0</td>\n",
              "      <td>0.69+/-0.0</td>\n",
              "      <td>0.72+/-0.0</td>\n",
              "      <td>0.73+/-0.0</td>\n",
              "    </tr>\n",
              "    <tr>\n",
              "      <th>0</th>\n",
              "      <td>SVM</td>\n",
              "      <td>0.75+/-0.0</td>\n",
              "      <td>0.65+/-0.0</td>\n",
              "      <td>0.7+/-0.0</td>\n",
              "      <td>0.72+/-0.0</td>\n",
              "    </tr>\n",
              "    <tr>\n",
              "      <th>0</th>\n",
              "      <td>RandomForestClassifier</td>\n",
              "      <td>0.78+/-0.01</td>\n",
              "      <td>0.61+/-0.0</td>\n",
              "      <td>0.69+/-0.0</td>\n",
              "      <td>0.72+/-0.0</td>\n",
              "    </tr>\n",
              "    <tr>\n",
              "      <th>0</th>\n",
              "      <td>Logistic Regression</td>\n",
              "      <td>0.78+/-0.0</td>\n",
              "      <td>0.62+/-0.0</td>\n",
              "      <td>0.69+/-0.0</td>\n",
              "      <td>0.72+/-0.0</td>\n",
              "    </tr>\n",
              "    <tr>\n",
              "      <th>0</th>\n",
              "      <td>KNeighbors Classifier</td>\n",
              "      <td>0.7+/-0.0</td>\n",
              "      <td>0.68+/-0.0</td>\n",
              "      <td>0.69+/-0.0</td>\n",
              "      <td>0.69+/-0.0</td>\n",
              "    </tr>\n",
              "    <tr>\n",
              "      <th>0</th>\n",
              "      <td>Naive Bayes Gaussian</td>\n",
              "      <td>0.79+/-0.0</td>\n",
              "      <td>0.59+/-0.0</td>\n",
              "      <td>0.68+/-0.0</td>\n",
              "      <td>0.72+/-0.0</td>\n",
              "    </tr>\n",
              "  </tbody>\n",
              "</table>\n",
              "</div>"
            ],
            "text/plain": [
              "                ModelName  PrecisionCV    RecallCV   F1ScoreCV  AccuracyCV\n",
              "0           XGBClassifier   0.75+/-0.0  0.69+/-0.0  0.72+/-0.0  0.73+/-0.0\n",
              "0                     SVM   0.75+/-0.0  0.65+/-0.0   0.7+/-0.0  0.72+/-0.0\n",
              "0  RandomForestClassifier  0.78+/-0.01  0.61+/-0.0  0.69+/-0.0  0.72+/-0.0\n",
              "0     Logistic Regression   0.78+/-0.0  0.62+/-0.0  0.69+/-0.0  0.72+/-0.0\n",
              "0   KNeighbors Classifier    0.7+/-0.0  0.68+/-0.0  0.69+/-0.0  0.69+/-0.0\n",
              "0    Naive Bayes Gaussian   0.79+/-0.0  0.59+/-0.0  0.68+/-0.0  0.72+/-0.0"
            ]
          },
          "metadata": {},
          "execution_count": 69
        }
      ]
    },
    {
      "cell_type": "markdown",
      "metadata": {
        "id": "XNgufp4nZMza"
      },
      "source": [
        "#8.0. HYPERPARAMETER FINE TUNING"
      ]
    },
    {
      "cell_type": "code",
      "metadata": {
        "id": "eUiUrsO_ZNOw"
      },
      "source": [
        "df8=df7.copy()"
      ],
      "execution_count": 70,
      "outputs": []
    },
    {
      "cell_type": "markdown",
      "metadata": {
        "id": "G5MqjiseZcez"
      },
      "source": [
        "##8.1.Random Search"
      ]
    },
    {
      "cell_type": "code",
      "metadata": {
        "colab": {
          "base_uri": "https://localhost:8080/",
          "height": 0
        },
        "id": "kiaGc-D4esHh",
        "outputId": "e4a48087-57a3-4911-907c-cce545083c51"
      },
      "source": [
        "'''params={'n_estimators':      [500,1000,1500,1700,2500,3000,3500],\n",
        "        'eta':               [0.01,0.03,0.06],\n",
        "        'max_depth':         [2,4,6,8,10,12],\n",
        "        'subsample':         [0.1,0.5,0.7],\n",
        "        'colsample_bytree':  [0.3,0.7,0.9],\n",
        "        'min_child_weight':  [3,6,9,12,15]}\n",
        "\n",
        "#model\n",
        "model_xgb=xgb.XGBClassifier()\n",
        "\n",
        "rscv = RandomizedSearchCV(model_xgb, params, random_state=0,cv=3,n_iter=100).fit(x_train, y_train)\n",
        "rscv.best_params_'''"
      ],
      "execution_count": 71,
      "outputs": [
        {
          "output_type": "execute_result",
          "data": {
            "application/vnd.google.colaboratory.intrinsic+json": {
              "type": "string"
            },
            "text/plain": [
              "\"params={'n_estimators':      [500,1000,1500,1700,2500,3000,3500],\\n        'eta':               [0.01,0.03,0.06],\\n        'max_depth':         [2,4,6,8,10,12],\\n        'subsample':         [0.1,0.5,0.7],\\n        'colsample_bytree':  [0.3,0.7,0.9],\\n        'min_child_weight':  [3,6,9,12,15]}\\n\\n#model\\nmodel_xgb=xgb.XGBClassifier()\\n\\nrscv = RandomizedSearchCV(model_xgb, params, random_state=0,cv=3,n_iter=100).fit(x_train, y_train)\\nrscv.best_params_\""
            ]
          },
          "metadata": {},
          "execution_count": 71
        }
      ]
    },
    {
      "cell_type": "code",
      "metadata": {
        "colab": {
          "base_uri": "https://localhost:8080/",
          "height": 0
        },
        "id": "kniQhEDR9cIT",
        "outputId": "4ce487c9-2b23-45bb-9ef9-da24725ca238"
      },
      "source": [
        "'''{'colsample_bytree': 0.7,\n",
        "              'eta':              0.03,\n",
        "              'max_depth':        2,\n",
        "              'min_child_weight': 12,\n",
        "              'n_estimators':     1500,\n",
        "              'subsample':        0.5}'''"
      ],
      "execution_count": 72,
      "outputs": [
        {
          "output_type": "execute_result",
          "data": {
            "application/vnd.google.colaboratory.intrinsic+json": {
              "type": "string"
            },
            "text/plain": [
              "\"{'colsample_bytree': 0.7,\\n              'eta':              0.03,\\n              'max_depth':        2,\\n              'min_child_weight': 12,\\n              'n_estimators':     1500,\\n              'subsample':        0.5}\""
            ]
          },
          "metadata": {},
          "execution_count": 72
        }
      ]
    },
    {
      "cell_type": "markdown",
      "metadata": {
        "id": "olrRbmpSZlpr"
      },
      "source": [
        "##8.2.Final Model"
      ]
    },
    {
      "cell_type": "code",
      "metadata": {
        "id": "8VZaxIE3Re3x",
        "colab": {
          "base_uri": "https://localhost:8080/",
          "height": 0
        },
        "outputId": "f7f4ebc0-dc9e-4a4e-dccc-f7a8025ae1ec"
      },
      "source": [
        "#Params tuned\n",
        "params_tuned={'colsample_bytree': 0.7,\n",
        "              'eta':              0.03,\n",
        "              'max_depth':        2,\n",
        "              'min_child_weight': 12,\n",
        "              'n_estimators':     1500,\n",
        "              'subsample':        0.5}\n",
        "\n",
        "\n",
        "#Model\n",
        "xgb_tuned=xgb.XGBClassifier(         objective=         'reg:squarederror',\n",
        "                                     n_estimators=      params_tuned['n_estimators'],\n",
        "                                     eta=               params_tuned['eta'],\n",
        "                                     max_depth=         params_tuned['max_depth'],\n",
        "                                     subsample=         params_tuned['subsample'],\n",
        "                                     colsample_bytree=  params_tuned['colsample_bytree'],\n",
        "                                     min_child_weight=  params_tuned['min_child_weight'])\n",
        "                                \n",
        "#Prediction\n",
        "xgb_tuned_train_final=xgb_tuned.fit(x_train,y_train)\n",
        "yhat_xgb_tuned=xgb_tuned_train_final.predict(x_test)\n",
        "\n",
        "#Performance\n",
        "xgbc_result=model_performance(y_test,yhat_xgb_tuned,'XGBClassifier')\n",
        "xgbc_result"
      ],
      "execution_count": 73,
      "outputs": [
        {
          "output_type": "execute_result",
          "data": {
            "text/html": [
              "<div>\n",
              "<style scoped>\n",
              "    .dataframe tbody tr th:only-of-type {\n",
              "        vertical-align: middle;\n",
              "    }\n",
              "\n",
              "    .dataframe tbody tr th {\n",
              "        vertical-align: top;\n",
              "    }\n",
              "\n",
              "    .dataframe thead th {\n",
              "        text-align: right;\n",
              "    }\n",
              "</style>\n",
              "<table border=\"1\" class=\"dataframe\">\n",
              "  <thead>\n",
              "    <tr style=\"text-align: right;\">\n",
              "      <th></th>\n",
              "      <th>ModelName</th>\n",
              "      <th>Precision</th>\n",
              "      <th>Recall</th>\n",
              "      <th>F1Score</th>\n",
              "      <th>Accuracy</th>\n",
              "    </tr>\n",
              "  </thead>\n",
              "  <tbody>\n",
              "    <tr>\n",
              "      <th>0</th>\n",
              "      <td>XGBClassifier</td>\n",
              "      <td>0.75</td>\n",
              "      <td>0.69</td>\n",
              "      <td>0.72</td>\n",
              "      <td>0.73</td>\n",
              "    </tr>\n",
              "  </tbody>\n",
              "</table>\n",
              "</div>"
            ],
            "text/plain": [
              "       ModelName  Precision  Recall  F1Score  Accuracy\n",
              "0  XGBClassifier       0.75    0.69     0.72      0.73"
            ]
          },
          "metadata": {},
          "execution_count": 73
        }
      ]
    },
    {
      "cell_type": "code",
      "metadata": {
        "id": "SGCd-8awuv_p"
      },
      "source": [
        "#Save trained model\n",
        "pickle.dump(xgb_tuned_train_final,open('xgb_tuned_train_final.pkl','wb'))"
      ],
      "execution_count": 74,
      "outputs": []
    },
    {
      "cell_type": "markdown",
      "metadata": {
        "id": "lE3Sxx6BZsrS"
      },
      "source": [
        "#9.0. TRANSLATION AND INTERPRETATION OF THE ERROR"
      ]
    },
    {
      "cell_type": "code",
      "metadata": {
        "id": "74tKTRfAZxi_"
      },
      "source": [
        "df9=df8.copy()"
      ],
      "execution_count": 75,
      "outputs": []
    },
    {
      "cell_type": "markdown",
      "metadata": {
        "id": "5D3ktiHa-j-v"
      },
      "source": [
        "##9.1.Machine Learning Performance"
      ]
    },
    {
      "cell_type": "code",
      "metadata": {
        "id": "yDXGr0Lqz7qI",
        "colab": {
          "base_uri": "https://localhost:8080/",
          "height": 295
        },
        "outputId": "51d7ad8d-cdb7-4a82-fa1b-1d7e37b8a774"
      },
      "source": [
        "#AUC Curve\n",
        "fpr, tpr, threshold = metrics.roc_curve(y_test, yhat_xgb_tuned)\n",
        "roc_auc = metrics.auc(fpr, tpr)\n",
        "\n",
        "plt.title('Receiver Operating Characteristic')\n",
        "plt.plot(fpr, tpr, 'b', label = 'AUC = %0.2f' % roc_auc)\n",
        "plt.legend(loc = 'lower right')\n",
        "plt.plot([0, 1], [0, 1],'r--')\n",
        "plt.xlim([0, 1])\n",
        "plt.ylim([0, 1])\n",
        "plt.ylabel('True Positive Rate')\n",
        "plt.xlabel('False Positive Rate')\n",
        "plt.show()"
      ],
      "execution_count": 76,
      "outputs": [
        {
          "output_type": "display_data",
          "data": {
            "image/png": "[encoded data removed]",
            "text/plain": [
              "<Figure size 432x288 with 1 Axes>"
            ]
          },
          "metadata": {
            "needs_background": "light"
          }
        }
      ]
    },
    {
      "cell_type": "code",
      "metadata": {
        "id": "cB15Ke42fErF",
        "colab": {
          "base_uri": "https://localhost:8080/",
          "height": 297
        },
        "outputId": "d2373b0e-ea2c-4ccf-cf75-0b4205ead184"
      },
      "source": [
        "#Confusion matrix\n",
        "np.random.seed(2811)\n",
        "\n",
        "cv = StratifiedKFold(n_splits = 5, shuffle = True)\n",
        "y_pred = cross_val_predict(xgb_tuned , x_train, y_train, cv = cv)\n",
        "\n",
        "\n",
        "fig, ax = plt.subplots()\n",
        "ax=sns.heatmap(confusion_matrix(y_train, y_pred), annot=True,ax=ax, fmt='d', cmap='Reds')\n",
        "ax.set_title(\"Confusion matrix\", fontsize=18)\n",
        "ax.set_ylabel(\"True label\")\n",
        "ax.set_xlabel(\"Predicted Label\")\n",
        "plt.tight_layout()"
      ],
      "execution_count": 77,
      "outputs": [
        {
          "output_type": "display_data",
          "data": {
            "image/png": "[encoded data removed]",
            "text/plain": [
              "<Figure size 432x288 with 2 Axes>"
            ]
          },
          "metadata": {
            "needs_background": "light"
          }
        }
      ]
    },
    {
      "cell_type": "markdown",
      "metadata": {
        "id": "K2ALxcCaaLQd"
      },
      "source": [
        "##9.2.Business Performance"
      ]
    },
    {
      "cell_type": "markdown",
      "metadata": {
        "id": "e6oI5VofQbbR"
      },
      "source": [
        "###Perguntas a serem respondidas:"
      ]
    },
    {
      "cell_type": "markdown",
      "metadata": {
        "id": "Cv3RDwLdZswt"
      },
      "source": [
        "####1-Qual e a Precisão da ferramenta?"
      ]
    },
    {
      "cell_type": "code",
      "metadata": {
        "id": "b4IwgZFYZ50A",
        "colab": {
          "base_uri": "https://localhost:8080/",
          "height": 81
        },
        "outputId": "361fc170-e6b9-4fdf-ed83-630bb5efd4e1"
      },
      "source": [
        "xgbc_result"
      ],
      "execution_count": 78,
      "outputs": [
        {
          "output_type": "execute_result",
          "data": {
            "text/html": [
              "<div>\n",
              "<style scoped>\n",
              "    .dataframe tbody tr th:only-of-type {\n",
              "        vertical-align: middle;\n",
              "    }\n",
              "\n",
              "    .dataframe tbody tr th {\n",
              "        vertical-align: top;\n",
              "    }\n",
              "\n",
              "    .dataframe thead th {\n",
              "        text-align: right;\n",
              "    }\n",
              "</style>\n",
              "<table border=\"1\" class=\"dataframe\">\n",
              "  <thead>\n",
              "    <tr style=\"text-align: right;\">\n",
              "      <th></th>\n",
              "      <th>ModelName</th>\n",
              "      <th>Precision</th>\n",
              "      <th>Recall</th>\n",
              "      <th>F1Score</th>\n",
              "      <th>Accuracy</th>\n",
              "    </tr>\n",
              "  </thead>\n",
              "  <tbody>\n",
              "    <tr>\n",
              "      <th>0</th>\n",
              "      <td>XGBClassifier</td>\n",
              "      <td>0.75</td>\n",
              "      <td>0.69</td>\n",
              "      <td>0.72</td>\n",
              "      <td>0.73</td>\n",
              "    </tr>\n",
              "  </tbody>\n",
              "</table>\n",
              "</div>"
            ],
            "text/plain": [
              "       ModelName  Precision  Recall  F1Score  Accuracy\n",
              "0  XGBClassifier       0.75    0.69     0.72      0.73"
            ]
          },
          "metadata": {},
          "execution_count": 78
        }
      ]
    },
    {
      "cell_type": "markdown",
      "metadata": {
        "id": "_RuzkKWXZuM9"
      },
      "source": [
        "####2-Quanto lucro a Cardio Catch Diseases passará a ter com a nova ferramenta?"
      ]
    },
    {
      "cell_type": "code",
      "metadata": {
        "id": "ZLtul7p9OcKK",
        "colab": {
          "base_uri": "https://localhost:8080/"
        },
        "outputId": "4c25b613-f209-4f83-99d8-9f53deb165d6"
      },
      "source": [
        "current_precision=50\n",
        "precision_xgb=accuracy_score(y_test,yhat_xgb_tuned)*100\n",
        "diagnostic_price=1000\n",
        "preco_accuracy=100\n",
        "\n",
        "profit=((precision_xgb-current_precision))*preco_accuracy\n",
        "print('Profit with the new diagnostic tool: R$ {}'.format(profit))"
      ],
      "execution_count": 79,
      "outputs": [
        {
          "output_type": "stream",
          "name": "stdout",
          "text": [
            "Profit with the new diagnostic tool: R$ 2334.1174164461436\n"
          ]
        }
      ]
    },
    {
      "cell_type": "markdown",
      "metadata": {
        "id": "6DMlVJjBaela"
      },
      "source": [
        "#10.0. DEPLOY MODEL TO PRODUCTION"
      ]
    },
    {
      "cell_type": "markdown",
      "metadata": {
        "id": "mx74earWRLy-"
      },
      "source": [
        "##10.0. App Streamlit"
      ]
    },
    {
      "cell_type": "code",
      "metadata": {
        "id": "yuJmEPVuRT83",
        "colab": {
          "base_uri": "https://localhost:8080/",
          "height": 0
        },
        "outputId": "bcfddd95-268e-4096-ca25-65b6cab99c40"
      },
      "source": [
        "'''import streamlit as st \n",
        "import json\n",
        "import requests\n",
        "import pandas as pd\n",
        "\n",
        "@st.cache()\n",
        "  \n",
        "# function input\n",
        "def prediction(Cholesterol,ApLo,ApHi,Age):\n",
        "  #Create dataframe\n",
        "  d = {'Cholesterol':[Cholesterol],'ApLo':[ApLo],'ApHi':[ApHi],'Age':[Age]}\n",
        "  df = pd.DataFrame(data=d)\n",
        "\n",
        "  #converter em json\n",
        "  df=json.dumps(df.to_dict(orient='records'))\n",
        "\n",
        "  #API call\n",
        "  path='https://sdbfsdfbqqqqq.herokuapp.com/'\n",
        "  url=path +'oi'\n",
        "  headers={'content-type':'application/json'}  \n",
        "  r=requests.post(url,data=df,headers=headers)\n",
        "\n",
        "  #Prediction\n",
        "  df=pd.DataFrame(r.json(),columns=r.json()[0].keys())\n",
        "\n",
        "  a=df['Predictions'][0]\n",
        "  if a==1:\n",
        "    b='Sick'\n",
        "  elif a==0:\n",
        "    b='Healthy'\n",
        "  else: \n",
        "    b='ERRO DE PREDICAO'\n",
        "        \n",
        "  return b\n",
        "      \n",
        "  \n",
        "# webapp  \n",
        "def main():       \n",
        "    # Config web\n",
        "    html_temp = \"\"\" \n",
        "    <div style =\"background-color:gray;padding:13px\"> \n",
        "    <h1 style =\"color:black;text-align:center;\">Diagnóstico precoce cardiovascular</h1> \n",
        "    </div> \n",
        "    \"\"\"\n",
        "      \n",
        "    # display \n",
        "    st.markdown(html_temp, unsafe_allow_html = True) \n",
        "      \n",
        "    # Imput\n",
        "    Cholesterol = st.selectbox('Nível de colesterol',('1','2','3'))\n",
        "    ApLo =        st.number_input('Pressão diastólica')\n",
        "    ApHi =        st.number_input('Pressão sistólica')      \n",
        "    Age =         st.number_input('Idade') \n",
        "\n",
        "    result =\"\"\n",
        "      \n",
        "    # Predict \n",
        "    if st.button(\"Predict\"):        \n",
        "        result = prediction(Cholesterol,ApLo,ApHi,Age) \n",
        "        st.success('Estado de saúde: {}'.format([Cholesterol,ApLo,ApHi,Age]))\n",
        "        \n",
        "     \n",
        "if __name__=='__main__': \n",
        "    main()'''"
      ],
      "execution_count": 80,
      "outputs": [
        {
          "output_type": "execute_result",
          "data": {
            "application/vnd.google.colaboratory.intrinsic+json": {
              "type": "string"
            },
            "text/plain": [
              "'import streamlit as st \\nimport json\\nimport requests\\nimport pandas as pd\\n\\n@st.cache()\\n  \\n# function input\\ndef prediction(Cholesterol,ApLo,ApHi,Age):\\n  #Create dataframe\\n  d = {\\'Cholesterol\\':[Cholesterol],\\'ApLo\\':[ApLo],\\'ApHi\\':[ApHi],\\'Age\\':[Age]}\\n  df = pd.DataFrame(data=d)\\n\\n  #converter em json\\n  df=json.dumps(df.to_dict(orient=\\'records\\'))\\n\\n  #API call\\n  path=\\'https://sdbfsdfbqqqqq.herokuapp.com/\\'\\n  url=path +\\'oi\\'\\n  headers={\\'content-type\\':\\'application/json\\'}  \\n  r=requests.post(url,data=df,headers=headers)\\n\\n  #Prediction\\n  df=pd.DataFrame(r.json(),columns=r.json()[0].keys())\\n\\n  a=df[\\'Predictions\\'][0]\\n  if a==1:\\n    b=\\'Sick\\'\\n  elif a==0:\\n    b=\\'Healthy\\'\\n  else: \\n    b=\\'ERRO DE PREDICAO\\'\\n        \\n  return b\\n      \\n  \\n# webapp  \\ndef main():       \\n    # Config web\\n    html_temp = \"\"\" \\n    <div style =\"background-color:gray;padding:13px\"> \\n    <h1 style =\"color:black;text-align:center;\">Diagnóstico precoce cardiovascular</h1> \\n    </div> \\n    \"\"\"\\n      \\n    # display \\n    st.markdown(html_temp, unsafe_allow_html = True) \\n      \\n    # Imput\\n    Cholesterol = st.selectbox(\\'Nível de colesterol\\',(\\'1\\',\\'2\\',\\'3\\'))\\n    ApLo =        st.number_input(\\'Pressão diastólica\\')\\n    ApHi =        st.number_input(\\'Pressão sistólica\\')      \\n    Age =         st.number_input(\\'Idade\\') \\n\\n    result =\"\"\\n      \\n    # Predict \\n    if st.button(\"Predict\"):        \\n        result = prediction(Cholesterol,ApLo,ApHi,Age) \\n        st.success(\\'Estado de saúde: {}\\'.format([Cholesterol,ApLo,ApHi,Age]))\\n        \\n     \\nif __name__==\\'__main__\\': \\n    main()'"
            ]
          },
          "metadata": {},
          "execution_count": 80
        }
      ]
    },
    {
      "cell_type": "markdown",
      "metadata": {
        "id": "eoe3WFtfa0yS"
      },
      "source": [
        "##10.1. transformations class"
      ]
    },
    {
      "cell_type": "code",
      "metadata": {
        "id": "ssA6D2mNVBSa",
        "colab": {
          "base_uri": "https://localhost:8080/",
          "height": 0
        },
        "outputId": "b5c2daa2-625c-4939-fca5-5314ade7ea6e"
      },
      "source": [
        "'''import pandas as pd\n",
        "import numpy  as np\n",
        "import pickle\n",
        "\n",
        "\n",
        "class transformations (object):  \n",
        "     \n",
        "  def data_cleaning(self,df1):  \n",
        "    df1=df1.copy()\n",
        "    #Change types    \n",
        "    df1['Cholesterol']=df1['Cholesterol'].astype(str)\n",
        "\n",
        "    #Rewriting the variables\n",
        "    niveis={'1':'medium','2':'high','3':'very_high'} \n",
        "    estado={'1':'yes','0':'no'}    \n",
        "\n",
        "    #Cholesterol\n",
        "    df1['Cholesterol']=df1['Cholesterol'].map(niveis)   \n",
        "    \n",
        "    return df1\n",
        "  \n",
        "  \n",
        "  def feature_engeneering(self,df2):\n",
        "    df2=df2.copy()\n",
        "\n",
        "    #ApHiLevel\n",
        "    df2['ApHiLevel']=df2['ApHi'].apply(lambda x:'level1' if x<80 else 'level2' if (x>=80)&(x<140) else 'level3')\n",
        "\n",
        "    #ApLoLevel\n",
        "    df2['ApLoLevel']=df2['ApLo'].apply(lambda x:'level1' if x<70 else 'level2' if (x>=75)&(x<100) else 'level3')\n",
        "    \n",
        "    #AgeLevel\n",
        "    df2['AgeLevel']=df2['Age'].apply(lambda x : 'level1' if x<45 else'level2' if (x>=45)&(x<60) else 'level3')\n",
        "   \n",
        "    #ApHi\n",
        "    aphi_mean=df2['ApHi'].mean()\n",
        "    df2['ApHi']=df2['ApHi'].apply(lambda x: aphi_mean if x<100 else  aphi_mean if x>200 else x)\n",
        "\n",
        "    #ApLo\n",
        "    aplo_mean=df2['ApLo'].mean()\n",
        "    df2['ApLo']=df2['ApLo'].apply(lambda x: aplo_mean if x<75 else  aplo_mean if x>100 else x)\n",
        "    \n",
        "\n",
        "    return df2  \n",
        "  \n",
        "\n",
        "  def data_preparation(self,df5):\n",
        "    df5=df5.copy()\n",
        "    \n",
        "    #Age\n",
        "    df5['Age']=np.log1p(df5['Age'])\n",
        "    \n",
        "    #ApLo\n",
        "    df5['ApLo']=np.log1p(df5['ApLo'])\n",
        "            \n",
        "    #ApHi\n",
        "    df5['ApHi']=np.log1p(df5['ApHi'])     \n",
        "    \n",
        "             \n",
        "    #Cholesterol\n",
        "    assortment_dict={'medium':1,'high':2,'very_high':3}\n",
        "    df5['Cholesterol']=df5['Cholesterol'].map(assortment_dict)    \n",
        "\n",
        "    #ApLoLevel\n",
        "    assortment_dict={'level1':1,'level2':2,'level3':3}\n",
        "    df5['ApLoLevel']=df5['ApLoLevel'].map(assortment_dict)\n",
        "  \n",
        "    #AgeLevel\n",
        "    assortment_dict={'level1':1,'level2':2,'level3':3}\n",
        "    df5['AgeLevel']=df5['AgeLevel'].map(assortment_dict)\n",
        "\n",
        "    #ApHiLevel\n",
        "    assortment_dict={'level1':1,'level2':2,'level3':3}\n",
        "    df5['ApHiLevel']=df5['ApHiLevel'].map(assortment_dict)\n",
        "    \n",
        "    \n",
        "    df5=df5[['ApHiLevel','Cholesterol','ApLo','ApHi','AgeLevel','Age']]    \n",
        "    \n",
        "    return df5\n",
        "\n",
        "  \n",
        "  def get_prediction(self, model, dado_original, data_transforme):\n",
        "\n",
        "    #prediction\n",
        "    pred=model.predict(data_transforme)\n",
        "\n",
        "    #join pred into the original data\n",
        "    dado_original['Predictions']=pred \n",
        "\n",
        "    return  dado_original.to_json(orient='records',date_format='iso')'''    "
      ],
      "execution_count": 81,
      "outputs": [
        {
          "output_type": "execute_result",
          "data": {
            "application/vnd.google.colaboratory.intrinsic+json": {
              "type": "string"
            },
            "text/plain": [
              "\"import pandas as pd\\nimport numpy  as np\\nimport pickle\\n\\n\\nclass transformations (object):  \\n     \\n  def data_cleaning(self,df1):  \\n    df1=df1.copy()\\n    #Change types    \\n    df1['Cholesterol']=df1['Cholesterol'].astype(str)\\n\\n    #Rewriting the variables\\n    niveis={'1':'medium','2':'high','3':'very_high'} \\n    estado={'1':'yes','0':'no'}    \\n\\n    #Cholesterol\\n    df1['Cholesterol']=df1['Cholesterol'].map(niveis)   \\n    \\n    return df1\\n  \\n  \\n  def feature_engeneering(self,df2):\\n    df2=df2.copy()\\n\\n    #ApHiLevel\\n    df2['ApHiLevel']=df2['ApHi'].apply(lambda x:'level1' if x<80 else 'level2' if (x>=80)&(x<140) else 'level3')\\n\\n    #ApLoLevel\\n    df2['ApLoLevel']=df2['ApLo'].apply(lambda x:'level1' if x<70 else 'level2' if (x>=75)&(x<100) else 'level3')\\n    \\n    #AgeLevel\\n    df2['AgeLevel']=df2['Age'].apply(lambda x : 'level1' if x<45 else'level2' if (x>=45)&(x<60) else 'level3')\\n   \\n    #ApHi\\n    aphi_mean=df2['ApHi'].mean()\\n    df2['ApHi']=df2['ApHi'].apply(lambda x: aphi_mean if x<100 else  aphi_mean if x>200 else x)\\n\\n    #ApLo\\n    aplo_mean=df2['ApLo'].mean()\\n    df2['ApLo']=df2['ApLo'].apply(lambda x: aplo_mean if x<75 else  aplo_mean if x>100 else x)\\n    \\n\\n    return df2  \\n  \\n\\n  def data_preparation(self,df5):\\n    df5=df5.copy()\\n    \\n    #Age\\n    df5['Age']=np.log1p(df5['Age'])\\n    \\n    #ApLo\\n    df5['ApLo']=np.log1p(df5['ApLo'])\\n            \\n    #ApHi\\n    df5['ApHi']=np.log1p(df5['ApHi'])     \\n    \\n             \\n    #Cholesterol\\n    assortment_dict={'medium':1,'high':2,'very_high':3}\\n    df5['Cholesterol']=df5['Cholesterol'].map(assortment_dict)    \\n\\n    #ApLoLevel\\n    assortment_dict={'level1':1,'level2':2,'level3':3}\\n    df5['ApLoLevel']=df5['ApLoLevel'].map(assortment_dict)\\n  \\n    #AgeLevel\\n    assortment_dict={'level1':1,'level2':2,'level3':3}\\n    df5['AgeLevel']=df5['AgeLevel'].map(assortment_dict)\\n\\n    #ApHiLevel\\n    assortment_dict={'level1':1,'level2':2,'level3':3}\\n    df5['ApHiLevel']=df5['ApHiLevel'].map(assortment_dict)\\n    \\n    \\n    df5=df5[['ApHiLevel','Cholesterol','ApLo','ApHi','AgeLevel','Age']]    \\n    \\n    return df5\\n\\n  \\n  def get_prediction(self, model, dado_original, data_transforme):\\n\\n    #prediction\\n    pred=model.predict(data_transforme)\\n\\n    #join pred into the original data\\n    dado_original['Predictions']=pred \\n\\n    return  dado_original.to_json(orient='records',date_format='iso')\""
            ]
          },
          "metadata": {},
          "execution_count": 81
        }
      ]
    },
    {
      "cell_type": "markdown",
      "metadata": {
        "id": "A1lqCvdPa7-q"
      },
      "source": [
        "##10.2. API Handler"
      ]
    },
    {
      "cell_type": "code",
      "metadata": {
        "id": "JFex5sZOUpwC",
        "colab": {
          "base_uri": "https://localhost:8080/",
          "height": 0
        },
        "outputId": "40fcca76-baa8-4e36-b7f0-aef7cbf7c9c4"
      },
      "source": [
        "'''from flask                           import Flask,request,Response\n",
        "from transformations.transformations import transformations\n",
        "import os\n",
        "import pickle\n",
        "import pandas              as pd\n",
        "\n",
        "\n",
        "#Loading model\n",
        "model=pickle.load(open('model/xgb_tuned_train_final.pkl','rb'))\n",
        "\n",
        "#Initialize API\n",
        "app=Flask(__name__)\n",
        "\n",
        "@app.route('/oi',methods=['POST'])\n",
        "def diagnostico_predict():\n",
        "  test_json=request.get_json()\n",
        "\n",
        "  if test_json:\n",
        "    if isinstance (test_json,dict):\n",
        "      test_raw=pd.DataFrame(test_json,index=[0])\n",
        "\n",
        "    else:\n",
        "      test_raw=pd.DataFrame(test_json,columns=test_json[0].keys())\n",
        "    \n",
        "    #Isntantiate transformations\n",
        "    pipeline=transformations()  \n",
        "\n",
        "    #data cleaning\n",
        "    df1=pipeline.data_cleaning(test_raw)  \n",
        "\n",
        "    #feature engeneering\n",
        "    df2=pipeline.feature_engeneering(df1)\n",
        "\n",
        "    #data preparation\n",
        "    df3=pipeline.data_preparation(df2)\n",
        "\n",
        "    #predict\n",
        "    df_response=pipeline.get_prediction(model,test_raw,df3)\n",
        "    \n",
        "    return df_response\n",
        "\n",
        "  else:\n",
        "    return Response('{}',status=200,mimetype='application/json')\n",
        "\n",
        "if __name__ == \"__main__\":\n",
        "    port = int(os.environ.get(\"PORT\", 5000))\n",
        "    app.run(host='0.0.0.0', port=port)'''"
      ],
      "execution_count": 82,
      "outputs": [
        {
          "output_type": "execute_result",
          "data": {
            "application/vnd.google.colaboratory.intrinsic+json": {
              "type": "string"
            },
            "text/plain": [
              "'from flask                           import Flask,request,Response\\nfrom transformations.transformations import transformations\\nimport os\\nimport pickle\\nimport pandas              as pd\\n\\n\\n#Loading model\\nmodel=pickle.load(open(\\'model/xgb_tuned_train_final.pkl\\',\\'rb\\'))\\n\\n#Initialize API\\napp=Flask(__name__)\\n\\n@app.route(\\'/oi\\',methods=[\\'POST\\'])\\ndef diagnostico_predict():\\n  test_json=request.get_json()\\n\\n  if test_json:\\n    if isinstance (test_json,dict):\\n      test_raw=pd.DataFrame(test_json,index=[0])\\n\\n    else:\\n      test_raw=pd.DataFrame(test_json,columns=test_json[0].keys())\\n    \\n    #Isntantiate transformations\\n    pipeline=transformations()  \\n\\n    #data cleaning\\n    df1=pipeline.data_cleaning(test_raw)  \\n\\n    #feature engeneering\\n    df2=pipeline.feature_engeneering(df1)\\n\\n    #data preparation\\n    df3=pipeline.data_preparation(df2)\\n\\n    #predict\\n    df_response=pipeline.get_prediction(model,test_raw,df3)\\n    \\n    return df_response\\n\\n  else:\\n    return Response(\\'{}\\',status=200,mimetype=\\'application/json\\')\\n\\nif __name__ == \"__main__\":\\n    port = int(os.environ.get(\"PORT\", 5000))\\n    app.run(host=\\'0.0.0.0\\', port=port)'"
            ]
          },
          "metadata": {},
          "execution_count": 82
        }
      ]
    },
    {
      "cell_type": "markdown",
      "metadata": {
        "id": "9fnxebzna_zC"
      },
      "source": [
        "##10.3.API Tester"
      ]
    },
    {
      "cell_type": "code",
      "metadata": {
        "id": "r_NKyw0V5RSy",
        "colab": {
          "base_uri": "https://localhost:8080/"
        },
        "outputId": "617eb1a5-c8a6-4ff5-8cf0-9a2320487d7e"
      },
      "source": [
        "#Dataframe de teste do deploy\n",
        "d=df_raw[df_raw.index>=69500].reset_index()\n",
        "df=d.drop(['cardio'],axis=1)\n",
        "\n",
        "columns={  'id':'Id','age':'Age','gender':'Gender','height':'Height',\n",
        "           'weight':'Weight','ap_hi':'ApHi','ap_lo':'ApLo',\n",
        "           'cholesterol':'Cholesterol','gluc':'Gluc','smoke':'Smoke',\n",
        "           'alco':'Alco','active':'Active','cardio':'Cardio'}\n",
        "\n",
        "df=df.rename(columns=columns)\n",
        "df=df[['Cholesterol','ApLo','ApHi','Age']]\n",
        "df['Age']=df['Age']/365\n",
        "\n",
        "\n",
        "#converter em json\n",
        "df=json.dumps(df.to_dict(orient='records'))\n",
        "\n",
        "#API call\n",
        "path='https://sdnfsdnfttttt.herokuapp.com/'\n",
        "url=path +'oi'\n",
        "headers={'content-type':'application/json'}\n",
        "data=df\n",
        "r=requests.post(url,data=data,headers=headers)\n",
        "print('Status code {}'.format(r.status_code))"
      ],
      "execution_count": 83,
      "outputs": [
        {
          "output_type": "stream",
          "name": "stdout",
          "text": [
            "Status code 200\n"
          ]
        }
      ]
    },
    {
      "cell_type": "code",
      "metadata": {
        "id": "yzJ8_Qah7Gsr",
        "colab": {
          "base_uri": "https://localhost:8080/",
          "height": 424
        },
        "outputId": "624fd96e-d982-4f2d-c5de-0f463960df1f"
      },
      "source": [
        "#Prediction\n",
        "df1=pd.DataFrame(r.json(),columns=r.json()[0].keys())\n",
        "df1"
      ],
      "execution_count": 84,
      "outputs": [
        {
          "output_type": "execute_result",
          "data": {
            "text/html": [
              "<div>\n",
              "<style scoped>\n",
              "    .dataframe tbody tr th:only-of-type {\n",
              "        vertical-align: middle;\n",
              "    }\n",
              "\n",
              "    .dataframe tbody tr th {\n",
              "        vertical-align: top;\n",
              "    }\n",
              "\n",
              "    .dataframe thead th {\n",
              "        text-align: right;\n",
              "    }\n",
              "</style>\n",
              "<table border=\"1\" class=\"dataframe\">\n",
              "  <thead>\n",
              "    <tr style=\"text-align: right;\">\n",
              "      <th></th>\n",
              "      <th>Cholesterol</th>\n",
              "      <th>ApLo</th>\n",
              "      <th>ApHi</th>\n",
              "      <th>Age</th>\n",
              "      <th>Predictions</th>\n",
              "    </tr>\n",
              "  </thead>\n",
              "  <tbody>\n",
              "    <tr>\n",
              "      <th>0</th>\n",
              "      <td>1</td>\n",
              "      <td>90</td>\n",
              "      <td>130</td>\n",
              "      <td>56.68</td>\n",
              "      <td>1</td>\n",
              "    </tr>\n",
              "    <tr>\n",
              "      <th>1</th>\n",
              "      <td>1</td>\n",
              "      <td>90</td>\n",
              "      <td>150</td>\n",
              "      <td>47.83</td>\n",
              "      <td>1</td>\n",
              "    </tr>\n",
              "    <tr>\n",
              "      <th>2</th>\n",
              "      <td>1</td>\n",
              "      <td>80</td>\n",
              "      <td>120</td>\n",
              "      <td>64.40</td>\n",
              "      <td>1</td>\n",
              "    </tr>\n",
              "    <tr>\n",
              "      <th>3</th>\n",
              "      <td>1</td>\n",
              "      <td>80</td>\n",
              "      <td>120</td>\n",
              "      <td>55.58</td>\n",
              "      <td>0</td>\n",
              "    </tr>\n",
              "    <tr>\n",
              "      <th>4</th>\n",
              "      <td>1</td>\n",
              "      <td>80</td>\n",
              "      <td>180</td>\n",
              "      <td>63.93</td>\n",
              "      <td>1</td>\n",
              "    </tr>\n",
              "    <tr>\n",
              "      <th>...</th>\n",
              "      <td>...</td>\n",
              "      <td>...</td>\n",
              "      <td>...</td>\n",
              "      <td>...</td>\n",
              "      <td>...</td>\n",
              "    </tr>\n",
              "    <tr>\n",
              "      <th>495</th>\n",
              "      <td>1</td>\n",
              "      <td>80</td>\n",
              "      <td>120</td>\n",
              "      <td>52.71</td>\n",
              "      <td>0</td>\n",
              "    </tr>\n",
              "    <tr>\n",
              "      <th>496</th>\n",
              "      <td>2</td>\n",
              "      <td>90</td>\n",
              "      <td>140</td>\n",
              "      <td>61.92</td>\n",
              "      <td>1</td>\n",
              "    </tr>\n",
              "    <tr>\n",
              "      <th>497</th>\n",
              "      <td>3</td>\n",
              "      <td>90</td>\n",
              "      <td>180</td>\n",
              "      <td>52.24</td>\n",
              "      <td>1</td>\n",
              "    </tr>\n",
              "    <tr>\n",
              "      <th>498</th>\n",
              "      <td>1</td>\n",
              "      <td>80</td>\n",
              "      <td>135</td>\n",
              "      <td>61.45</td>\n",
              "      <td>1</td>\n",
              "    </tr>\n",
              "    <tr>\n",
              "      <th>499</th>\n",
              "      <td>2</td>\n",
              "      <td>80</td>\n",
              "      <td>120</td>\n",
              "      <td>56.27</td>\n",
              "      <td>0</td>\n",
              "    </tr>\n",
              "  </tbody>\n",
              "</table>\n",
              "<p>500 rows × 5 columns</p>\n",
              "</div>"
            ],
            "text/plain": [
              "     Cholesterol  ApLo  ApHi   Age  Predictions\n",
              "0              1    90   130 56.68            1\n",
              "1              1    90   150 47.83            1\n",
              "2              1    80   120 64.40            1\n",
              "3              1    80   120 55.58            0\n",
              "4              1    80   180 63.93            1\n",
              "..           ...   ...   ...   ...          ...\n",
              "495            1    80   120 52.71            0\n",
              "496            2    90   140 61.92            1\n",
              "497            3    90   180 52.24            1\n",
              "498            1    80   135 61.45            1\n",
              "499            2    80   120 56.27            0\n",
              "\n",
              "[500 rows x 5 columns]"
            ]
          },
          "metadata": {},
          "execution_count": 84
        }
      ]
    }
  ]
}