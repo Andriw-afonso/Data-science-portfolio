{
  "nbformat": 4,
  "nbformat_minor": 0,
  "metadata": {
    "colab": {
      "name": "Early_diagnosis_of_cardiovascular_diseases.ipynb",
      "provenance": [],
      "collapsed_sections": [
        "Hhruxo2xIa9g",
        "M0XZw0DHIccA",
        "ucvRcvY6IrH4",
        "KgCn8dAOI-aY",
        "v8VI0DTjJC2Z",
        "wE9ZX6aTJG84",
        "EUIwEmz2TrdM",
        "GpaejhizMc-r",
        "zD9IibEiJScY",
        "XzUZ5Z-xK3T_",
        "XyU-Tah1LRnn",
        "sH_nWjMBMdAP",
        "MwwsXAvVMhY3",
        "S7nqPULlMn53",
        "70ED8lTYNcBX",
        "AVklj13VN6dI",
        "MvaOgZivOibe",
        "lFgdoU1xO-Z-",
        "qJCVx9icPhqe",
        "pqPsPzXOPmKu",
        "Aga1DnIxSul9",
        "VHWqLgWqS9AN",
        "sK7v7hDCTEn1",
        "ty4DOZo7TZ9F",
        "otnAxQ38Tc3N",
        "XncS_BNqTeUd",
        "yA92tDyiTfbl",
        "gR45ERX5TkWt",
        "07b7kf0eTmHN",
        "5rhg5iwwTnXF",
        "fbWpfZYuTosM",
        "xy1zoWE4TpwM",
        "8Yg0gj-HTqx0",
        "kow0Z9RYUWGD",
        "KuLWx92_Uxmk",
        "01iSNySzVJmM",
        "dPeK1w55Vg8E",
        "0gLyVzvLVx5E",
        "QO5psljeV2hs",
        "ib_DOLWtWd-w",
        "HPE4O3ChW3J8",
        "AxbxcTIKW-Rj",
        "CJPOn-WqXCuM",
        "trQb9Be5XGe7",
        "tuF55r7hXLRT",
        "ZaBD1bLD6kS8",
        "CxmMrZtWXfTj",
        "XePBn6Zwe6SD",
        "Dq4lVVsUXjvL",
        "qa_-oZAwTYR8",
        "Go7oSzpgXoZr",
        "HrqJmWXRTlXs",
        "8VpcFt5mXxGb",
        "MeZ0aoBNTzEj",
        "xQzySzJGYTdz",
        "b4TKUJG4T8DU",
        "aoseJ2aoN0jY",
        "NBMkyZFaUGGr",
        "5U7NwxmYY2XT",
        "u7j3l4avY9Eb",
        "ggunoaLQZANs",
        "XNgufp4nZMza",
        "G5MqjiseZcez",
        "olrRbmpSZlpr",
        "lE3Sxx6BZsrS",
        "5D3ktiHa-j-v",
        "K2ALxcCaaLQd",
        "e6oI5VofQbbR",
        "Cv3RDwLdZswt",
        "_RuzkKWXZuM9",
        "6DMlVJjBaela",
        "eoe3WFtfa0yS",
        "A1lqCvdPa7-q",
        "9fnxebzna_zC"
      ]
    },
    "kernelspec": {
      "display_name": "Python 3",
      "name": "python3"
    }
  },
  "cells": [
    {
      "cell_type": "markdown",
      "metadata": {
        "id": "e-HN8F8vIE0K"
      },
      "source": [
        "#0.0 IMPORTS"
      ]
    },
    {
      "cell_type": "code",
      "metadata": {
        "id": "v5N9moORvrn1"
      },
      "source": [
        "import warnings\n",
        "import random\n",
        "import requests\n",
        "import json\n",
        "import math\n",
        "import pickle\n",
        "import os\n",
        "\n",
        "import pandas              as pd\n",
        "import numpy               as np\n",
        "import seaborn             as sns\n",
        "import matplotlib.pyplot   as plt\n",
        "import scipy.stats         as stats\n",
        "import xgboost             as xgb\n",
        "\n",
        "from sklearn.preprocessing     import LabelEncoder,RobustScaler,MinMaxScaler\n",
        "from sklearn.ensemble          import RandomForestRegressor,RandomForestClassifier\n",
        "from sklearn.linear_model      import LinearRegression,Lasso,LogisticRegression\n",
        "from tabulate                  import tabulate\n",
        "from IPython.display           import Image\n",
        "from sklearn.model_selection   import train_test_split\n",
        "from sklearn.svm               import SVC,SVR\n",
        "from sklearn                   import tree,metrics\n",
        "from sklearn.neighbors         import KNeighborsClassifier \n",
        "from sklearn.naive_bayes       import GaussianNB,BernoulliNB\n",
        "from flask                     import Flask, request,Response\n",
        "from sklearn.feature_selection import RFE\n",
        "from sklearn.metrics           import roc_curve, auc,accuracy_score\n",
        "from sklearn.metrics           import precision_score, recall_score, f1_score\n",
        "from imblearn.under_sampling   import NearMiss\n",
        "from sklearn.model_selection   import StratifiedKFold,cross_val_predict\n",
        "from sklearn.metrics           import confusion_matrix \n",
        "\n",
        "warnings.filterwarnings('ignore')\n",
        "\n",
        "pd.set_option('display.float_format', lambda x: '%.2f' % x)"
      ],
      "execution_count": 1,
      "outputs": []
    },
    {
      "cell_type": "markdown",
      "metadata": {
        "id": "0yYvm-LIIUbr"
      },
      "source": [
        "##0.1 Helper Functions"
      ]
    },
    {
      "cell_type": "code",
      "metadata": {
        "id": "1Zhu7iwVFvXO"
      },
      "source": [
        "def split_and_balancing(y,x,response):\n",
        "\n",
        "  #split into train and test\n",
        "  x_train,x_test,y_train,y_test=train_test_split(x,y,test_size=0.3,random_state=2811)\n",
        "\n",
        "  #NearMiss\n",
        "  nr=NearMiss()\n",
        "  x_train_nm,y_train_nm=nr.fit_resample(x_train,y_train)\n",
        "  x_test_nm,y_test_nm=nr.fit_resample(x_test,y_test)\n",
        "\n",
        "  #Concat\n",
        "  aux1=pd.DataFrame(data=x_train_nm,columns=x_train.columns)\n",
        "  aux1[response]=y_train_nm\n",
        "\n",
        "  aux2=pd.DataFrame(data=x_test_nm,columns=x_test.columns)\n",
        "  aux2[response]=y_test_nm\n",
        "\n",
        "  df=pd.concat([aux1,aux2],axis=0)\n",
        "\n",
        "  #split\n",
        "  y=df[response]\n",
        "  x=df.drop([response,'index','Id'],axis=1)\n",
        "\n",
        "  x_train,x_test,y_train,y_test=train_test_split(x,y,test_size=0.3,random_state=2811)\n",
        "\n",
        "  return [x_train,x_test,y_train,y_test]\n",
        "\n",
        "\n",
        "def graph_of_levels(data,feature):\n",
        "\n",
        "  lista=[]\n",
        "  lista2=['medium','high','very_high']\n",
        "\n",
        "  for i in range(0,len(lista2)):\n",
        "\n",
        "    #healthy\n",
        "    aux1=df4[df4[feature]==lista2[i]]\n",
        "    aux2=aux1.shape[0]\n",
        "\n",
        "    #sick\n",
        "    aux3=aux1[aux1['Cardio']=='yes']\n",
        "    aux4=aux3.shape[0]\n",
        "\n",
        "    #percentage\n",
        "    lista.append((aux4/aux2)*100)\n",
        "\n",
        "  labels=lista2\n",
        "  valores=lista\n",
        "\n",
        "  ax=sns.barplot(x=labels, y=valores)\n",
        "  ax.figure.set_size_inches(8,4)\n",
        "  ax.set_title('Percentage of sick people by levels of {}'.format(feature)) \n",
        "   \n",
        "  return ax\n",
        "\n",
        "\n",
        "def numeric_correlation(numerics,data):\n",
        "\n",
        "  columns=numerics.columns\n",
        "  aux=data[columns]\n",
        "\n",
        "  correlation=aux.corr(method='pearson')\n",
        "  ax=sns.heatmap(correlation,annot=True);\n",
        "  ax.figure.set_size_inches(10,5)\n",
        "  ax.set_title('Correlation between numerical features',fontsize=14)\n",
        "\n",
        "  return ax\n",
        "\n",
        "\n",
        "def model_performance(y_test,yhat,name):\n",
        "\n",
        "  dataframe=pd.DataFrame({ 'ModelName':    name,                                                                                                   \n",
        "                           'Precision':    precision_score(y_test,yhat),                           \n",
        "                           'Recall':       recall_score(y_test,yhat),\n",
        "                           'F1Score':      f1_score(y_test,yhat),\n",
        "                           'Accuracy':     accuracy_score(y_test,yhat)\n",
        "                         },index=[0])\n",
        "  return dataframe\n",
        "\n",
        "\n",
        "def cross_validation(data,kfold,model_name,model,variable_response):\n",
        "  \n",
        "  precision_list=[]\n",
        "  f1_score_list=[]\n",
        "  recall_list=[]\n",
        "  accuracy_list=[]\n",
        "  \n",
        "\n",
        "  fim=[]\n",
        "  inicio=[]  \n",
        "  razao=data.index.max()/kfold\n",
        "  for i in range(1,kfold+1):\n",
        "    fim.append(round(razao*i,2))\n",
        "    inicio.append(round((razao*i)-razao,2))\n",
        "\n",
        "  for k in range(0,kfold):\n",
        "\n",
        "    #Start and end  for validation\n",
        "    validation_start=inicio[k]\n",
        "    validation_end=fim[k]\n",
        "\n",
        "    #Filtering in dataset\n",
        "    aux=data[(data.index>=validation_start) & (data.index<=validation_end)]\n",
        "    training=data.drop(aux.index,axis=0)\n",
        "    validation=data[(data.index>=validation_start) & (data.index<=validation_end)]\n",
        "\n",
        "\n",
        "    #Training and validation dataset\n",
        "\n",
        "    #Training\n",
        "    xtraining=training.drop([variable_response],axis=1)\n",
        "    ytraining=training[variable_response]\n",
        "\n",
        "    #Validation\n",
        "    xvalidation=validation.drop([variable_response],axis=1)\n",
        "    yvalidation=validation[variable_response]\n",
        "\n",
        "\n",
        "    #model\n",
        "    m=model.fit(xtraining,ytraining)\n",
        "\n",
        "    #prediction\n",
        "    yhat=m.predict(xvalidation)\n",
        "\n",
        "    performaces=model_performance(yvalidation,yhat,model_name)\n",
        "    \n",
        "    #performance of each KFold iteration\n",
        "    precision_list.append(performaces['Precision'])\n",
        "    f1_score_list.append(performaces['F1Score'])\n",
        "    recall_list.append(performaces['Recall'])\n",
        "    accuracy_list.append(performaces['Accuracy'])\n",
        "    \n",
        "\n",
        "\n",
        "  return pd.DataFrame({ 'ModelName':     model_name,                        \n",
        "                        'PrecisionCV':   np.round(np.mean(precision_list),2).astype(str)+ '+/-' + np.round(np.std(precision_list),2).astype(str),\n",
        "                        'RecallCV':      np.round(np.mean(recall_list),2).astype(str)+ '+/-'    + np.round(np.std(recall_list),2).astype(str),\n",
        "                        'F1ScoreCV':     np.round(np.mean(f1_score_list),2).astype(str)+ '+/-' +  np.round(np.std(f1_score_list),2).astype(str),                        \n",
        "                        'AccuracyCV':    np.round(np.mean(accuracy_list),2).astype(str)+ '+/-' +  np.round(np.std(accuracy_list),2).astype(str)\n",
        "                       \n",
        "                        },index=[0])\n",
        "  \n",
        "\n",
        "def categorical_correlation(data):\n",
        "\n",
        "  #selected\n",
        "  a=data.select_dtypes(include='object')\n",
        "\n",
        "  #list one , all correlations\n",
        "  columns=a.columns\n",
        "  lista=[]\n",
        "  for i2 in range(0,len(columns)):\n",
        "    for i in range(0,len(columns)):\n",
        "      lista.append(cramer_v(a[columns[i2]],a[columns[i]]))\n",
        "\n",
        "  #list two , correlations by features\n",
        "  lista2=[]\n",
        "  n_features=len(columns)\n",
        "  for i in range(0,n_features):\n",
        "\n",
        "    a=n_features*i\n",
        "    b=n_features*(i+1)\n",
        "\n",
        "    lista2.append(lista[a:b])\n",
        "  \n",
        "  return lista2\n",
        "\n",
        "\n",
        "\n",
        "def descriptive_statistics(data):\n",
        "\n",
        "  #selected\n",
        "  num_attributes=data.select_dtypes(include=['int64','float64'])\n",
        "\n",
        "  #Central tendency=mean,median\n",
        "  ct1=pd.DataFrame(num_attributes.apply(np.mean)).T\n",
        "  ct2=pd.DataFrame(num_attributes.apply(np.median)).T\n",
        "\n",
        "  # Dispersion=std,min,max,range,skew,kurtosis\n",
        "  d1=pd.DataFrame(num_attributes.apply(np.std)).T\n",
        "  d2=pd.DataFrame(num_attributes.apply(min)).T\n",
        "  d3=pd.DataFrame(num_attributes.apply(max)).T\n",
        "  d4=pd.DataFrame(num_attributes.apply(lambda x:x.mean()-x.min())).T\n",
        "  d5=pd.DataFrame(num_attributes.apply(lambda x:x.skew())).T\n",
        "  d6=pd.DataFrame(num_attributes.apply(lambda x:x.kurtosis())).T\n",
        "\n",
        "  #Concatenate\n",
        "  aux=pd.concat([d2,d3,d4,ct1,ct2,d1,d5,d6]).T.reset_index()  \n",
        "  aux.columns=(['Attributes','Min','Max','range','Mean','Median','Std','Skew','kurtosis']) \n",
        "\n",
        "  return aux\n",
        "\n",
        "\n",
        "def cramer_v(x,y):\n",
        "  \n",
        "  cm=pd.crosstab(x, y).to_numpy()\n",
        "  n=cm.sum()\n",
        "  r,k=cm.shape\n",
        "  chi2=stats.chi2_contingency(cm)[0]\n",
        "  chi2corr=max(0,chi2-(k-1)*(r-1)/(n-1))\n",
        "  kcorr=k-(k-1)**2/(n-1)\n",
        "  rcorr=r-(r-1)**2/(n-1)\n",
        "\n",
        "  return np.sqrt((chi2corr/n)/(min(kcorr-1,rcorr-1)))\n",
        "\n",
        "\n",
        "def quartile_limits(data):\n",
        "\n",
        "  q1=data.quantile(0.25)\n",
        "  q3=data.quantile(0.75)\n",
        "  \n",
        "  iiq=q3-q1\n",
        "\n",
        "  inferior_limit=q1-1.5*iiq\n",
        "  upper_limit=q3+1.5*iiq\n",
        "  \n",
        "  return [upper_limit,inferior_limit]\n",
        "\n",
        "\n",
        "\n",
        "def delete_outliers(data):\n",
        "  si=quartile_limits(data)\n",
        "  return (data<si[0]) & (data>si[1])\n",
        "\n",
        "\n",
        "def frequency_chart(response,feature2,data):\n",
        "\n",
        "  plt.subplot(1,2,1)\n",
        "  aux=data[data[response]=='yes']\n",
        "  ax=sns.countplot(aux[feature2])\n",
        "  ax.set_title('Healthy')\n",
        "  ax.figure.set_size_inches(8,4)\n",
        "\n",
        "  plt.subplot(1,2,2)\n",
        "  aux=df4[df4[response]=='no']\n",
        "  ax=sns.countplot(aux[feature2])\n",
        "  ax.set_title('Sick')\n",
        "\n",
        "  return ax\n",
        "\n",
        "\n",
        "def plot_numeric_categorical(feature,feature_response,data):\n",
        "  \n",
        "  plt.subplot(2,2,1)\n",
        "  ax=sns.barplot(x=feature_response,y=feature,data=df4)\n",
        "  ax.figure.set_size_inches(12,6)\n",
        "\n",
        "  plt.subplot(2,2,2)\n",
        "  sns.boxplot(x=feature_response,y=feature,data=df4)\n",
        "\n",
        "  plt.subplot(2,2,3)\n",
        "  numeric_categorical(feature,feature_response,df4)\n",
        "\n",
        "  return ax\n",
        "\n",
        "\n",
        "def numeric_categorical(feature,feature_response,data):\n",
        "\n",
        "  aux=data.copy()\n",
        "  aux[feature_response]=aux[feature_response].apply(lambda x: 1 if x=='yes' else 0)\n",
        "  correlation=aux[[feature,feature_response]].corr(method='pearson')\n",
        "  ax=sns.heatmap(correlation,annot=True);\n",
        "\n",
        "  return ax"
      ],
      "execution_count": 2,
      "outputs": []
    },
    {
      "cell_type": "markdown",
      "metadata": {
        "id": "Hhruxo2xIa9g"
      },
      "source": [
        "##0.2 Loading Data"
      ]
    },
    {
      "cell_type": "code",
      "metadata": {
        "id": "zQG4J1MbIbfH",
        "colab": {
          "base_uri": "https://localhost:8080/",
          "height": 0
        },
        "outputId": "cb1968bb-728e-412a-9578-6976bd9e19df"
      },
      "source": [
        "df_raw=pd.read_csv('/content/cardio_train.csv',sep=';')\n",
        "df_raw.head()"
      ],
      "execution_count": 3,
      "outputs": [
        {
          "output_type": "execute_result",
          "data": {
            "text/html": [
              "<div>\n",
              "<style scoped>\n",
              "    .dataframe tbody tr th:only-of-type {\n",
              "        vertical-align: middle;\n",
              "    }\n",
              "\n",
              "    .dataframe tbody tr th {\n",
              "        vertical-align: top;\n",
              "    }\n",
              "\n",
              "    .dataframe thead th {\n",
              "        text-align: right;\n",
              "    }\n",
              "</style>\n",
              "<table border=\"1\" class=\"dataframe\">\n",
              "  <thead>\n",
              "    <tr style=\"text-align: right;\">\n",
              "      <th></th>\n",
              "      <th>id</th>\n",
              "      <th>age</th>\n",
              "      <th>gender</th>\n",
              "      <th>height</th>\n",
              "      <th>weight</th>\n",
              "      <th>ap_hi</th>\n",
              "      <th>ap_lo</th>\n",
              "      <th>cholesterol</th>\n",
              "      <th>gluc</th>\n",
              "      <th>smoke</th>\n",
              "      <th>alco</th>\n",
              "      <th>active</th>\n",
              "      <th>cardio</th>\n",
              "    </tr>\n",
              "  </thead>\n",
              "  <tbody>\n",
              "    <tr>\n",
              "      <th>0</th>\n",
              "      <td>0</td>\n",
              "      <td>18393</td>\n",
              "      <td>2</td>\n",
              "      <td>168</td>\n",
              "      <td>62.00</td>\n",
              "      <td>110</td>\n",
              "      <td>80</td>\n",
              "      <td>1</td>\n",
              "      <td>1</td>\n",
              "      <td>0</td>\n",
              "      <td>0</td>\n",
              "      <td>1</td>\n",
              "      <td>0</td>\n",
              "    </tr>\n",
              "    <tr>\n",
              "      <th>1</th>\n",
              "      <td>1</td>\n",
              "      <td>20228</td>\n",
              "      <td>1</td>\n",
              "      <td>156</td>\n",
              "      <td>85.00</td>\n",
              "      <td>140</td>\n",
              "      <td>90</td>\n",
              "      <td>3</td>\n",
              "      <td>1</td>\n",
              "      <td>0</td>\n",
              "      <td>0</td>\n",
              "      <td>1</td>\n",
              "      <td>1</td>\n",
              "    </tr>\n",
              "    <tr>\n",
              "      <th>2</th>\n",
              "      <td>2</td>\n",
              "      <td>18857</td>\n",
              "      <td>1</td>\n",
              "      <td>165</td>\n",
              "      <td>64.00</td>\n",
              "      <td>130</td>\n",
              "      <td>70</td>\n",
              "      <td>3</td>\n",
              "      <td>1</td>\n",
              "      <td>0</td>\n",
              "      <td>0</td>\n",
              "      <td>0</td>\n",
              "      <td>1</td>\n",
              "    </tr>\n",
              "    <tr>\n",
              "      <th>3</th>\n",
              "      <td>3</td>\n",
              "      <td>17623</td>\n",
              "      <td>2</td>\n",
              "      <td>169</td>\n",
              "      <td>82.00</td>\n",
              "      <td>150</td>\n",
              "      <td>100</td>\n",
              "      <td>1</td>\n",
              "      <td>1</td>\n",
              "      <td>0</td>\n",
              "      <td>0</td>\n",
              "      <td>1</td>\n",
              "      <td>1</td>\n",
              "    </tr>\n",
              "    <tr>\n",
              "      <th>4</th>\n",
              "      <td>4</td>\n",
              "      <td>17474</td>\n",
              "      <td>1</td>\n",
              "      <td>156</td>\n",
              "      <td>56.00</td>\n",
              "      <td>100</td>\n",
              "      <td>60</td>\n",
              "      <td>1</td>\n",
              "      <td>1</td>\n",
              "      <td>0</td>\n",
              "      <td>0</td>\n",
              "      <td>0</td>\n",
              "      <td>0</td>\n",
              "    </tr>\n",
              "  </tbody>\n",
              "</table>\n",
              "</div>"
            ],
            "text/plain": [
              "   id    age  gender  height  weight  ...  gluc  smoke  alco  active  cardio\n",
              "0   0  18393       2     168   62.00  ...     1      0     0       1       0\n",
              "1   1  20228       1     156   85.00  ...     1      0     0       1       1\n",
              "2   2  18857       1     165   64.00  ...     1      0     0       0       1\n",
              "3   3  17623       2     169   82.00  ...     1      0     0       1       1\n",
              "4   4  17474       1     156   56.00  ...     1      0     0       0       0\n",
              "\n",
              "[5 rows x 13 columns]"
            ]
          },
          "metadata": {},
          "execution_count": 3
        }
      ]
    },
    {
      "cell_type": "markdown",
      "metadata": {
        "id": "M0XZw0DHIccA"
      },
      "source": [
        "# 1.0. DESCRIPTION OF THE DATA"
      ]
    },
    {
      "cell_type": "code",
      "metadata": {
        "id": "XdoVIRfrIw-j"
      },
      "source": [
        "df1=df_raw.copy()"
      ],
      "execution_count": 4,
      "outputs": []
    },
    {
      "cell_type": "markdown",
      "metadata": {
        "id": "ucvRcvY6IrH4"
      },
      "source": [
        "##1.1 Rename Columns"
      ]
    },
    {
      "cell_type": "code",
      "metadata": {
        "id": "jGzMfM53L1xQ"
      },
      "source": [
        "columns={  'id':'Id','age':'Age','gender':'Gender','height':'Height',\n",
        "           'weight':'Weight','ap_hi':'ApHi','ap_lo':'ApLo',\n",
        "           'cholesterol':'Cholesterol','gluc':'Gluc','smoke':'Smoke',\n",
        "           'alco':'Alco','active':'Active','cardio':'Cardio'}\n",
        "\n",
        "df1.rename(columns=columns,inplace=True)"
      ],
      "execution_count": 5,
      "outputs": []
    },
    {
      "cell_type": "markdown",
      "metadata": {
        "id": "KgCn8dAOI-aY"
      },
      "source": [
        "##1.2 Data Dimensions"
      ]
    },
    {
      "cell_type": "code",
      "metadata": {
        "id": "gcnarEM4I_AM",
        "colab": {
          "base_uri": "https://localhost:8080/"
        },
        "outputId": "170eea5a-1d09-488f-d379-d1aa955cfcd8"
      },
      "source": [
        "print('Number of rows: {}'.format(df1.shape[0]))\n",
        "print('Number of cols: {}'.format(df1.shape[1]))"
      ],
      "execution_count": 6,
      "outputs": [
        {
          "output_type": "stream",
          "name": "stdout",
          "text": [
            "Number of rows: 70000\n",
            "Number of cols: 13\n"
          ]
        }
      ]
    },
    {
      "cell_type": "markdown",
      "metadata": {
        "id": "v8VI0DTjJC2Z"
      },
      "source": [
        "##1.3 Data Types"
      ]
    },
    {
      "cell_type": "code",
      "metadata": {
        "id": "NvykRIwwJDm2",
        "colab": {
          "base_uri": "https://localhost:8080/"
        },
        "outputId": "09ef2663-be23-4da8-f8f7-5bd85b11d1f0"
      },
      "source": [
        "df1.dtypes"
      ],
      "execution_count": 7,
      "outputs": [
        {
          "output_type": "execute_result",
          "data": {
            "text/plain": [
              "Id               int64\n",
              "Age              int64\n",
              "Gender           int64\n",
              "Height           int64\n",
              "Weight         float64\n",
              "ApHi             int64\n",
              "ApLo             int64\n",
              "Cholesterol      int64\n",
              "Gluc             int64\n",
              "Smoke            int64\n",
              "Alco             int64\n",
              "Active           int64\n",
              "Cardio           int64\n",
              "dtype: object"
            ]
          },
          "metadata": {},
          "execution_count": 7
        }
      ]
    },
    {
      "cell_type": "markdown",
      "metadata": {
        "id": "wE9ZX6aTJG84"
      },
      "source": [
        "##1.4 Check NA"
      ]
    },
    {
      "cell_type": "code",
      "metadata": {
        "id": "kjnuK3DpJHpG",
        "colab": {
          "base_uri": "https://localhost:8080/"
        },
        "outputId": "fa8addd4-24fb-48f6-8f55-12256bc99fe3"
      },
      "source": [
        "df1.isna().sum()"
      ],
      "execution_count": 8,
      "outputs": [
        {
          "output_type": "execute_result",
          "data": {
            "text/plain": [
              "Id             0\n",
              "Age            0\n",
              "Gender         0\n",
              "Height         0\n",
              "Weight         0\n",
              "ApHi           0\n",
              "ApLo           0\n",
              "Cholesterol    0\n",
              "Gluc           0\n",
              "Smoke          0\n",
              "Alco           0\n",
              "Active         0\n",
              "Cardio         0\n",
              "dtype: int64"
            ]
          },
          "metadata": {},
          "execution_count": 8
        }
      ]
    },
    {
      "cell_type": "markdown",
      "metadata": {
        "id": "EUIwEmz2TrdM"
      },
      "source": [
        "##1.5 Change types"
      ]
    },
    {
      "cell_type": "code",
      "metadata": {
        "id": "1bQ1qUSIjuzs"
      },
      "source": [
        "aux=['Gender','Smoke','Alco','Active','Cholesterol','Gluc','Cardio']\n",
        "df1[aux]=df1[aux].astype(str)"
      ],
      "execution_count": 9,
      "outputs": []
    },
    {
      "cell_type": "markdown",
      "metadata": {
        "id": "GpaejhizMc-r"
      },
      "source": [
        "##1.6 Rewriting the variables"
      ]
    },
    {
      "cell_type": "code",
      "metadata": {
        "id": "NeQYOnInM_o6"
      },
      "source": [
        "levels={'1':'medium','2':'high','3':'very_high'} \n",
        "status={'1':'yes','0':'no'}\n",
        "gender={'1':'woman','2':'man'}\n",
        "\n",
        "#Cholesterol\n",
        "df1['Cholesterol']=df1['Cholesterol'].map(levels)\n",
        "\n",
        "#Gluc\n",
        "df1['Gluc']=df1['Gluc'].map(levels)\n",
        "\n",
        "#Smoke\n",
        "df1['Smoke']=df1['Smoke'].map(status)\n",
        "\n",
        "#Alco\n",
        "df1['Alco']=df1['Alco'].map(status)\n",
        "\n",
        "#Active\n",
        "df1['Active']=df1['Active'].map(status)\n",
        "\n",
        "#Cardio\n",
        "df1['Cardio']=df1['Cardio'].map(status)\n",
        "\n",
        "#Gender\n",
        "df1['Gender']=df1['Gender'].map(gender)\n",
        "\n",
        "#Age\n",
        "df1['Age']=df1['Age']/365\n",
        "\n",
        "#Height\n",
        "df1['Height']=df1['Height']/100"
      ],
      "execution_count": 10,
      "outputs": []
    },
    {
      "cell_type": "code",
      "metadata": {
        "id": "JBrp022-ZOCO"
      },
      "source": [
        "#ApHi\n",
        "df1['ApHi']=df1['ApHi'].apply(lambda x: x*(-1) if x<0 else x)\n",
        "df1=df1[df1['ApHi']<200]"
      ],
      "execution_count": 11,
      "outputs": []
    },
    {
      "cell_type": "code",
      "metadata": {
        "id": "FNE30_9pZ4J-"
      },
      "source": [
        "#ApHi\n",
        "df1['ApLo']=df1['ApLo'].apply(lambda x: x*(-1) if x<0 else x)\n",
        "df1=df1[df1['ApLo']<200]"
      ],
      "execution_count": 12,
      "outputs": []
    },
    {
      "cell_type": "code",
      "metadata": {
        "colab": {
          "base_uri": "https://localhost:8080/",
          "height": 0
        },
        "id": "Ww56PGf5YnLW",
        "outputId": "f156054a-a7a9-471e-e52e-b61cf2f6bf90"
      },
      "source": [
        "sns.boxplot(df1['ApLo'])"
      ],
      "execution_count": 13,
      "outputs": [
        {
          "output_type": "execute_result",
          "data": {
            "text/plain": [
              "<matplotlib.axes._subplots.AxesSubplot at 0x7f3c99d11f90>"
            ]
          },
          "metadata": {},
          "execution_count": 13
        },
        {
          "output_type": "display_data",
          "data": {
            "image/png": "[encoded data removed]",
            "text/plain": [
              "<Figure size 432x288 with 1 Axes>"
            ]
          },
          "metadata": {
            "needs_background": "light"
          }
        }
      ]
    },
    {
      "cell_type": "markdown",
      "metadata": {
        "id": "zD9IibEiJScY"
      },
      "source": [
        "##1.7 Descriptive Statistical"
      ]
    },
    {
      "cell_type": "code",
      "metadata": {
        "id": "zloVBKPSJS9-"
      },
      "source": [
        "num_attributes=df1.select_dtypes(include=['int64','float64'])\n",
        "num_attributes.drop(['Id'],axis=1,inplace=True)\n",
        "\n",
        "cat_attributes=df1.select_dtypes(include=['object'])"
      ],
      "execution_count": 14,
      "outputs": []
    },
    {
      "cell_type": "markdown",
      "metadata": {
        "id": "MjhMzg-7JxR6"
      },
      "source": [
        "###1.7.1 Numerical Attributes"
      ]
    },
    {
      "cell_type": "code",
      "metadata": {
        "id": "HUPUx-mIJ09R",
        "colab": {
          "base_uri": "https://localhost:8080/",
          "height": 0
        },
        "outputId": "88b4942f-41cc-4147-9f5e-1a6b414e7f2f"
      },
      "source": [
        "#Descriptive statistics\n",
        "descriptive_statistics(num_attributes)"
      ],
      "execution_count": 15,
      "outputs": [
        {
          "output_type": "execute_result",
          "data": {
            "text/html": [
              "<div>\n",
              "<style scoped>\n",
              "    .dataframe tbody tr th:only-of-type {\n",
              "        vertical-align: middle;\n",
              "    }\n",
              "\n",
              "    .dataframe tbody tr th {\n",
              "        vertical-align: top;\n",
              "    }\n",
              "\n",
              "    .dataframe thead th {\n",
              "        text-align: right;\n",
              "    }\n",
              "</style>\n",
              "<table border=\"1\" class=\"dataframe\">\n",
              "  <thead>\n",
              "    <tr style=\"text-align: right;\">\n",
              "      <th></th>\n",
              "      <th>Attributes</th>\n",
              "      <th>Min</th>\n",
              "      <th>Max</th>\n",
              "      <th>range</th>\n",
              "      <th>Mean</th>\n",
              "      <th>Median</th>\n",
              "      <th>Std</th>\n",
              "      <th>Skew</th>\n",
              "      <th>kurtosis</th>\n",
              "    </tr>\n",
              "  </thead>\n",
              "  <tbody>\n",
              "    <tr>\n",
              "      <th>0</th>\n",
              "      <td>Age</td>\n",
              "      <td>29.58</td>\n",
              "      <td>64.97</td>\n",
              "      <td>23.74</td>\n",
              "      <td>53.32</td>\n",
              "      <td>53.97</td>\n",
              "      <td>6.76</td>\n",
              "      <td>-0.30</td>\n",
              "      <td>-0.83</td>\n",
              "    </tr>\n",
              "    <tr>\n",
              "      <th>1</th>\n",
              "      <td>Height</td>\n",
              "      <td>0.55</td>\n",
              "      <td>2.50</td>\n",
              "      <td>1.09</td>\n",
              "      <td>1.64</td>\n",
              "      <td>1.65</td>\n",
              "      <td>0.08</td>\n",
              "      <td>-0.65</td>\n",
              "      <td>8.07</td>\n",
              "    </tr>\n",
              "    <tr>\n",
              "      <th>2</th>\n",
              "      <td>Weight</td>\n",
              "      <td>11.00</td>\n",
              "      <td>200.00</td>\n",
              "      <td>63.09</td>\n",
              "      <td>74.09</td>\n",
              "      <td>72.00</td>\n",
              "      <td>14.30</td>\n",
              "      <td>1.00</td>\n",
              "      <td>2.53</td>\n",
              "    </tr>\n",
              "    <tr>\n",
              "      <th>3</th>\n",
              "      <td>ApHi</td>\n",
              "      <td>7.00</td>\n",
              "      <td>197.00</td>\n",
              "      <td>119.15</td>\n",
              "      <td>126.15</td>\n",
              "      <td>120.00</td>\n",
              "      <td>17.33</td>\n",
              "      <td>-0.06</td>\n",
              "      <td>4.98</td>\n",
              "    </tr>\n",
              "    <tr>\n",
              "      <th>4</th>\n",
              "      <td>ApLo</td>\n",
              "      <td>0.00</td>\n",
              "      <td>190.00</td>\n",
              "      <td>81.26</td>\n",
              "      <td>81.26</td>\n",
              "      <td>80.00</td>\n",
              "      <td>9.74</td>\n",
              "      <td>0.27</td>\n",
              "      <td>5.48</td>\n",
              "    </tr>\n",
              "  </tbody>\n",
              "</table>\n",
              "</div>"
            ],
            "text/plain": [
              "  Attributes   Min    Max  range   Mean  Median   Std  Skew  kurtosis\n",
              "0        Age 29.58  64.97  23.74  53.32   53.97  6.76 -0.30     -0.83\n",
              "1     Height  0.55   2.50   1.09   1.64    1.65  0.08 -0.65      8.07\n",
              "2     Weight 11.00 200.00  63.09  74.09   72.00 14.30  1.00      2.53\n",
              "3       ApHi  7.00 197.00 119.15 126.15  120.00 17.33 -0.06      4.98\n",
              "4       ApLo  0.00 190.00  81.26  81.26   80.00  9.74  0.27      5.48"
            ]
          },
          "metadata": {},
          "execution_count": 15
        }
      ]
    },
    {
      "cell_type": "markdown",
      "metadata": {
        "id": "2NLPgZOFKHLI"
      },
      "source": [
        "###1.7.2 Categorical attributes\n"
      ]
    },
    {
      "cell_type": "code",
      "metadata": {
        "id": "BtUghqRXKIFG",
        "colab": {
          "base_uri": "https://localhost:8080/"
        },
        "outputId": "456621a2-8ce2-4637-e713-4fe8c7dcac1f"
      },
      "source": [
        "#number of classes per feature\n",
        "cat_attributes.apply(lambda x: x.unique().shape[0])"
      ],
      "execution_count": 16,
      "outputs": [
        {
          "output_type": "execute_result",
          "data": {
            "text/plain": [
              "Gender         2\n",
              "Cholesterol    3\n",
              "Gluc           3\n",
              "Smoke          2\n",
              "Alco           2\n",
              "Active         2\n",
              "Cardio         2\n",
              "dtype: int64"
            ]
          },
          "metadata": {},
          "execution_count": 16
        }
      ]
    },
    {
      "cell_type": "code",
      "metadata": {
        "id": "FBFfB8S9Knll",
        "colab": {
          "base_uri": "https://localhost:8080/",
          "height": 0
        },
        "outputId": "e645aa6a-bcd2-4751-b8b0-ae5986302c9c"
      },
      "source": [
        "#Plot of categorical features \n",
        "sick=df1[df1['Cardio']=='yes']\n",
        "columns=cat_attributes.columns[:6]\n",
        "\n",
        "for i in range(0,6):\n",
        "  plt.subplot(2,3,i+1)\n",
        "  ax=sns.countplot(x=columns[i], data=sick)\n",
        "  ax.figure.set_size_inches(16,6)"
      ],
      "execution_count": 17,
      "outputs": [
        {
          "output_type": "display_data",
          "data": {
            "image/png": "[encoded data removed]",
            "text/plain": [
              "<Figure size 1152x432 with 6 Axes>"
            ]
          },
          "metadata": {
            "needs_background": "light"
          }
        }
      ]
    },
    {
      "cell_type": "markdown",
      "metadata": {
        "id": "XzUZ5Z-xK3T_"
      },
      "source": [
        "#2.0. FEATURE ENGINEERING"
      ]
    },
    {
      "cell_type": "code",
      "metadata": {
        "id": "GmZYlduZK34F"
      },
      "source": [
        "df2=df1.copy()"
      ],
      "execution_count": 18,
      "outputs": []
    },
    {
      "cell_type": "markdown",
      "metadata": {
        "id": "XyU-Tah1LRnn"
      },
      "source": [
        "##2.1 Hypothesis mind map"
      ]
    },
    {
      "cell_type": "code",
      "metadata": {
        "id": "4UaC0ZiiLSM8",
        "colab": {
          "base_uri": "https://localhost:8080/",
          "height": 0
        },
        "outputId": "798cf09a-bfd1-4aa0-f727-0261efd35b1f"
      },
      "source": [
        "Image('/content/Health.png')"
      ],
      "execution_count": 19,
      "outputs": [
        {
          "output_type": "execute_result",
          "data": {
            "image/png": "[encoded data removed]",
            "text/plain": [
              "<IPython.core.display.Image object>"
            ]
          },
          "metadata": {},
          "execution_count": 19
        }
      ]
    },
    {
      "cell_type": "markdown",
      "metadata": {
        "id": "Clp8FrelMYKY"
      },
      "source": [
        "##2.2 Creation of hypotheses"
      ]
    },
    {
      "cell_type": "markdown",
      "metadata": {
        "id": "sH_nWjMBMdAP"
      },
      "source": [
        "### 2.1.1 Habits"
      ]
    },
    {
      "cell_type": "markdown",
      "metadata": {
        "id": "_y63imwMM1qv"
      },
      "source": [
        "**1.** Sportspersons are less prone to heart disease."
      ]
    },
    {
      "cell_type": "markdown",
      "metadata": {
        "id": "HgBtk1VRM9qG"
      },
      "source": [
        "**2.** Smokers are more prone to heart disease."
      ]
    },
    {
      "cell_type": "markdown",
      "metadata": {
        "id": "uJFpQzqMM-PG"
      },
      "source": [
        " **3.** Alcoholic beverage consumers are more prone to heart disease."
      ]
    },
    {
      "cell_type": "markdown",
      "metadata": {
        "id": "MwwsXAvVMhY3"
      },
      "source": [
        "### 2.1.2 Physical properties"
      ]
    },
    {
      "cell_type": "markdown",
      "metadata": {
        "id": "H5i8MLZsNLDw"
      },
      "source": [
        "**1.** Smaller people are more prone to heart disease."
      ]
    },
    {
      "cell_type": "markdown",
      "metadata": {
        "id": "v-ZEFQV3NLDx"
      },
      "source": [
        "**2.** Pessoas com o gênero masculino tem maior propensão a doenças cardíacas."
      ]
    },
    {
      "cell_type": "markdown",
      "metadata": {
        "id": "uuY1r2wLNLDx"
      },
      "source": [
        " **3.** Older people are more prone to heart disease."
      ]
    },
    {
      "cell_type": "markdown",
      "metadata": {
        "id": "crzFtZEsoAm5"
      },
      "source": [
        "**4.** People with high body weight are more prone to heart disease."
      ]
    },
    {
      "cell_type": "markdown",
      "metadata": {
        "id": "S7nqPULlMn53"
      },
      "source": [
        "### 2.1.3 Medical history"
      ]
    },
    {
      "cell_type": "markdown",
      "metadata": {
        "id": "DQ26N_DJNNTE"
      },
      "source": [
        "**1.** People with high cholesterol are more prone to heart disease."
      ]
    },
    {
      "cell_type": "markdown",
      "metadata": {
        "id": "URapvuomNNTF"
      },
      "source": [
        "**2.** People with high systolic blood pressure are more prone to heart disease."
      ]
    },
    {
      "cell_type": "markdown",
      "metadata": {
        "id": "BFqNYezGNNTK"
      },
      "source": [
        " **3.** People with high diastolic blood pressure are more prone to heart disease."
      ]
    },
    {
      "cell_type": "markdown",
      "metadata": {
        "id": "1M7UG3ZNpITh"
      },
      "source": [
        "**4.** People with high blood glucose are more prone to heart disease."
      ]
    },
    {
      "cell_type": "markdown",
      "metadata": {
        "id": "70ED8lTYNcBX"
      },
      "source": [
        "##2.3 Final list of hypotheses"
      ]
    },
    {
      "cell_type": "markdown",
      "metadata": {
        "id": "ZuuvvGj4Nh2m"
      },
      "source": [
        "**H1-**.Players of sports are less prone to heart disease.\n",
        "\n",
        "**H2-**.Smokers are more prone to heart disease.\n",
        "\n",
        "**H3-**.Consumers of alcoholic beverages are more prone to heart disease.\n",
        "\n",
        "**H4-**.People of shorter stature are more prone to heart disease.\n",
        "\n",
        "**H5-**.People with the male gender are more prone to heart disease.\n",
        "\n",
        "**H6-**. People with advanced age are more prone to heart disease.\n",
        "\n",
        "**H7-**.People with high body weight are more prone to heart disease.\n",
        "\n",
        "**H8-**.People with high cholesterol are more prone to heart disease.\n",
        "\n",
        "**H9-**.People with high systolic blood pressure are more prone to heart disease.\n",
        "\n",
        "**H10-**.People with high diastolic blood pressure are more prone to heart disease.\n",
        "\n",
        "**H11-**.People with high glucose are more prone to heart disease."
      ]
    },
    {
      "cell_type": "markdown",
      "metadata": {
        "id": "AVklj13VN6dI"
      },
      "source": [
        "##2.4 Feature Engineering"
      ]
    },
    {
      "cell_type": "code",
      "metadata": {
        "id": "qsduv1pr0sSE"
      },
      "source": [
        "#Imc\n",
        "df2['Imc']=df2['Weight']/(df2['Height']**2)"
      ],
      "execution_count": 20,
      "outputs": []
    },
    {
      "cell_type": "markdown",
      "metadata": {
        "id": "MvaOgZivOibe"
      },
      "source": [
        "#3.0. VARIABLES FILTERING"
      ]
    },
    {
      "cell_type": "code",
      "metadata": {
        "id": "Zc2Z2do8Ok27"
      },
      "source": [
        "df3=df2.copy()"
      ],
      "execution_count": 21,
      "outputs": []
    },
    {
      "cell_type": "markdown",
      "metadata": {
        "id": "lFgdoU1xO-Z-"
      },
      "source": [
        "##3.1. Line Filtering"
      ]
    },
    {
      "cell_type": "code",
      "metadata": {
        "id": "7GhFRqn0rPcB"
      },
      "source": [
        "df3=df3[(df3['ApHi']<150)  & (df3['ApHi']>80)]\n",
        "df3=df3[(df3['ApLo']<90) & (df3['ApLo']>50)]\n",
        "df3=df3.reset_index()"
      ],
      "execution_count": 22,
      "outputs": []
    },
    {
      "cell_type": "markdown",
      "metadata": {
        "id": "sR0iJiLkPN_9"
      },
      "source": [
        "#4.0. EXPLORATORY DATA ANALYSIS"
      ]
    },
    {
      "cell_type": "code",
      "metadata": {
        "id": "u_Lb_BBdPQCD"
      },
      "source": [
        "df4=df3.copy()"
      ],
      "execution_count": 23,
      "outputs": []
    },
    {
      "cell_type": "markdown",
      "metadata": {
        "id": "PAmggbCsPcbd"
      },
      "source": [
        "## 4.1 Univariate Analysis"
      ]
    },
    {
      "cell_type": "markdown",
      "metadata": {
        "id": "qJCVx9icPhqe"
      },
      "source": [
        "###4.1.1. Response Variable"
      ]
    },
    {
      "cell_type": "code",
      "metadata": {
        "id": "mka8XN6PPc_T",
        "colab": {
          "base_uri": "https://localhost:8080/",
          "height": 0
        },
        "outputId": "5b2a6c69-4b3e-4704-a2da-beffdc60e250"
      },
      "source": [
        "ax=sns.countplot(df4['Cardio'])"
      ],
      "execution_count": 24,
      "outputs": [
        {
          "output_type": "display_data",
          "data": {
            "image/png": "[encoded data removed]",
            "text/plain": [
              "<Figure size 432x288 with 1 Axes>"
            ]
          },
          "metadata": {
            "needs_background": "light"
          }
        }
      ]
    },
    {
      "cell_type": "markdown",
      "metadata": {
        "id": "pqPsPzXOPmKu"
      },
      "source": [
        "###4.1.2. Numerical Variable"
      ]
    },
    {
      "cell_type": "code",
      "metadata": {
        "id": "5tdulmzAPmzF",
        "colab": {
          "base_uri": "https://localhost:8080/",
          "height": 0
        },
        "outputId": "d63506b5-cd09-4785-8f2f-0b173bcf2a7a"
      },
      "source": [
        "#plot of numerical features\n",
        "columns=num_attributes.columns\n",
        "\n",
        "for i in range(0,len(columns)):\n",
        "\n",
        "  plt.subplot(len(columns),3,i+1)\n",
        "  ax=sns.distplot(df4[columns[i]])  \n",
        "  ax.figure.set_size_inches(16,20)"
      ],
      "execution_count": 25,
      "outputs": [
        {
          "output_type": "display_data",
          "data": {
            "image/png": "[encoded data removed]",
            "text/plain": [
              "<Figure size 1152x1440 with 5 Axes>"
            ]
          },
          "metadata": {
            "needs_background": "light"
          }
        }
      ]
    },
    {
      "cell_type": "markdown",
      "metadata": {
        "id": "Aga1DnIxSul9"
      },
      "source": [
        "###4.1.3. Categorical Variable"
      ]
    },
    {
      "cell_type": "code",
      "metadata": {
        "id": "Y9zqIuHfSvH2",
        "colab": {
          "base_uri": "https://localhost:8080/",
          "height": 0
        },
        "outputId": "8e6a2a13-e4a6-4997-d697-e46e72ab47ee"
      },
      "source": [
        "sick=df4[df4['Cardio']=='yes']\n",
        "healthy=df4[df4['Cardio']=='no']\n",
        "\n",
        "#Genero\n",
        "plt.subplot(6,2,1)\n",
        "ax=sns.countplot(sick['Gender'])\n",
        "ax.figure.set_size_inches(12,20)\n",
        "\n",
        "plt.subplot(6,2,2)\n",
        "ax=sns.kdeplot(sick[sick['Gender']=='man']['Age'],label='Gender',shade=True)\n",
        "ax=sns.kdeplot(sick[sick['Gender']=='woman']['Age'],label='Gender',shade=True)\n",
        "\n",
        "#Cholesterol\n",
        "plt.subplot(6,2,3)\n",
        "ax=sns.countplot(sick['Cholesterol'])\n",
        "\n",
        "plt.subplot(6,2,4)\n",
        "ax=sns.kdeplot(sick[sick['Cholesterol']=='medium']['Age'],label='Cholesterol',shade=True)\n",
        "ax=sns.kdeplot(sick[sick['Cholesterol']=='high']['Age'],label='Cholesterol',shade=True)\n",
        "ax=sns.kdeplot(sick[sick['Cholesterol']=='very_high']['Age'],label='Cholesterol',shade=True)\n",
        "\n",
        "#Gluc\n",
        "plt.subplot(6,2,5)\n",
        "ax=sns.countplot(sick['Gluc'])\n",
        "\n",
        "plt.subplot(6,2,6)\n",
        "ax=sns.kdeplot(sick[sick['Gluc']=='medium']['Age'],label='Gender',shade=True)\n",
        "ax=sns.kdeplot(sick[sick['Gluc']=='high']['Age'],label='Gender',shade=True)\n",
        "ax=sns.kdeplot(sick[sick['Gluc']=='very_high']['Age'],label='Gender',shade=True)\n",
        "\n",
        "#Smoke\n",
        "plt.subplot(6,2,7)\n",
        "ax=sns.countplot(sick['Smoke'])\n",
        "\n",
        "plt.subplot(6,2,8)\n",
        "ax=sns.kdeplot(sick[sick['Smoke']=='Age']['Age'],label='Age',shade=True)\n",
        "ax=sns.kdeplot(sick[sick['Smoke']=='Age']['Age'],label='Gender',shade=True)\n",
        "\n",
        "#Alco\n",
        "plt.subplot(6,2,9)\n",
        "ax=sns.countplot(sick['Alco'])\n",
        "\n",
        "plt.subplot(6,2,10)\n",
        "ax=sns.kdeplot(sick[sick['Alco']=='yes']['Age'],label='Age',shade=True)\n",
        "ax=sns.kdeplot(sick[sick['Alco']=='no']['Age'],label='Age',shade=True)\n",
        "\n",
        "#Active\n",
        "plt.subplot(6,2,11)\n",
        "ax=sns.countplot(sick['Active'])\n",
        "\n",
        "plt.subplot(6,2,12)\n",
        "ax=sns.kdeplot(sick[sick['Active']=='yes']['Age'],label='Gender',shade=True)\n",
        "ax=sns.kdeplot(sick[sick['Active']=='no']['Age'],label='Gender',shade=True)"
      ],
      "execution_count": 26,
      "outputs": [
        {
          "output_type": "display_data",
          "data": {
            "image/png": "[encoded data removed]",
            "text/plain": [
              "<Figure size 864x1440 with 12 Axes>"
            ]
          },
          "metadata": {
            "needs_background": "light"
          }
        }
      ]
    },
    {
      "cell_type": "markdown",
      "metadata": {
        "id": "VHWqLgWqS9AN"
      },
      "source": [
        "## 4.2 Bivariate Analysis"
      ]
    },
    {
      "cell_type": "markdown",
      "metadata": {
        "id": "sK7v7hDCTEn1"
      },
      "source": [
        "### ***H1***. Players of sports are less prone to heart disease.(False-Low)"
      ]
    },
    {
      "cell_type": "code",
      "metadata": {
        "colab": {
          "base_uri": "https://localhost:8080/",
          "height": 0
        },
        "id": "5CJiyB2pJkP0",
        "outputId": "d48c4f4b-4460-40d3-d3b6-c5dfc4c68579"
      },
      "source": [
        "frequency_chart('Cardio','Active',df4)"
      ],
      "execution_count": 27,
      "outputs": [
        {
          "output_type": "execute_result",
          "data": {
            "text/plain": [
              "<matplotlib.axes._subplots.AxesSubplot at 0x7f3c994f0250>"
            ]
          },
          "metadata": {},
          "execution_count": 27
        },
        {
          "output_type": "display_data",
          "data": {
            "image/png": "[encoded data removed]",
            "text/plain": [
              "<Figure size 576x288 with 2 Axes>"
            ]
          },
          "metadata": {
            "needs_background": "light"
          }
        }
      ]
    },
    {
      "cell_type": "markdown",
      "metadata": {
        "id": "ty4DOZo7TZ9F"
      },
      "source": [
        "### ***H2***. Smokers are more prone to heart disease.(False-Low)\n"
      ]
    },
    {
      "cell_type": "code",
      "metadata": {
        "colab": {
          "base_uri": "https://localhost:8080/",
          "height": 0
        },
        "id": "xM8J0KnqJ9n9",
        "outputId": "a643599d-9a3c-4215-e223-f786b738a8d0"
      },
      "source": [
        "frequency_chart('Cardio','Smoke',df4)"
      ],
      "execution_count": 28,
      "outputs": [
        {
          "output_type": "execute_result",
          "data": {
            "text/plain": [
              "<matplotlib.axes._subplots.AxesSubplot at 0x7f3c8c9bd050>"
            ]
          },
          "metadata": {},
          "execution_count": 28
        },
        {
          "output_type": "display_data",
          "data": {
            "image/png": "[encoded data removed]",
            "text/plain": [
              "<Figure size 576x288 with 2 Axes>"
            ]
          },
          "metadata": {
            "needs_background": "light"
          }
        }
      ]
    },
    {
      "cell_type": "markdown",
      "metadata": {
        "id": "otnAxQ38Tc3N"
      },
      "source": [
        "### ***H3***. Consumers of alcoholic beverages are more prone to heart disease.(FALSE-Low)"
      ]
    },
    {
      "cell_type": "code",
      "metadata": {
        "colab": {
          "base_uri": "https://localhost:8080/",
          "height": 0
        },
        "id": "4L3Jb3IkLJdd",
        "outputId": "5fc2b68b-5356-4227-e135-e4a5d2f9d2c1"
      },
      "source": [
        "frequency_chart('Cardio','Alco',df4)"
      ],
      "execution_count": 29,
      "outputs": [
        {
          "output_type": "execute_result",
          "data": {
            "text/plain": [
              "<matplotlib.axes._subplots.AxesSubplot at 0x7f3c8c916a90>"
            ]
          },
          "metadata": {},
          "execution_count": 29
        },
        {
          "output_type": "display_data",
          "data": {
            "image/png": "[encoded data removed]",
            "text/plain": [
              "<Figure size 576x288 with 2 Axes>"
            ]
          },
          "metadata": {
            "needs_background": "light"
          }
        }
      ]
    },
    {
      "cell_type": "markdown",
      "metadata": {
        "id": "XncS_BNqTeUd"
      },
      "source": [
        "### ***H4***. People of shorter stature are more prone to heart disease.(FALSE-Low)"
      ]
    },
    {
      "cell_type": "code",
      "metadata": {
        "colab": {
          "base_uri": "https://localhost:8080/",
          "height": 0
        },
        "id": "_iDUQV8PL5Ld",
        "outputId": "2a708c70-8ebf-45e3-d6ce-f3545ba2f31b"
      },
      "source": [
        "plot_numeric_categorical('Height','Cardio',df4)"
      ],
      "execution_count": 30,
      "outputs": [
        {
          "output_type": "execute_result",
          "data": {
            "text/plain": [
              "<matplotlib.axes._subplots.AxesSubplot at 0x7f3c8c838450>"
            ]
          },
          "metadata": {},
          "execution_count": 30
        },
        {
          "output_type": "display_data",
          "data": {
            "image/png": "[encoded data removed]",
            "text/plain": [
              "<Figure size 864x432 with 4 Axes>"
            ]
          },
          "metadata": {
            "needs_background": "light"
          }
        }
      ]
    },
    {
      "cell_type": "markdown",
      "metadata": {
        "id": "yA92tDyiTfbl"
      },
      "source": [
        "### ***H5***. People with the male gender are more prone to heart disease.(FALSE-Low)\n"
      ]
    },
    {
      "cell_type": "code",
      "metadata": {
        "colab": {
          "base_uri": "https://localhost:8080/",
          "height": 0
        },
        "id": "rAvEZy0vPXv3",
        "outputId": "861c13e5-7f22-4092-b416-d951f7b12f92"
      },
      "source": [
        "frequency_chart('Cardio','Gender',df4)"
      ],
      "execution_count": 31,
      "outputs": [
        {
          "output_type": "execute_result",
          "data": {
            "text/plain": [
              "<matplotlib.axes._subplots.AxesSubplot at 0x7f3c994391d0>"
            ]
          },
          "metadata": {},
          "execution_count": 31
        },
        {
          "output_type": "display_data",
          "data": {
            "image/png": "[encoded data removed]",
            "text/plain": [
              "<Figure size 576x288 with 2 Axes>"
            ]
          },
          "metadata": {
            "needs_background": "light"
          }
        }
      ]
    },
    {
      "cell_type": "markdown",
      "metadata": {
        "id": "gR45ERX5TkWt"
      },
      "source": [
        "### ***H6***. People with advanced age are more prone to heart disease.(TRUE-Medium)\n"
      ]
    },
    {
      "cell_type": "code",
      "metadata": {
        "colab": {
          "base_uri": "https://localhost:8080/",
          "height": 0
        },
        "id": "BUh5t_rWRU0_",
        "outputId": "8546edbd-bf73-4f5e-e8ae-1e99982e1641"
      },
      "source": [
        "plot_numeric_categorical('Age','Cardio',df4)"
      ],
      "execution_count": 32,
      "outputs": [
        {
          "output_type": "execute_result",
          "data": {
            "text/plain": [
              "<matplotlib.axes._subplots.AxesSubplot at 0x7f3c9928fa10>"
            ]
          },
          "metadata": {},
          "execution_count": 32
        },
        {
          "output_type": "display_data",
          "data": {
            "image/png": "[encoded data removed]",
            "text/plain": [
              "<Figure size 864x432 with 4 Axes>"
            ]
          },
          "metadata": {
            "needs_background": "light"
          }
        }
      ]
    },
    {
      "cell_type": "markdown",
      "metadata": {
        "id": "07b7kf0eTmHN"
      },
      "source": [
        "### ***H7***. People with high body weight are more prone to heart disease.(TRUE-Low)"
      ]
    },
    {
      "cell_type": "code",
      "metadata": {
        "colab": {
          "base_uri": "https://localhost:8080/",
          "height": 0
        },
        "id": "2A03BtQeR_I3",
        "outputId": "eaed1894-692f-4a5e-e376-eccf514b5ea5"
      },
      "source": [
        "plot_numeric_categorical('Weight','Cardio',df4)"
      ],
      "execution_count": 33,
      "outputs": [
        {
          "output_type": "execute_result",
          "data": {
            "text/plain": [
              "<matplotlib.axes._subplots.AxesSubplot at 0x7f3c99100850>"
            ]
          },
          "metadata": {},
          "execution_count": 33
        },
        {
          "output_type": "display_data",
          "data": {
            "image/png": "[encoded data removed]",
            "text/plain": [
              "<Figure size 864x432 with 4 Axes>"
            ]
          },
          "metadata": {
            "needs_background": "light"
          }
        }
      ]
    },
    {
      "cell_type": "markdown",
      "metadata": {
        "id": "5rhg5iwwTnXF"
      },
      "source": [
        "### ***H8***. People with high cholesterol are more prone to heart disease.(TRUE-High)"
      ]
    },
    {
      "cell_type": "code",
      "metadata": {
        "id": "abTiIW7Akx6G",
        "colab": {
          "base_uri": "https://localhost:8080/",
          "height": 0
        },
        "outputId": "d623af36-2b85-405a-9a19-2f188e7e766e"
      },
      "source": [
        "#Calculation of the percentage of sick people by cholesterol levels\n",
        "lista=[]\n",
        "lista2=['medium','high','very_high']\n",
        "\n",
        "for i in range(0,len(lista2)):\n",
        "\n",
        "  #healphy\n",
        "  aux1=df4[df4['Cholesterol']==lista2[i]]\n",
        "  aux2=aux1.shape[0]\n",
        "\n",
        "  #sick\n",
        "  aux3=aux1[aux1['Cardio']=='yes']\n",
        "  aux4=aux3.shape[0]\n",
        "\n",
        "  #Percentage\n",
        "  lista.append((aux4/aux2)*100)\n",
        "\n",
        "#plot\n",
        "labels=lista2\n",
        "valores=lista\n",
        "\n",
        "ax=sns.barplot(x=labels, y=valores)\n",
        "ax.figure.set_size_inches(8,4)\n",
        "ax.set_title('Percentage of people sick by cholesterol levels')"
      ],
      "execution_count": 34,
      "outputs": [
        {
          "output_type": "execute_result",
          "data": {
            "text/plain": [
              "Text(0.5, 1.0, 'Percentage of people sick by cholesterol levels')"
            ]
          },
          "metadata": {},
          "execution_count": 34
        },
        {
          "output_type": "display_data",
          "data": {
            "image/png": "[encoded data removed]",
            "text/plain": [
              "<Figure size 576x288 with 1 Axes>"
            ]
          },
          "metadata": {
            "needs_background": "light"
          }
        }
      ]
    },
    {
      "cell_type": "markdown",
      "metadata": {
        "id": "fbWpfZYuTosM"
      },
      "source": [
        "### ***H9***. People with high systolic blood pressure are more prone to heart disease.(TRUE-High)"
      ]
    },
    {
      "cell_type": "code",
      "metadata": {
        "id": "MookZO9ApXYl",
        "colab": {
          "base_uri": "https://localhost:8080/",
          "height": 0
        },
        "outputId": "d71fd556-c828-4d54-aa9b-98726c9283ce"
      },
      "source": [
        "#delete outliers\n",
        "aux=df4[delete_outliers(df4['ApHi'])]\n",
        "\n",
        "ax=sns.boxplot(x='Cardio', y='ApHi',data=aux)       \n",
        "ax.figure.set_size_inches(8,4) "
      ],
      "execution_count": 35,
      "outputs": [
        {
          "output_type": "display_data",
          "data": {
            "image/png": "[encoded data removed]",
            "text/plain": [
              "<Figure size 576x288 with 1 Axes>"
            ]
          },
          "metadata": {
            "needs_background": "light"
          }
        }
      ]
    },
    {
      "cell_type": "markdown",
      "metadata": {
        "id": "xy1zoWE4TpwM"
      },
      "source": [
        "### ***H10***. People with high diastolic blood pressure are more prone to heart disease.(TRUE-medium)"
      ]
    },
    {
      "cell_type": "code",
      "metadata": {
        "id": "jKrf2doBT03E",
        "colab": {
          "base_uri": "https://localhost:8080/",
          "height": 0
        },
        "outputId": "95c04fac-8ba2-4f2d-a99c-f57f00185d59"
      },
      "source": [
        "#delete outliers\n",
        "aux=df4[delete_outliers(df4['ApLo'])]\n",
        "\n",
        "ax=sns.boxplot(x='Cardio', y='ApLo',data=aux)       \n",
        "ax.figure.set_size_inches(8,4) "
      ],
      "execution_count": 36,
      "outputs": [
        {
          "output_type": "display_data",
          "data": {
            "image/png": "[encoded data removed]",
            "text/plain": [
              "<Figure size 576x288 with 1 Axes>"
            ]
          },
          "metadata": {
            "needs_background": "light"
          }
        }
      ]
    },
    {
      "cell_type": "markdown",
      "metadata": {
        "id": "8Yg0gj-HTqx0"
      },
      "source": [
        "### ***H11***. People with high glucose are more prone to heart disease.(TRUE-High)"
      ]
    },
    {
      "cell_type": "code",
      "metadata": {
        "id": "TFn6laBEx5zl",
        "colab": {
          "base_uri": "https://localhost:8080/",
          "height": 0
        },
        "outputId": "a0fcc963-616d-4a12-986e-51b5ed2aa4b4"
      },
      "source": [
        "graph_of_levels(df4,'Gluc')"
      ],
      "execution_count": 37,
      "outputs": [
        {
          "output_type": "execute_result",
          "data": {
            "text/plain": [
              "<matplotlib.axes._subplots.AxesSubplot at 0x7f3c9906f5d0>"
            ]
          },
          "metadata": {},
          "execution_count": 37
        },
        {
          "output_type": "display_data",
          "data": {
            "image/png": "[encoded data removed]",
            "text/plain": [
              "<Figure size 576x288 with 1 Axes>"
            ]
          },
          "metadata": {
            "needs_background": "light"
          }
        }
      ]
    },
    {
      "cell_type": "markdown",
      "metadata": {
        "id": "kow0Z9RYUWGD"
      },
      "source": [
        "### 4.2.1 Summary of hypotheses"
      ]
    },
    {
      "cell_type": "code",
      "metadata": {
        "id": "gbslqyTZUXSM",
        "colab": {
          "base_uri": "https://localhost:8080/"
        },
        "outputId": "df2eb5e7-967a-4ae5-86f8-9ceb3e8f55b3"
      },
      "source": [
        "tab=[['Hypotheses','Status'  ,'Relevance'],\n",
        "     ['H1'        ,'False'   ,'low'],\n",
        "     ['H2'        ,'False'   ,'low'],\n",
        "     ['H3'        ,'False'   ,'low'],\n",
        "     ['H4'        ,'False'   ,'low'],\n",
        "     ['H5'        ,'True'    ,'medium'],\n",
        "     ['H6'        ,'True'    ,'low'],\n",
        "     ['H7'        ,'True'    ,'low'],\n",
        "     ['H8'        ,'True'    ,'right'],\n",
        "     ['H9'        ,'True'    ,'right'],\n",
        "     ['H10'       ,'True'    ,'medium'],\n",
        "     ['H11'       ,'True'    ,'high']]\n",
        "\n",
        "print(tabulate(tab,headers='firstrow'))"
      ],
      "execution_count": 38,
      "outputs": [
        {
          "output_type": "stream",
          "name": "stdout",
          "text": [
            "Hypotheses    Status    Relevance\n",
            "------------  --------  -----------\n",
            "H1            False     low\n",
            "H2            False     low\n",
            "H3            False     low\n",
            "H4            False     low\n",
            "H5            True      medium\n",
            "H6            True      low\n",
            "H7            True      low\n",
            "H8            True      right\n",
            "H9            True      right\n",
            "H10           True      medium\n",
            "H11           True      high\n"
          ]
        }
      ]
    },
    {
      "cell_type": "markdown",
      "metadata": {
        "id": "MJOXC0zsUrRs"
      },
      "source": [
        "## 4.3 Multivariate Analysis"
      ]
    },
    {
      "cell_type": "markdown",
      "metadata": {
        "id": "KuLWx92_Uxmk"
      },
      "source": [
        "###4.3.1. Numerical Atributes"
      ]
    },
    {
      "cell_type": "code",
      "metadata": {
        "id": "7MudXpNcm-Z-",
        "colab": {
          "base_uri": "https://localhost:8080/",
          "height": 0
        },
        "outputId": "a671283a-3c9c-47a9-cf44-d59fa11f9271"
      },
      "source": [
        "numeric_correlation(num_attributes,df4)"
      ],
      "execution_count": 39,
      "outputs": [
        {
          "output_type": "execute_result",
          "data": {
            "text/plain": [
              "<matplotlib.axes._subplots.AxesSubplot at 0x7f3c8c658fd0>"
            ]
          },
          "metadata": {},
          "execution_count": 39
        },
        {
          "output_type": "display_data",
          "data": {
            "image/png": "[encoded data removed]",
            "text/plain": [
              "<Figure size 720x360 with 2 Axes>"
            ]
          },
          "metadata": {
            "needs_background": "light"
          }
        }
      ]
    },
    {
      "cell_type": "markdown",
      "metadata": {
        "id": "uOzUB1c4U6_M"
      },
      "source": [
        "###4.3.2. Categorical Atributes"
      ]
    },
    {
      "cell_type": "code",
      "metadata": {
        "id": "5RBcE_Ya1_D9",
        "colab": {
          "base_uri": "https://localhost:8080/",
          "height": 0
        },
        "outputId": "3ec1f3ab-78e3-4b26-8105-2fdcf0c0eee7"
      },
      "source": [
        "lista=categorical_correlation(df4)\n",
        "\n",
        "d=pd.DataFrame({'Gender':       lista[0],\n",
        "                'Cholesterol':  lista[1],\n",
        "                'Gluc':         lista[2],\n",
        "                'Smoke':        lista[3],\n",
        "                'Alco':         lista[4],\n",
        "                'Active':       lista[5],\n",
        "                'Cardio':       lista[6]\n",
        "                })\n",
        "\n",
        "d=d.set_index(d.columns)\n",
        "\n",
        "d.head()"
      ],
      "execution_count": 40,
      "outputs": [
        {
          "output_type": "execute_result",
          "data": {
            "text/html": [
              "<div>\n",
              "<style scoped>\n",
              "    .dataframe tbody tr th:only-of-type {\n",
              "        vertical-align: middle;\n",
              "    }\n",
              "\n",
              "    .dataframe tbody tr th {\n",
              "        vertical-align: top;\n",
              "    }\n",
              "\n",
              "    .dataframe thead th {\n",
              "        text-align: right;\n",
              "    }\n",
              "</style>\n",
              "<table border=\"1\" class=\"dataframe\">\n",
              "  <thead>\n",
              "    <tr style=\"text-align: right;\">\n",
              "      <th></th>\n",
              "      <th>Gender</th>\n",
              "      <th>Cholesterol</th>\n",
              "      <th>Gluc</th>\n",
              "      <th>Smoke</th>\n",
              "      <th>Alco</th>\n",
              "      <th>Active</th>\n",
              "      <th>Cardio</th>\n",
              "    </tr>\n",
              "  </thead>\n",
              "  <tbody>\n",
              "    <tr>\n",
              "      <th>Gender</th>\n",
              "      <td>1.00</td>\n",
              "      <td>0.04</td>\n",
              "      <td>0.02</td>\n",
              "      <td>0.34</td>\n",
              "      <td>0.16</td>\n",
              "      <td>0.01</td>\n",
              "      <td>0.01</td>\n",
              "    </tr>\n",
              "    <tr>\n",
              "      <th>Cholesterol</th>\n",
              "      <td>0.04</td>\n",
              "      <td>1.00</td>\n",
              "      <td>0.41</td>\n",
              "      <td>0.02</td>\n",
              "      <td>0.04</td>\n",
              "      <td>0.01</td>\n",
              "      <td>0.23</td>\n",
              "    </tr>\n",
              "    <tr>\n",
              "      <th>Gluc</th>\n",
              "      <td>0.02</td>\n",
              "      <td>0.41</td>\n",
              "      <td>1.00</td>\n",
              "      <td>0.02</td>\n",
              "      <td>0.02</td>\n",
              "      <td>0.02</td>\n",
              "      <td>0.10</td>\n",
              "    </tr>\n",
              "    <tr>\n",
              "      <th>Smoke</th>\n",
              "      <td>0.34</td>\n",
              "      <td>0.02</td>\n",
              "      <td>0.02</td>\n",
              "      <td>1.00</td>\n",
              "      <td>0.34</td>\n",
              "      <td>0.03</td>\n",
              "      <td>0.03</td>\n",
              "    </tr>\n",
              "    <tr>\n",
              "      <th>Alco</th>\n",
              "      <td>0.16</td>\n",
              "      <td>0.04</td>\n",
              "      <td>0.02</td>\n",
              "      <td>0.34</td>\n",
              "      <td>1.00</td>\n",
              "      <td>0.02</td>\n",
              "      <td>0.03</td>\n",
              "    </tr>\n",
              "  </tbody>\n",
              "</table>\n",
              "</div>"
            ],
            "text/plain": [
              "             Gender  Cholesterol  Gluc  Smoke  Alco  Active  Cardio\n",
              "Gender         1.00         0.04  0.02   0.34  0.16    0.01    0.01\n",
              "Cholesterol    0.04         1.00  0.41   0.02  0.04    0.01    0.23\n",
              "Gluc           0.02         0.41  1.00   0.02  0.02    0.02    0.10\n",
              "Smoke          0.34         0.02  0.02   1.00  0.34    0.03    0.03\n",
              "Alco           0.16         0.04  0.02   0.34  1.00    0.02    0.03"
            ]
          },
          "metadata": {},
          "execution_count": 40
        }
      ]
    },
    {
      "cell_type": "code",
      "metadata": {
        "id": "LiGZnYvlVDrp",
        "colab": {
          "base_uri": "https://localhost:8080/",
          "height": 0
        },
        "outputId": "4f7c6ff9-da6e-44dc-ddc0-659d544976e8"
      },
      "source": [
        "#Heatmap\n",
        "ax=sns.heatmap(d,annot=True)\n",
        "ax.figure.set_size_inches(10,5)"
      ],
      "execution_count": 41,
      "outputs": [
        {
          "output_type": "display_data",
          "data": {
            "image/png": "[encoded data removed]",
            "text/plain": [
              "<Figure size 720x360 with 2 Axes>"
            ]
          },
          "metadata": {
            "needs_background": "light"
          }
        }
      ]
    },
    {
      "cell_type": "markdown",
      "metadata": {
        "id": "01iSNySzVJmM"
      },
      "source": [
        "#5.0. DATA PREPARATION"
      ]
    },
    {
      "cell_type": "code",
      "metadata": {
        "id": "NM3kNzKHVKHC"
      },
      "source": [
        "df5=df4.copy()"
      ],
      "execution_count": 42,
      "outputs": []
    },
    {
      "cell_type": "markdown",
      "metadata": {
        "id": "dPeK1w55Vg8E"
      },
      "source": [
        "##5.1. Rescaling"
      ]
    },
    {
      "cell_type": "code",
      "metadata": {
        "id": "f62odEti5o1o",
        "colab": {
          "base_uri": "https://localhost:8080/",
          "height": 705
        },
        "outputId": "eaf844d1-f3aa-4002-c68b-bab861f79b18"
      },
      "source": [
        "#viewing outliers\n",
        "num_attributes=pd.concat([num_attributes,df5['Imc']],axis=1)\n",
        "columns=num_attributes.columns\n",
        "\n",
        "for i in range(0,len(columns)):\n",
        "\n",
        "  plt.subplot(4,2,i+1)\n",
        "  ax=sns.boxplot(num_attributes[columns[i]])\n",
        "  ax.figure.set_size_inches(12,16)"
      ],
      "execution_count": 43,
      "outputs": [
        {
          "output_type": "display_data",
          "data": {
            "image/png": "[encoded data removed]",
            "text/plain": [
              "<Figure size 864x1152 with 6 Axes>"
            ]
          },
          "metadata": {
            "needs_background": "light"
          }
        }
      ]
    },
    {
      "cell_type": "code",
      "metadata": {
        "id": "Lhe3swDPLTKH"
      },
      "source": [
        "mms=MinMaxScaler()\n",
        "rs=RobustScaler()\n",
        "\n",
        "#MinMaxScaler\n",
        "#Age\n",
        "df5['Age']=mms.fit_transform(df5[['Age']].values)\n",
        "pickle.dump(mms,open('/content/Age_scaler.pkl','wb'))\n",
        "\n",
        "#ApLo\n",
        "df5['ApLo']=mms.fit_transform(df5[['ApLo']].values)\n",
        "pickle.dump(mms,open('/content/ApLo_scaler.pkl','wb'))\n",
        "\n",
        "#RobustScaler\n",
        "#Height\n",
        "df5['Height']=rs.fit_transform(df5[['Height']].values)\n",
        "pickle.dump(rs,open('/content/Height_scaler.pkl','wb'))\n",
        "\n",
        "#Weight\n",
        "df5['Weight']=rs.fit_transform(df5[['Weight']].values)\n",
        "pickle.dump(rs,open('/content/Weight_scaler.pkl','wb'))\n",
        "\n",
        "#ApHi\n",
        "df5['ApHi']=rs.fit_transform(df5[['ApHi']].values)\n",
        "pickle.dump(rs,open('/content/ApHi_scaler.pkl','wb'))\n",
        "\n",
        "#Imc\n",
        "df5['Imc']=rs.fit_transform(df5[['Imc']].values)\n",
        "pickle.dump(rs,open('/content/Imc_scaler.pkl','wb'))"
      ],
      "execution_count": 44,
      "outputs": []
    },
    {
      "cell_type": "markdown",
      "metadata": {
        "id": "0gLyVzvLVx5E"
      },
      "source": [
        "## 5.2. Transformation"
      ]
    },
    {
      "cell_type": "markdown",
      "metadata": {
        "id": "QO5psljeV2hs"
      },
      "source": [
        "###5.2.1. Encoding"
      ]
    },
    {
      "cell_type": "code",
      "metadata": {
        "id": "0X4mz8ctI5j1"
      },
      "source": [
        "#Label Encoding\n",
        "le=LabelEncoder()\n",
        "\n",
        "#Gender\n",
        "df5['Gender']=le.fit_transform(df5['Gender'])\n",
        "pickle.dump(le,open('/content/Gender_scaler.pkl','wb'))\n",
        "\n",
        "#Smoke\n",
        "df5['Smoke']=le.fit_transform(df5['Smoke'])\n",
        "pickle.dump(le,open('/content/Smoke_scaler.pkl','wb'))\n",
        "\n",
        "#Alco\n",
        "df5['Alco']=le.fit_transform(df5['Alco'])\n",
        "pickle.dump(le,open('/content/Alco_scaler.pkl','wb'))\n",
        "\n",
        "#Active\n",
        "df5['Active']=le.fit_transform(df5['Active'])\n",
        "pickle.dump(le,open('/content/Active_scaler.pkl','wb'))\n",
        "\n",
        "#Cardio\n",
        "df5['Cardio']=le.fit_transform(df5['Cardio'])\n",
        "\n",
        "#Cholesterol\n",
        "r=0.33\n",
        "assortment_dict={'medium':1*r,'high':2*r,'very_high':3*r}\n",
        "df5['Cholesterol']=df5['Cholesterol'].map(assortment_dict)\n",
        "\n",
        "#Gluc\n",
        "r=0.33\n",
        "assortment_dict={'medium':1*r,'high':2*r,'very_high':3*r}\n",
        "df5['Gluc']=df5['Gluc'].map(assortment_dict)"
      ],
      "execution_count": 45,
      "outputs": []
    },
    {
      "cell_type": "markdown",
      "metadata": {
        "id": "ib_DOLWtWd-w"
      },
      "source": [
        "#6.0. FEATURE SELECTION"
      ]
    },
    {
      "cell_type": "code",
      "metadata": {
        "id": "pzAXouvnMM-0"
      },
      "source": [
        "df6=df5.copy()"
      ],
      "execution_count": 46,
      "outputs": []
    },
    {
      "cell_type": "markdown",
      "metadata": {
        "id": "HPE4O3ChW3J8"
      },
      "source": [
        "##6.1. Split dataframe into training and test dataset."
      ]
    },
    {
      "cell_type": "code",
      "metadata": {
        "id": "w1HVSJz7Qmr1"
      },
      "source": [
        "#dataset deploy\n",
        "dataset_deploy=df6[df6.index >=69900]\n",
        "df6=df6[df6.index <69900]\n",
        "\n",
        "#Train and test\n",
        "Y_train=df6['Cardio']\n",
        "X_train=df6.drop(['Cardio',],axis=1)\n",
        "x_train,x_test,y_train,y_test=split_and_balancing(Y_train,X_train,'Cardio')\n",
        "\n",
        "#Dataset cross validation\n",
        "aux1=pd.DataFrame(data=y_train,columns=['Cardio'])\n",
        "aux1=pd.concat([x_train,aux1],axis=1)\n",
        "aux2=pd.DataFrame(data=y_test,columns=['Cardio'])\n",
        "aux2=pd.concat([x_test,aux2],axis=1)\n",
        "df6=pd.concat([aux1.reset_index(drop=True), aux2.reset_index(drop=True)], axis= 0)"
      ],
      "execution_count": 47,
      "outputs": []
    },
    {
      "cell_type": "markdown",
      "metadata": {
        "id": "AxbxcTIKW-Rj"
      },
      "source": [
        "##6.2. RFE as feature selector\n"
      ]
    },
    {
      "cell_type": "code",
      "metadata": {
        "id": "s31geH8UW_HL",
        "colab": {
          "base_uri": "https://localhost:8080/",
          "height": 0
        },
        "outputId": "b0ed3961-787c-43f5-da80-4ab4e54f2e4e"
      },
      "source": [
        "'''svr = SVR(kernel=\"linear\")\n",
        "selector = RFE(svr, n_features_to_select=4, step=1).fit(x_train, y_train)'''"
      ],
      "execution_count": 48,
      "outputs": [
        {
          "output_type": "execute_result",
          "data": {
            "application/vnd.google.colaboratory.intrinsic+json": {
              "type": "string"
            },
            "text/plain": [
              "'svr = SVR(kernel=\"linear\")\\nselector = RFE(svr, n_features_to_select=4, step=1).fit(x_train, y_train)'"
            ]
          },
          "metadata": {},
          "execution_count": 48
        }
      ]
    },
    {
      "cell_type": "markdown",
      "metadata": {
        "id": "CJPOn-WqXCuM"
      },
      "source": [
        "##6.2.1. Best Features from RFE"
      ]
    },
    {
      "cell_type": "code",
      "metadata": {
        "id": "OFDZg5VUXDOB",
        "colab": {
          "base_uri": "https://localhost:8080/",
          "height": 0
        },
        "outputId": "7e978f3f-be5d-4da1-dbc9-7d114badaf1b"
      },
      "source": [
        "'''selector.ranking_'''"
      ],
      "execution_count": 49,
      "outputs": [
        {
          "output_type": "execute_result",
          "data": {
            "application/vnd.google.colaboratory.intrinsic+json": {
              "type": "string"
            },
            "text/plain": [
              "'selector.ranking_'"
            ]
          },
          "metadata": {},
          "execution_count": 49
        }
      ]
    },
    {
      "cell_type": "markdown",
      "metadata": {
        "id": "trQb9Be5XGe7"
      },
      "source": [
        "##6.3. Manual Feature selection\n"
      ]
    },
    {
      "cell_type": "code",
      "metadata": {
        "id": "pLCXI4EV9_pB"
      },
      "source": [
        "cols_selected_rfe=['Age','Active','ApHi','Cholesterol']\n",
        "\n",
        "#Columns to add\n",
        "feat_to_add=['Cardio']\n",
        "cols_selected_rfe_full=cols_selected_rfe.copy()\n",
        "cols_selected_rfe_full.extend(feat_to_add)"
      ],
      "execution_count": 50,
      "outputs": []
    },
    {
      "cell_type": "markdown",
      "metadata": {
        "id": "tuF55r7hXLRT"
      },
      "source": [
        "#7.0. MACHINE LEARNING MODELLING"
      ]
    },
    {
      "cell_type": "code",
      "metadata": {
        "id": "Nis1hfezXL9M"
      },
      "source": [
        "#Copy\n",
        "df7=df6[cols_selected_rfe_full].copy()\n",
        "\n",
        "#Ativar as colunas \n",
        "x_train=x_train[cols_selected_rfe]\n",
        "x_test=x_test[cols_selected_rfe]"
      ],
      "execution_count": 51,
      "outputs": []
    },
    {
      "cell_type": "markdown",
      "metadata": {
        "id": "ZaBD1bLD6kS8"
      },
      "source": [
        "##7.1. Baseline"
      ]
    },
    {
      "cell_type": "code",
      "metadata": {
        "id": "jTShSAgF6oF6",
        "colab": {
          "base_uri": "https://localhost:8080/",
          "height": 80
        },
        "outputId": "8d1606a4-f9df-4874-c127-6ddf313dcc13"
      },
      "source": [
        "#Prediction\n",
        "yhat_rendom=np.ones(len(y_test))\n",
        "\n",
        "#Performance\n",
        "baseline_result=model_performance(y_test,yhat_rendom,'Baseline')\n",
        "baseline_result"
      ],
      "execution_count": 52,
      "outputs": [
        {
          "output_type": "execute_result",
          "data": {
            "text/html": [
              "<div>\n",
              "<style scoped>\n",
              "    .dataframe tbody tr th:only-of-type {\n",
              "        vertical-align: middle;\n",
              "    }\n",
              "\n",
              "    .dataframe tbody tr th {\n",
              "        vertical-align: top;\n",
              "    }\n",
              "\n",
              "    .dataframe thead th {\n",
              "        text-align: right;\n",
              "    }\n",
              "</style>\n",
              "<table border=\"1\" class=\"dataframe\">\n",
              "  <thead>\n",
              "    <tr style=\"text-align: right;\">\n",
              "      <th></th>\n",
              "      <th>ModelName</th>\n",
              "      <th>Precision</th>\n",
              "      <th>Recall</th>\n",
              "      <th>F1Score</th>\n",
              "      <th>Accuracy</th>\n",
              "    </tr>\n",
              "  </thead>\n",
              "  <tbody>\n",
              "    <tr>\n",
              "      <th>0</th>\n",
              "      <td>Baseline</td>\n",
              "      <td>0.50</td>\n",
              "      <td>1.00</td>\n",
              "      <td>0.67</td>\n",
              "      <td>0.50</td>\n",
              "    </tr>\n",
              "  </tbody>\n",
              "</table>\n",
              "</div>"
            ],
            "text/plain": [
              "  ModelName  Precision  Recall  F1Score  Accuracy\n",
              "0  Baseline       0.50    1.00     0.67      0.50"
            ]
          },
          "metadata": {},
          "execution_count": 52
        }
      ]
    },
    {
      "cell_type": "markdown",
      "metadata": {
        "id": "CxmMrZtWXfTj"
      },
      "source": [
        "##7.2. SVM"
      ]
    },
    {
      "cell_type": "code",
      "metadata": {
        "id": "9yjxM_AViX9t",
        "colab": {
          "base_uri": "https://localhost:8080/",
          "height": 80
        },
        "outputId": "05481e1d-32b1-4498-8e25-e4274444fa9e"
      },
      "source": [
        "#Model\n",
        "svc = SVC(gamma=\"auto\")\n",
        "svc_train=svc.fit(x_train,y_train)\n",
        "\n",
        "#Prediction\n",
        "yhat_svc=svc_train.predict(x_test)\n",
        "\n",
        "#Performance\n",
        "svc_result=model_performance(y_test,yhat_svc,'SVM')\n",
        "svc_result"
      ],
      "execution_count": 53,
      "outputs": [
        {
          "output_type": "execute_result",
          "data": {
            "text/html": [
              "<div>\n",
              "<style scoped>\n",
              "    .dataframe tbody tr th:only-of-type {\n",
              "        vertical-align: middle;\n",
              "    }\n",
              "\n",
              "    .dataframe tbody tr th {\n",
              "        vertical-align: top;\n",
              "    }\n",
              "\n",
              "    .dataframe thead th {\n",
              "        text-align: right;\n",
              "    }\n",
              "</style>\n",
              "<table border=\"1\" class=\"dataframe\">\n",
              "  <thead>\n",
              "    <tr style=\"text-align: right;\">\n",
              "      <th></th>\n",
              "      <th>ModelName</th>\n",
              "      <th>Precision</th>\n",
              "      <th>Recall</th>\n",
              "      <th>F1Score</th>\n",
              "      <th>Accuracy</th>\n",
              "    </tr>\n",
              "  </thead>\n",
              "  <tbody>\n",
              "    <tr>\n",
              "      <th>0</th>\n",
              "      <td>SVM</td>\n",
              "      <td>0.71</td>\n",
              "      <td>0.54</td>\n",
              "      <td>0.62</td>\n",
              "      <td>0.66</td>\n",
              "    </tr>\n",
              "  </tbody>\n",
              "</table>\n",
              "</div>"
            ],
            "text/plain": [
              "  ModelName  Precision  Recall  F1Score  Accuracy\n",
              "0       SVM       0.71    0.54     0.62      0.66"
            ]
          },
          "metadata": {},
          "execution_count": 53
        }
      ]
    },
    {
      "cell_type": "markdown",
      "metadata": {
        "id": "XePBn6Zwe6SD"
      },
      "source": [
        "###7.2.1 SVM cross validation"
      ]
    },
    {
      "cell_type": "code",
      "metadata": {
        "id": "vQ9HqjnffLhA",
        "colab": {
          "base_uri": "https://localhost:8080/",
          "height": 80
        },
        "outputId": "be9cfe8a-db5a-454f-e6e6-7429b812cb7f"
      },
      "source": [
        "svc_result_cv=cross_validation(df7,5,'SVM',svc,'Cardio')\n",
        "svc_result_cv"
      ],
      "execution_count": 54,
      "outputs": [
        {
          "output_type": "execute_result",
          "data": {
            "text/html": [
              "<div>\n",
              "<style scoped>\n",
              "    .dataframe tbody tr th:only-of-type {\n",
              "        vertical-align: middle;\n",
              "    }\n",
              "\n",
              "    .dataframe tbody tr th {\n",
              "        vertical-align: top;\n",
              "    }\n",
              "\n",
              "    .dataframe thead th {\n",
              "        text-align: right;\n",
              "    }\n",
              "</style>\n",
              "<table border=\"1\" class=\"dataframe\">\n",
              "  <thead>\n",
              "    <tr style=\"text-align: right;\">\n",
              "      <th></th>\n",
              "      <th>ModelName</th>\n",
              "      <th>PrecisionCV</th>\n",
              "      <th>RecallCV</th>\n",
              "      <th>F1ScoreCV</th>\n",
              "      <th>AccuracyCV</th>\n",
              "    </tr>\n",
              "  </thead>\n",
              "  <tbody>\n",
              "    <tr>\n",
              "      <th>0</th>\n",
              "      <td>SVM</td>\n",
              "      <td>0.7+/-0.01</td>\n",
              "      <td>0.58+/-0.01</td>\n",
              "      <td>0.63+/-0.01</td>\n",
              "      <td>0.66+/-0.01</td>\n",
              "    </tr>\n",
              "  </tbody>\n",
              "</table>\n",
              "</div>"
            ],
            "text/plain": [
              "  ModelName PrecisionCV     RecallCV    F1ScoreCV   AccuracyCV\n",
              "0       SVM  0.7+/-0.01  0.58+/-0.01  0.63+/-0.01  0.66+/-0.01"
            ]
          },
          "metadata": {},
          "execution_count": 54
        }
      ]
    },
    {
      "cell_type": "markdown",
      "metadata": {
        "id": "Dq4lVVsUXjvL"
      },
      "source": [
        "##7.3. Random Forest Classifier"
      ]
    },
    {
      "cell_type": "code",
      "metadata": {
        "id": "kQlCxSdQvpJM",
        "colab": {
          "base_uri": "https://localhost:8080/",
          "height": 80
        },
        "outputId": "0505cc89-53b9-4c6b-f42e-99e053c8f4fd"
      },
      "source": [
        "#Model\n",
        "rfc=RandomForestClassifier(max_depth=2, random_state=0)\n",
        "rfc_train=rfc.fit(x_train,y_train)\n",
        "\n",
        "#Predict\n",
        "yhat_rfc=rfc_train.predict(x_test)\n",
        "\n",
        "#Performance\n",
        "rfc_result=model_performance(y_test,yhat_rfc,'RandomForestClassifier')\n",
        "rfc_result"
      ],
      "execution_count": 55,
      "outputs": [
        {
          "output_type": "execute_result",
          "data": {
            "text/html": [
              "<div>\n",
              "<style scoped>\n",
              "    .dataframe tbody tr th:only-of-type {\n",
              "        vertical-align: middle;\n",
              "    }\n",
              "\n",
              "    .dataframe tbody tr th {\n",
              "        vertical-align: top;\n",
              "    }\n",
              "\n",
              "    .dataframe thead th {\n",
              "        text-align: right;\n",
              "    }\n",
              "</style>\n",
              "<table border=\"1\" class=\"dataframe\">\n",
              "  <thead>\n",
              "    <tr style=\"text-align: right;\">\n",
              "      <th></th>\n",
              "      <th>ModelName</th>\n",
              "      <th>Precision</th>\n",
              "      <th>Recall</th>\n",
              "      <th>F1Score</th>\n",
              "      <th>Accuracy</th>\n",
              "    </tr>\n",
              "  </thead>\n",
              "  <tbody>\n",
              "    <tr>\n",
              "      <th>0</th>\n",
              "      <td>RandomForestClassifier</td>\n",
              "      <td>0.65</td>\n",
              "      <td>0.71</td>\n",
              "      <td>0.68</td>\n",
              "      <td>0.66</td>\n",
              "    </tr>\n",
              "  </tbody>\n",
              "</table>\n",
              "</div>"
            ],
            "text/plain": [
              "                ModelName  Precision  Recall  F1Score  Accuracy\n",
              "0  RandomForestClassifier       0.65    0.71     0.68      0.66"
            ]
          },
          "metadata": {},
          "execution_count": 55
        }
      ]
    },
    {
      "cell_type": "markdown",
      "metadata": {
        "id": "qa_-oZAwTYR8"
      },
      "source": [
        "###7.3.1 Random Forest Classifier cross validation"
      ]
    },
    {
      "cell_type": "code",
      "metadata": {
        "id": "hpfESilpjBR9",
        "colab": {
          "base_uri": "https://localhost:8080/",
          "height": 80
        },
        "outputId": "b380e930-6280-48b9-8852-76d4b43ae2e4"
      },
      "source": [
        "rfc_result_cv=cross_validation(df7,5,'RandomForestClassifier',rfc,'Cardio')\n",
        "rfc_result_cv"
      ],
      "execution_count": 68,
      "outputs": [
        {
          "output_type": "execute_result",
          "data": {
            "text/html": [
              "<div>\n",
              "<style scoped>\n",
              "    .dataframe tbody tr th:only-of-type {\n",
              "        vertical-align: middle;\n",
              "    }\n",
              "\n",
              "    .dataframe tbody tr th {\n",
              "        vertical-align: top;\n",
              "    }\n",
              "\n",
              "    .dataframe thead th {\n",
              "        text-align: right;\n",
              "    }\n",
              "</style>\n",
              "<table border=\"1\" class=\"dataframe\">\n",
              "  <thead>\n",
              "    <tr style=\"text-align: right;\">\n",
              "      <th></th>\n",
              "      <th>ModelName</th>\n",
              "      <th>PrecisionCV</th>\n",
              "      <th>RecallCV</th>\n",
              "      <th>F1ScoreCV</th>\n",
              "      <th>AccuracyCV</th>\n",
              "    </tr>\n",
              "  </thead>\n",
              "  <tbody>\n",
              "    <tr>\n",
              "      <th>0</th>\n",
              "      <td>RandomForestClassifier</td>\n",
              "      <td>0.65+/-0.01</td>\n",
              "      <td>0.71+/-0.0</td>\n",
              "      <td>0.68+/-0.01</td>\n",
              "      <td>0.66+/-0.01</td>\n",
              "    </tr>\n",
              "  </tbody>\n",
              "</table>\n",
              "</div>"
            ],
            "text/plain": [
              "                ModelName  PrecisionCV    RecallCV    F1ScoreCV   AccuracyCV\n",
              "0  RandomForestClassifier  0.65+/-0.01  0.71+/-0.0  0.68+/-0.01  0.66+/-0.01"
            ]
          },
          "metadata": {},
          "execution_count": 68
        }
      ]
    },
    {
      "cell_type": "markdown",
      "metadata": {
        "id": "Go7oSzpgXoZr"
      },
      "source": [
        "##7.4. Logistic Regression"
      ]
    },
    {
      "cell_type": "code",
      "metadata": {
        "id": "5kyznuE8Xo46",
        "colab": {
          "base_uri": "https://localhost:8080/",
          "height": 80
        },
        "outputId": "194185c8-74c8-45ab-9d4c-161f08491fa8"
      },
      "source": [
        "#Model\n",
        "lr= LogisticRegression(random_state=0)\n",
        "lr_train=lr.fit(x_train,y_train)\n",
        "\n",
        "#Predict\n",
        "yhat_lr=lr_train.predict(x_test)\n",
        "\n",
        "#Performance\n",
        "lr_result=model_performance(y_test,yhat_lr,'Logistic Regression')\n",
        "lr_result"
      ],
      "execution_count": 57,
      "outputs": [
        {
          "output_type": "execute_result",
          "data": {
            "text/html": [
              "<div>\n",
              "<style scoped>\n",
              "    .dataframe tbody tr th:only-of-type {\n",
              "        vertical-align: middle;\n",
              "    }\n",
              "\n",
              "    .dataframe tbody tr th {\n",
              "        vertical-align: top;\n",
              "    }\n",
              "\n",
              "    .dataframe thead th {\n",
              "        text-align: right;\n",
              "    }\n",
              "</style>\n",
              "<table border=\"1\" class=\"dataframe\">\n",
              "  <thead>\n",
              "    <tr style=\"text-align: right;\">\n",
              "      <th></th>\n",
              "      <th>ModelName</th>\n",
              "      <th>Precision</th>\n",
              "      <th>Recall</th>\n",
              "      <th>F1Score</th>\n",
              "      <th>Accuracy</th>\n",
              "    </tr>\n",
              "  </thead>\n",
              "  <tbody>\n",
              "    <tr>\n",
              "      <th>0</th>\n",
              "      <td>Logistic Regression</td>\n",
              "      <td>0.68</td>\n",
              "      <td>0.64</td>\n",
              "      <td>0.66</td>\n",
              "      <td>0.67</td>\n",
              "    </tr>\n",
              "  </tbody>\n",
              "</table>\n",
              "</div>"
            ],
            "text/plain": [
              "             ModelName  Precision  Recall  F1Score  Accuracy\n",
              "0  Logistic Regression       0.68    0.64     0.66      0.67"
            ]
          },
          "metadata": {},
          "execution_count": 57
        }
      ]
    },
    {
      "cell_type": "markdown",
      "metadata": {
        "id": "HrqJmWXRTlXs"
      },
      "source": [
        "###7.4.1 Logistic Regression cross validation"
      ]
    },
    {
      "cell_type": "code",
      "metadata": {
        "id": "OKwD4bE9jg3n",
        "colab": {
          "base_uri": "https://localhost:8080/",
          "height": 80
        },
        "outputId": "fa92eb9c-1106-4491-f865-28f24df10762"
      },
      "source": [
        "lr_result_cv=cross_validation(df7,5,'Logistic Regression',lr,'Cardio')\n",
        "lr_result_cv"
      ],
      "execution_count": 58,
      "outputs": [
        {
          "output_type": "execute_result",
          "data": {
            "text/html": [
              "<div>\n",
              "<style scoped>\n",
              "    .dataframe tbody tr th:only-of-type {\n",
              "        vertical-align: middle;\n",
              "    }\n",
              "\n",
              "    .dataframe tbody tr th {\n",
              "        vertical-align: top;\n",
              "    }\n",
              "\n",
              "    .dataframe thead th {\n",
              "        text-align: right;\n",
              "    }\n",
              "</style>\n",
              "<table border=\"1\" class=\"dataframe\">\n",
              "  <thead>\n",
              "    <tr style=\"text-align: right;\">\n",
              "      <th></th>\n",
              "      <th>ModelName</th>\n",
              "      <th>PrecisionCV</th>\n",
              "      <th>RecallCV</th>\n",
              "      <th>F1ScoreCV</th>\n",
              "      <th>AccuracyCV</th>\n",
              "    </tr>\n",
              "  </thead>\n",
              "  <tbody>\n",
              "    <tr>\n",
              "      <th>0</th>\n",
              "      <td>Logistic Regression</td>\n",
              "      <td>0.67+/-0.01</td>\n",
              "      <td>0.65+/-0.01</td>\n",
              "      <td>0.66+/-0.0</td>\n",
              "      <td>0.67+/-0.0</td>\n",
              "    </tr>\n",
              "  </tbody>\n",
              "</table>\n",
              "</div>"
            ],
            "text/plain": [
              "             ModelName  PrecisionCV     RecallCV   F1ScoreCV  AccuracyCV\n",
              "0  Logistic Regression  0.67+/-0.01  0.65+/-0.01  0.66+/-0.0  0.67+/-0.0"
            ]
          },
          "metadata": {},
          "execution_count": 58
        }
      ]
    },
    {
      "cell_type": "markdown",
      "metadata": {
        "id": "8VpcFt5mXxGb"
      },
      "source": [
        "##7.5. KNeighbors Classifier \n"
      ]
    },
    {
      "cell_type": "code",
      "metadata": {
        "id": "p7iDjVJ8XyDh",
        "colab": {
          "base_uri": "https://localhost:8080/",
          "height": 80
        },
        "outputId": "fda9107c-1809-4cf5-e70c-d60f407ae597"
      },
      "source": [
        "#Model\n",
        "knn = KNeighborsClassifier(n_neighbors=5)\n",
        "knn_train=knn.fit(x_train,y_train)\n",
        "\n",
        "#Prediction\n",
        "yhat_knn=knn_train.predict(x_test)\n",
        "\n",
        "#Performance\n",
        "knn_result=model_performance(y_test,yhat_knn,'KNeighbors Classifier')\n",
        "knn_result"
      ],
      "execution_count": 59,
      "outputs": [
        {
          "output_type": "execute_result",
          "data": {
            "text/html": [
              "<div>\n",
              "<style scoped>\n",
              "    .dataframe tbody tr th:only-of-type {\n",
              "        vertical-align: middle;\n",
              "    }\n",
              "\n",
              "    .dataframe tbody tr th {\n",
              "        vertical-align: top;\n",
              "    }\n",
              "\n",
              "    .dataframe thead th {\n",
              "        text-align: right;\n",
              "    }\n",
              "</style>\n",
              "<table border=\"1\" class=\"dataframe\">\n",
              "  <thead>\n",
              "    <tr style=\"text-align: right;\">\n",
              "      <th></th>\n",
              "      <th>ModelName</th>\n",
              "      <th>Precision</th>\n",
              "      <th>Recall</th>\n",
              "      <th>F1Score</th>\n",
              "      <th>Accuracy</th>\n",
              "    </tr>\n",
              "  </thead>\n",
              "  <tbody>\n",
              "    <tr>\n",
              "      <th>0</th>\n",
              "      <td>KNeighbors Classifier</td>\n",
              "      <td>0.64</td>\n",
              "      <td>0.63</td>\n",
              "      <td>0.63</td>\n",
              "      <td>0.63</td>\n",
              "    </tr>\n",
              "  </tbody>\n",
              "</table>\n",
              "</div>"
            ],
            "text/plain": [
              "               ModelName  Precision  Recall  F1Score  Accuracy\n",
              "0  KNeighbors Classifier       0.64    0.63     0.63      0.63"
            ]
          },
          "metadata": {},
          "execution_count": 59
        }
      ]
    },
    {
      "cell_type": "markdown",
      "metadata": {
        "id": "MeZ0aoBNTzEj"
      },
      "source": [
        "###7.5.1 KNeighbors Classifier cross validation"
      ]
    },
    {
      "cell_type": "code",
      "metadata": {
        "id": "9HcT3m-1jqbo",
        "colab": {
          "base_uri": "https://localhost:8080/",
          "height": 80
        },
        "outputId": "313d0d0b-b520-4cc3-b032-70eda023cb73"
      },
      "source": [
        "knn_result_cv=cross_validation(df7,5,'KNeighbors Classifier',knn,'Cardio')\n",
        "knn_result_cv"
      ],
      "execution_count": 67,
      "outputs": [
        {
          "output_type": "execute_result",
          "data": {
            "text/html": [
              "<div>\n",
              "<style scoped>\n",
              "    .dataframe tbody tr th:only-of-type {\n",
              "        vertical-align: middle;\n",
              "    }\n",
              "\n",
              "    .dataframe tbody tr th {\n",
              "        vertical-align: top;\n",
              "    }\n",
              "\n",
              "    .dataframe thead th {\n",
              "        text-align: right;\n",
              "    }\n",
              "</style>\n",
              "<table border=\"1\" class=\"dataframe\">\n",
              "  <thead>\n",
              "    <tr style=\"text-align: right;\">\n",
              "      <th></th>\n",
              "      <th>ModelName</th>\n",
              "      <th>PrecisionCV</th>\n",
              "      <th>RecallCV</th>\n",
              "      <th>F1ScoreCV</th>\n",
              "      <th>AccuracyCV</th>\n",
              "    </tr>\n",
              "  </thead>\n",
              "  <tbody>\n",
              "    <tr>\n",
              "      <th>0</th>\n",
              "      <td>KNeighbors Classifier</td>\n",
              "      <td>0.63+/-0.01</td>\n",
              "      <td>0.62+/-0.01</td>\n",
              "      <td>0.63+/-0.0</td>\n",
              "      <td>0.63+/-0.0</td>\n",
              "    </tr>\n",
              "  </tbody>\n",
              "</table>\n",
              "</div>"
            ],
            "text/plain": [
              "               ModelName  PrecisionCV     RecallCV   F1ScoreCV  AccuracyCV\n",
              "0  KNeighbors Classifier  0.63+/-0.01  0.62+/-0.01  0.63+/-0.0  0.63+/-0.0"
            ]
          },
          "metadata": {},
          "execution_count": 67
        }
      ]
    },
    {
      "cell_type": "markdown",
      "metadata": {
        "id": "xQzySzJGYTdz"
      },
      "source": [
        "##7.6. Naive Bayes Gaussian"
      ]
    },
    {
      "cell_type": "code",
      "metadata": {
        "id": "Wc1rnO30YJEp",
        "colab": {
          "base_uri": "https://localhost:8080/",
          "height": 80
        },
        "outputId": "37352515-0343-4f30-efed-5c74b250e63f"
      },
      "source": [
        "#Model\n",
        "gau = GaussianNB()\n",
        "gau_train=gau.fit(x_train,y_train)\n",
        "\n",
        "#Prediction\n",
        "yhat_gau=gau_train.predict(x_test)\n",
        "\n",
        "#Performance\n",
        "gau_result=model_performance(y_test,yhat_gau,'Naive Bayes Gaussian')\n",
        "gau_result"
      ],
      "execution_count": 61,
      "outputs": [
        {
          "output_type": "execute_result",
          "data": {
            "text/html": [
              "<div>\n",
              "<style scoped>\n",
              "    .dataframe tbody tr th:only-of-type {\n",
              "        vertical-align: middle;\n",
              "    }\n",
              "\n",
              "    .dataframe tbody tr th {\n",
              "        vertical-align: top;\n",
              "    }\n",
              "\n",
              "    .dataframe thead th {\n",
              "        text-align: right;\n",
              "    }\n",
              "</style>\n",
              "<table border=\"1\" class=\"dataframe\">\n",
              "  <thead>\n",
              "    <tr style=\"text-align: right;\">\n",
              "      <th></th>\n",
              "      <th>ModelName</th>\n",
              "      <th>Precision</th>\n",
              "      <th>Recall</th>\n",
              "      <th>F1Score</th>\n",
              "      <th>Accuracy</th>\n",
              "    </tr>\n",
              "  </thead>\n",
              "  <tbody>\n",
              "    <tr>\n",
              "      <th>0</th>\n",
              "      <td>Naive Bayes Gaussian</td>\n",
              "      <td>0.72</td>\n",
              "      <td>0.49</td>\n",
              "      <td>0.59</td>\n",
              "      <td>0.65</td>\n",
              "    </tr>\n",
              "  </tbody>\n",
              "</table>\n",
              "</div>"
            ],
            "text/plain": [
              "              ModelName  Precision  Recall  F1Score  Accuracy\n",
              "0  Naive Bayes Gaussian       0.72    0.49     0.59      0.65"
            ]
          },
          "metadata": {},
          "execution_count": 61
        }
      ]
    },
    {
      "cell_type": "markdown",
      "metadata": {
        "id": "b4TKUJG4T8DU"
      },
      "source": [
        "###7.6.1 Naive Bayes Gaussian cross validation"
      ]
    },
    {
      "cell_type": "code",
      "metadata": {
        "id": "7k7jWGcNj8ff",
        "colab": {
          "base_uri": "https://localhost:8080/",
          "height": 80
        },
        "outputId": "4d812c7d-d722-4c51-8606-7809b78d0660"
      },
      "source": [
        "gau_result_cv=cross_validation(df7,5,'Naive Bayes Gaussian',gau,'Cardio')\n",
        "gau_result_cv"
      ],
      "execution_count": 62,
      "outputs": [
        {
          "output_type": "execute_result",
          "data": {
            "text/html": [
              "<div>\n",
              "<style scoped>\n",
              "    .dataframe tbody tr th:only-of-type {\n",
              "        vertical-align: middle;\n",
              "    }\n",
              "\n",
              "    .dataframe tbody tr th {\n",
              "        vertical-align: top;\n",
              "    }\n",
              "\n",
              "    .dataframe thead th {\n",
              "        text-align: right;\n",
              "    }\n",
              "</style>\n",
              "<table border=\"1\" class=\"dataframe\">\n",
              "  <thead>\n",
              "    <tr style=\"text-align: right;\">\n",
              "      <th></th>\n",
              "      <th>ModelName</th>\n",
              "      <th>PrecisionCV</th>\n",
              "      <th>RecallCV</th>\n",
              "      <th>F1ScoreCV</th>\n",
              "      <th>AccuracyCV</th>\n",
              "    </tr>\n",
              "  </thead>\n",
              "  <tbody>\n",
              "    <tr>\n",
              "      <th>0</th>\n",
              "      <td>Naive Bayes Gaussian</td>\n",
              "      <td>0.71+/-0.01</td>\n",
              "      <td>0.52+/-0.01</td>\n",
              "      <td>0.6+/-0.0</td>\n",
              "      <td>0.65+/-0.0</td>\n",
              "    </tr>\n",
              "  </tbody>\n",
              "</table>\n",
              "</div>"
            ],
            "text/plain": [
              "              ModelName  PrecisionCV     RecallCV  F1ScoreCV  AccuracyCV\n",
              "0  Naive Bayes Gaussian  0.71+/-0.01  0.52+/-0.01  0.6+/-0.0  0.65+/-0.0"
            ]
          },
          "metadata": {},
          "execution_count": 62
        }
      ]
    },
    {
      "cell_type": "markdown",
      "metadata": {
        "id": "aoseJ2aoN0jY"
      },
      "source": [
        "##7.7. XGBClassifier"
      ]
    },
    {
      "cell_type": "code",
      "metadata": {
        "id": "0_rSiiPPLywQ",
        "colab": {
          "base_uri": "https://localhost:8080/",
          "height": 80
        },
        "outputId": "9711165d-2e1e-421d-85cd-49ec63961fb0"
      },
      "source": [
        "#Model\n",
        "xgbc= xgb.XGBClassifier()\n",
        "xgbc_train=xgbc.fit(x_train,y_train)\n",
        "\n",
        "#Prediction\n",
        "yhat_xgbc=xgbc_train.predict(x_test)\n",
        "\n",
        "#Performance\n",
        "xgbc_result=model_performance(y_test,yhat_xgbc,'XGBClassifier')\n",
        "xgbc_result"
      ],
      "execution_count": 63,
      "outputs": [
        {
          "output_type": "execute_result",
          "data": {
            "text/html": [
              "<div>\n",
              "<style scoped>\n",
              "    .dataframe tbody tr th:only-of-type {\n",
              "        vertical-align: middle;\n",
              "    }\n",
              "\n",
              "    .dataframe tbody tr th {\n",
              "        vertical-align: top;\n",
              "    }\n",
              "\n",
              "    .dataframe thead th {\n",
              "        text-align: right;\n",
              "    }\n",
              "</style>\n",
              "<table border=\"1\" class=\"dataframe\">\n",
              "  <thead>\n",
              "    <tr style=\"text-align: right;\">\n",
              "      <th></th>\n",
              "      <th>ModelName</th>\n",
              "      <th>Precision</th>\n",
              "      <th>Recall</th>\n",
              "      <th>F1Score</th>\n",
              "      <th>Accuracy</th>\n",
              "    </tr>\n",
              "  </thead>\n",
              "  <tbody>\n",
              "    <tr>\n",
              "      <th>0</th>\n",
              "      <td>XGBClassifier</td>\n",
              "      <td>0.69</td>\n",
              "      <td>0.63</td>\n",
              "      <td>0.66</td>\n",
              "      <td>0.67</td>\n",
              "    </tr>\n",
              "  </tbody>\n",
              "</table>\n",
              "</div>"
            ],
            "text/plain": [
              "       ModelName  Precision  Recall  F1Score  Accuracy\n",
              "0  XGBClassifier       0.69    0.63     0.66      0.67"
            ]
          },
          "metadata": {},
          "execution_count": 63
        }
      ]
    },
    {
      "cell_type": "markdown",
      "metadata": {
        "id": "NBMkyZFaUGGr"
      },
      "source": [
        "###7.7.1 XGBClassifier cross validation"
      ]
    },
    {
      "cell_type": "code",
      "metadata": {
        "id": "AGasNm5zWM5S",
        "colab": {
          "base_uri": "https://localhost:8080/",
          "height": 80
        },
        "outputId": "4f1b03e0-cce6-46b1-8b34-3bbc97dd0cf9"
      },
      "source": [
        "xgbc_result_cv=cross_validation(df7,5,'XGBClassifier',xgbc,'Cardio')\n",
        "xgbc_result_cv"
      ],
      "execution_count": 64,
      "outputs": [
        {
          "output_type": "execute_result",
          "data": {
            "text/html": [
              "<div>\n",
              "<style scoped>\n",
              "    .dataframe tbody tr th:only-of-type {\n",
              "        vertical-align: middle;\n",
              "    }\n",
              "\n",
              "    .dataframe tbody tr th {\n",
              "        vertical-align: top;\n",
              "    }\n",
              "\n",
              "    .dataframe thead th {\n",
              "        text-align: right;\n",
              "    }\n",
              "</style>\n",
              "<table border=\"1\" class=\"dataframe\">\n",
              "  <thead>\n",
              "    <tr style=\"text-align: right;\">\n",
              "      <th></th>\n",
              "      <th>ModelName</th>\n",
              "      <th>PrecisionCV</th>\n",
              "      <th>RecallCV</th>\n",
              "      <th>F1ScoreCV</th>\n",
              "      <th>AccuracyCV</th>\n",
              "    </tr>\n",
              "  </thead>\n",
              "  <tbody>\n",
              "    <tr>\n",
              "      <th>0</th>\n",
              "      <td>XGBClassifier</td>\n",
              "      <td>0.68+/-0.01</td>\n",
              "      <td>0.65+/-0.01</td>\n",
              "      <td>0.66+/-0.01</td>\n",
              "      <td>0.67+/-0.01</td>\n",
              "    </tr>\n",
              "  </tbody>\n",
              "</table>\n",
              "</div>"
            ],
            "text/plain": [
              "       ModelName  PrecisionCV     RecallCV    F1ScoreCV   AccuracyCV\n",
              "0  XGBClassifier  0.68+/-0.01  0.65+/-0.01  0.66+/-0.01  0.67+/-0.01"
            ]
          },
          "metadata": {},
          "execution_count": 64
        }
      ]
    },
    {
      "cell_type": "markdown",
      "metadata": {
        "id": "5U7NwxmYY2XT"
      },
      "source": [
        "##7.8. Compare Model's Performance"
      ]
    },
    {
      "cell_type": "markdown",
      "metadata": {
        "id": "u7j3l4avY9Eb"
      },
      "source": [
        "###7.8.1. Single Performance\n"
      ]
    },
    {
      "cell_type": "code",
      "metadata": {
        "id": "pXVuY_iBY_Dz",
        "colab": {
          "base_uri": "https://localhost:8080/",
          "height": 235
        },
        "outputId": "a40eb6f9-e3e1-41e9-882f-60963525d68a"
      },
      "source": [
        "modelling_results=pd.concat([svc_result,rfc_result,lr_result,knn_result,gau_result,xgbc_result],axis=0)\n",
        "modelling_results.sort_values('F1Score',ascending=False)"
      ],
      "execution_count": 65,
      "outputs": [
        {
          "output_type": "execute_result",
          "data": {
            "text/html": [
              "<div>\n",
              "<style scoped>\n",
              "    .dataframe tbody tr th:only-of-type {\n",
              "        vertical-align: middle;\n",
              "    }\n",
              "\n",
              "    .dataframe tbody tr th {\n",
              "        vertical-align: top;\n",
              "    }\n",
              "\n",
              "    .dataframe thead th {\n",
              "        text-align: right;\n",
              "    }\n",
              "</style>\n",
              "<table border=\"1\" class=\"dataframe\">\n",
              "  <thead>\n",
              "    <tr style=\"text-align: right;\">\n",
              "      <th></th>\n",
              "      <th>ModelName</th>\n",
              "      <th>Precision</th>\n",
              "      <th>Recall</th>\n",
              "      <th>F1Score</th>\n",
              "      <th>Accuracy</th>\n",
              "    </tr>\n",
              "  </thead>\n",
              "  <tbody>\n",
              "    <tr>\n",
              "      <th>0</th>\n",
              "      <td>RandomForestClassifier</td>\n",
              "      <td>0.65</td>\n",
              "      <td>0.71</td>\n",
              "      <td>0.68</td>\n",
              "      <td>0.66</td>\n",
              "    </tr>\n",
              "    <tr>\n",
              "      <th>0</th>\n",
              "      <td>XGBClassifier</td>\n",
              "      <td>0.69</td>\n",
              "      <td>0.63</td>\n",
              "      <td>0.66</td>\n",
              "      <td>0.67</td>\n",
              "    </tr>\n",
              "    <tr>\n",
              "      <th>0</th>\n",
              "      <td>Logistic Regression</td>\n",
              "      <td>0.68</td>\n",
              "      <td>0.64</td>\n",
              "      <td>0.66</td>\n",
              "      <td>0.67</td>\n",
              "    </tr>\n",
              "    <tr>\n",
              "      <th>0</th>\n",
              "      <td>KNeighbors Classifier</td>\n",
              "      <td>0.64</td>\n",
              "      <td>0.63</td>\n",
              "      <td>0.63</td>\n",
              "      <td>0.63</td>\n",
              "    </tr>\n",
              "    <tr>\n",
              "      <th>0</th>\n",
              "      <td>SVM</td>\n",
              "      <td>0.71</td>\n",
              "      <td>0.54</td>\n",
              "      <td>0.62</td>\n",
              "      <td>0.66</td>\n",
              "    </tr>\n",
              "    <tr>\n",
              "      <th>0</th>\n",
              "      <td>Naive Bayes Gaussian</td>\n",
              "      <td>0.72</td>\n",
              "      <td>0.49</td>\n",
              "      <td>0.59</td>\n",
              "      <td>0.65</td>\n",
              "    </tr>\n",
              "  </tbody>\n",
              "</table>\n",
              "</div>"
            ],
            "text/plain": [
              "                ModelName  Precision  Recall  F1Score  Accuracy\n",
              "0  RandomForestClassifier       0.65    0.71     0.68      0.66\n",
              "0           XGBClassifier       0.69    0.63     0.66      0.67\n",
              "0     Logistic Regression       0.68    0.64     0.66      0.67\n",
              "0   KNeighbors Classifier       0.64    0.63     0.63      0.63\n",
              "0                     SVM       0.71    0.54     0.62      0.66\n",
              "0    Naive Bayes Gaussian       0.72    0.49     0.59      0.65"
            ]
          },
          "metadata": {},
          "execution_count": 65
        }
      ]
    },
    {
      "cell_type": "markdown",
      "metadata": {
        "id": "ggunoaLQZANs"
      },
      "source": [
        "###7.8.2. Real Performance - Cross Validation\n"
      ]
    },
    {
      "cell_type": "code",
      "metadata": {
        "id": "GGx6jS-kY224",
        "colab": {
          "base_uri": "https://localhost:8080/",
          "height": 235
        },
        "outputId": "e6c9a3a4-8caf-4e5d-a1fe-9e5e813a3c72"
      },
      "source": [
        "modelling_results_cv=pd.concat([svc_result_cv,rfc_result_cv,lr_result_cv,knn_result_cv,gau_result_cv,xgbc_result_cv],axis=0)\n",
        "modelling_results_cv.sort_values('F1ScoreCV',ascending=False)"
      ],
      "execution_count": 69,
      "outputs": [
        {
          "output_type": "execute_result",
          "data": {
            "text/html": [
              "<div>\n",
              "<style scoped>\n",
              "    .dataframe tbody tr th:only-of-type {\n",
              "        vertical-align: middle;\n",
              "    }\n",
              "\n",
              "    .dataframe tbody tr th {\n",
              "        vertical-align: top;\n",
              "    }\n",
              "\n",
              "    .dataframe thead th {\n",
              "        text-align: right;\n",
              "    }\n",
              "</style>\n",
              "<table border=\"1\" class=\"dataframe\">\n",
              "  <thead>\n",
              "    <tr style=\"text-align: right;\">\n",
              "      <th></th>\n",
              "      <th>ModelName</th>\n",
              "      <th>PrecisionCV</th>\n",
              "      <th>RecallCV</th>\n",
              "      <th>F1ScoreCV</th>\n",
              "      <th>AccuracyCV</th>\n",
              "    </tr>\n",
              "  </thead>\n",
              "  <tbody>\n",
              "    <tr>\n",
              "      <th>0</th>\n",
              "      <td>RandomForestClassifier</td>\n",
              "      <td>0.65+/-0.01</td>\n",
              "      <td>0.71+/-0.0</td>\n",
              "      <td>0.68+/-0.01</td>\n",
              "      <td>0.66+/-0.01</td>\n",
              "    </tr>\n",
              "    <tr>\n",
              "      <th>0</th>\n",
              "      <td>XGBClassifier</td>\n",
              "      <td>0.68+/-0.01</td>\n",
              "      <td>0.65+/-0.01</td>\n",
              "      <td>0.66+/-0.01</td>\n",
              "      <td>0.67+/-0.01</td>\n",
              "    </tr>\n",
              "    <tr>\n",
              "      <th>0</th>\n",
              "      <td>Logistic Regression</td>\n",
              "      <td>0.67+/-0.01</td>\n",
              "      <td>0.65+/-0.01</td>\n",
              "      <td>0.66+/-0.0</td>\n",
              "      <td>0.67+/-0.0</td>\n",
              "    </tr>\n",
              "    <tr>\n",
              "      <th>0</th>\n",
              "      <td>SVM</td>\n",
              "      <td>0.7+/-0.01</td>\n",
              "      <td>0.58+/-0.01</td>\n",
              "      <td>0.63+/-0.01</td>\n",
              "      <td>0.66+/-0.01</td>\n",
              "    </tr>\n",
              "    <tr>\n",
              "      <th>0</th>\n",
              "      <td>KNeighbors Classifier</td>\n",
              "      <td>0.63+/-0.01</td>\n",
              "      <td>0.62+/-0.01</td>\n",
              "      <td>0.63+/-0.0</td>\n",
              "      <td>0.63+/-0.0</td>\n",
              "    </tr>\n",
              "    <tr>\n",
              "      <th>0</th>\n",
              "      <td>Naive Bayes Gaussian</td>\n",
              "      <td>0.71+/-0.01</td>\n",
              "      <td>0.52+/-0.01</td>\n",
              "      <td>0.6+/-0.0</td>\n",
              "      <td>0.65+/-0.0</td>\n",
              "    </tr>\n",
              "  </tbody>\n",
              "</table>\n",
              "</div>"
            ],
            "text/plain": [
              "                ModelName  PrecisionCV     RecallCV    F1ScoreCV   AccuracyCV\n",
              "0  RandomForestClassifier  0.65+/-0.01   0.71+/-0.0  0.68+/-0.01  0.66+/-0.01\n",
              "0           XGBClassifier  0.68+/-0.01  0.65+/-0.01  0.66+/-0.01  0.67+/-0.01\n",
              "0     Logistic Regression  0.67+/-0.01  0.65+/-0.01   0.66+/-0.0   0.67+/-0.0\n",
              "0                     SVM   0.7+/-0.01  0.58+/-0.01  0.63+/-0.01  0.66+/-0.01\n",
              "0   KNeighbors Classifier  0.63+/-0.01  0.62+/-0.01   0.63+/-0.0   0.63+/-0.0\n",
              "0    Naive Bayes Gaussian  0.71+/-0.01  0.52+/-0.01    0.6+/-0.0   0.65+/-0.0"
            ]
          },
          "metadata": {},
          "execution_count": 69
        }
      ]
    },
    {
      "cell_type": "markdown",
      "metadata": {
        "id": "XNgufp4nZMza"
      },
      "source": [
        "#8.0. HYPERPARAMETER FINE TUNING"
      ]
    },
    {
      "cell_type": "code",
      "metadata": {
        "id": "eUiUrsO_ZNOw"
      },
      "source": [
        "df8=df7.copy()"
      ],
      "execution_count": 70,
      "outputs": []
    },
    {
      "cell_type": "markdown",
      "metadata": {
        "id": "G5MqjiseZcez"
      },
      "source": [
        "##8.1.Random Search"
      ]
    },
    {
      "cell_type": "code",
      "metadata": {
        "id": "2wLJM4m7js6n"
      },
      "source": [
        "'''param={ 'n_estimators':      [1500,1700,2500,3000,3500],\n",
        "        'eta':               [0.01,0.03,0.06],\n",
        "        'max_depth':         [2,4,6,8,10,12],\n",
        "        'subsample':         [0.1,0.5,0.7],\n",
        "        'colsample_bytree':  [0.3,0.7,0.9],\n",
        "        'min_child_weight':  [3,6,9,12,15]\n",
        "}\n",
        "MAX_EVAL=10\n",
        "\n",
        "final_results=pd.DataFrame()\n",
        "\n",
        "for i in range (MAX_EVAL):\n",
        "  #Choose values for parameters randomly\n",
        "  hp={k:random.sample(v,1)[0] for k,v in param.items()}\n",
        "  print(hp)\n",
        "\n",
        "  #model\n",
        "  model_xgb=xgb.XGBClassifier(   objective=         'reg:squarederror',\n",
        "                                 n_estimators=      hp['n_estimators'],\n",
        "                                 eta=               hp['eta'],\n",
        "                                 max_depth=         hp['max_depth'],\n",
        "                                 subsample=         hp['subsample'],\n",
        "                                 colsample_bytree=  hp['colsample_bytree'],\n",
        "                                 min_child_weight=  hp['min_child_weight'])\n",
        "  \n",
        "  #performance\n",
        "  results=cross_validation(df8,5,'XGBClassifier',model_xgb,'Cardio') \n",
        "  final_results=pd.concat([final_results,results])\n",
        "final_results'''"
      ],
      "execution_count": null,
      "outputs": []
    },
    {
      "cell_type": "markdown",
      "metadata": {
        "id": "olrRbmpSZlpr"
      },
      "source": [
        "##8.2.Final Model"
      ]
    },
    {
      "cell_type": "code",
      "metadata": {
        "id": "8VZaxIE3Re3x",
        "colab": {
          "base_uri": "https://localhost:8080/",
          "height": 80
        },
        "outputId": "35b65abb-cd89-4cde-c100-ef2799ed3525"
      },
      "source": [
        "#Params tuned\n",
        "params_tuned={'n_estimators': 1500, 'eta': 0.03, 'max_depth': 2, 'subsample': 0.1, 'colsample_bytree': 0.3, 'min_child_weight': 12}\n",
        "\n",
        "\n",
        "#Model\n",
        "xgb_tuned=xgb.XGBClassifier(   objective=         'reg:squarederror',\n",
        "                                     n_estimators=      params_tuned['n_estimators'],\n",
        "                                     eta=               params_tuned['eta'],\n",
        "                                     max_depth=         params_tuned['max_depth'],\n",
        "                                     subsample=         params_tuned['subsample'],\n",
        "                                     colsample_bytree=  params_tuned['colsample_bytree'],\n",
        "                                     min_child_weight=  params_tuned['min_child_weight'])\n",
        "                                \n",
        "#Prediction\n",
        "xgb_tuned_train=xgb_tuned.fit(x_train,y_train)\n",
        "yhat_xgb_tuned=xgb_tuned_train.predict(x_test)\n",
        "\n",
        "#Final training\n",
        "y_train_final=df8['Cardio']\n",
        "x_train_final=df8.drop(['Cardio'],axis=1)\n",
        "xgb_tuned_train_final=xgb_tuned.fit(x_train_final,y_train_final)\n",
        "\n",
        "\n",
        "#Performance\n",
        "xgb_result_cv=cross_validation(df8,5,'XGBClassifier',xgb_tuned,'Cardio')\n",
        "xgb_result_cv"
      ],
      "execution_count": 71,
      "outputs": [
        {
          "output_type": "execute_result",
          "data": {
            "text/html": [
              "<div>\n",
              "<style scoped>\n",
              "    .dataframe tbody tr th:only-of-type {\n",
              "        vertical-align: middle;\n",
              "    }\n",
              "\n",
              "    .dataframe tbody tr th {\n",
              "        vertical-align: top;\n",
              "    }\n",
              "\n",
              "    .dataframe thead th {\n",
              "        text-align: right;\n",
              "    }\n",
              "</style>\n",
              "<table border=\"1\" class=\"dataframe\">\n",
              "  <thead>\n",
              "    <tr style=\"text-align: right;\">\n",
              "      <th></th>\n",
              "      <th>ModelName</th>\n",
              "      <th>PrecisionCV</th>\n",
              "      <th>RecallCV</th>\n",
              "      <th>F1ScoreCV</th>\n",
              "      <th>AccuracyCV</th>\n",
              "    </tr>\n",
              "  </thead>\n",
              "  <tbody>\n",
              "    <tr>\n",
              "      <th>0</th>\n",
              "      <td>XGBClassifier</td>\n",
              "      <td>0.69+/-0.01</td>\n",
              "      <td>0.61+/-0.01</td>\n",
              "      <td>0.65+/-0.0</td>\n",
              "      <td>0.67+/-0.0</td>\n",
              "    </tr>\n",
              "  </tbody>\n",
              "</table>\n",
              "</div>"
            ],
            "text/plain": [
              "       ModelName  PrecisionCV     RecallCV   F1ScoreCV  AccuracyCV\n",
              "0  XGBClassifier  0.69+/-0.01  0.61+/-0.01  0.65+/-0.0  0.67+/-0.0"
            ]
          },
          "metadata": {},
          "execution_count": 71
        }
      ]
    },
    {
      "cell_type": "code",
      "metadata": {
        "id": "SGCd-8awuv_p"
      },
      "source": [
        "#Save trained model\n",
        "pickle.dump(xgb_tuned_train_final,open('xgb_tuned_train_final.pkl','wb'))"
      ],
      "execution_count": 72,
      "outputs": []
    },
    {
      "cell_type": "markdown",
      "metadata": {
        "id": "lE3Sxx6BZsrS"
      },
      "source": [
        "#9.0. TRANSLATION AND INTERPRETATION OF THE ERROR"
      ]
    },
    {
      "cell_type": "code",
      "metadata": {
        "id": "74tKTRfAZxi_"
      },
      "source": [
        "df9=df8.copy()"
      ],
      "execution_count": 73,
      "outputs": []
    },
    {
      "cell_type": "markdown",
      "metadata": {
        "id": "5D3ktiHa-j-v"
      },
      "source": [
        "##9.1.Machine Learning Performance"
      ]
    },
    {
      "cell_type": "code",
      "metadata": {
        "id": "yDXGr0Lqz7qI",
        "colab": {
          "base_uri": "https://localhost:8080/",
          "height": 295
        },
        "outputId": "4b2f40a6-b03c-4f22-8966-6fbdde561812"
      },
      "source": [
        "#AUC Curve\n",
        "fpr, tpr, threshold = metrics.roc_curve(y_test, yhat_xgb_tuned)\n",
        "roc_auc = metrics.auc(fpr, tpr)\n",
        "\n",
        "plt.title('Receiver Operating Characteristic')\n",
        "plt.plot(fpr, tpr, 'b', label = 'AUC = %0.2f' % roc_auc)\n",
        "plt.legend(loc = 'lower right')\n",
        "plt.plot([0, 1], [0, 1],'r--')\n",
        "plt.xlim([0, 1])\n",
        "plt.ylim([0, 1])\n",
        "plt.ylabel('True Positive Rate')\n",
        "plt.xlabel('False Positive Rate')\n",
        "plt.show()"
      ],
      "execution_count": 74,
      "outputs": [
        {
          "output_type": "display_data",
          "data": {
            "image/png": "[encoded data removed]",
            "text/plain": [
              "<Figure size 432x288 with 1 Axes>"
            ]
          },
          "metadata": {
            "needs_background": "light"
          }
        }
      ]
    },
    {
      "cell_type": "code",
      "metadata": {
        "id": "cB15Ke42fErF",
        "colab": {
          "base_uri": "https://localhost:8080/",
          "height": 297
        },
        "outputId": "a61d52b7-04aa-48f8-8735-4ced2cb0630d"
      },
      "source": [
        "#Confusion matrix\n",
        "np.random.seed(2811)\n",
        "\n",
        "cv = StratifiedKFold(n_splits = 5, shuffle = True)\n",
        "y_pred = cross_val_predict(xgb_tuned , x_train, y_train, cv = cv)\n",
        "\n",
        "\n",
        "fig, ax = plt.subplots()\n",
        "ax=sns.heatmap(confusion_matrix(y_train, y_pred), annot=True,ax=ax, fmt='d', cmap='Reds')\n",
        "ax.set_title(\"Confusion matrix\", fontsize=18)\n",
        "ax.set_ylabel(\"True label\")\n",
        "ax.set_xlabel(\"Predicted Label\")\n",
        "plt.tight_layout()"
      ],
      "execution_count": 76,
      "outputs": [
        {
          "output_type": "display_data",
          "data": {
            "image/png": "[encoded data removed]",
            "text/plain": [
              "<Figure size 432x288 with 2 Axes>"
            ]
          },
          "metadata": {
            "needs_background": "light"
          }
        }
      ]
    },
    {
      "cell_type": "markdown",
      "metadata": {
        "id": "K2ALxcCaaLQd"
      },
      "source": [
        "##9.2.Business Performance"
      ]
    },
    {
      "cell_type": "markdown",
      "metadata": {
        "id": "e6oI5VofQbbR"
      },
      "source": [
        "###Perguntas a serem respondidas:"
      ]
    },
    {
      "cell_type": "markdown",
      "metadata": {
        "id": "Cv3RDwLdZswt"
      },
      "source": [
        "####1-Qual e a Precisão da ferramenta?"
      ]
    },
    {
      "cell_type": "code",
      "metadata": {
        "id": "b4IwgZFYZ50A",
        "colab": {
          "base_uri": "https://localhost:8080/"
        },
        "outputId": "7f91a062-e9de-4a53-a6db-e1a330c26cfb"
      },
      "source": [
        "print('Precision: {} %'.format(xgb_result_cv['PrecisionCV']))"
      ],
      "execution_count": 77,
      "outputs": [
        {
          "output_type": "stream",
          "name": "stdout",
          "text": [
            "Precision: 0    0.69+/-0.01\n",
            "Name: PrecisionCV, dtype: object %\n"
          ]
        }
      ]
    },
    {
      "cell_type": "markdown",
      "metadata": {
        "id": "_RuzkKWXZuM9"
      },
      "source": [
        "####2-Quanto lucro a Cardio Catch Diseases passará a ter com a nova ferramenta?"
      ]
    },
    {
      "cell_type": "code",
      "metadata": {
        "id": "ZLtul7p9OcKK",
        "colab": {
          "base_uri": "https://localhost:8080/"
        },
        "outputId": "ed34e43b-830b-4286-a4c9-6367074d9ba8"
      },
      "source": [
        "current_precision=50\n",
        "precision_xgb=precision_score(y_test,yhat_xgb_tuned)*100\n",
        "diagnostic_price=1000\n",
        "preco_accuracy=100\n",
        "\n",
        "profit=((precision_xgb-current_precision))*preco_accuracy\n",
        "print('Profit with the new diagnostic tool: R$ {}'.format(profit))"
      ],
      "execution_count": 78,
      "outputs": [
        {
          "output_type": "stream",
          "name": "stdout",
          "text": [
            "Profit with the new diagnostic tool: R$ 1937.6867264191205\n"
          ]
        }
      ]
    },
    {
      "cell_type": "markdown",
      "metadata": {
        "id": "6DMlVJjBaela"
      },
      "source": [
        "#10.0. DEPLOY MODEL TO PRODUCTION"
      ]
    },
    {
      "cell_type": "markdown",
      "metadata": {
        "id": "eoe3WFtfa0yS"
      },
      "source": [
        "##10.1. transformacoes class"
      ]
    },
    {
      "cell_type": "code",
      "metadata": {
        "id": "ssA6D2mNVBSa"
      },
      "source": [
        "'''import pandas as pd\n",
        "import numpy  as np\n",
        "import pickle\n",
        "\n",
        "\n",
        "class transformations (object):  \n",
        "  def __init__(self):\n",
        "    self.Active=                   pickle.load(open('parameters/Active_scaler.pkl','rb'))\n",
        "    self.Age=                      pickle.load(open('parameters/Age_scaler.pkl','rb'))\n",
        "    self.Alco=                     pickle.load(open('parameters/Alco_scaler.pkl','rb'))\n",
        "    self.ApHi=                     pickle.load(open('parameters/ApHi_scaler.pkl','rb'))\n",
        "    self.ApLo=                     pickle.load(open('parameters/ApLo_scaler.pkl','rb'))\n",
        "    self.Gender=                   pickle.load(open('parameters/Gender_scaler.pkl','rb'))\n",
        "    self.Height=                   pickle.load(open('parameters/Height_scaler.pkl','rb'))\n",
        "    self.Imc=                      pickle.load(open('parameters/Imc_scaler.pkl','rb'))\n",
        "    self.Smoke=                    pickle.load(open('parameters/Smoke_scaler.pkl','rb'))\n",
        "    self.Weight=                   pickle.load(open('parameters/Weight_scaler.pkl','rb'))\n",
        "     \n",
        "\n",
        "\n",
        "  def data_cleaning(self,data):\n",
        "    \n",
        "\n",
        "    columns={  'id':'Id','age':'Age','gender':'Gender','height':'Height',\n",
        "               'weight':'Weight','ap_hi':'ApHi','ap_lo':'ApLo',\n",
        "               'cholesterol':'Cholesterol','gluc':'Gluc','smoke':'Smoke',\n",
        "               'alco':'Alco','active':'Active','cardio':'Cardio'}\n",
        "\n",
        "    data=data.rename(columns=columns)  \n",
        "\n",
        "    #Change types\n",
        "    aux=['Active','Cholesterol']\n",
        "    data[aux]=data[aux].astype(str)\n",
        "\n",
        "    #Rewriting the variables\n",
        "    niveis={'1':'medium','2':'high','3':'very_high'} \n",
        "    estado={'1':'yes','0':'no'}    \n",
        "\n",
        "    #Cholesterol\n",
        "    data['Cholesterol']=data['Cholesterol'].map(niveis)   \n",
        "    \n",
        "    return data\n",
        "  \n",
        "  \n",
        "  def feature_engeneering(self,data):\n",
        "\n",
        "    #Age\n",
        "    data['Age']=data['Age']/365 \n",
        "    #Imc\n",
        "    data['Imc']=data['Weight']/(data['Height']**2)\n",
        "\n",
        "    return data  \n",
        "  \n",
        "\n",
        "  def data_preparation(self,data):\n",
        "    \n",
        "    #Age\n",
        "    data['Age']=self.Age.fit_transform(data[['Age']].values)\n",
        "    \n",
        "    #ApLo\n",
        "    data['ApLo']=self.ApLo.fit_transform(data[['ApLo']].values)\n",
        "    \n",
        "    #Height\n",
        "    data['Height']=self.Height.fit_transform(data[['Height']].values)\n",
        "\n",
        "    #Weight\n",
        "    data['Weight']=self.Weight.fit_transform(data[['Weight']].values)\n",
        "\n",
        "    #ApHi\n",
        "    data['ApHi']=self.ApHi.fit_transform(data[['ApHi']].values)\n",
        "    \n",
        "    #Imc\n",
        "    data['Imc']=self.Imc.fit_transform(data[['Imc']].values)      \n",
        "\n",
        "    #Gender\n",
        "    data['Gender']=self.Gender.fit_transform(data['Gender'])\n",
        "    \n",
        "    #Smoke\n",
        "    data['Smoke']=self.Smoke.fit_transform(data['Smoke'])\n",
        "    \n",
        "    #Alco\n",
        "    data['Alco']=self.Alco.fit_transform(data['Alco'])\n",
        "    \n",
        "    #Active\n",
        "    data['Active']=self.Active.fit_transform(data['Active'])      \n",
        "\n",
        "    #Cholesterol\n",
        "    r=0.33\n",
        "    assortment_dict={'medium':1*r,'high':2*r,'very_high':3*r}\n",
        "    data['Cholesterol']=data['Cholesterol'].map(assortment_dict)\n",
        "\n",
        "    #Gluc\n",
        "    r=0.33\n",
        "    assortment_dict={'medium':1*r,'high':2*r,'very_high':3*r}\n",
        "    data['Gluc']=data['Gluc'].map(assortment_dict)\n",
        "    data=data[['Age', 'Active', 'ApHi', 'Cholesterol']]\n",
        "    return data\n",
        "  \n",
        "  def get_prediction(self, model, dado_original, data_transforme):\n",
        "\n",
        "    #prediction\n",
        "    pred=model.predict(data_transforme)\n",
        "\n",
        "    #join pred into the original data\n",
        "    dado_original['Predictions']=pred \n",
        "\n",
        "    return dado_original.to_json(orient='records',date_format='iso')'''"
      ],
      "execution_count": null,
      "outputs": []
    },
    {
      "cell_type": "markdown",
      "metadata": {
        "id": "A1lqCvdPa7-q"
      },
      "source": [
        "##10.2. API Handler"
      ]
    },
    {
      "cell_type": "code",
      "metadata": {
        "id": "JFex5sZOUpwC"
      },
      "source": [
        "'''from flask                           import Flask,request,Response\n",
        "from transformations.transformations import transformations\n",
        "import os\n",
        "import pickle\n",
        "import pandas              as pd\n",
        "\n",
        "\n",
        "#Loading model\n",
        "model=pickle.load(open('model/xgb_tuned_train_final.pkl','rb'))\n",
        "\n",
        "#Initialize API\n",
        "app=Flask(__name__)\n",
        "\n",
        "@app.route('/oi',methods=['POST'])\n",
        "def diagnostico_predict():\n",
        "  test_json=request.get_json()\n",
        "\n",
        "  if test_json:\n",
        "    if isinstance (test_json,dict):\n",
        "      test_raw=pd.DataFrame(test_json,index=[0])\n",
        "\n",
        "    else:\n",
        "      test_raw=pd.DataFrame(test_json,columns=test_json[0].keys())\n",
        "    \n",
        "    #Isntantiate transformations\n",
        "    pipeline=transformations()  \n",
        "\n",
        "    #data cleaning\n",
        "    df1=pipeline.data_cleaning(test_raw)  \n",
        "\n",
        "    #feature engeneering\n",
        "    df2=pipeline.feature_engeneering(df1)\n",
        "\n",
        "    #data preparation\n",
        "    df3=pipeline.data_preparation(df2)\n",
        "\n",
        "    #predict\n",
        "    df_response=pipeline.get_prediction(model,test_raw,df3)\n",
        "    \n",
        "    return df_response\n",
        "\n",
        "  else:\n",
        "    return Response('{}',status=200,mimetype='application/json')\n",
        "\n",
        "if __name__ == \"__main__\":\n",
        "    port = int(os.environ.get(\"PORT\", 5000))\n",
        "    app.run(host='0.0.0.0', port=port)'''"
      ],
      "execution_count": null,
      "outputs": []
    },
    {
      "cell_type": "markdown",
      "metadata": {
        "id": "9fnxebzna_zC"
      },
      "source": [
        "##10.3.API Tester"
      ]
    },
    {
      "cell_type": "code",
      "metadata": {
        "id": "r_NKyw0V5RSy",
        "colab": {
          "base_uri": "https://localhost:8080/"
        },
        "outputId": "50a4510a-d69f-4996-da79-bb7cff355c50"
      },
      "source": [
        "#Dataframe de teste do deploy\n",
        "df_test_deploy=df_raw[df_raw.index>=69900].reset_index()\n",
        "df_test_deploy=df_test_deploy.drop(['cardio'],axis=1)\n",
        "\n",
        "#converter em json\n",
        "df_test_deploy=json.dumps(df_test_deploy.to_dict(orient='records'))\n",
        "\n",
        "#API call\n",
        "path=' https://sdfbsdfbbbb.herokuapp.com/'\n",
        "url=path +'oi'\n",
        "headers={'content-type':'application/json'}\n",
        "data=df_test_deploy\n",
        "r=requests.post(url,data=data,headers=headers)\n",
        "print('Status code {}'.format(r.status_code))"
      ],
      "execution_count": 79,
      "outputs": [
        {
          "output_type": "stream",
          "name": "stdout",
          "text": [
            "Status code 200\n"
          ]
        }
      ]
    },
    {
      "cell_type": "code",
      "metadata": {
        "id": "yzJ8_Qah7Gsr",
        "colab": {
          "base_uri": "https://localhost:8080/",
          "height": 419
        },
        "outputId": "2cc5cc2d-a07c-4e23-f7b3-1cad82207965"
      },
      "source": [
        "#Prediction\n",
        "df1=pd.DataFrame(r.json(),columns=r.json()[0].keys())\n",
        "df1.drop(['index'],axis=1)"
      ],
      "execution_count": 80,
      "outputs": [
        {
          "output_type": "execute_result",
          "data": {
            "text/html": [
              "<div>\n",
              "<style scoped>\n",
              "    .dataframe tbody tr th:only-of-type {\n",
              "        vertical-align: middle;\n",
              "    }\n",
              "\n",
              "    .dataframe tbody tr th {\n",
              "        vertical-align: top;\n",
              "    }\n",
              "\n",
              "    .dataframe thead th {\n",
              "        text-align: right;\n",
              "    }\n",
              "</style>\n",
              "<table border=\"1\" class=\"dataframe\">\n",
              "  <thead>\n",
              "    <tr style=\"text-align: right;\">\n",
              "      <th></th>\n",
              "      <th>id</th>\n",
              "      <th>age</th>\n",
              "      <th>gender</th>\n",
              "      <th>height</th>\n",
              "      <th>weight</th>\n",
              "      <th>ap_hi</th>\n",
              "      <th>ap_lo</th>\n",
              "      <th>cholesterol</th>\n",
              "      <th>gluc</th>\n",
              "      <th>smoke</th>\n",
              "      <th>alco</th>\n",
              "      <th>active</th>\n",
              "      <th>Predictions</th>\n",
              "    </tr>\n",
              "  </thead>\n",
              "  <tbody>\n",
              "    <tr>\n",
              "      <th>0</th>\n",
              "      <td>99844</td>\n",
              "      <td>18187</td>\n",
              "      <td>1</td>\n",
              "      <td>159</td>\n",
              "      <td>89.00</td>\n",
              "      <td>120</td>\n",
              "      <td>80</td>\n",
              "      <td>1</td>\n",
              "      <td>2</td>\n",
              "      <td>0</td>\n",
              "      <td>0</td>\n",
              "      <td>1</td>\n",
              "      <td>0</td>\n",
              "    </tr>\n",
              "    <tr>\n",
              "      <th>1</th>\n",
              "      <td>99845</td>\n",
              "      <td>19621</td>\n",
              "      <td>1</td>\n",
              "      <td>165</td>\n",
              "      <td>71.00</td>\n",
              "      <td>120</td>\n",
              "      <td>70</td>\n",
              "      <td>1</td>\n",
              "      <td>1</td>\n",
              "      <td>0</td>\n",
              "      <td>0</td>\n",
              "      <td>1</td>\n",
              "      <td>0</td>\n",
              "    </tr>\n",
              "    <tr>\n",
              "      <th>2</th>\n",
              "      <td>99847</td>\n",
              "      <td>23179</td>\n",
              "      <td>1</td>\n",
              "      <td>164</td>\n",
              "      <td>67.00</td>\n",
              "      <td>120</td>\n",
              "      <td>80</td>\n",
              "      <td>1</td>\n",
              "      <td>1</td>\n",
              "      <td>0</td>\n",
              "      <td>0</td>\n",
              "      <td>0</td>\n",
              "      <td>1</td>\n",
              "    </tr>\n",
              "    <tr>\n",
              "      <th>3</th>\n",
              "      <td>99849</td>\n",
              "      <td>23138</td>\n",
              "      <td>2</td>\n",
              "      <td>180</td>\n",
              "      <td>100.00</td>\n",
              "      <td>140</td>\n",
              "      <td>100</td>\n",
              "      <td>1</td>\n",
              "      <td>1</td>\n",
              "      <td>0</td>\n",
              "      <td>0</td>\n",
              "      <td>1</td>\n",
              "      <td>1</td>\n",
              "    </tr>\n",
              "    <tr>\n",
              "      <th>4</th>\n",
              "      <td>99851</td>\n",
              "      <td>19540</td>\n",
              "      <td>1</td>\n",
              "      <td>160</td>\n",
              "      <td>69.00</td>\n",
              "      <td>130</td>\n",
              "      <td>90</td>\n",
              "      <td>1</td>\n",
              "      <td>1</td>\n",
              "      <td>0</td>\n",
              "      <td>0</td>\n",
              "      <td>1</td>\n",
              "      <td>0</td>\n",
              "    </tr>\n",
              "    <tr>\n",
              "      <th>...</th>\n",
              "      <td>...</td>\n",
              "      <td>...</td>\n",
              "      <td>...</td>\n",
              "      <td>...</td>\n",
              "      <td>...</td>\n",
              "      <td>...</td>\n",
              "      <td>...</td>\n",
              "      <td>...</td>\n",
              "      <td>...</td>\n",
              "      <td>...</td>\n",
              "      <td>...</td>\n",
              "      <td>...</td>\n",
              "      <td>...</td>\n",
              "    </tr>\n",
              "    <tr>\n",
              "      <th>95</th>\n",
              "      <td>99993</td>\n",
              "      <td>19240</td>\n",
              "      <td>2</td>\n",
              "      <td>168</td>\n",
              "      <td>76.00</td>\n",
              "      <td>120</td>\n",
              "      <td>80</td>\n",
              "      <td>1</td>\n",
              "      <td>1</td>\n",
              "      <td>1</td>\n",
              "      <td>0</td>\n",
              "      <td>1</td>\n",
              "      <td>0</td>\n",
              "    </tr>\n",
              "    <tr>\n",
              "      <th>96</th>\n",
              "      <td>99995</td>\n",
              "      <td>22601</td>\n",
              "      <td>1</td>\n",
              "      <td>158</td>\n",
              "      <td>126.00</td>\n",
              "      <td>140</td>\n",
              "      <td>90</td>\n",
              "      <td>2</td>\n",
              "      <td>2</td>\n",
              "      <td>0</td>\n",
              "      <td>0</td>\n",
              "      <td>1</td>\n",
              "      <td>1</td>\n",
              "    </tr>\n",
              "    <tr>\n",
              "      <th>97</th>\n",
              "      <td>99996</td>\n",
              "      <td>19066</td>\n",
              "      <td>2</td>\n",
              "      <td>183</td>\n",
              "      <td>105.00</td>\n",
              "      <td>180</td>\n",
              "      <td>90</td>\n",
              "      <td>3</td>\n",
              "      <td>1</td>\n",
              "      <td>0</td>\n",
              "      <td>1</td>\n",
              "      <td>0</td>\n",
              "      <td>1</td>\n",
              "    </tr>\n",
              "    <tr>\n",
              "      <th>98</th>\n",
              "      <td>99998</td>\n",
              "      <td>22431</td>\n",
              "      <td>1</td>\n",
              "      <td>163</td>\n",
              "      <td>72.00</td>\n",
              "      <td>135</td>\n",
              "      <td>80</td>\n",
              "      <td>1</td>\n",
              "      <td>2</td>\n",
              "      <td>0</td>\n",
              "      <td>0</td>\n",
              "      <td>0</td>\n",
              "      <td>1</td>\n",
              "    </tr>\n",
              "    <tr>\n",
              "      <th>99</th>\n",
              "      <td>99999</td>\n",
              "      <td>20540</td>\n",
              "      <td>1</td>\n",
              "      <td>170</td>\n",
              "      <td>72.00</td>\n",
              "      <td>120</td>\n",
              "      <td>80</td>\n",
              "      <td>2</td>\n",
              "      <td>1</td>\n",
              "      <td>0</td>\n",
              "      <td>0</td>\n",
              "      <td>1</td>\n",
              "      <td>1</td>\n",
              "    </tr>\n",
              "  </tbody>\n",
              "</table>\n",
              "<p>100 rows × 13 columns</p>\n",
              "</div>"
            ],
            "text/plain": [
              "       id    age  gender  height  ...  smoke  alco  active  Predictions\n",
              "0   99844  18187       1     159  ...      0     0       1            0\n",
              "1   99845  19621       1     165  ...      0     0       1            0\n",
              "2   99847  23179       1     164  ...      0     0       0            1\n",
              "3   99849  23138       2     180  ...      0     0       1            1\n",
              "4   99851  19540       1     160  ...      0     0       1            0\n",
              "..    ...    ...     ...     ...  ...    ...   ...     ...          ...\n",
              "95  99993  19240       2     168  ...      1     0       1            0\n",
              "96  99995  22601       1     158  ...      0     0       1            1\n",
              "97  99996  19066       2     183  ...      0     1       0            1\n",
              "98  99998  22431       1     163  ...      0     0       0            1\n",
              "99  99999  20540       1     170  ...      0     0       1            1\n",
              "\n",
              "[100 rows x 13 columns]"
            ]
          },
          "metadata": {},
          "execution_count": 80
        }
      ]
    }
  ]
}