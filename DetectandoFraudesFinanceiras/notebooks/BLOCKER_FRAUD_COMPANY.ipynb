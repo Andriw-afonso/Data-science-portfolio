{
  "cells": [
    {
      "cell_type": "markdown",
      "metadata": {
        "id": "e-HN8F8vIE0K"
      },
      "source": [
        "# 0.0. IMPORTS"
      ]
    },
    {
      "cell_type": "code",
      "execution_count": null,
      "metadata": {
        "id": "v5N9moORvrn1",
        "colab": {
          "base_uri": "https://localhost:8080/"
        },
        "outputId": "b93105bb-ab88-457b-9cc6-ad6cb46f5d8f"
      },
      "outputs": [
        {
          "output_type": "stream",
          "name": "stderr",
          "text": [
            "/usr/local/lib/python3.7/dist-packages/distributed/config.py:20: YAMLLoadWarning: calling yaml.load() without Loader=... is deprecated, as the default Loader is unsafe. Please read https://msg.pyyaml.org/load for full details.\n",
            "  defaults = yaml.load(f)\n"
          ]
        }
      ],
      "source": [
        "import pandas              as pd\n",
        "import numpy               as np\n",
        "import seaborn             as sns\n",
        "import matplotlib.pyplot   as plt\n",
        "import matplotlib.gridspec as gridspec\n",
        "import scipy.stats         as stats\n",
        "import sklearn.metrics     as metrics\n",
        "import matplotlib.pyplot as plt\n",
        "\n",
        "\n",
        "import warnings\n",
        "import random\n",
        "import requests\n",
        "import json\n",
        "import datetime\n",
        "import math\n",
        "import pickle\n",
        "\n",
        "from IPython.core.display      import HTML\n",
        "from sklearn.preprocessing     import RobustScaler,MinMaxScaler,LabelEncoder\n",
        "from tabulate                  import tabulate\n",
        "from boruta                    import BorutaPy\n",
        "from IPython.display           import Image\n",
        "from sklearn.model_selection   import train_test_split,cross_val_predict\n",
        "from sklearn.metrics           import precision_score, recall_score, f1_score\n",
        "from sklearn.ensemble          import RandomForestRegressor,RandomForestClassifier,GradientBoostingClassifier\n",
        "from sklearn.dummy             import DummyClassifier\n",
        "from sklearn.linear_model      import LogisticRegression\n",
        "from sklearn.neighbors         import KNeighborsClassifier \n",
        "from sklearn.naive_bayes       import GaussianNB,BernoulliNB\n",
        "from sklearn.svm               import SVC\n",
        "from sklearn.tree              import DecisionTreeClassifier\n",
        "from sklearn.metrics           import roc_curve, auc,accuracy_score\n",
        "from sklearn.metrics           import precision_recall_curve,recall_score,confusion_matrix\n",
        "from imblearn.under_sampling   import NearMiss\n",
        "from sklearn.model_selection   import RandomizedSearchCV,StratifiedKFold\n",
        "from pycaret.classification    import *\n",
        "from sklearn.datasets          import make_regression"
      ]
    },
    {
      "cell_type": "markdown",
      "metadata": {
        "heading_collapsed": true,
        "id": "0yYvm-LIIUbr"
      },
      "source": [
        "## 0.1 Helper Functions"
      ]
    },
    {
      "cell_type": "code",
      "execution_count": null,
      "metadata": {
        "hidden": true,
        "id": "eaOpsHN8Y2VT",
        "colab": {
          "base_uri": "https://localhost:8080/"
        },
        "outputId": "80128bf8-39c7-4cd9-99fd-3cc850a584aa"
      },
      "outputs": [
        {
          "output_type": "stream",
          "name": "stdout",
          "text": [
            "Populating the interactive namespace from numpy and matplotlib\n"
          ]
        },
        {
          "output_type": "display_data",
          "data": {
            "text/html": [
              "<style>.container { width:100% !important; }</style>"
            ],
            "text/plain": [
              "<IPython.core.display.HTML object>"
            ]
          },
          "metadata": {}
        }
      ],
      "source": [
        "def numeric_categorical(df,feature,features_reponse):\n",
        "\n",
        "  plt.subplot(1,2,1)\n",
        "  aux=df[[feature,features_reponse]].groupby(features_reponse).mean().reset_index()\n",
        "  ax=sns.barplot(x=features_reponse,y=feature,data=aux)\n",
        "\n",
        "  plt.subplot(1,2,2)\n",
        "  aux=df4.copy()\n",
        "  aux[features_reponse]=aux[features_reponse].apply(lambda x : 1 if x=='sim' else 0)\n",
        "  correlation=aux[[feature,features_reponse]].corr(method='pearson')\n",
        "  ax=sns.heatmap(correlation,annot=True);\n",
        "\n",
        "  return ax\n",
        "\n",
        "\n",
        "def feature_importance(x_train,y_train):\n",
        "\n",
        "  #model\n",
        "  model = RandomForestRegressor()\n",
        "\n",
        "  #fit \n",
        "  model.fit(x_train, y_train)\n",
        "\n",
        "  #get importance\n",
        "  importance = model.feature_importances_\n",
        "\n",
        "  # summarize feature importance\n",
        "  for i,v in enumerate(importance):\n",
        "    print('Feature: %0d, Score: %.5f' % (i,v))\n",
        "    \n",
        "  #plot feature importance\n",
        "  plt.bar([x for x in range(len(importance))], importance)\n",
        "\n",
        "  return plt.show()\n",
        "\n",
        "\n",
        "def model_perform(y_test,yhat,model_name):\n",
        "\n",
        "  data=pd.DataFrame({       'model Name':   model_name, \n",
        "                            'accuracy'  :   accuracy_score(y_test, yhat),                                                                                                  \n",
        "                            'precision' :   precision_score(y_test,yhat),\n",
        "                            'recall'    :   recall_score(y_test,yhat, average='macro'),\n",
        "                            'f1 score'  :   f1_score(y_test,yhat)                     \n",
        "                                                                   },index=[0])\n",
        "  return data\n",
        "\n",
        "\n",
        "def cross_validation(data,kfold,model_name,model):\n",
        "  \n",
        "  accuracy_list=[]\n",
        "  precision_list=[]\n",
        "  recall_list=[]\n",
        "  f1_score_list=[]\n",
        "  \n",
        "  \n",
        "  fim=[]\n",
        "  inicio=[]  \n",
        "  razao=data.index.max()/kfold\n",
        "  for i in range(1,kfold+1):\n",
        "    fim.append(round(razao*i,2))\n",
        "    inicio.append(round((razao*i)-razao,2))\n",
        "\n",
        "  for k in range(0,kfold):\n",
        "\n",
        "    #Start and end for validation\n",
        "    validation_start=inicio[k]\n",
        "    validation_end=fim[k]\n",
        "\n",
        "    #Filtering in dataset\n",
        "    aux=data[(data.index>=validation_start) & (data.index<=validation_end)]\n",
        "    training=data.drop(aux.index,axis=0)\n",
        "    validation=data[(data.index>=validation_start) & (data.index<=validation_end)]\n",
        "\n",
        "\n",
        "    #Training and validation dataset\n",
        "    #Training\n",
        "    xtraining=training.drop(['fraude'],axis=1)\n",
        "    ytraining=training['fraude']\n",
        "\n",
        "    #Validation\n",
        "    xvalidation=validation.drop(['fraude'],axis=1)\n",
        "    yvalidation=validation['fraude']\n",
        "\n",
        "    #model\n",
        "    m=model.fit(xtraining,ytraining)\n",
        "\n",
        "    #prediction\n",
        "    yhat=m.predict(xvalidation)\n",
        "\n",
        "    performaces=model_perform(yvalidation,yhat,model_name)\n",
        "    \n",
        "    #performance of each KFold iteration\n",
        "    accuracy_list.append(performaces['accuracy'])\n",
        "    precision_list.append(performaces['precision'])\n",
        "    recall_list.append(performaces['recall'])\n",
        "    f1_score_list.append(performaces['f1 score'])\n",
        "    \n",
        "\n",
        "\n",
        "  return pd.DataFrame({ 'Model name':               model_name,  \n",
        "                        'accuracy CV':              np.round(np.mean(accuracy_list),2).astype(str)+ '+/-' + np.round(np.std(accuracy_list),2).astype(str),                    \n",
        "                        'precision CV':             np.round(np.mean(precision_list),2).astype(str)+ '+/-' + np.round(np.std(precision_list),2).astype(str),\n",
        "                        'recall CV':                np.round(np.mean(recall_list),2).astype(str)+ '+/-' + np.round(np.std(recall_list),2).astype(str),\n",
        "                        'f1 score CV':              np.round(np.mean(f1_score_list),2).astype(str)+ '+/-' + np.round(np.std(f1_score_list),2).astype(str)\n",
        "                        \n",
        "                        \n",
        "                       \n",
        "                        },index=[0])\n",
        "  \n",
        "\n",
        "\n",
        "def boruta (x_train,y_train):\n",
        "  \n",
        "  #Training and test dataset for Boruta\n",
        "  X_train_boruta = x_train.values\n",
        "  Y_train_boruta = y_train.values.ravel()\n",
        "\n",
        "  #Define RandomForestRegressor\n",
        "  rf=RandomForestRegressor(n_jobs=-1)\n",
        "\n",
        "  #Define Boruta\n",
        "  boruta=BorutaPy(rf,n_estimators='auto',verbose=2,random_state=42).fit(X_train_boruta,Y_train_boruta)  \n",
        "  \n",
        "  return boruta\n",
        "  \n",
        "\n",
        "\n",
        "def best_features(boruta,x_train):\n",
        "\n",
        "  cols_selected=boruta.support_.tolist()\n",
        "\n",
        "  #best features\n",
        "  x_train_fs=x_train\n",
        "  cols_selected_boruta=x_train_fs.iloc[:,cols_selected].columns.to_list()\n",
        "\n",
        "  #not selected boruta\n",
        "  cols_not_selected_boruta=list(np.setdiff1d(x_train_fs.columns,cols_selected_boruta))\n",
        "\n",
        "  return cols_selected_boruta\n",
        "\n",
        "\n",
        "#rescaling\n",
        "def rescaling(poucos_outliers,muitos_outliers,data):\n",
        "  \n",
        "  rs=RobustScaler()\n",
        "  mms=MinMaxScaler()\n",
        "\n",
        "  #poucos_outliers\n",
        "  for i in range(0,len(poucos_outliers)):\n",
        "    data[poucos_outliers[i]]=mms.fit_transform(data[[poucos_outliers[i]]].values)   \n",
        "\n",
        "  #muitos_outliers\n",
        "  for i in range(0,len(muitos_outliers)):\n",
        "    data[muitos_outliers[i]]=rs.fit_transform(data[[muitos_outliers[i]]].values)     \n",
        "\n",
        "  return data\n",
        "\n",
        "\n",
        "def correlacao_features_numericas(numericos,data):\n",
        "\n",
        "  columns=numericos.columns\n",
        "  aux=data[columns]\n",
        "\n",
        "  correlation=aux.corr(method='pearson')\n",
        "  ax=sns.heatmap(correlation,annot=True);\n",
        "  ax.figure.set_size_inches(18,10)\n",
        "  ax.set_title('Correlação entre features numéricas',fontsize=14)\n",
        "\n",
        "  return ax\n",
        "\n",
        "\n",
        "def correlacao_categorica(data):\n",
        "\n",
        "  #selecao\n",
        "  a=data.select_dtypes(include='object')\n",
        "\n",
        "  #lista 1 , todas correlacoes\n",
        "  columns=a.columns\n",
        "  lista=[]\n",
        "  for i2 in range(0,len(columns)):\n",
        "    for i in range(0,len(columns)):\n",
        "      lista.append(cramer_v(a[columns[i2]],a[columns[i]]))\n",
        "\n",
        "  #lista 2 , correlacoes por features\n",
        "  lista2=[]\n",
        "  n_features=len(columns)\n",
        "  for i in range(0,n_features):\n",
        "\n",
        "    a=n_features*i\n",
        "    b=n_features*(i+1)\n",
        "\n",
        "    lista2.append(lista[a:b])\n",
        "  \n",
        "  return lista2\n",
        "\n",
        "  \n",
        "def cramer_v(x,y):\n",
        "  \n",
        "  cm=pd.crosstab(x, y).to_numpy()\n",
        "  n=cm.sum()\n",
        "  r,k=cm.shape\n",
        "  chi2=stats.chi2_contingency(cm)[0]\n",
        "  chi2corr=max(0,chi2-(k-1)*(r-1)/(n-1))\n",
        "  kcorr=k-(k-1)**2/(n-1)\n",
        "  rcorr=r-(r-1)**2/(n-1)\n",
        "\n",
        "  return np.sqrt((chi2corr/n)/(min(kcorr-1,rcorr-1)))\n",
        "\n",
        "\n",
        "def estatistica_descritiva(data):\n",
        "\n",
        "  #selecao\n",
        "  num_attributes=data.select_dtypes(include=['int64','float64'])\n",
        "\n",
        "  #Central tendency=mean,median\n",
        "  ct1=pd.DataFrame(num_attributes.apply(np.mean)).T\n",
        "  ct2=pd.DataFrame(num_attributes.apply(np.median)).T\n",
        "\n",
        "  # Dispersion=std,min,max,range,skew,kurtosis\n",
        "  d1=pd.DataFrame(num_attributes.apply(np.std)).T\n",
        "  d2=pd.DataFrame(num_attributes.apply(min)).T\n",
        "  d3=pd.DataFrame(num_attributes.apply(max)).T\n",
        "  d4=pd.DataFrame(num_attributes.apply(lambda x:x.mean()-x.min())).T\n",
        "  d5=pd.DataFrame(num_attributes.apply(lambda x:x.skew())).T\n",
        "  d6=pd.DataFrame(num_attributes.apply(lambda x:x.kurtosis())).T\n",
        "\n",
        "  #Concatenate\n",
        "  aux=pd.concat([d2,d3,d4,ct1,ct2,d1,d5,d6]).T.reset_index()  \n",
        "  aux.columns=(['attributes','min','max','range','mean','median','std','skew','kurtosis']) \n",
        "\n",
        "  return aux\n",
        "\n",
        "\n",
        "def curva_roc(y_test,yhat):\n",
        "  \n",
        "  fpr, tpr, threshold = metrics.roc_curve(y_test, yhat)\n",
        "  roc_auc = metrics.auc(fpr, tpr)\n",
        "\n",
        "  plt.title('Receiver Operating Characteristic')\n",
        "  plt.plot(fpr, tpr, 'b', label = 'AUC = %0.2f' % roc_auc)\n",
        "  plt.legend(loc = 'lower right')\n",
        "  plt.plot([0, 1], [0, 1],'r--')\n",
        "  plt.xlim([0, 1])\n",
        "  plt.ylim([0, 1])\n",
        "  plt.ylabel('True Positive Rate')\n",
        "  plt.xlabel('False Positive Rate')\n",
        "  return plt.show()\n",
        "\n",
        "\n",
        "\n",
        "def calcula_limite_superior_e_inferior(data):\n",
        "\n",
        "  q1=data.quantile(0.25)\n",
        "  q3=data.quantile(0.75)\n",
        "  \n",
        "  iiq=q3-q1\n",
        "\n",
        "  limite_inferior=q1-1.5*iiq\n",
        "  limite_superior=q3+1.5*iiq\n",
        "  \n",
        "  return [limite_superior,limite_inferior]\n",
        "\n",
        "\n",
        "def jupyter_settings():\n",
        "  %matplotlib inline\n",
        "  %pylab inline\n",
        "  plt.style.use( 'bmh' )\n",
        "  plt.rcParams['figure.figsize'] = [25, 12]\n",
        "  plt.rcParams['font.size'] = 24\n",
        "  display( HTML( '<style>.container { width:100% !important; }</style>') )\n",
        "  pd.options.display.max_columns = None\n",
        "  pd.options.display.max_rows = None\n",
        "  pd.set_option( 'display.expand_frame_repr', False )\n",
        "  sns.set()\n",
        "\n",
        "jupyter_settings()"
      ]
    },
    {
      "cell_type": "markdown",
      "metadata": {
        "id": "Hhruxo2xIa9g"
      },
      "source": [
        "## 0.2 Loading Data"
      ]
    },
    {
      "cell_type": "code",
      "execution_count": null,
      "metadata": {
        "colab": {
          "base_uri": "https://localhost:8080/"
        },
        "id": "zQG4J1MbIbfH",
        "outputId": "3ac94234-1bb9-4a44-fb64-cf1693a59009"
      },
      "outputs": [
        {
          "output_type": "execute_result",
          "data": {
            "text/html": [
              "\n",
              "  <div id=\"df-0635cabe-2d12-44c2-95ac-03efbfcbb939\">\n",
              "    <div class=\"colab-df-container\">\n",
              "      <div>\n",
              "<style scoped>\n",
              "    .dataframe tbody tr th:only-of-type {\n",
              "        vertical-align: middle;\n",
              "    }\n",
              "\n",
              "    .dataframe tbody tr th {\n",
              "        vertical-align: top;\n",
              "    }\n",
              "\n",
              "    .dataframe thead th {\n",
              "        text-align: right;\n",
              "    }\n",
              "</style>\n",
              "<table border=\"1\" class=\"dataframe\">\n",
              "  <thead>\n",
              "    <tr style=\"text-align: right;\">\n",
              "      <th></th>\n",
              "      <th>step</th>\n",
              "      <th>type</th>\n",
              "      <th>amount</th>\n",
              "      <th>nameOrig</th>\n",
              "      <th>oldbalanceOrg</th>\n",
              "      <th>newbalanceOrig</th>\n",
              "      <th>nameDest</th>\n",
              "      <th>oldbalanceDest</th>\n",
              "      <th>newbalanceDest</th>\n",
              "      <th>isFraud</th>\n",
              "      <th>isFlaggedFraud</th>\n",
              "    </tr>\n",
              "  </thead>\n",
              "  <tbody>\n",
              "    <tr>\n",
              "      <th>0</th>\n",
              "      <td>1</td>\n",
              "      <td>PAYMENT</td>\n",
              "      <td>9839.64</td>\n",
              "      <td>C1231006815</td>\n",
              "      <td>170136.0</td>\n",
              "      <td>160296.36</td>\n",
              "      <td>M1979787155</td>\n",
              "      <td>0.0</td>\n",
              "      <td>0.0</td>\n",
              "      <td>0</td>\n",
              "      <td>0</td>\n",
              "    </tr>\n",
              "    <tr>\n",
              "      <th>1</th>\n",
              "      <td>1</td>\n",
              "      <td>PAYMENT</td>\n",
              "      <td>1864.28</td>\n",
              "      <td>C1666544295</td>\n",
              "      <td>21249.0</td>\n",
              "      <td>19384.72</td>\n",
              "      <td>M2044282225</td>\n",
              "      <td>0.0</td>\n",
              "      <td>0.0</td>\n",
              "      <td>0</td>\n",
              "      <td>0</td>\n",
              "    </tr>\n",
              "    <tr>\n",
              "      <th>2</th>\n",
              "      <td>1</td>\n",
              "      <td>TRANSFER</td>\n",
              "      <td>181.00</td>\n",
              "      <td>C1305486145</td>\n",
              "      <td>181.0</td>\n",
              "      <td>0.00</td>\n",
              "      <td>C553264065</td>\n",
              "      <td>0.0</td>\n",
              "      <td>0.0</td>\n",
              "      <td>1</td>\n",
              "      <td>0</td>\n",
              "    </tr>\n",
              "    <tr>\n",
              "      <th>3</th>\n",
              "      <td>1</td>\n",
              "      <td>CASH_OUT</td>\n",
              "      <td>181.00</td>\n",
              "      <td>C840083671</td>\n",
              "      <td>181.0</td>\n",
              "      <td>0.00</td>\n",
              "      <td>C38997010</td>\n",
              "      <td>21182.0</td>\n",
              "      <td>0.0</td>\n",
              "      <td>1</td>\n",
              "      <td>0</td>\n",
              "    </tr>\n",
              "    <tr>\n",
              "      <th>4</th>\n",
              "      <td>1</td>\n",
              "      <td>PAYMENT</td>\n",
              "      <td>11668.14</td>\n",
              "      <td>C2048537720</td>\n",
              "      <td>41554.0</td>\n",
              "      <td>29885.86</td>\n",
              "      <td>M1230701703</td>\n",
              "      <td>0.0</td>\n",
              "      <td>0.0</td>\n",
              "      <td>0</td>\n",
              "      <td>0</td>\n",
              "    </tr>\n",
              "  </tbody>\n",
              "</table>\n",
              "</div>\n",
              "      <button class=\"colab-df-convert\" onclick=\"convertToInteractive('df-0635cabe-2d12-44c2-95ac-03efbfcbb939')\"\n",
              "              title=\"Convert this dataframe to an interactive table.\"\n",
              "              style=\"display:none;\">\n",
              "        \n",
              "  <svg xmlns=\"http://www.w3.org/2000/svg\" height=\"24px\"viewBox=\"0 0 24 24\"\n",
              "       width=\"24px\">\n",
              "    <path d=\"M0 0h24v24H0V0z\" fill=\"none\"/>\n",
              "    <path d=\"M18.56 5.44l.94 2.06.94-2.06 2.06-.94-2.06-.94-.94-2.06-.94 2.06-2.06.94zm-11 1L8.5 8.5l.94-2.06 2.06-.94-2.06-.94L8.5 2.5l-.94 2.06-2.06.94zm10 10l.94 2.06.94-2.06 2.06-.94-2.06-.94-.94-2.06-.94 2.06-2.06.94z\"/><path d=\"M17.41 7.96l-1.37-1.37c-.4-.4-.92-.59-1.43-.59-.52 0-1.04.2-1.43.59L10.3 9.45l-7.72 7.72c-.78.78-.78 2.05 0 2.83L4 21.41c.39.39.9.59 1.41.59.51 0 1.02-.2 1.41-.59l7.78-7.78 2.81-2.81c.8-.78.8-2.07 0-2.86zM5.41 20L4 18.59l7.72-7.72 1.47 1.35L5.41 20z\"/>\n",
              "  </svg>\n",
              "      </button>\n",
              "      \n",
              "  <style>\n",
              "    .colab-df-container {\n",
              "      display:flex;\n",
              "      flex-wrap:wrap;\n",
              "      gap: 12px;\n",
              "    }\n",
              "\n",
              "    .colab-df-convert {\n",
              "      background-color: #E8F0FE;\n",
              "      border: none;\n",
              "      border-radius: 50%;\n",
              "      cursor: pointer;\n",
              "      display: none;\n",
              "      fill: #1967D2;\n",
              "      height: 32px;\n",
              "      padding: 0 0 0 0;\n",
              "      width: 32px;\n",
              "    }\n",
              "\n",
              "    .colab-df-convert:hover {\n",
              "      background-color: #E2EBFA;\n",
              "      box-shadow: 0px 1px 2px rgba(60, 64, 67, 0.3), 0px 1px 3px 1px rgba(60, 64, 67, 0.15);\n",
              "      fill: #174EA6;\n",
              "    }\n",
              "\n",
              "    [theme=dark] .colab-df-convert {\n",
              "      background-color: #3B4455;\n",
              "      fill: #D2E3FC;\n",
              "    }\n",
              "\n",
              "    [theme=dark] .colab-df-convert:hover {\n",
              "      background-color: #434B5C;\n",
              "      box-shadow: 0px 1px 3px 1px rgba(0, 0, 0, 0.15);\n",
              "      filter: drop-shadow(0px 1px 2px rgba(0, 0, 0, 0.3));\n",
              "      fill: #FFFFFF;\n",
              "    }\n",
              "  </style>\n",
              "\n",
              "      <script>\n",
              "        const buttonEl =\n",
              "          document.querySelector('#df-0635cabe-2d12-44c2-95ac-03efbfcbb939 button.colab-df-convert');\n",
              "        buttonEl.style.display =\n",
              "          google.colab.kernel.accessAllowed ? 'block' : 'none';\n",
              "\n",
              "        async function convertToInteractive(key) {\n",
              "          const element = document.querySelector('#df-0635cabe-2d12-44c2-95ac-03efbfcbb939');\n",
              "          const dataTable =\n",
              "            await google.colab.kernel.invokeFunction('convertToInteractive',\n",
              "                                                     [key], {});\n",
              "          if (!dataTable) return;\n",
              "\n",
              "          const docLinkHtml = 'Like what you see? Visit the ' +\n",
              "            '<a target=\"_blank\" href=https://colab.research.google.com/notebooks/data_table.ipynb>data table notebook</a>'\n",
              "            + ' to learn more about interactive tables.';\n",
              "          element.innerHTML = '';\n",
              "          dataTable['output_type'] = 'display_data';\n",
              "          await google.colab.output.renderOutput(dataTable, element);\n",
              "          const docLink = document.createElement('div');\n",
              "          docLink.innerHTML = docLinkHtml;\n",
              "          element.appendChild(docLink);\n",
              "        }\n",
              "      </script>\n",
              "    </div>\n",
              "  </div>\n",
              "  "
            ],
            "text/plain": [
              "   step      type    amount     nameOrig  oldbalanceOrg  newbalanceOrig     nameDest  oldbalanceDest  newbalanceDest  isFraud  isFlaggedFraud\n",
              "0     1   PAYMENT   9839.64  C1231006815       170136.0       160296.36  M1979787155             0.0             0.0        0               0\n",
              "1     1   PAYMENT   1864.28  C1666544295        21249.0        19384.72  M2044282225             0.0             0.0        0               0\n",
              "2     1  TRANSFER    181.00  C1305486145          181.0            0.00   C553264065             0.0             0.0        1               0\n",
              "3     1  CASH_OUT    181.00   C840083671          181.0            0.00    C38997010         21182.0             0.0        1               0\n",
              "4     1   PAYMENT  11668.14  C2048537720        41554.0        29885.86  M1230701703             0.0             0.0        0               0"
            ]
          },
          "metadata": {},
          "execution_count": 7
        }
      ],
      "source": [
        "df_raw=pd.read_csv('/content/drive/MyDrive/PS_20174392719_1491204439457_log.csv')\n",
        "df_raw.head()"
      ]
    },
    {
      "cell_type": "code",
      "execution_count": null,
      "metadata": {
        "id": "Yt-Yrz0zBPRa"
      },
      "outputs": [],
      "source": [
        "df_test_deploy=df_raw[df_raw.index<1000]"
      ]
    },
    {
      "cell_type": "markdown",
      "metadata": {
        "heading_collapsed": true,
        "id": "M0XZw0DHIccA"
      },
      "source": [
        "# 1.0. PASSO 1 - DESCRIPTION OF THE DATA"
      ]
    },
    {
      "cell_type": "code",
      "execution_count": null,
      "metadata": {
        "hidden": true,
        "id": "XdoVIRfrIw-j"
      },
      "outputs": [],
      "source": [
        "#copia do dataframe\n",
        "df1=df_raw.copy()"
      ]
    },
    {
      "cell_type": "markdown",
      "metadata": {
        "hidden": true,
        "id": "ucvRcvY6IrH4"
      },
      "source": [
        "## 1.1 Rename Columns"
      ]
    },
    {
      "cell_type": "code",
      "execution_count": null,
      "metadata": {
        "colab": {
          "base_uri": "https://localhost:8080/"
        },
        "hidden": true,
        "id": "UcyqLj73I36Y",
        "outputId": "4517207d-795d-47f5-8c57-414478979a03"
      },
      "outputs": [
        {
          "output_type": "execute_result",
          "data": {
            "text/html": [
              "\n",
              "  <div id=\"df-db042d59-05af-42a8-b7de-fe4c64240626\">\n",
              "    <div class=\"colab-df-container\">\n",
              "      <div>\n",
              "<style scoped>\n",
              "    .dataframe tbody tr th:only-of-type {\n",
              "        vertical-align: middle;\n",
              "    }\n",
              "\n",
              "    .dataframe tbody tr th {\n",
              "        vertical-align: top;\n",
              "    }\n",
              "\n",
              "    .dataframe thead th {\n",
              "        text-align: right;\n",
              "    }\n",
              "</style>\n",
              "<table border=\"1\" class=\"dataframe\">\n",
              "  <thead>\n",
              "    <tr style=\"text-align: right;\">\n",
              "      <th></th>\n",
              "      <th>etapa</th>\n",
              "      <th>tipos</th>\n",
              "      <th>montante</th>\n",
              "      <th>remetente</th>\n",
              "      <th>saldo_inicial_remetente</th>\n",
              "      <th>saldo_atual_remetente</th>\n",
              "      <th>destinatario</th>\n",
              "      <th>saldo_inicial_destinatario</th>\n",
              "      <th>saldo_atual_destinatario</th>\n",
              "      <th>fraude</th>\n",
              "      <th>fraude_sinalizada</th>\n",
              "    </tr>\n",
              "  </thead>\n",
              "  <tbody>\n",
              "    <tr>\n",
              "      <th>0</th>\n",
              "      <td>1</td>\n",
              "      <td>PAYMENT</td>\n",
              "      <td>9839.64</td>\n",
              "      <td>C1231006815</td>\n",
              "      <td>170136.0</td>\n",
              "      <td>160296.36</td>\n",
              "      <td>M1979787155</td>\n",
              "      <td>0.0</td>\n",
              "      <td>0.0</td>\n",
              "      <td>0</td>\n",
              "      <td>0</td>\n",
              "    </tr>\n",
              "    <tr>\n",
              "      <th>1</th>\n",
              "      <td>1</td>\n",
              "      <td>PAYMENT</td>\n",
              "      <td>1864.28</td>\n",
              "      <td>C1666544295</td>\n",
              "      <td>21249.0</td>\n",
              "      <td>19384.72</td>\n",
              "      <td>M2044282225</td>\n",
              "      <td>0.0</td>\n",
              "      <td>0.0</td>\n",
              "      <td>0</td>\n",
              "      <td>0</td>\n",
              "    </tr>\n",
              "    <tr>\n",
              "      <th>2</th>\n",
              "      <td>1</td>\n",
              "      <td>TRANSFER</td>\n",
              "      <td>181.00</td>\n",
              "      <td>C1305486145</td>\n",
              "      <td>181.0</td>\n",
              "      <td>0.00</td>\n",
              "      <td>C553264065</td>\n",
              "      <td>0.0</td>\n",
              "      <td>0.0</td>\n",
              "      <td>1</td>\n",
              "      <td>0</td>\n",
              "    </tr>\n",
              "    <tr>\n",
              "      <th>3</th>\n",
              "      <td>1</td>\n",
              "      <td>CASH_OUT</td>\n",
              "      <td>181.00</td>\n",
              "      <td>C840083671</td>\n",
              "      <td>181.0</td>\n",
              "      <td>0.00</td>\n",
              "      <td>C38997010</td>\n",
              "      <td>21182.0</td>\n",
              "      <td>0.0</td>\n",
              "      <td>1</td>\n",
              "      <td>0</td>\n",
              "    </tr>\n",
              "    <tr>\n",
              "      <th>4</th>\n",
              "      <td>1</td>\n",
              "      <td>PAYMENT</td>\n",
              "      <td>11668.14</td>\n",
              "      <td>C2048537720</td>\n",
              "      <td>41554.0</td>\n",
              "      <td>29885.86</td>\n",
              "      <td>M1230701703</td>\n",
              "      <td>0.0</td>\n",
              "      <td>0.0</td>\n",
              "      <td>0</td>\n",
              "      <td>0</td>\n",
              "    </tr>\n",
              "  </tbody>\n",
              "</table>\n",
              "</div>\n",
              "      <button class=\"colab-df-convert\" onclick=\"convertToInteractive('df-db042d59-05af-42a8-b7de-fe4c64240626')\"\n",
              "              title=\"Convert this dataframe to an interactive table.\"\n",
              "              style=\"display:none;\">\n",
              "        \n",
              "  <svg xmlns=\"http://www.w3.org/2000/svg\" height=\"24px\"viewBox=\"0 0 24 24\"\n",
              "       width=\"24px\">\n",
              "    <path d=\"M0 0h24v24H0V0z\" fill=\"none\"/>\n",
              "    <path d=\"M18.56 5.44l.94 2.06.94-2.06 2.06-.94-2.06-.94-.94-2.06-.94 2.06-2.06.94zm-11 1L8.5 8.5l.94-2.06 2.06-.94-2.06-.94L8.5 2.5l-.94 2.06-2.06.94zm10 10l.94 2.06.94-2.06 2.06-.94-2.06-.94-.94-2.06-.94 2.06-2.06.94z\"/><path d=\"M17.41 7.96l-1.37-1.37c-.4-.4-.92-.59-1.43-.59-.52 0-1.04.2-1.43.59L10.3 9.45l-7.72 7.72c-.78.78-.78 2.05 0 2.83L4 21.41c.39.39.9.59 1.41.59.51 0 1.02-.2 1.41-.59l7.78-7.78 2.81-2.81c.8-.78.8-2.07 0-2.86zM5.41 20L4 18.59l7.72-7.72 1.47 1.35L5.41 20z\"/>\n",
              "  </svg>\n",
              "      </button>\n",
              "      \n",
              "  <style>\n",
              "    .colab-df-container {\n",
              "      display:flex;\n",
              "      flex-wrap:wrap;\n",
              "      gap: 12px;\n",
              "    }\n",
              "\n",
              "    .colab-df-convert {\n",
              "      background-color: #E8F0FE;\n",
              "      border: none;\n",
              "      border-radius: 50%;\n",
              "      cursor: pointer;\n",
              "      display: none;\n",
              "      fill: #1967D2;\n",
              "      height: 32px;\n",
              "      padding: 0 0 0 0;\n",
              "      width: 32px;\n",
              "    }\n",
              "\n",
              "    .colab-df-convert:hover {\n",
              "      background-color: #E2EBFA;\n",
              "      box-shadow: 0px 1px 2px rgba(60, 64, 67, 0.3), 0px 1px 3px 1px rgba(60, 64, 67, 0.15);\n",
              "      fill: #174EA6;\n",
              "    }\n",
              "\n",
              "    [theme=dark] .colab-df-convert {\n",
              "      background-color: #3B4455;\n",
              "      fill: #D2E3FC;\n",
              "    }\n",
              "\n",
              "    [theme=dark] .colab-df-convert:hover {\n",
              "      background-color: #434B5C;\n",
              "      box-shadow: 0px 1px 3px 1px rgba(0, 0, 0, 0.15);\n",
              "      filter: drop-shadow(0px 1px 2px rgba(0, 0, 0, 0.3));\n",
              "      fill: #FFFFFF;\n",
              "    }\n",
              "  </style>\n",
              "\n",
              "      <script>\n",
              "        const buttonEl =\n",
              "          document.querySelector('#df-db042d59-05af-42a8-b7de-fe4c64240626 button.colab-df-convert');\n",
              "        buttonEl.style.display =\n",
              "          google.colab.kernel.accessAllowed ? 'block' : 'none';\n",
              "\n",
              "        async function convertToInteractive(key) {\n",
              "          const element = document.querySelector('#df-db042d59-05af-42a8-b7de-fe4c64240626');\n",
              "          const dataTable =\n",
              "            await google.colab.kernel.invokeFunction('convertToInteractive',\n",
              "                                                     [key], {});\n",
              "          if (!dataTable) return;\n",
              "\n",
              "          const docLinkHtml = 'Like what you see? Visit the ' +\n",
              "            '<a target=\"_blank\" href=https://colab.research.google.com/notebooks/data_table.ipynb>data table notebook</a>'\n",
              "            + ' to learn more about interactive tables.';\n",
              "          element.innerHTML = '';\n",
              "          dataTable['output_type'] = 'display_data';\n",
              "          await google.colab.output.renderOutput(dataTable, element);\n",
              "          const docLink = document.createElement('div');\n",
              "          docLink.innerHTML = docLinkHtml;\n",
              "          element.appendChild(docLink);\n",
              "        }\n",
              "      </script>\n",
              "    </div>\n",
              "  </div>\n",
              "  "
            ],
            "text/plain": [
              "   etapa     tipos  montante    remetente  saldo_inicial_remetente  saldo_atual_remetente destinatario  saldo_inicial_destinatario  saldo_atual_destinatario  fraude  fraude_sinalizada\n",
              "0      1   PAYMENT   9839.64  C1231006815                 170136.0              160296.36  M1979787155                         0.0                       0.0       0                  0\n",
              "1      1   PAYMENT   1864.28  C1666544295                  21249.0               19384.72  M2044282225                         0.0                       0.0       0                  0\n",
              "2      1  TRANSFER    181.00  C1305486145                    181.0                   0.00   C553264065                         0.0                       0.0       1                  0\n",
              "3      1  CASH_OUT    181.00   C840083671                    181.0                   0.00    C38997010                     21182.0                       0.0       1                  0\n",
              "4      1   PAYMENT  11668.14  C2048537720                  41554.0               29885.86  M1230701703                         0.0                       0.0       0                  0"
            ]
          },
          "metadata": {},
          "execution_count": 10
        }
      ],
      "source": [
        "columns={   'step':'etapa','type':'tipos','amount':'montante','nameOrig':'remetente',\n",
        "            'oldbalanceOrg':'saldo_inicial_remetente','newbalanceOrig':'saldo_atual_remetente',\n",
        "            'nameDest':'destinatario','oldbalanceDest':'saldo_inicial_destinatario',\n",
        "            'newbalanceDest':'saldo_atual_destinatario','isFraud':'fraude','isFlaggedFraud':'fraude_sinalizada'}\n",
        "df1=df1.rename(columns=columns)\n",
        "df1.head()"
      ]
    },
    {
      "cell_type": "markdown",
      "metadata": {
        "hidden": true,
        "id": "KgCn8dAOI-aY"
      },
      "source": [
        "## 1.2 Data Dimensions"
      ]
    },
    {
      "cell_type": "code",
      "execution_count": null,
      "metadata": {
        "colab": {
          "base_uri": "https://localhost:8080/"
        },
        "hidden": true,
        "id": "gcnarEM4I_AM",
        "outputId": "e44b2313-cbda-49b7-91e9-0cab51f42dbe"
      },
      "outputs": [
        {
          "output_type": "stream",
          "name": "stdout",
          "text": [
            "Number of rows: 6362620\n",
            "Number of cols: 11\n"
          ]
        }
      ],
      "source": [
        "print('Number of rows: {}'.format(df1.shape[0]))\n",
        "print('Number of cols: {}'.format(df1.shape[1]))"
      ]
    },
    {
      "cell_type": "markdown",
      "metadata": {
        "hidden": true,
        "id": "v8VI0DTjJC2Z"
      },
      "source": [
        "## 1.3 Data Types"
      ]
    },
    {
      "cell_type": "code",
      "execution_count": null,
      "metadata": {
        "colab": {
          "base_uri": "https://localhost:8080/"
        },
        "hidden": true,
        "id": "NvykRIwwJDm2",
        "outputId": "ef7cc6e9-e240-4dc5-edd4-c6bd7e09700b"
      },
      "outputs": [
        {
          "output_type": "execute_result",
          "data": {
            "text/plain": [
              "etapa                           int64\n",
              "tipos                          object\n",
              "montante                      float64\n",
              "remetente                      object\n",
              "saldo_inicial_remetente       float64\n",
              "saldo_atual_remetente         float64\n",
              "destinatario                   object\n",
              "saldo_inicial_destinatario    float64\n",
              "saldo_atual_destinatario      float64\n",
              "fraude                          int64\n",
              "fraude_sinalizada               int64\n",
              "dtype: object"
            ]
          },
          "metadata": {},
          "execution_count": 12
        }
      ],
      "source": [
        "df1.dtypes"
      ]
    },
    {
      "cell_type": "markdown",
      "metadata": {
        "hidden": true,
        "id": "wE9ZX6aTJG84"
      },
      "source": [
        "## 1.4 Check NA"
      ]
    },
    {
      "cell_type": "code",
      "execution_count": null,
      "metadata": {
        "colab": {
          "base_uri": "https://localhost:8080/"
        },
        "hidden": true,
        "id": "kjnuK3DpJHpG",
        "outputId": "0b946da7-0a2a-41c4-fd1b-f2c3a59cee35"
      },
      "outputs": [
        {
          "output_type": "execute_result",
          "data": {
            "text/plain": [
              "etapa                         0\n",
              "tipos                         0\n",
              "montante                      0\n",
              "remetente                     0\n",
              "saldo_inicial_remetente       0\n",
              "saldo_atual_remetente         0\n",
              "destinatario                  0\n",
              "saldo_inicial_destinatario    0\n",
              "saldo_atual_destinatario      0\n",
              "fraude                        0\n",
              "fraude_sinalizada             0\n",
              "dtype: int64"
            ]
          },
          "metadata": {},
          "execution_count": 13
        }
      ],
      "source": [
        "df1.isna().sum()"
      ]
    },
    {
      "cell_type": "markdown",
      "metadata": {
        "hidden": true,
        "id": "2ty2lvOQJKc4"
      },
      "source": [
        "## 1.5 Fillout NA"
      ]
    },
    {
      "cell_type": "code",
      "execution_count": null,
      "metadata": {
        "hidden": true,
        "id": "QHcLxqineGr0"
      },
      "outputs": [],
      "source": [
        "df1=df1[df1['destinatario'].isna()==False]"
      ]
    },
    {
      "cell_type": "markdown",
      "metadata": {
        "hidden": true,
        "id": "OlJFVvHqOJeA"
      },
      "source": [
        "## 1.6 Change types"
      ]
    },
    {
      "cell_type": "code",
      "execution_count": null,
      "metadata": {
        "hidden": true,
        "id": "SraSxqWNOTsj"
      },
      "outputs": [],
      "source": [
        "df1['fraude']=df1['fraude'].astype(str)\n",
        "df1['fraude_sinalizada']=df1['fraude_sinalizada'].astype(str)"
      ]
    },
    {
      "cell_type": "markdown",
      "metadata": {
        "heading_collapsed": true,
        "hidden": true,
        "id": "zD9IibEiJScY"
      },
      "source": [
        "## 1.7 Descriptive Statistical"
      ]
    },
    {
      "cell_type": "code",
      "execution_count": null,
      "metadata": {
        "hidden": true,
        "id": "zloVBKPSJS9-"
      },
      "outputs": [],
      "source": [
        "num_attributes=df1.select_dtypes(include=['int64','float64'])\n",
        "cat_attributes=df1.select_dtypes(include=['object'])"
      ]
    },
    {
      "cell_type": "markdown",
      "metadata": {
        "heading_collapsed": true,
        "hidden": true,
        "id": "MjhMzg-7JxR6"
      },
      "source": [
        "### 1.7.1 Numerical Attributes"
      ]
    },
    {
      "cell_type": "code",
      "execution_count": null,
      "metadata": {
        "colab": {
          "base_uri": "https://localhost:8080/"
        },
        "hidden": true,
        "id": "HUPUx-mIJ09R",
        "outputId": "bf5c9105-9d4f-4b61-ed3f-f027d0ed34b8"
      },
      "outputs": [
        {
          "output_type": "execute_result",
          "data": {
            "text/html": [
              "\n",
              "  <div id=\"df-2fb35663-5d98-4c65-9b60-6a44244b1585\">\n",
              "    <div class=\"colab-df-container\">\n",
              "      <div>\n",
              "<style scoped>\n",
              "    .dataframe tbody tr th:only-of-type {\n",
              "        vertical-align: middle;\n",
              "    }\n",
              "\n",
              "    .dataframe tbody tr th {\n",
              "        vertical-align: top;\n",
              "    }\n",
              "\n",
              "    .dataframe thead th {\n",
              "        text-align: right;\n",
              "    }\n",
              "</style>\n",
              "<table border=\"1\" class=\"dataframe\">\n",
              "  <thead>\n",
              "    <tr style=\"text-align: right;\">\n",
              "      <th></th>\n",
              "      <th>attributes</th>\n",
              "      <th>min</th>\n",
              "      <th>max</th>\n",
              "      <th>range</th>\n",
              "      <th>mean</th>\n",
              "      <th>median</th>\n",
              "      <th>std</th>\n",
              "      <th>skew</th>\n",
              "      <th>kurtosis</th>\n",
              "    </tr>\n",
              "  </thead>\n",
              "  <tbody>\n",
              "    <tr>\n",
              "      <th>0</th>\n",
              "      <td>etapa</td>\n",
              "      <td>1.0</td>\n",
              "      <td>7.430000e+02</td>\n",
              "      <td>2.423972e+02</td>\n",
              "      <td>2.433972e+02</td>\n",
              "      <td>239.000</td>\n",
              "      <td>1.423320e+02</td>\n",
              "      <td>0.375177</td>\n",
              "      <td>0.329071</td>\n",
              "    </tr>\n",
              "    <tr>\n",
              "      <th>1</th>\n",
              "      <td>montante</td>\n",
              "      <td>0.0</td>\n",
              "      <td>9.244552e+07</td>\n",
              "      <td>1.798619e+05</td>\n",
              "      <td>1.798619e+05</td>\n",
              "      <td>74871.940</td>\n",
              "      <td>6.038582e+05</td>\n",
              "      <td>30.993949</td>\n",
              "      <td>1797.956705</td>\n",
              "    </tr>\n",
              "    <tr>\n",
              "      <th>2</th>\n",
              "      <td>saldo_inicial_remetente</td>\n",
              "      <td>0.0</td>\n",
              "      <td>5.958504e+07</td>\n",
              "      <td>8.338831e+05</td>\n",
              "      <td>8.338831e+05</td>\n",
              "      <td>14208.000</td>\n",
              "      <td>2.888242e+06</td>\n",
              "      <td>5.249136</td>\n",
              "      <td>32.964879</td>\n",
              "    </tr>\n",
              "    <tr>\n",
              "      <th>3</th>\n",
              "      <td>saldo_atual_remetente</td>\n",
              "      <td>0.0</td>\n",
              "      <td>4.958504e+07</td>\n",
              "      <td>8.551137e+05</td>\n",
              "      <td>8.551137e+05</td>\n",
              "      <td>0.000</td>\n",
              "      <td>2.924048e+06</td>\n",
              "      <td>5.176884</td>\n",
              "      <td>32.066985</td>\n",
              "    </tr>\n",
              "    <tr>\n",
              "      <th>4</th>\n",
              "      <td>saldo_inicial_destinatario</td>\n",
              "      <td>0.0</td>\n",
              "      <td>3.560159e+08</td>\n",
              "      <td>1.100702e+06</td>\n",
              "      <td>1.100702e+06</td>\n",
              "      <td>132705.665</td>\n",
              "      <td>3.399180e+06</td>\n",
              "      <td>19.921758</td>\n",
              "      <td>948.674125</td>\n",
              "    </tr>\n",
              "    <tr>\n",
              "      <th>5</th>\n",
              "      <td>saldo_atual_destinatario</td>\n",
              "      <td>0.0</td>\n",
              "      <td>3.561793e+08</td>\n",
              "      <td>1.224996e+06</td>\n",
              "      <td>1.224996e+06</td>\n",
              "      <td>214661.440</td>\n",
              "      <td>3.674129e+06</td>\n",
              "      <td>19.352302</td>\n",
              "      <td>862.156508</td>\n",
              "    </tr>\n",
              "  </tbody>\n",
              "</table>\n",
              "</div>\n",
              "      <button class=\"colab-df-convert\" onclick=\"convertToInteractive('df-2fb35663-5d98-4c65-9b60-6a44244b1585')\"\n",
              "              title=\"Convert this dataframe to an interactive table.\"\n",
              "              style=\"display:none;\">\n",
              "        \n",
              "  <svg xmlns=\"http://www.w3.org/2000/svg\" height=\"24px\"viewBox=\"0 0 24 24\"\n",
              "       width=\"24px\">\n",
              "    <path d=\"M0 0h24v24H0V0z\" fill=\"none\"/>\n",
              "    <path d=\"M18.56 5.44l.94 2.06.94-2.06 2.06-.94-2.06-.94-.94-2.06-.94 2.06-2.06.94zm-11 1L8.5 8.5l.94-2.06 2.06-.94-2.06-.94L8.5 2.5l-.94 2.06-2.06.94zm10 10l.94 2.06.94-2.06 2.06-.94-2.06-.94-.94-2.06-.94 2.06-2.06.94z\"/><path d=\"M17.41 7.96l-1.37-1.37c-.4-.4-.92-.59-1.43-.59-.52 0-1.04.2-1.43.59L10.3 9.45l-7.72 7.72c-.78.78-.78 2.05 0 2.83L4 21.41c.39.39.9.59 1.41.59.51 0 1.02-.2 1.41-.59l7.78-7.78 2.81-2.81c.8-.78.8-2.07 0-2.86zM5.41 20L4 18.59l7.72-7.72 1.47 1.35L5.41 20z\"/>\n",
              "  </svg>\n",
              "      </button>\n",
              "      \n",
              "  <style>\n",
              "    .colab-df-container {\n",
              "      display:flex;\n",
              "      flex-wrap:wrap;\n",
              "      gap: 12px;\n",
              "    }\n",
              "\n",
              "    .colab-df-convert {\n",
              "      background-color: #E8F0FE;\n",
              "      border: none;\n",
              "      border-radius: 50%;\n",
              "      cursor: pointer;\n",
              "      display: none;\n",
              "      fill: #1967D2;\n",
              "      height: 32px;\n",
              "      padding: 0 0 0 0;\n",
              "      width: 32px;\n",
              "    }\n",
              "\n",
              "    .colab-df-convert:hover {\n",
              "      background-color: #E2EBFA;\n",
              "      box-shadow: 0px 1px 2px rgba(60, 64, 67, 0.3), 0px 1px 3px 1px rgba(60, 64, 67, 0.15);\n",
              "      fill: #174EA6;\n",
              "    }\n",
              "\n",
              "    [theme=dark] .colab-df-convert {\n",
              "      background-color: #3B4455;\n",
              "      fill: #D2E3FC;\n",
              "    }\n",
              "\n",
              "    [theme=dark] .colab-df-convert:hover {\n",
              "      background-color: #434B5C;\n",
              "      box-shadow: 0px 1px 3px 1px rgba(0, 0, 0, 0.15);\n",
              "      filter: drop-shadow(0px 1px 2px rgba(0, 0, 0, 0.3));\n",
              "      fill: #FFFFFF;\n",
              "    }\n",
              "  </style>\n",
              "\n",
              "      <script>\n",
              "        const buttonEl =\n",
              "          document.querySelector('#df-2fb35663-5d98-4c65-9b60-6a44244b1585 button.colab-df-convert');\n",
              "        buttonEl.style.display =\n",
              "          google.colab.kernel.accessAllowed ? 'block' : 'none';\n",
              "\n",
              "        async function convertToInteractive(key) {\n",
              "          const element = document.querySelector('#df-2fb35663-5d98-4c65-9b60-6a44244b1585');\n",
              "          const dataTable =\n",
              "            await google.colab.kernel.invokeFunction('convertToInteractive',\n",
              "                                                     [key], {});\n",
              "          if (!dataTable) return;\n",
              "\n",
              "          const docLinkHtml = 'Like what you see? Visit the ' +\n",
              "            '<a target=\"_blank\" href=https://colab.research.google.com/notebooks/data_table.ipynb>data table notebook</a>'\n",
              "            + ' to learn more about interactive tables.';\n",
              "          element.innerHTML = '';\n",
              "          dataTable['output_type'] = 'display_data';\n",
              "          await google.colab.output.renderOutput(dataTable, element);\n",
              "          const docLink = document.createElement('div');\n",
              "          docLink.innerHTML = docLinkHtml;\n",
              "          element.appendChild(docLink);\n",
              "        }\n",
              "      </script>\n",
              "    </div>\n",
              "  </div>\n",
              "  "
            ],
            "text/plain": [
              "                   attributes  min           max         range          mean      median           std       skew     kurtosis\n",
              "0                       etapa  1.0  7.430000e+02  2.423972e+02  2.433972e+02     239.000  1.423320e+02   0.375177     0.329071\n",
              "1                    montante  0.0  9.244552e+07  1.798619e+05  1.798619e+05   74871.940  6.038582e+05  30.993949  1797.956705\n",
              "2     saldo_inicial_remetente  0.0  5.958504e+07  8.338831e+05  8.338831e+05   14208.000  2.888242e+06   5.249136    32.964879\n",
              "3       saldo_atual_remetente  0.0  4.958504e+07  8.551137e+05  8.551137e+05       0.000  2.924048e+06   5.176884    32.066985\n",
              "4  saldo_inicial_destinatario  0.0  3.560159e+08  1.100702e+06  1.100702e+06  132705.665  3.399180e+06  19.921758   948.674125\n",
              "5    saldo_atual_destinatario  0.0  3.561793e+08  1.224996e+06  1.224996e+06  214661.440  3.674129e+06  19.352302   862.156508"
            ]
          },
          "metadata": {},
          "execution_count": 17
        }
      ],
      "source": [
        "estatistica_descritiva(num_attributes)"
      ]
    },
    {
      "cell_type": "markdown",
      "metadata": {
        "heading_collapsed": true,
        "hidden": true,
        "id": "2NLPgZOFKHLI"
      },
      "source": [
        "### 1.7.2 Categorical attributes\n"
      ]
    },
    {
      "cell_type": "code",
      "execution_count": null,
      "metadata": {
        "colab": {
          "base_uri": "https://localhost:8080/"
        },
        "hidden": true,
        "id": "BtUghqRXKIFG",
        "outputId": "6a9f15b0-bb11-41de-aef7-fd6deb37f881"
      },
      "outputs": [
        {
          "output_type": "execute_result",
          "data": {
            "text/plain": [
              "tipos                      5\n",
              "remetente            6353307\n",
              "destinatario         2722362\n",
              "fraude                     2\n",
              "fraude_sinalizada          2\n",
              "dtype: int64"
            ]
          },
          "metadata": {},
          "execution_count": 18
        }
      ],
      "source": [
        "#numero de classes por feature\n",
        "cat_attributes.apply(lambda x: x.unique().shape[0])"
      ]
    },
    {
      "cell_type": "code",
      "execution_count": null,
      "metadata": {
        "colab": {
          "base_uri": "https://localhost:8080/"
        },
        "hidden": true,
        "id": "FBFfB8S9Knll",
        "outputId": "f3e6db06-8520-4e65-d577-a3d0786bc5a3"
      },
      "outputs": [
        {
          "output_type": "execute_result",
          "data": {
            "text/plain": [
              "Text(0.5, 1.0, 'Número de fraudes por tipos de transferência.')"
            ]
          },
          "metadata": {},
          "execution_count": 19
        },
        {
          "output_type": "display_data",
          "data": {
            "image/png": "[encoded data removed]",
            "text/plain": [
              "<Figure size 864x432 with 1 Axes>"
            ]
          },
          "metadata": {}
        }
      ],
      "source": [
        "#plot das features categoricas em relacao a variavel resposta\n",
        "fraude=df1[df1['fraude']=='1']\n",
        "ax=sns.countplot(x='tipos', data=fraude)\n",
        "ax.figure.set_size_inches(12,6)\n",
        "ax.set_title('Número de fraudes por tipos de transferência.')"
      ]
    },
    {
      "cell_type": "markdown",
      "metadata": {
        "heading_collapsed": true,
        "id": "XzUZ5Z-xK3T_"
      },
      "source": [
        "# 2.0. PASSO 2 - FEATURE ENGINEERING"
      ]
    },
    {
      "cell_type": "code",
      "execution_count": null,
      "metadata": {
        "hidden": true,
        "id": "GmZYlduZK34F"
      },
      "outputs": [],
      "source": [
        "#copia do dataframe\n",
        "df2=df1.copy()"
      ]
    },
    {
      "cell_type": "markdown",
      "metadata": {
        "heading_collapsed": true,
        "hidden": true,
        "id": "XyU-Tah1LRnn"
      },
      "source": [
        "## 2.1 Mapa mental de Hipoteses"
      ]
    },
    {
      "cell_type": "code",
      "execution_count": null,
      "metadata": {
        "colab": {
          "base_uri": "https://localhost:8080/"
        },
        "hidden": true,
        "id": "4UaC0ZiiLSM8",
        "outputId": "5e3a1552-ac03-4a8c-971e-33b8ad53d017"
      },
      "outputs": [
        {
          "output_type": "execute_result",
          "data": {
            "image/png": "[encoded data removed]",
            "text/plain": [
              "<IPython.core.display.Image object>"
            ]
          },
          "metadata": {},
          "execution_count": 21
        }
      ],
      "source": [
        "Image('/content/drive/MyDrive/Transacoes.png')"
      ]
    },
    {
      "cell_type": "markdown",
      "metadata": {
        "heading_collapsed": true,
        "hidden": true,
        "id": "Clp8FrelMYKY"
      },
      "source": [
        "## 2.1 Criação das hipoteses"
      ]
    },
    {
      "cell_type": "markdown",
      "metadata": {
        "heading_collapsed": true,
        "hidden": true,
        "id": "sH_nWjMBMdAP"
      },
      "source": [
        "### 2.1.1 Hipoteses Saldos"
      ]
    },
    {
      "cell_type": "markdown",
      "metadata": {
        "hidden": true,
        "id": "_y63imwMM1qv"
      },
      "source": [
        "**1.** Quanto maior o saldo inicial do destinatário, maior é a chance de fraude."
      ]
    },
    {
      "cell_type": "markdown",
      "metadata": {
        "hidden": true,
        "id": "HgBtk1VRM9qG"
      },
      "source": [
        "**2.** Quanto maior o saldo atual do destinatário, maior é a chance de fraude."
      ]
    },
    {
      "cell_type": "markdown",
      "metadata": {
        "hidden": true,
        "id": "uJFpQzqMM-PG"
      },
      "source": [
        " **3.** Quanto maior o saldo inicial do remetente , maior é a chance de fraude."
      ]
    },
    {
      "cell_type": "markdown",
      "metadata": {
        "hidden": true,
        "id": "lLHJ6TG9vB8x"
      },
      "source": [
        "**4.** Quanto maior o saldo atual do remetente , maior é a chance de fraude."
      ]
    },
    {
      "cell_type": "markdown",
      "metadata": {
        "heading_collapsed": true,
        "hidden": true,
        "id": "MwwsXAvVMhY3"
      },
      "source": [
        "### 2.1.2 Hipoteses Clientes"
      ]
    },
    {
      "cell_type": "markdown",
      "metadata": {
        "hidden": true,
        "id": "H5i8MLZsNLDw"
      },
      "source": [
        "**1.** Há maior chance de fraude quando o nome do remetente for inconsistente."
      ]
    },
    {
      "cell_type": "markdown",
      "metadata": {
        "heading_collapsed": true,
        "hidden": true,
        "id": "yU1LRKU9wtMK"
      },
      "source": [
        "### 2.1.3 Hipoteses Tipos"
      ]
    },
    {
      "cell_type": "markdown",
      "metadata": {
        "hidden": true,
        "id": "vGkW-ITjwtMp"
      },
      "source": [
        "**1.** Há maior chance de fraude , quando as transações são dos tipos TRANSFER e CASH OUT."
      ]
    },
    {
      "cell_type": "markdown",
      "metadata": {
        "heading_collapsed": true,
        "hidden": true,
        "id": "S7nqPULlMn53"
      },
      "source": [
        "### 2.1.4 Hipoteses Outros"
      ]
    },
    {
      "cell_type": "markdown",
      "metadata": {
        "hidden": true,
        "id": "DQ26N_DJNNTE"
      },
      "source": [
        "**1.** Quanto maior  a etapa de medição, maior é a chance de fraude."
      ]
    },
    {
      "cell_type": "markdown",
      "metadata": {
        "heading_collapsed": true,
        "hidden": true,
        "id": "70ED8lTYNcBX"
      },
      "source": [
        "## 2.2 Lista final de hipoteses"
      ]
    },
    {
      "cell_type": "markdown",
      "metadata": {
        "hidden": true,
        "id": "ZuuvvGj4Nh2m"
      },
      "source": [
        "**H1-**. Quanto maior o saldo inicial do destinatário, maior é a chance de fraude.\n",
        "\n",
        "**H2-**. Quanto maior o saldo atual do destinatário, maior é a chance de fraude.\n",
        "\n",
        "**H3-**. Quanto maior o saldo inicial do remetente , maior é a chance de fraude.\n",
        "\n",
        "**H4-**. Quanto maior o saldo atual do destinatário , maior é a chance de fraude.\n",
        "\n",
        "**H5-**. Quanto maior o valor do montante , maior é a chance de fraude.\n",
        "\n",
        "\n",
        "**H6-**. Quanto maior  a etapa de medição, maior é a chance de fraude."
      ]
    },
    {
      "cell_type": "markdown",
      "metadata": {
        "heading_collapsed": true,
        "hidden": true,
        "id": "AVklj13VN6dI"
      },
      "source": [
        "## 2.3 Feature Engineering"
      ]
    },
    {
      "cell_type": "code",
      "execution_count": null,
      "metadata": {
        "hidden": true,
        "id": "CVDaJCHsQqLx"
      },
      "outputs": [],
      "source": [
        "#alerta_montante\n",
        "df2['alerta_montante']=df2['montante']\n",
        "df2['alerta_montante']=df2['alerta_montante'].apply(lambda x: '1' if x>300000 else '0')\n",
        "\n",
        "#alerta_etapa\n",
        "df2['alerta_etapa']=df2['etapa']\n",
        "df2['alerta_etapa']=df2['alerta_etapa'].apply(lambda x: '1' if x>367 else '0')\n",
        "\n",
        "#alerta_saldo_inicial_remetente\n",
        "df2['alerta_saldo_inicial_remetente']=df2['saldo_inicial_remetente']\n",
        "df2['alerta_saldo_inicial_remetente']=df2['alerta_saldo_inicial_remetente'].apply(lambda x: '1' if x>1500000 else '0')"
      ]
    },
    {
      "cell_type": "markdown",
      "metadata": {
        "heading_collapsed": true,
        "id": "MvaOgZivOibe"
      },
      "source": [
        "# 3.0. PASSO 3 - VARIABLES FILTERING"
      ]
    },
    {
      "cell_type": "code",
      "execution_count": null,
      "metadata": {
        "hidden": true,
        "id": "Zc2Z2do8Ok27"
      },
      "outputs": [],
      "source": [
        "#copia do dataframe\n",
        "df3=df2.copy()"
      ]
    },
    {
      "cell_type": "markdown",
      "metadata": {
        "heading_collapsed": true,
        "hidden": true,
        "id": "lFgdoU1xO-Z-"
      },
      "source": [
        "## 3.1. Line Filtering"
      ]
    },
    {
      "cell_type": "code",
      "execution_count": null,
      "metadata": {
        "hidden": true,
        "id": "QJ4mkTzFPAxY"
      },
      "outputs": [],
      "source": [
        "df3['fraude']=df3['fraude'].apply(lambda x: 'sim' if x=='1' else 'nao')"
      ]
    },
    {
      "cell_type": "markdown",
      "metadata": {
        "id": "sR0iJiLkPN_9"
      },
      "source": [
        "# 4.0. PASSO 4 - EXPLORATORY DATA ANALYSIS"
      ]
    },
    {
      "cell_type": "code",
      "execution_count": null,
      "metadata": {
        "id": "u_Lb_BBdPQCD"
      },
      "outputs": [],
      "source": [
        "#copia do dataframe\n",
        "df4=df3.copy()"
      ]
    },
    {
      "cell_type": "markdown",
      "metadata": {
        "id": "PAmggbCsPcbd"
      },
      "source": [
        "## 4.1. Univariate Analysis"
      ]
    },
    {
      "cell_type": "markdown",
      "metadata": {
        "heading_collapsed": true,
        "id": "qJCVx9icPhqe"
      },
      "source": [
        "### 4.1.1. Response Variable"
      ]
    },
    {
      "cell_type": "code",
      "execution_count": null,
      "metadata": {
        "hidden": true,
        "id": "zpdtABob1Bba",
        "colab": {
          "base_uri": "https://localhost:8080/"
        },
        "outputId": "331f86d1-2d7e-44f6-ea17-b1ba52e07030"
      },
      "outputs": [
        {
          "output_type": "display_data",
          "data": {
            "image/png": "[encoded data removed]",
            "text/plain": [
              "<Figure size 864x432 with 1 Axes>"
            ]
          },
          "metadata": {}
        }
      ],
      "source": [
        "ax=sns.countplot(df4['fraude'])\n",
        "ax.figure.set_size_inches(12,6)"
      ]
    },
    {
      "cell_type": "markdown",
      "metadata": {
        "heading_collapsed": true,
        "id": "pqPsPzXOPmKu"
      },
      "source": [
        "### 4.1.2. Numerical Variable"
      ]
    },
    {
      "cell_type": "code",
      "execution_count": null,
      "metadata": {
        "hidden": true,
        "id": "5tdulmzAPmzF",
        "colab": {
          "base_uri": "https://localhost:8080/"
        },
        "outputId": "7107ac80-0182-4c81-da03-90af16d65326"
      },
      "outputs": [
        {
          "output_type": "display_data",
          "data": {
            "image/png": "[encoded data removed]",
            "text/plain": [
              "<Figure size 1152x1440 with 6 Axes>"
            ]
          },
          "metadata": {}
        }
      ],
      "source": [
        "# num_attributes and cat_attributes\n",
        "num_attributes=df4[['etapa','montante','saldo_inicial_remetente','saldo_atual_remetente',\n",
        "                    'saldo_inicial_destinatario','saldo_atual_destinatario']]\n",
        "cat_attributes=df4[['tipos','destinatario','remetente','fraude','fraude_sinalizada']]\n",
        "\n",
        "#plot das features numericas\n",
        "warnings.filterwarnings('ignore')\n",
        "\n",
        "lista=num_attributes.columns\n",
        "\n",
        "for i in range(0,len(lista)):\n",
        "\n",
        "  plt.subplot(len(lista),3,i+1)\n",
        "  ax=sns.distplot(df4[lista[i]])  \n",
        "  ax.figure.set_size_inches(16,20)"
      ]
    },
    {
      "cell_type": "markdown",
      "metadata": {
        "heading_collapsed": true,
        "id": "Aga1DnIxSul9"
      },
      "source": [
        "### 4.1.3. Categorical Variable"
      ]
    },
    {
      "cell_type": "code",
      "execution_count": null,
      "metadata": {
        "hidden": true,
        "id": "lFvk88LEDEoS",
        "colab": {
          "base_uri": "https://localhost:8080/"
        },
        "outputId": "70e71aaa-dd9a-47d6-908c-06b725009b79"
      },
      "outputs": [
        {
          "output_type": "display_data",
          "data": {
            "image/png": "[encoded data removed]",
            "text/plain": [
              "<Figure size 1800x864 with 6 Axes>"
            ]
          },
          "metadata": {}
        }
      ],
      "source": [
        "#separados por fraudes e dados normais\n",
        "fraudes=cat_attributes[cat_attributes['fraude']=='sim']\n",
        "normais=cat_attributes[cat_attributes['fraude']=='nao']\n",
        "\n",
        "num_attributes.hist(bins=25);"
      ]
    },
    {
      "cell_type": "markdown",
      "source": [
        "Análise:\n",
        "* O tipos de transações que mais ocorrem fraudes são TRANSFER e CASH_OUT.\n"
      ],
      "metadata": {
        "id": "HXxsDpcqg6I2"
      }
    },
    {
      "cell_type": "markdown",
      "metadata": {
        "heading_collapsed": true,
        "id": "VHWqLgWqS9AN"
      },
      "source": [
        "## 4.2. Bivariate Analysis"
      ]
    },
    {
      "cell_type": "markdown",
      "metadata": {
        "hidden": true,
        "id": "sK7v7hDCTEn1"
      },
      "source": [
        "### ***H1***. Quanto maior o saldo inicial do destinatário, maior é a chance de fraude.(FALSE)"
      ]
    },
    {
      "cell_type": "code",
      "source": [
        "numeric_categorical(df4,'saldo_inicial_destinatario','fraude')"
      ],
      "metadata": {
        "colab": {
          "base_uri": "https://localhost:8080/"
        },
        "id": "W-9erIy24pFM",
        "outputId": "4a6cf613-a4c8-4cda-f0a2-a54d7f00a1a2"
      },
      "execution_count": null,
      "outputs": [
        {
          "output_type": "execute_result",
          "data": {
            "text/plain": [
              "<matplotlib.axes._subplots.AxesSubplot at 0x7fd2ede985d0>"
            ]
          },
          "metadata": {},
          "execution_count": 29
        },
        {
          "output_type": "display_data",
          "data": {
            "image/png": "[encoded data removed]",
            "text/plain": [
              "<Figure size 1800x864 with 3 Axes>"
            ]
          },
          "metadata": {}
        }
      ]
    },
    {
      "cell_type": "markdown",
      "metadata": {
        "heading_collapsed": true,
        "hidden": true,
        "id": "ty4DOZo7TZ9F"
      },
      "source": [
        "### ***H2***. Quanto maior o saldo atual do destinatário, maior é a chance de fraude.(FALSE)"
      ]
    },
    {
      "cell_type": "code",
      "source": [
        "numeric_categorical(df4,'saldo_atual_destinatario','fraude')"
      ],
      "metadata": {
        "colab": {
          "base_uri": "https://localhost:8080/"
        },
        "id": "bDdzFKG-6q2E",
        "outputId": "7f31af61-bc38-410d-b177-7a65433e59b3"
      },
      "execution_count": null,
      "outputs": [
        {
          "output_type": "execute_result",
          "data": {
            "text/plain": [
              "<matplotlib.axes._subplots.AxesSubplot at 0x7fd2eda5be50>"
            ]
          },
          "metadata": {},
          "execution_count": 30
        },
        {
          "output_type": "display_data",
          "data": {
            "image/png": "[encoded data removed]",
            "text/plain": [
              "<Figure size 1800x864 with 3 Axes>"
            ]
          },
          "metadata": {}
        }
      ]
    },
    {
      "cell_type": "markdown",
      "metadata": {
        "heading_collapsed": true,
        "hidden": true,
        "id": "otnAxQ38Tc3N"
      },
      "source": [
        "### ***H3***. Quanto maior o saldo inicial do remetente , maior é a chance de fraude. (TRUE)"
      ]
    },
    {
      "cell_type": "code",
      "source": [
        "numeric_categorical(df4,'saldo_inicial_remetente','fraude')"
      ],
      "metadata": {
        "colab": {
          "base_uri": "https://localhost:8080/"
        },
        "id": "tC-QZFBj6u-c",
        "outputId": "f26da954-5e68-49c5-b07e-942029811947"
      },
      "execution_count": null,
      "outputs": [
        {
          "output_type": "execute_result",
          "data": {
            "text/plain": [
              "<matplotlib.axes._subplots.AxesSubplot at 0x7fd2ed8fc990>"
            ]
          },
          "metadata": {},
          "execution_count": 31
        },
        {
          "output_type": "display_data",
          "data": {
            "image/png": "[encoded data removed]",
            "text/plain": [
              "<Figure size 1800x864 with 3 Axes>"
            ]
          },
          "metadata": {}
        }
      ]
    },
    {
      "cell_type": "markdown",
      "metadata": {
        "heading_collapsed": true,
        "hidden": true,
        "id": "XncS_BNqTeUd"
      },
      "source": [
        "### ***H4***. Quanto maior o saldo atual do remetente , maior é a chance de fraude. (FALSE)"
      ]
    },
    {
      "cell_type": "code",
      "source": [
        "numeric_categorical(df4,'saldo_atual_remetente','fraude')"
      ],
      "metadata": {
        "colab": {
          "base_uri": "https://localhost:8080/"
        },
        "id": "boIT8DRm7stU",
        "outputId": "72a98629-2912-4804-ed8f-7b8288982541"
      },
      "execution_count": null,
      "outputs": [
        {
          "output_type": "execute_result",
          "data": {
            "text/plain": [
              "<matplotlib.axes._subplots.AxesSubplot at 0x7fd2ed7f5110>"
            ]
          },
          "metadata": {},
          "execution_count": 32
        },
        {
          "output_type": "display_data",
          "data": {
            "image/png": "[encoded data removed]",
            "text/plain": [
              "<Figure size 1800x864 with 3 Axes>"
            ]
          },
          "metadata": {}
        }
      ]
    },
    {
      "cell_type": "markdown",
      "metadata": {
        "heading_collapsed": true,
        "hidden": true,
        "id": "gR45ERX5TkWt"
      },
      "source": [
        "### ***H5***. Quanto maior o valor do montante , maior é a chance de fraude. (TRUE)\n"
      ]
    },
    {
      "cell_type": "code",
      "source": [
        "numeric_categorical(df4,'montante','fraude')"
      ],
      "metadata": {
        "colab": {
          "base_uri": "https://localhost:8080/"
        },
        "id": "MQdNVXhI72Oc",
        "outputId": "f590bc7b-a91d-4485-c052-258860ab2fea"
      },
      "execution_count": null,
      "outputs": [
        {
          "output_type": "execute_result",
          "data": {
            "text/plain": [
              "<matplotlib.axes._subplots.AxesSubplot at 0x7fd2ed7a5d90>"
            ]
          },
          "metadata": {},
          "execution_count": 33
        },
        {
          "output_type": "display_data",
          "data": {
            "image/png": "[encoded data removed]",
            "text/plain": [
              "<Figure size 1800x864 with 3 Axes>"
            ]
          },
          "metadata": {}
        }
      ]
    },
    {
      "cell_type": "markdown",
      "metadata": {
        "heading_collapsed": true,
        "hidden": true,
        "id": "07b7kf0eTmHN"
      },
      "source": [
        "### ***H6***. Quanto maior  a etapa de medição, maior é a chance de fraude. (TRUE)"
      ]
    },
    {
      "cell_type": "code",
      "source": [
        "numeric_categorical(df4,'etapa','fraude')"
      ],
      "metadata": {
        "colab": {
          "base_uri": "https://localhost:8080/"
        },
        "id": "4ay_OVDT8AFd",
        "outputId": "5d95d649-fa42-4255-c616-1714797e9d50"
      },
      "execution_count": null,
      "outputs": [
        {
          "output_type": "execute_result",
          "data": {
            "text/plain": [
              "<matplotlib.axes._subplots.AxesSubplot at 0x7fd2ed632bd0>"
            ]
          },
          "metadata": {},
          "execution_count": 34
        },
        {
          "output_type": "display_data",
          "data": {
            "image/png": "[encoded data removed]",
            "text/plain": [
              "<Figure size 1800x864 with 3 Axes>"
            ]
          },
          "metadata": {}
        }
      ]
    },
    {
      "cell_type": "markdown",
      "metadata": {
        "heading_collapsed": true,
        "hidden": true,
        "id": "kow0Z9RYUWGD"
      },
      "source": [
        "### 4.3.1 Summary of hypotheses"
      ]
    },
    {
      "cell_type": "code",
      "execution_count": null,
      "metadata": {
        "hidden": true,
        "id": "gbslqyTZUXSM",
        "colab": {
          "base_uri": "https://localhost:8080/"
        },
        "outputId": "718d7890-8141-4a0e-8b79-75633e2ce973"
      },
      "outputs": [
        {
          "output_type": "stream",
          "name": "stdout",
          "text": [
            "Hipoteses    conclusao    Relevancia\n",
            "-----------  -----------  ------------\n",
            "H1           Falsa        Media\n",
            "H2           Falsa        Baixa\n",
            "H3           Verdadeira   Alta\n",
            "H4           Falsa        Baixa\n",
            "H5           Verdadeira   Alta\n",
            "H6           Verdadeira   Media\n"
          ]
        }
      ],
      "source": [
        "#dataframe com o resumo das hipoteses\n",
        "tab=[['Hipoteses','conclusao','Relevancia'],\n",
        "     ['H1','Falsa','Media'],\n",
        "     ['H2','Falsa','Baixa'],\n",
        "     ['H3','Verdadeira','Alta'],\n",
        "     ['H4','Falsa','Baixa'],\n",
        "     ['H5','Verdadeira','Alta'],\n",
        "     ['H6','Verdadeira','Media']]\n",
        "\n",
        "print(tabulate(tab,headers='firstrow'))"
      ]
    },
    {
      "cell_type": "markdown",
      "metadata": {
        "id": "MJOXC0zsUrRs"
      },
      "source": [
        "## 4.3. Multivariate Analysis"
      ]
    },
    {
      "cell_type": "markdown",
      "metadata": {
        "heading_collapsed": true,
        "id": "KuLWx92_Uxmk"
      },
      "source": [
        "### 4.3.1. Numerical Atributes"
      ]
    },
    {
      "cell_type": "code",
      "execution_count": null,
      "metadata": {
        "hidden": true,
        "id": "bedIbV3EUr1a",
        "colab": {
          "base_uri": "https://localhost:8080/"
        },
        "outputId": "f311d737-6246-47e0-880a-cbd2d686f11e"
      },
      "outputs": [
        {
          "output_type": "execute_result",
          "data": {
            "text/plain": [
              "<matplotlib.axes._subplots.AxesSubplot at 0x7fd2ed552550>"
            ]
          },
          "metadata": {},
          "execution_count": 36
        },
        {
          "output_type": "display_data",
          "data": {
            "image/png": "[encoded data removed]",
            "text/plain": [
              "<Figure size 1296x720 with 2 Axes>"
            ]
          },
          "metadata": {}
        }
      ],
      "source": [
        "#grafico de correlacao\n",
        "correlacao_features_numericas(num_attributes,df4)"
      ]
    },
    {
      "cell_type": "markdown",
      "metadata": {
        "heading_collapsed": true,
        "id": "uOzUB1c4U6_M"
      },
      "source": [
        "### 4.3.2. Categorical Atributes"
      ]
    },
    {
      "cell_type": "code",
      "source": [
        "lista=correlacao_categorica(df4[df4.index<10000])\n",
        "\n",
        "d=pd.DataFrame({'tipos':                           lista[0],\n",
        "                'remetente':                       lista[1],\n",
        "                'destinatario':                    lista[2],\n",
        "                'fraude':                          lista[3],\n",
        "                'fraude_sinalizada':               lista[4], \n",
        "                'alerta_montante':                 lista[5],\n",
        "                'alerta_etapa':                    lista[6],\n",
        "                'alerta_saldo_inicial_remetente':  lista[7]             \n",
        "                })\n",
        "\n",
        "d=d.set_index(d.columns)\n",
        "\n",
        "d"
      ],
      "metadata": {
        "colab": {
          "base_uri": "https://localhost:8080/"
        },
        "id": "vXcmJHdeu7ZF",
        "outputId": "8409377a-fdde-4074-eb62-19b1bc4188ae"
      },
      "execution_count": null,
      "outputs": [
        {
          "output_type": "execute_result",
          "data": {
            "text/html": [
              "\n",
              "  <div id=\"df-8d7ba82b-92e0-4763-bf43-373182ddea31\">\n",
              "    <div class=\"colab-df-container\">\n",
              "      <div>\n",
              "<style scoped>\n",
              "    .dataframe tbody tr th:only-of-type {\n",
              "        vertical-align: middle;\n",
              "    }\n",
              "\n",
              "    .dataframe tbody tr th {\n",
              "        vertical-align: top;\n",
              "    }\n",
              "\n",
              "    .dataframe thead th {\n",
              "        text-align: right;\n",
              "    }\n",
              "</style>\n",
              "<table border=\"1\" class=\"dataframe\">\n",
              "  <thead>\n",
              "    <tr style=\"text-align: right;\">\n",
              "      <th></th>\n",
              "      <th>tipos</th>\n",
              "      <th>remetente</th>\n",
              "      <th>destinatario</th>\n",
              "      <th>fraude</th>\n",
              "      <th>fraude_sinalizada</th>\n",
              "      <th>alerta_montante</th>\n",
              "      <th>alerta_etapa</th>\n",
              "      <th>alerta_saldo_inicial_remetente</th>\n",
              "    </tr>\n",
              "  </thead>\n",
              "  <tbody>\n",
              "    <tr>\n",
              "      <th>tipos</th>\n",
              "      <td>1.000200</td>\n",
              "      <td>inf</td>\n",
              "      <td>0.663502</td>\n",
              "      <td>0.156185</td>\n",
              "      <td>NaN</td>\n",
              "      <td>0.479162</td>\n",
              "      <td>NaN</td>\n",
              "      <td>0.838592</td>\n",
              "    </tr>\n",
              "    <tr>\n",
              "      <th>remetente</th>\n",
              "      <td>inf</td>\n",
              "      <td>inf</td>\n",
              "      <td>inf</td>\n",
              "      <td>inf</td>\n",
              "      <td>NaN</td>\n",
              "      <td>inf</td>\n",
              "      <td>NaN</td>\n",
              "      <td>inf</td>\n",
              "    </tr>\n",
              "    <tr>\n",
              "      <th>destinatario</th>\n",
              "      <td>0.663502</td>\n",
              "      <td>inf</td>\n",
              "      <td>1.665836</td>\n",
              "      <td>0.768233</td>\n",
              "      <td>NaN</td>\n",
              "      <td>0.582777</td>\n",
              "      <td>NaN</td>\n",
              "      <td>0.616771</td>\n",
              "    </tr>\n",
              "    <tr>\n",
              "      <th>fraude</th>\n",
              "      <td>0.156185</td>\n",
              "      <td>inf</td>\n",
              "      <td>0.768233</td>\n",
              "      <td>0.992646</td>\n",
              "      <td>NaN</td>\n",
              "      <td>0.018320</td>\n",
              "      <td>NaN</td>\n",
              "      <td>0.020884</td>\n",
              "    </tr>\n",
              "    <tr>\n",
              "      <th>fraude_sinalizada</th>\n",
              "      <td>NaN</td>\n",
              "      <td>NaN</td>\n",
              "      <td>NaN</td>\n",
              "      <td>NaN</td>\n",
              "      <td>NaN</td>\n",
              "      <td>NaN</td>\n",
              "      <td>NaN</td>\n",
              "      <td>NaN</td>\n",
              "    </tr>\n",
              "    <tr>\n",
              "      <th>alerta_montante</th>\n",
              "      <td>0.479162</td>\n",
              "      <td>inf</td>\n",
              "      <td>0.582777</td>\n",
              "      <td>0.018320</td>\n",
              "      <td>NaN</td>\n",
              "      <td>0.999444</td>\n",
              "      <td>NaN</td>\n",
              "      <td>0.073196</td>\n",
              "    </tr>\n",
              "    <tr>\n",
              "      <th>alerta_etapa</th>\n",
              "      <td>NaN</td>\n",
              "      <td>NaN</td>\n",
              "      <td>NaN</td>\n",
              "      <td>NaN</td>\n",
              "      <td>NaN</td>\n",
              "      <td>NaN</td>\n",
              "      <td>NaN</td>\n",
              "      <td>NaN</td>\n",
              "    </tr>\n",
              "    <tr>\n",
              "      <th>alerta_saldo_inicial_remetente</th>\n",
              "      <td>0.838592</td>\n",
              "      <td>inf</td>\n",
              "      <td>0.616771</td>\n",
              "      <td>0.020884</td>\n",
              "      <td>NaN</td>\n",
              "      <td>0.073196</td>\n",
              "      <td>NaN</td>\n",
              "      <td>0.999675</td>\n",
              "    </tr>\n",
              "  </tbody>\n",
              "</table>\n",
              "</div>\n",
              "      <button class=\"colab-df-convert\" onclick=\"convertToInteractive('df-8d7ba82b-92e0-4763-bf43-373182ddea31')\"\n",
              "              title=\"Convert this dataframe to an interactive table.\"\n",
              "              style=\"display:none;\">\n",
              "        \n",
              "  <svg xmlns=\"http://www.w3.org/2000/svg\" height=\"24px\"viewBox=\"0 0 24 24\"\n",
              "       width=\"24px\">\n",
              "    <path d=\"M0 0h24v24H0V0z\" fill=\"none\"/>\n",
              "    <path d=\"M18.56 5.44l.94 2.06.94-2.06 2.06-.94-2.06-.94-.94-2.06-.94 2.06-2.06.94zm-11 1L8.5 8.5l.94-2.06 2.06-.94-2.06-.94L8.5 2.5l-.94 2.06-2.06.94zm10 10l.94 2.06.94-2.06 2.06-.94-2.06-.94-.94-2.06-.94 2.06-2.06.94z\"/><path d=\"M17.41 7.96l-1.37-1.37c-.4-.4-.92-.59-1.43-.59-.52 0-1.04.2-1.43.59L10.3 9.45l-7.72 7.72c-.78.78-.78 2.05 0 2.83L4 21.41c.39.39.9.59 1.41.59.51 0 1.02-.2 1.41-.59l7.78-7.78 2.81-2.81c.8-.78.8-2.07 0-2.86zM5.41 20L4 18.59l7.72-7.72 1.47 1.35L5.41 20z\"/>\n",
              "  </svg>\n",
              "      </button>\n",
              "      \n",
              "  <style>\n",
              "    .colab-df-container {\n",
              "      display:flex;\n",
              "      flex-wrap:wrap;\n",
              "      gap: 12px;\n",
              "    }\n",
              "\n",
              "    .colab-df-convert {\n",
              "      background-color: #E8F0FE;\n",
              "      border: none;\n",
              "      border-radius: 50%;\n",
              "      cursor: pointer;\n",
              "      display: none;\n",
              "      fill: #1967D2;\n",
              "      height: 32px;\n",
              "      padding: 0 0 0 0;\n",
              "      width: 32px;\n",
              "    }\n",
              "\n",
              "    .colab-df-convert:hover {\n",
              "      background-color: #E2EBFA;\n",
              "      box-shadow: 0px 1px 2px rgba(60, 64, 67, 0.3), 0px 1px 3px 1px rgba(60, 64, 67, 0.15);\n",
              "      fill: #174EA6;\n",
              "    }\n",
              "\n",
              "    [theme=dark] .colab-df-convert {\n",
              "      background-color: #3B4455;\n",
              "      fill: #D2E3FC;\n",
              "    }\n",
              "\n",
              "    [theme=dark] .colab-df-convert:hover {\n",
              "      background-color: #434B5C;\n",
              "      box-shadow: 0px 1px 3px 1px rgba(0, 0, 0, 0.15);\n",
              "      filter: drop-shadow(0px 1px 2px rgba(0, 0, 0, 0.3));\n",
              "      fill: #FFFFFF;\n",
              "    }\n",
              "  </style>\n",
              "\n",
              "      <script>\n",
              "        const buttonEl =\n",
              "          document.querySelector('#df-8d7ba82b-92e0-4763-bf43-373182ddea31 button.colab-df-convert');\n",
              "        buttonEl.style.display =\n",
              "          google.colab.kernel.accessAllowed ? 'block' : 'none';\n",
              "\n",
              "        async function convertToInteractive(key) {\n",
              "          const element = document.querySelector('#df-8d7ba82b-92e0-4763-bf43-373182ddea31');\n",
              "          const dataTable =\n",
              "            await google.colab.kernel.invokeFunction('convertToInteractive',\n",
              "                                                     [key], {});\n",
              "          if (!dataTable) return;\n",
              "\n",
              "          const docLinkHtml = 'Like what you see? Visit the ' +\n",
              "            '<a target=\"_blank\" href=https://colab.research.google.com/notebooks/data_table.ipynb>data table notebook</a>'\n",
              "            + ' to learn more about interactive tables.';\n",
              "          element.innerHTML = '';\n",
              "          dataTable['output_type'] = 'display_data';\n",
              "          await google.colab.output.renderOutput(dataTable, element);\n",
              "          const docLink = document.createElement('div');\n",
              "          docLink.innerHTML = docLinkHtml;\n",
              "          element.appendChild(docLink);\n",
              "        }\n",
              "      </script>\n",
              "    </div>\n",
              "  </div>\n",
              "  "
            ],
            "text/plain": [
              "                                   tipos  remetente  destinatario    fraude  fraude_sinalizada  alerta_montante  alerta_etapa  alerta_saldo_inicial_remetente\n",
              "tipos                           1.000200        inf      0.663502  0.156185                NaN         0.479162           NaN                        0.838592\n",
              "remetente                            inf        inf           inf       inf                NaN              inf           NaN                             inf\n",
              "destinatario                    0.663502        inf      1.665836  0.768233                NaN         0.582777           NaN                        0.616771\n",
              "fraude                          0.156185        inf      0.768233  0.992646                NaN         0.018320           NaN                        0.020884\n",
              "fraude_sinalizada                    NaN        NaN           NaN       NaN                NaN              NaN           NaN                             NaN\n",
              "alerta_montante                 0.479162        inf      0.582777  0.018320                NaN         0.999444           NaN                        0.073196\n",
              "alerta_etapa                         NaN        NaN           NaN       NaN                NaN              NaN           NaN                             NaN\n",
              "alerta_saldo_inicial_remetente  0.838592        inf      0.616771  0.020884                NaN         0.073196           NaN                        0.999675"
            ]
          },
          "metadata": {},
          "execution_count": 37
        }
      ]
    },
    {
      "cell_type": "markdown",
      "metadata": {
        "heading_collapsed": true,
        "id": "01iSNySzVJmM"
      },
      "source": [
        "# 5.0. PASSO 5 - DATA PREPARATION"
      ]
    },
    {
      "cell_type": "code",
      "execution_count": null,
      "metadata": {
        "hidden": true,
        "id": "NM3kNzKHVKHC"
      },
      "outputs": [],
      "source": [
        "#copia do dataframe\n",
        "df5=df4.copy()"
      ]
    },
    {
      "cell_type": "markdown",
      "metadata": {
        "heading_collapsed": true,
        "hidden": true,
        "id": "dPeK1w55Vg8E"
      },
      "source": [
        "## 5.1. Rescaling"
      ]
    },
    {
      "cell_type": "code",
      "execution_count": null,
      "metadata": {
        "hidden": true,
        "id": "jyzdgpDqVhdS",
        "colab": {
          "base_uri": "https://localhost:8080/"
        },
        "outputId": "787d7336-b632-4fcc-a70c-52184c32ea34"
      },
      "outputs": [
        {
          "output_type": "display_data",
          "data": {
            "image/png": "[encoded data removed]",
            "text/plain": [
              "<Figure size 720x1080 with 6 Axes>"
            ]
          },
          "metadata": {}
        }
      ],
      "source": [
        "#num_attributes e cat_attributes\n",
        "num_attributes=df5.select_dtypes(include=['int64','float64'])\n",
        "cat_attributes=df5.select_dtypes(include='object')\n",
        "\n",
        "#grafico para verificacao de outliers\n",
        "columns=num_attributes.columns\n",
        "\n",
        "for i in range(0,len(columns)):\n",
        "\n",
        "  plt.subplot(3,2,i+1)\n",
        "  ax=sns.boxplot(num_attributes[columns[i]])\n",
        "  ax.figure.set_size_inches(10,15)"
      ]
    },
    {
      "cell_type": "code",
      "execution_count": null,
      "metadata": {
        "hidden": true,
        "id": "iWlZAvu4QHY9"
      },
      "outputs": [],
      "source": [
        "#outliers\n",
        "muitos_outliers=['saldo_inicial_destinatario','saldo_atual_destinatario',\n",
        "                 'saldo_inicial_remetente','saldo_atual_remetente']\n",
        "poucos_outliers=['etapa']\n",
        "\n",
        "#rescaling\n",
        "df5=rescaling(poucos_outliers,muitos_outliers,df5)"
      ]
    },
    {
      "cell_type": "markdown",
      "metadata": {
        "hidden": true,
        "id": "0gLyVzvLVx5E"
      },
      "source": [
        "## 5.2. Transformation"
      ]
    },
    {
      "cell_type": "markdown",
      "metadata": {
        "heading_collapsed": true,
        "hidden": true,
        "id": "QO5psljeV2hs"
      },
      "source": [
        "### 5.3.1. Encoding"
      ]
    },
    {
      "cell_type": "code",
      "execution_count": null,
      "metadata": {
        "hidden": true,
        "id": "JErD9HHkUejG"
      },
      "outputs": [],
      "source": [
        "#Label Encoding\n",
        "#tipos\n",
        "le=LabelEncoder()\n",
        "df5['tipos']=le.fit_transform(df5['tipos'])\n",
        "\n",
        "#cliente_remetente\n",
        "df5['remetente']=le.fit_transform(df5['remetente'])\n",
        "\n",
        "#cliente_destinatario\n",
        "df5['destinatario']=le.fit_transform(df5['destinatario'])\n",
        "\n",
        "#fraude\n",
        "df5['fraude']=le.fit_transform(df5['fraude'])\n",
        "\n",
        "\n",
        "#One Hot Encoding\n",
        "#fraude_sinalizada\n",
        "df5=pd.get_dummies(df5,prefix=['fraude_sinalizada'],columns=['fraude_sinalizada'])\n",
        "\n",
        "#alerta_montante\n",
        "df5=pd.get_dummies(df5,prefix=['alerta_montante'],columns=['alerta_montante'])\n",
        "\n",
        "#alerta_etapa\n",
        "df5=pd.get_dummies(df5,prefix=['alerta_etapa'],columns=['alerta_etapa'])\n",
        "\n",
        "#alerta_saldo_inicial_remetente\n",
        "df5=pd.get_dummies(df5,prefix=['alerta_saldo_inicial_remetente'],columns=['alerta_saldo_inicial_remetente'])"
      ]
    },
    {
      "cell_type": "code",
      "execution_count": null,
      "metadata": {
        "hidden": true,
        "id": "uhhqqfNiKy2e"
      },
      "outputs": [],
      "source": [
        "#transformation\n",
        "#montante\n",
        "df5['montante']=np.log1p(df5['montante'])"
      ]
    },
    {
      "cell_type": "markdown",
      "metadata": {
        "id": "ib_DOLWtWd-w"
      },
      "source": [
        "# 6.0. PASSO 6 - FEATURE SELECTION"
      ]
    },
    {
      "cell_type": "code",
      "execution_count": null,
      "metadata": {
        "id": "i1D8VyFyWef1"
      },
      "outputs": [],
      "source": [
        "#copia do dataframe\n",
        "df6=df5.copy()"
      ]
    },
    {
      "cell_type": "markdown",
      "metadata": {
        "id": "HPE4O3ChW3J8"
      },
      "source": [
        "## 6.1. Split dataframe into training and test dataset."
      ]
    },
    {
      "cell_type": "code",
      "execution_count": null,
      "metadata": {
        "id": "THyh6kvkyXpn"
      },
      "outputs": [],
      "source": [
        "#split train and test\n",
        "aux=df6[df6.index>=6000000].copy()\n",
        "Y_b=aux['fraude']\n",
        "X_b=aux.drop(['fraude',],axis=1)\n",
        "\n",
        "x_train_b,x_test_b,y_train_b,y_test_b=train_test_split(X_b,Y_b,test_size=0.3,random_state=2811)"
      ]
    },
    {
      "cell_type": "markdown",
      "metadata": {
        "id": "AxbxcTIKW-Rj"
      },
      "source": [
        "##6.2. Boruta as feature selector\n"
      ]
    },
    {
      "cell_type": "code",
      "execution_count": null,
      "metadata": {
        "id": "s31geH8UW_HL",
        "colab": {
          "base_uri": "https://localhost:8080/"
        },
        "outputId": "e7ef20fc-bce2-4d07-cc37-1820d046ede7"
      },
      "outputs": [
        {
          "output_type": "stream",
          "name": "stdout",
          "text": [
            "Iteration: \t1 / 100\n",
            "Confirmed: \t0\n",
            "Tentative: \t17\n",
            "Rejected: \t0\n",
            "Iteration: \t2 / 100\n",
            "Confirmed: \t0\n",
            "Tentative: \t17\n",
            "Rejected: \t0\n",
            "Iteration: \t3 / 100\n",
            "Confirmed: \t0\n",
            "Tentative: \t17\n",
            "Rejected: \t0\n",
            "Iteration: \t4 / 100\n",
            "Confirmed: \t0\n",
            "Tentative: \t17\n",
            "Rejected: \t0\n",
            "Iteration: \t5 / 100\n",
            "Confirmed: \t0\n",
            "Tentative: \t17\n",
            "Rejected: \t0\n",
            "Iteration: \t6 / 100\n",
            "Confirmed: \t0\n",
            "Tentative: \t17\n",
            "Rejected: \t0\n",
            "Iteration: \t7 / 100\n",
            "Confirmed: \t0\n",
            "Tentative: \t17\n",
            "Rejected: \t0\n",
            "Iteration: \t8 / 100\n",
            "Confirmed: \t8\n",
            "Tentative: \t1\n",
            "Rejected: \t8\n",
            "Iteration: \t9 / 100\n",
            "Confirmed: \t8\n",
            "Tentative: \t1\n",
            "Rejected: \t8\n",
            "Iteration: \t10 / 100\n",
            "Confirmed: \t8\n",
            "Tentative: \t1\n",
            "Rejected: \t8\n",
            "Iteration: \t11 / 100\n",
            "Confirmed: \t8\n",
            "Tentative: \t1\n",
            "Rejected: \t8\n",
            "Iteration: \t12 / 100\n",
            "Confirmed: \t9\n",
            "Tentative: \t0\n",
            "Rejected: \t8\n",
            "\n",
            "\n",
            "BorutaPy finished running.\n",
            "\n",
            "Iteration: \t13 / 100\n",
            "Confirmed: \t9\n",
            "Tentative: \t0\n",
            "Rejected: \t8\n"
          ]
        }
      ],
      "source": [
        "boruta=boruta(x_train_b,y_train_b)"
      ]
    },
    {
      "cell_type": "markdown",
      "metadata": {
        "id": "CJPOn-WqXCuM"
      },
      "source": [
        "###6.2.1. Best Features from Boruta"
      ]
    },
    {
      "cell_type": "code",
      "execution_count": null,
      "metadata": {
        "id": "OFDZg5VUXDOB",
        "colab": {
          "base_uri": "https://localhost:8080/"
        },
        "outputId": "fffb4638-6008-4b2b-9f05-dc330fbcc8d2"
      },
      "outputs": [
        {
          "output_type": "execute_result",
          "data": {
            "text/plain": [
              "['etapa',\n",
              " 'tipos',\n",
              " 'montante',\n",
              " 'saldo_inicial_remetente',\n",
              " 'saldo_atual_remetente',\n",
              " 'destinatario',\n",
              " 'saldo_atual_destinatario',\n",
              " 'alerta_saldo_inicial_remetente_0',\n",
              " 'alerta_saldo_inicial_remetente_1']"
            ]
          },
          "metadata": {},
          "execution_count": 47
        }
      ],
      "source": [
        "best_features(boruta,x_train_b)"
      ]
    },
    {
      "cell_type": "markdown",
      "metadata": {
        "id": "trQb9Be5XGe7"
      },
      "source": [
        "##6.3. Manual Feature selection\n"
      ]
    },
    {
      "cell_type": "code",
      "execution_count": null,
      "metadata": {
        "id": "WN75evLsXHVQ"
      },
      "outputs": [],
      "source": [
        "cols_selected_boruta=['etapa','tipos','montante','saldo_inicial_remetente',\n",
        "                      'saldo_atual_remetente','destinatario','saldo_atual_destinatario']\n",
        "\n",
        "#Columns to add\n",
        "feat_to_add=['fraude']\n",
        "cols_selected_boruta_full=cols_selected_boruta.copy()\n",
        "cols_selected_boruta_full.extend(feat_to_add)"
      ]
    },
    {
      "cell_type": "markdown",
      "metadata": {
        "id": "tuF55r7hXLRT"
      },
      "source": [
        "#7.0. PASSO 7 - MACHINE LEARNING MODELLING"
      ]
    },
    {
      "cell_type": "code",
      "execution_count": null,
      "metadata": {
        "id": "hGgtP5_mEZJE"
      },
      "outputs": [],
      "source": [
        "#Filtrando as features mais importantes\n",
        "df=df6[cols_selected_boruta_full].copy()\n",
        "\n",
        "#Separando os dados para o desbalanceamento\n",
        "Y=df['fraude']\n",
        "X=df.drop(['fraude',],axis=1)\n",
        "x_train,x_test,y_train,y_test=train_test_split(X,Y,test_size=0.3,random_state=2811)\n",
        "#NearMiss\n",
        "nr=NearMiss()\n",
        "x_train_nm,y_train_nm=nr.fit_resample(x_train,y_train)\n",
        "x_test_nm,y_test_nm=nr.fit_resample(x_test,y_test)\n",
        "#Concat\n",
        "aux1=pd.DataFrame(data=x_train_nm,columns=x_train.columns)\n",
        "aux1['fraude']=y_train_nm\n",
        "aux2=pd.DataFrame(data=x_test_nm,columns=x_test.columns)\n",
        "aux2['fraude']=y_test_nm\n",
        "df=pd.concat([aux1,aux2],axis=0)\n",
        "\n",
        "#Ordenando os frames\n",
        "y=df['fraude']\n",
        "x=df.drop(['fraude'],axis=1)\n",
        "x_train,x_test,y_train,y_test=train_test_split(x,y,test_size=0.3,random_state=2811)\n",
        "\n",
        "#Dataset cross validation\n",
        "aux1=pd.DataFrame(data=y_train,columns=['fraude'])\n",
        "aux1=pd.concat([x_train,aux1],axis=1)\n",
        "aux2=pd.DataFrame(data=y_test,columns=['fraude'])\n",
        "aux2=pd.concat([x_test,aux2],axis=1)\n",
        "df7=pd.concat([aux1.reset_index(drop=True), aux2.reset_index(drop=True)], axis= 0)"
      ]
    },
    {
      "cell_type": "code",
      "source": [
        "#Identificando as melhores features\n",
        "feature_importance(x_train,y_train)"
      ],
      "metadata": {
        "colab": {
          "base_uri": "https://localhost:8080/",
          "height": 590
        },
        "id": "oCbbUk_8r5Tt",
        "outputId": "09011227-81aa-4271-c616-dacfda7aa776"
      },
      "execution_count": null,
      "outputs": [
        {
          "output_type": "stream",
          "name": "stdout",
          "text": [
            "Feature: 0, Score: 0.00867\n",
            "Feature: 1, Score: 0.00295\n",
            "Feature: 2, Score: 0.23261\n",
            "Feature: 3, Score: 0.49933\n",
            "Feature: 4, Score: 0.21043\n",
            "Feature: 5, Score: 0.00541\n",
            "Feature: 6, Score: 0.04060\n"
          ]
        },
        {
          "output_type": "display_data",
          "data": {
            "image/png": "[encoded data removed]",
            "text/plain": [
              "<Figure size 1800x864 with 1 Axes>"
            ]
          },
          "metadata": {}
        }
      ]
    },
    {
      "cell_type": "markdown",
      "metadata": {
        "id": "CxmMrZtWXfTj"
      },
      "source": [
        "##7.1. Base Line"
      ]
    },
    {
      "cell_type": "code",
      "execution_count": null,
      "metadata": {
        "id": "RiOttWuP17NK",
        "colab": {
          "base_uri": "https://localhost:8080/",
          "height": 81
        },
        "outputId": "5a418422-f00b-406f-bcbf-1c2219e5429e"
      },
      "outputs": [
        {
          "output_type": "execute_result",
          "data": {
            "text/html": [
              "\n",
              "  <div id=\"df-5fca269a-241e-4828-8178-21d57ef844f7\">\n",
              "    <div class=\"colab-df-container\">\n",
              "      <div>\n",
              "<style scoped>\n",
              "    .dataframe tbody tr th:only-of-type {\n",
              "        vertical-align: middle;\n",
              "    }\n",
              "\n",
              "    .dataframe tbody tr th {\n",
              "        vertical-align: top;\n",
              "    }\n",
              "\n",
              "    .dataframe thead th {\n",
              "        text-align: right;\n",
              "    }\n",
              "</style>\n",
              "<table border=\"1\" class=\"dataframe\">\n",
              "  <thead>\n",
              "    <tr style=\"text-align: right;\">\n",
              "      <th></th>\n",
              "      <th>model Name</th>\n",
              "      <th>accuracy</th>\n",
              "      <th>precision</th>\n",
              "      <th>recall</th>\n",
              "      <th>f1 score</th>\n",
              "    </tr>\n",
              "  </thead>\n",
              "  <tbody>\n",
              "    <tr>\n",
              "      <th>0</th>\n",
              "      <td>baseline</td>\n",
              "      <td>0.491274</td>\n",
              "      <td>0.486928</td>\n",
              "      <td>0.491246</td>\n",
              "      <td>0.487426</td>\n",
              "    </tr>\n",
              "  </tbody>\n",
              "</table>\n",
              "</div>\n",
              "      <button class=\"colab-df-convert\" onclick=\"convertToInteractive('df-5fca269a-241e-4828-8178-21d57ef844f7')\"\n",
              "              title=\"Convert this dataframe to an interactive table.\"\n",
              "              style=\"display:none;\">\n",
              "        \n",
              "  <svg xmlns=\"http://www.w3.org/2000/svg\" height=\"24px\"viewBox=\"0 0 24 24\"\n",
              "       width=\"24px\">\n",
              "    <path d=\"M0 0h24v24H0V0z\" fill=\"none\"/>\n",
              "    <path d=\"M18.56 5.44l.94 2.06.94-2.06 2.06-.94-2.06-.94-.94-2.06-.94 2.06-2.06.94zm-11 1L8.5 8.5l.94-2.06 2.06-.94-2.06-.94L8.5 2.5l-.94 2.06-2.06.94zm10 10l.94 2.06.94-2.06 2.06-.94-2.06-.94-.94-2.06-.94 2.06-2.06.94z\"/><path d=\"M17.41 7.96l-1.37-1.37c-.4-.4-.92-.59-1.43-.59-.52 0-1.04.2-1.43.59L10.3 9.45l-7.72 7.72c-.78.78-.78 2.05 0 2.83L4 21.41c.39.39.9.59 1.41.59.51 0 1.02-.2 1.41-.59l7.78-7.78 2.81-2.81c.8-.78.8-2.07 0-2.86zM5.41 20L4 18.59l7.72-7.72 1.47 1.35L5.41 20z\"/>\n",
              "  </svg>\n",
              "      </button>\n",
              "      \n",
              "  <style>\n",
              "    .colab-df-container {\n",
              "      display:flex;\n",
              "      flex-wrap:wrap;\n",
              "      gap: 12px;\n",
              "    }\n",
              "\n",
              "    .colab-df-convert {\n",
              "      background-color: #E8F0FE;\n",
              "      border: none;\n",
              "      border-radius: 50%;\n",
              "      cursor: pointer;\n",
              "      display: none;\n",
              "      fill: #1967D2;\n",
              "      height: 32px;\n",
              "      padding: 0 0 0 0;\n",
              "      width: 32px;\n",
              "    }\n",
              "\n",
              "    .colab-df-convert:hover {\n",
              "      background-color: #E2EBFA;\n",
              "      box-shadow: 0px 1px 2px rgba(60, 64, 67, 0.3), 0px 1px 3px 1px rgba(60, 64, 67, 0.15);\n",
              "      fill: #174EA6;\n",
              "    }\n",
              "\n",
              "    [theme=dark] .colab-df-convert {\n",
              "      background-color: #3B4455;\n",
              "      fill: #D2E3FC;\n",
              "    }\n",
              "\n",
              "    [theme=dark] .colab-df-convert:hover {\n",
              "      background-color: #434B5C;\n",
              "      box-shadow: 0px 1px 3px 1px rgba(0, 0, 0, 0.15);\n",
              "      filter: drop-shadow(0px 1px 2px rgba(0, 0, 0, 0.3));\n",
              "      fill: #FFFFFF;\n",
              "    }\n",
              "  </style>\n",
              "\n",
              "      <script>\n",
              "        const buttonEl =\n",
              "          document.querySelector('#df-5fca269a-241e-4828-8178-21d57ef844f7 button.colab-df-convert');\n",
              "        buttonEl.style.display =\n",
              "          google.colab.kernel.accessAllowed ? 'block' : 'none';\n",
              "\n",
              "        async function convertToInteractive(key) {\n",
              "          const element = document.querySelector('#df-5fca269a-241e-4828-8178-21d57ef844f7');\n",
              "          const dataTable =\n",
              "            await google.colab.kernel.invokeFunction('convertToInteractive',\n",
              "                                                     [key], {});\n",
              "          if (!dataTable) return;\n",
              "\n",
              "          const docLinkHtml = 'Like what you see? Visit the ' +\n",
              "            '<a target=\"_blank\" href=https://colab.research.google.com/notebooks/data_table.ipynb>data table notebook</a>'\n",
              "            + ' to learn more about interactive tables.';\n",
              "          element.innerHTML = '';\n",
              "          dataTable['output_type'] = 'display_data';\n",
              "          await google.colab.output.renderOutput(dataTable, element);\n",
              "          const docLink = document.createElement('div');\n",
              "          docLink.innerHTML = docLinkHtml;\n",
              "          element.appendChild(docLink);\n",
              "        }\n",
              "      </script>\n",
              "    </div>\n",
              "  </div>\n",
              "  "
            ],
            "text/plain": [
              "  model Name  accuracy  precision    recall  f1 score\n",
              "0   baseline  0.491274   0.486928  0.491246  0.487426"
            ]
          },
          "metadata": {},
          "execution_count": 85
        }
      ],
      "source": [
        "#model\n",
        "dc = DummyClassifier()\n",
        "dc_train=dc.fit(x_train,y_train)\n",
        "\n",
        "#predict\n",
        "yhat_dc=dc_train.predict(x_test)\n",
        "\n",
        "#performance\n",
        "dc_result=model_perform(y_test,yhat_dc,'baseline')\n",
        "dc_result"
      ]
    },
    {
      "cell_type": "markdown",
      "metadata": {
        "id": "kh2_gw2K2vfV"
      },
      "source": [
        "## 7.2. PyCaret"
      ]
    },
    {
      "cell_type": "code",
      "execution_count": null,
      "metadata": {
        "id": "hHFho2fCdTp3",
        "colab": {
          "base_uri": "https://localhost:8080/",
          "height": 488,
          "referenced_widgets": [
            "64b668c1bfa04870b11813a71f588054",
            "56822ced58b547718cd57ca9c3ce8ee6",
            "b922aead837c405c862e30d005910886",
            "72e7dcc3dc8d4210b46eb704babf9d3c",
            "8c363f6b99f445259bb0eb1361a5b8fa",
            "0cc5c097c6de48e3a0e2b44e435af0af",
            "f56648747d5e47638397a56ef53dc484",
            "37612aafcd254cbca2a084c49d6e4cd9",
            "edee3448208d43b49b71bd1438f4a758"
          ]
        },
        "outputId": "a0f1a065-a239-4f12-d40c-0cbc5fc52328"
      },
      "outputs": [
        {
          "output_type": "display_data",
          "data": {
            "text/html": [
              "\n",
              "  <div id=\"df-441a5922-1a15-41a3-8a64-c4c801341d06\">\n",
              "    <div class=\"colab-df-container\">\n",
              "      <div>\n",
              "<style scoped>\n",
              "    .dataframe tbody tr th:only-of-type {\n",
              "        vertical-align: middle;\n",
              "    }\n",
              "\n",
              "    .dataframe tbody tr th {\n",
              "        vertical-align: top;\n",
              "    }\n",
              "\n",
              "    .dataframe thead th {\n",
              "        text-align: right;\n",
              "    }\n",
              "</style>\n",
              "<table border=\"1\" class=\"dataframe\">\n",
              "  <thead>\n",
              "    <tr style=\"text-align: right;\">\n",
              "      <th></th>\n",
              "      <th>Model</th>\n",
              "      <th>Accuracy</th>\n",
              "      <th>AUC</th>\n",
              "      <th>Recall</th>\n",
              "      <th>Prec.</th>\n",
              "      <th>F1</th>\n",
              "      <th>Kappa</th>\n",
              "      <th>MCC</th>\n",
              "      <th>TT (Sec)</th>\n",
              "    </tr>\n",
              "  </thead>\n",
              "  <tbody>\n",
              "    <tr>\n",
              "      <th>lightgbm</th>\n",
              "      <td>Light Gradient Boosting Machine</td>\n",
              "      <td>0.9917</td>\n",
              "      <td>0.9992</td>\n",
              "      <td>0.9946</td>\n",
              "      <td>0.9889</td>\n",
              "      <td>0.9917</td>\n",
              "      <td>0.9833</td>\n",
              "      <td>0.9834</td>\n",
              "      <td>0.280</td>\n",
              "    </tr>\n",
              "    <tr>\n",
              "      <th>rf</th>\n",
              "      <td>Random Forest Classifier</td>\n",
              "      <td>0.9879</td>\n",
              "      <td>0.9989</td>\n",
              "      <td>0.9933</td>\n",
              "      <td>0.9829</td>\n",
              "      <td>0.9881</td>\n",
              "      <td>0.9759</td>\n",
              "      <td>0.9760</td>\n",
              "      <td>1.024</td>\n",
              "    </tr>\n",
              "    <tr>\n",
              "      <th>gbc</th>\n",
              "      <td>Gradient Boosting Classifier</td>\n",
              "      <td>0.9852</td>\n",
              "      <td>0.9983</td>\n",
              "      <td>0.9948</td>\n",
              "      <td>0.9762</td>\n",
              "      <td>0.9854</td>\n",
              "      <td>0.9704</td>\n",
              "      <td>0.9706</td>\n",
              "      <td>1.040</td>\n",
              "    </tr>\n",
              "    <tr>\n",
              "      <th>et</th>\n",
              "      <td>Extra Trees Classifier</td>\n",
              "      <td>0.9820</td>\n",
              "      <td>0.9980</td>\n",
              "      <td>0.9844</td>\n",
              "      <td>0.9798</td>\n",
              "      <td>0.9821</td>\n",
              "      <td>0.9640</td>\n",
              "      <td>0.9640</td>\n",
              "      <td>0.786</td>\n",
              "    </tr>\n",
              "    <tr>\n",
              "      <th>ada</th>\n",
              "      <td>Ada Boost Classifier</td>\n",
              "      <td>0.9744</td>\n",
              "      <td>0.9967</td>\n",
              "      <td>0.9829</td>\n",
              "      <td>0.9667</td>\n",
              "      <td>0.9747</td>\n",
              "      <td>0.9488</td>\n",
              "      <td>0.9490</td>\n",
              "      <td>0.388</td>\n",
              "    </tr>\n",
              "    <tr>\n",
              "      <th>dt</th>\n",
              "      <td>Decision Tree Classifier</td>\n",
              "      <td>0.9830</td>\n",
              "      <td>0.9830</td>\n",
              "      <td>0.9829</td>\n",
              "      <td>0.9832</td>\n",
              "      <td>0.9830</td>\n",
              "      <td>0.9660</td>\n",
              "      <td>0.9660</td>\n",
              "      <td>0.044</td>\n",
              "    </tr>\n",
              "    <tr>\n",
              "      <th>knn</th>\n",
              "      <td>K Neighbors Classifier</td>\n",
              "      <td>0.8465</td>\n",
              "      <td>0.9047</td>\n",
              "      <td>0.8208</td>\n",
              "      <td>0.8665</td>\n",
              "      <td>0.8429</td>\n",
              "      <td>0.6932</td>\n",
              "      <td>0.6942</td>\n",
              "      <td>0.212</td>\n",
              "    </tr>\n",
              "    <tr>\n",
              "      <th>nb</th>\n",
              "      <td>Naive Bayes</td>\n",
              "      <td>0.6023</td>\n",
              "      <td>0.9030</td>\n",
              "      <td>1.0000</td>\n",
              "      <td>0.5579</td>\n",
              "      <td>0.7162</td>\n",
              "      <td>0.2021</td>\n",
              "      <td>0.3350</td>\n",
              "      <td>0.032</td>\n",
              "    </tr>\n",
              "    <tr>\n",
              "      <th>lda</th>\n",
              "      <td>Linear Discriminant Analysis</td>\n",
              "      <td>0.7996</td>\n",
              "      <td>0.8688</td>\n",
              "      <td>0.7529</td>\n",
              "      <td>0.8319</td>\n",
              "      <td>0.7904</td>\n",
              "      <td>0.5993</td>\n",
              "      <td>0.6021</td>\n",
              "      <td>0.040</td>\n",
              "    </tr>\n",
              "    <tr>\n",
              "      <th>lr</th>\n",
              "      <td>Logistic Regression</td>\n",
              "      <td>0.7901</td>\n",
              "      <td>0.8520</td>\n",
              "      <td>0.7707</td>\n",
              "      <td>0.8033</td>\n",
              "      <td>0.7867</td>\n",
              "      <td>0.5803</td>\n",
              "      <td>0.5809</td>\n",
              "      <td>1.352</td>\n",
              "    </tr>\n",
              "    <tr>\n",
              "      <th>dummy</th>\n",
              "      <td>Dummy Classifier</td>\n",
              "      <td>0.5019</td>\n",
              "      <td>0.5000</td>\n",
              "      <td>1.0000</td>\n",
              "      <td>0.5019</td>\n",
              "      <td>0.6683</td>\n",
              "      <td>0.0000</td>\n",
              "      <td>0.0000</td>\n",
              "      <td>0.020</td>\n",
              "    </tr>\n",
              "    <tr>\n",
              "      <th>svm</th>\n",
              "      <td>SVM - Linear Kernel</td>\n",
              "      <td>0.7833</td>\n",
              "      <td>0.0000</td>\n",
              "      <td>0.7745</td>\n",
              "      <td>0.7941</td>\n",
              "      <td>0.7815</td>\n",
              "      <td>0.5666</td>\n",
              "      <td>0.5705</td>\n",
              "      <td>0.042</td>\n",
              "    </tr>\n",
              "    <tr>\n",
              "      <th>ridge</th>\n",
              "      <td>Ridge Classifier</td>\n",
              "      <td>0.7910</td>\n",
              "      <td>0.0000</td>\n",
              "      <td>0.7524</td>\n",
              "      <td>0.8168</td>\n",
              "      <td>0.7833</td>\n",
              "      <td>0.5821</td>\n",
              "      <td>0.5840</td>\n",
              "      <td>0.030</td>\n",
              "    </tr>\n",
              "    <tr>\n",
              "      <th>qda</th>\n",
              "      <td>Quadratic Discriminant Analysis</td>\n",
              "      <td>0.5019</td>\n",
              "      <td>0.0000</td>\n",
              "      <td>1.0000</td>\n",
              "      <td>0.5019</td>\n",
              "      <td>0.6683</td>\n",
              "      <td>0.0000</td>\n",
              "      <td>0.0000</td>\n",
              "      <td>0.034</td>\n",
              "    </tr>\n",
              "  </tbody>\n",
              "</table>\n",
              "</div>\n",
              "      <button class=\"colab-df-convert\" onclick=\"convertToInteractive('df-441a5922-1a15-41a3-8a64-c4c801341d06')\"\n",
              "              title=\"Convert this dataframe to an interactive table.\"\n",
              "              style=\"display:none;\">\n",
              "        \n",
              "  <svg xmlns=\"http://www.w3.org/2000/svg\" height=\"24px\"viewBox=\"0 0 24 24\"\n",
              "       width=\"24px\">\n",
              "    <path d=\"M0 0h24v24H0V0z\" fill=\"none\"/>\n",
              "    <path d=\"M18.56 5.44l.94 2.06.94-2.06 2.06-.94-2.06-.94-.94-2.06-.94 2.06-2.06.94zm-11 1L8.5 8.5l.94-2.06 2.06-.94-2.06-.94L8.5 2.5l-.94 2.06-2.06.94zm10 10l.94 2.06.94-2.06 2.06-.94-2.06-.94-.94-2.06-.94 2.06-2.06.94z\"/><path d=\"M17.41 7.96l-1.37-1.37c-.4-.4-.92-.59-1.43-.59-.52 0-1.04.2-1.43.59L10.3 9.45l-7.72 7.72c-.78.78-.78 2.05 0 2.83L4 21.41c.39.39.9.59 1.41.59.51 0 1.02-.2 1.41-.59l7.78-7.78 2.81-2.81c.8-.78.8-2.07 0-2.86zM5.41 20L4 18.59l7.72-7.72 1.47 1.35L5.41 20z\"/>\n",
              "  </svg>\n",
              "      </button>\n",
              "      \n",
              "  <style>\n",
              "    .colab-df-container {\n",
              "      display:flex;\n",
              "      flex-wrap:wrap;\n",
              "      gap: 12px;\n",
              "    }\n",
              "\n",
              "    .colab-df-convert {\n",
              "      background-color: #E8F0FE;\n",
              "      border: none;\n",
              "      border-radius: 50%;\n",
              "      cursor: pointer;\n",
              "      display: none;\n",
              "      fill: #1967D2;\n",
              "      height: 32px;\n",
              "      padding: 0 0 0 0;\n",
              "      width: 32px;\n",
              "    }\n",
              "\n",
              "    .colab-df-convert:hover {\n",
              "      background-color: #E2EBFA;\n",
              "      box-shadow: 0px 1px 2px rgba(60, 64, 67, 0.3), 0px 1px 3px 1px rgba(60, 64, 67, 0.15);\n",
              "      fill: #174EA6;\n",
              "    }\n",
              "\n",
              "    [theme=dark] .colab-df-convert {\n",
              "      background-color: #3B4455;\n",
              "      fill: #D2E3FC;\n",
              "    }\n",
              "\n",
              "    [theme=dark] .colab-df-convert:hover {\n",
              "      background-color: #434B5C;\n",
              "      box-shadow: 0px 1px 3px 1px rgba(0, 0, 0, 0.15);\n",
              "      filter: drop-shadow(0px 1px 2px rgba(0, 0, 0, 0.3));\n",
              "      fill: #FFFFFF;\n",
              "    }\n",
              "  </style>\n",
              "\n",
              "      <script>\n",
              "        const buttonEl =\n",
              "          document.querySelector('#df-441a5922-1a15-41a3-8a64-c4c801341d06 button.colab-df-convert');\n",
              "        buttonEl.style.display =\n",
              "          google.colab.kernel.accessAllowed ? 'block' : 'none';\n",
              "\n",
              "        async function convertToInteractive(key) {\n",
              "          const element = document.querySelector('#df-441a5922-1a15-41a3-8a64-c4c801341d06');\n",
              "          const dataTable =\n",
              "            await google.colab.kernel.invokeFunction('convertToInteractive',\n",
              "                                                     [key], {});\n",
              "          if (!dataTable) return;\n",
              "\n",
              "          const docLinkHtml = 'Like what you see? Visit the ' +\n",
              "            '<a target=\"_blank\" href=https://colab.research.google.com/notebooks/data_table.ipynb>data table notebook</a>'\n",
              "            + ' to learn more about interactive tables.';\n",
              "          element.innerHTML = '';\n",
              "          dataTable['output_type'] = 'display_data';\n",
              "          await google.colab.output.renderOutput(dataTable, element);\n",
              "          const docLink = document.createElement('div');\n",
              "          docLink.innerHTML = docLinkHtml;\n",
              "          element.appendChild(docLink);\n",
              "        }\n",
              "      </script>\n",
              "    </div>\n",
              "  </div>\n",
              "  "
            ],
            "text/plain": [
              "                                    Model  Accuracy     AUC  Recall   Prec.      F1   Kappa     MCC  TT (Sec)\n",
              "lightgbm  Light Gradient Boosting Machine    0.9917  0.9992  0.9946  0.9889  0.9917  0.9833  0.9834     0.280\n",
              "rf               Random Forest Classifier    0.9879  0.9989  0.9933  0.9829  0.9881  0.9759  0.9760     1.024\n",
              "gbc          Gradient Boosting Classifier    0.9852  0.9983  0.9948  0.9762  0.9854  0.9704  0.9706     1.040\n",
              "et                 Extra Trees Classifier    0.9820  0.9980  0.9844  0.9798  0.9821  0.9640  0.9640     0.786\n",
              "ada                  Ada Boost Classifier    0.9744  0.9967  0.9829  0.9667  0.9747  0.9488  0.9490     0.388\n",
              "dt               Decision Tree Classifier    0.9830  0.9830  0.9829  0.9832  0.9830  0.9660  0.9660     0.044\n",
              "knn                K Neighbors Classifier    0.8465  0.9047  0.8208  0.8665  0.8429  0.6932  0.6942     0.212\n",
              "nb                            Naive Bayes    0.6023  0.9030  1.0000  0.5579  0.7162  0.2021  0.3350     0.032\n",
              "lda          Linear Discriminant Analysis    0.7996  0.8688  0.7529  0.8319  0.7904  0.5993  0.6021     0.040\n",
              "lr                    Logistic Regression    0.7901  0.8520  0.7707  0.8033  0.7867  0.5803  0.5809     1.352\n",
              "dummy                    Dummy Classifier    0.5019  0.5000  1.0000  0.5019  0.6683  0.0000  0.0000     0.020\n",
              "svm                   SVM - Linear Kernel    0.7833  0.0000  0.7745  0.7941  0.7815  0.5666  0.5705     0.042\n",
              "ridge                    Ridge Classifier    0.7910  0.0000  0.7524  0.8168  0.7833  0.5821  0.5840     0.030\n",
              "qda       Quadratic Discriminant Analysis    0.5019  0.0000  1.0000  0.5019  0.6683  0.0000  0.0000     0.034"
            ]
          },
          "metadata": {}
        }
      ],
      "source": [
        "#Dataset de treino\n",
        "X_TRAIN=x_train.copy()\n",
        "X_TRAIN['Fraude']=y_train\n",
        "\n",
        "#Setup\n",
        "s=setup(  X_TRAIN[[ 'etapa', 'tipos', 'montante', 'saldo_inicial_remetente',\n",
        "                    'saldo_atual_remetente', 'destinatario', 'saldo_atual_destinatario',\n",
        "                    'Fraude']],\n",
        "        target='Fraude',\n",
        "        numeric_features=['montante','saldo_inicial_remetente','saldo_atual_remetente','saldo_atual_destinatario'],\n",
        "        normalize=True,\n",
        "        normalize_method='minmax',\n",
        "        data_split_stratify=True,\n",
        "        )\n",
        "#Best models\n",
        "best=compare_models(fold=5,sort='AUC')"
      ]
    },
    {
      "cell_type": "markdown",
      "metadata": {
        "id": "XNgufp4nZMza"
      },
      "source": [
        "#8.0. PASSO 8 - HYPERPARAMETER FINE TUNING"
      ]
    },
    {
      "cell_type": "code",
      "execution_count": null,
      "metadata": {
        "id": "eUiUrsO_ZNOw"
      },
      "outputs": [],
      "source": [
        "#copia do dataframe\n",
        "df8=df7.copy()"
      ]
    },
    {
      "cell_type": "markdown",
      "metadata": {
        "id": "G5MqjiseZcez"
      },
      "source": [
        "##8.1.Random Search"
      ]
    },
    {
      "cell_type": "code",
      "execution_count": null,
      "metadata": {
        "id": "3NBMTC_nRnBn",
        "colab": {
          "base_uri": "https://localhost:8080/"
        },
        "outputId": "7755a041-9262-4d73-c4f5-b5a62c6ef3fe"
      },
      "outputs": [
        {
          "output_type": "execute_result",
          "data": {
            "text/plain": [
              "{'criterion': 'entropy',\n",
              " 'max_depth': 9,\n",
              " 'min_samples_leaf': 4,\n",
              " 'min_samples_split': 6}"
            ]
          },
          "metadata": {},
          "execution_count": 54
        }
      ],
      "source": [
        "#params\n",
        "params={       'criterion':           ['gini','entropy'],\n",
        "               'max_depth':            range(1,10),\n",
        "               'min_samples_split':    range(2,11),\n",
        "               'min_samples_leaf':     range(1,5)}\n",
        "\n",
        "#model\n",
        "rfc=RandomForestClassifier()\n",
        "\n",
        "rscv = RandomizedSearchCV(rfc, params, random_state=0,cv=3,n_iter=100).fit(x_train, y_train)\n",
        "rscv.best_params_"
      ]
    },
    {
      "cell_type": "markdown",
      "metadata": {
        "id": "olrRbmpSZlpr"
      },
      "source": [
        "##8.2.Final Model"
      ]
    },
    {
      "cell_type": "code",
      "execution_count": null,
      "metadata": {
        "id": "BzzpBRmpZmIZ",
        "colab": {
          "base_uri": "https://localhost:8080/",
          "height": 81
        },
        "outputId": "44b520fe-e018-4559-f885-594f0975329e"
      },
      "outputs": [
        {
          "output_type": "execute_result",
          "data": {
            "text/html": [
              "\n",
              "  <div id=\"df-b594b104-d484-4b0f-8887-dac527f96f62\">\n",
              "    <div class=\"colab-df-container\">\n",
              "      <div>\n",
              "<style scoped>\n",
              "    .dataframe tbody tr th:only-of-type {\n",
              "        vertical-align: middle;\n",
              "    }\n",
              "\n",
              "    .dataframe tbody tr th {\n",
              "        vertical-align: top;\n",
              "    }\n",
              "\n",
              "    .dataframe thead th {\n",
              "        text-align: right;\n",
              "    }\n",
              "</style>\n",
              "<table border=\"1\" class=\"dataframe\">\n",
              "  <thead>\n",
              "    <tr style=\"text-align: right;\">\n",
              "      <th></th>\n",
              "      <th>Model name</th>\n",
              "      <th>accuracy CV</th>\n",
              "      <th>precision CV</th>\n",
              "      <th>recall CV</th>\n",
              "      <th>f1 score CV</th>\n",
              "    </tr>\n",
              "  </thead>\n",
              "  <tbody>\n",
              "    <tr>\n",
              "      <th>0</th>\n",
              "      <td>RandomForestClassifier</td>\n",
              "      <td>0.98+/-0.0</td>\n",
              "      <td>0.97+/-0.01</td>\n",
              "      <td>0.98+/-0.0</td>\n",
              "      <td>0.98+/-0.0</td>\n",
              "    </tr>\n",
              "  </tbody>\n",
              "</table>\n",
              "</div>\n",
              "      <button class=\"colab-df-convert\" onclick=\"convertToInteractive('df-b594b104-d484-4b0f-8887-dac527f96f62')\"\n",
              "              title=\"Convert this dataframe to an interactive table.\"\n",
              "              style=\"display:none;\">\n",
              "        \n",
              "  <svg xmlns=\"http://www.w3.org/2000/svg\" height=\"24px\"viewBox=\"0 0 24 24\"\n",
              "       width=\"24px\">\n",
              "    <path d=\"M0 0h24v24H0V0z\" fill=\"none\"/>\n",
              "    <path d=\"M18.56 5.44l.94 2.06.94-2.06 2.06-.94-2.06-.94-.94-2.06-.94 2.06-2.06.94zm-11 1L8.5 8.5l.94-2.06 2.06-.94-2.06-.94L8.5 2.5l-.94 2.06-2.06.94zm10 10l.94 2.06.94-2.06 2.06-.94-2.06-.94-.94-2.06-.94 2.06-2.06.94z\"/><path d=\"M17.41 7.96l-1.37-1.37c-.4-.4-.92-.59-1.43-.59-.52 0-1.04.2-1.43.59L10.3 9.45l-7.72 7.72c-.78.78-.78 2.05 0 2.83L4 21.41c.39.39.9.59 1.41.59.51 0 1.02-.2 1.41-.59l7.78-7.78 2.81-2.81c.8-.78.8-2.07 0-2.86zM5.41 20L4 18.59l7.72-7.72 1.47 1.35L5.41 20z\"/>\n",
              "  </svg>\n",
              "      </button>\n",
              "      \n",
              "  <style>\n",
              "    .colab-df-container {\n",
              "      display:flex;\n",
              "      flex-wrap:wrap;\n",
              "      gap: 12px;\n",
              "    }\n",
              "\n",
              "    .colab-df-convert {\n",
              "      background-color: #E8F0FE;\n",
              "      border: none;\n",
              "      border-radius: 50%;\n",
              "      cursor: pointer;\n",
              "      display: none;\n",
              "      fill: #1967D2;\n",
              "      height: 32px;\n",
              "      padding: 0 0 0 0;\n",
              "      width: 32px;\n",
              "    }\n",
              "\n",
              "    .colab-df-convert:hover {\n",
              "      background-color: #E2EBFA;\n",
              "      box-shadow: 0px 1px 2px rgba(60, 64, 67, 0.3), 0px 1px 3px 1px rgba(60, 64, 67, 0.15);\n",
              "      fill: #174EA6;\n",
              "    }\n",
              "\n",
              "    [theme=dark] .colab-df-convert {\n",
              "      background-color: #3B4455;\n",
              "      fill: #D2E3FC;\n",
              "    }\n",
              "\n",
              "    [theme=dark] .colab-df-convert:hover {\n",
              "      background-color: #434B5C;\n",
              "      box-shadow: 0px 1px 3px 1px rgba(0, 0, 0, 0.15);\n",
              "      filter: drop-shadow(0px 1px 2px rgba(0, 0, 0, 0.3));\n",
              "      fill: #FFFFFF;\n",
              "    }\n",
              "  </style>\n",
              "\n",
              "      <script>\n",
              "        const buttonEl =\n",
              "          document.querySelector('#df-b594b104-d484-4b0f-8887-dac527f96f62 button.colab-df-convert');\n",
              "        buttonEl.style.display =\n",
              "          google.colab.kernel.accessAllowed ? 'block' : 'none';\n",
              "\n",
              "        async function convertToInteractive(key) {\n",
              "          const element = document.querySelector('#df-b594b104-d484-4b0f-8887-dac527f96f62');\n",
              "          const dataTable =\n",
              "            await google.colab.kernel.invokeFunction('convertToInteractive',\n",
              "                                                     [key], {});\n",
              "          if (!dataTable) return;\n",
              "\n",
              "          const docLinkHtml = 'Like what you see? Visit the ' +\n",
              "            '<a target=\"_blank\" href=https://colab.research.google.com/notebooks/data_table.ipynb>data table notebook</a>'\n",
              "            + ' to learn more about interactive tables.';\n",
              "          element.innerHTML = '';\n",
              "          dataTable['output_type'] = 'display_data';\n",
              "          await google.colab.output.renderOutput(dataTable, element);\n",
              "          const docLink = document.createElement('div');\n",
              "          docLink.innerHTML = docLinkHtml;\n",
              "          element.appendChild(docLink);\n",
              "        }\n",
              "      </script>\n",
              "    </div>\n",
              "  </div>\n",
              "  "
            ],
            "text/plain": [
              "               Model name accuracy CV precision CV   recall CV f1 score CV\n",
              "0  RandomForestClassifier  0.98+/-0.0  0.97+/-0.01  0.98+/-0.0  0.98+/-0.0"
            ]
          },
          "metadata": {},
          "execution_count": 55
        }
      ],
      "source": [
        "#params tuned\n",
        "params_tuned={      'criterion': 'entropy',\n",
        "                    'max_depth': 9,\n",
        "                    'min_samples_leaf': 4,\n",
        "                    'min_samples_split': 5}\n",
        "\n",
        "#model\n",
        "model_rfc_tuned=RandomForestClassifier(     criterion=          params_tuned['criterion'],\n",
        "                                            max_depth=          params_tuned['max_depth'],\n",
        "                                            min_samples_split=  params_tuned['min_samples_split'],\n",
        "                                            min_samples_leaf=   params_tuned['min_samples_leaf'])\n",
        "\n",
        "\n",
        "#training\n",
        "model_rfc_train=model_rfc_tuned.fit(x_train,y_train)\n",
        "\n",
        "#prediction\n",
        "yhat_rfc_tuned=model_rfc_train.predict(x_test)\n",
        "\n",
        "#performance\n",
        "rfc_result_cv=cross_validation(df8,5,'RandomForestClassifier',model_rfc_tuned)\n",
        "rfc_result_cv"
      ]
    },
    {
      "cell_type": "markdown",
      "metadata": {
        "id": "lE3Sxx6BZsrS"
      },
      "source": [
        "#9.0. PASSO 9 - TRANSLATION AND INTERPRETATION OF THE ERROR"
      ]
    },
    {
      "cell_type": "code",
      "execution_count": null,
      "metadata": {
        "id": "NNtNrZvZsne9"
      },
      "outputs": [],
      "source": [
        "df9=df8.copy()"
      ]
    },
    {
      "cell_type": "markdown",
      "metadata": {
        "id": "4IogQnHDaVcS"
      },
      "source": [
        "##9.1. Machine Learning Performance"
      ]
    },
    {
      "cell_type": "code",
      "execution_count": null,
      "metadata": {
        "id": "LDPQ9MzPQRDL",
        "colab": {
          "base_uri": "https://localhost:8080/",
          "height": 482
        },
        "outputId": "f0da800e-aa78-460e-b3e3-bb64fa4f8fe2"
      },
      "outputs": [
        {
          "output_type": "display_data",
          "data": {
            "image/png": "[encoded data removed]",
            "text/plain": [
              "<Figure size 1800x864 with 1 Axes>"
            ]
          },
          "metadata": {}
        }
      ],
      "source": [
        "#AUC Curve\n",
        "fpr, tpr, threshold = metrics.roc_curve(y_test, yhat_rfc_tuned)\n",
        "roc_auc = metrics.auc(fpr, tpr)\n",
        "\n",
        "\n",
        "plt.title('Receiver Operating Characteristic')\n",
        "plt.plot(fpr, tpr, 'b', label = 'AUC = %0.2f' % roc_auc)\n",
        "plt.legend(loc = 'lower right')\n",
        "plt.plot([0, 1], [0, 1],'r--')\n",
        "plt.xlim([0, 1])\n",
        "plt.ylim([0, 1])\n",
        "plt.ylabel('True Positive Rate')\n",
        "plt.xlabel('False Positive Rate')\n",
        "plt.show()"
      ]
    },
    {
      "cell_type": "code",
      "execution_count": null,
      "metadata": {
        "id": "er1NPP-iRkYT",
        "colab": {
          "base_uri": "https://localhost:8080/",
          "height": 517
        },
        "outputId": "42cd0da0-167e-49a7-d59a-d830e1eeac54"
      },
      "outputs": [
        {
          "output_type": "display_data",
          "data": {
            "image/png": "[encoded data removed]",
            "text/plain": [
              "<Figure size 1800x864 with 2 Axes>"
            ]
          },
          "metadata": {}
        }
      ],
      "source": [
        "#Matriz de Confusão\n",
        "np.random.seed(2811)\n",
        "\n",
        "cv = StratifiedKFold(n_splits = 5, shuffle = True)\n",
        "y_pred = cross_val_predict(model_rfc_tuned , x_train, y_train, cv = cv)\n",
        "\n",
        "\n",
        "fig, ax = plt.subplots()\n",
        "sns.heatmap(confusion_matrix(y_train, y_pred), annot=True,ax=ax, fmt='d', cmap='Reds')\n",
        "ax.set_title(\"Matriz de Confusão\", fontsize=18)\n",
        "ax.set_ylabel(\"True label\")\n",
        "ax.set_xlabel(\"Predicted Label\")\n",
        "plt.tight_layout()"
      ]
    },
    {
      "cell_type": "markdown",
      "metadata": {
        "id": "XjFOAq--aRKS"
      },
      "source": [
        "##9.1. Business Performance"
      ]
    },
    {
      "cell_type": "markdown",
      "metadata": {
        "id": "0B6dkQxlbyDO"
      },
      "source": [
        "###9.1.1 Respondendo a perguntas propostas"
      ]
    },
    {
      "cell_type": "markdown",
      "metadata": {
        "id": "yW1rXSSScDgE"
      },
      "source": [
        "####Qual a Precisão e Acurácia do modelo?"
      ]
    },
    {
      "cell_type": "code",
      "execution_count": null,
      "metadata": {
        "id": "lhTv91CNcMhl",
        "colab": {
          "base_uri": "https://localhost:8080/"
        },
        "outputId": "e46812ac-9782-45bd-e630-14f3890c402f"
      },
      "outputs": [
        {
          "output_type": "stream",
          "name": "stdout",
          "text": [
            "Precisão: 0.97 e Acurácia: 0.98\n"
          ]
        }
      ],
      "source": [
        "print('Precisão: {} e Acurácia: {}'.format(0.97,0.98))"
      ]
    },
    {
      "cell_type": "markdown",
      "metadata": {
        "id": "AMtvcEYZcNOk"
      },
      "source": [
        "####Qual a Confiabilidade do modelo em classificar as transações como legítimas ou fraudulentas?"
      ]
    },
    {
      "cell_type": "code",
      "execution_count": null,
      "metadata": {
        "id": "ORl6D7vKcR90",
        "colab": {
          "base_uri": "https://localhost:8080/"
        },
        "outputId": "1474af86-4c52-4fca-bf25-334d1e7ffe35"
      },
      "outputs": [
        {
          "output_type": "stream",
          "name": "stdout",
          "text": [
            "Confiabilidade: 0.98\n"
          ]
        }
      ],
      "source": [
        "print('Confiabilidade: {}'.format(0.98))"
      ]
    },
    {
      "cell_type": "markdown",
      "metadata": {
        "id": "Ub61SJoQcS-c"
      },
      "source": [
        "####Qual o Faturamento Esperado pela Empresa se classificarmos 100% das transações com o modelo?"
      ]
    },
    {
      "cell_type": "code",
      "execution_count": null,
      "metadata": {
        "id": "vOJRUvw2fMA1",
        "colab": {
          "base_uri": "https://localhost:8080/"
        },
        "outputId": "3b246e81-447f-41e5-85f2-bf5d9133d8bf"
      },
      "outputs": [
        {
          "output_type": "stream",
          "name": "stdout",
          "text": [
            "Percentual de faturamento em relação ao montante: 21.5 %\n"
          ]
        }
      ],
      "source": [
        "#Dataset\n",
        "x_test['montante']=np.expm1(x_test['montante'])\n",
        "aux=x_test.copy()\n",
        "aux['fraude']=yhat_rfc_tuned\n",
        "aux['true']=y_test\n",
        "aux=aux[['montante','fraude','true']]\n",
        "\n",
        "esperado=aux[aux['fraude']==1]['montante'].sum()*0.25\n",
        "total=aux['montante'].sum()\n",
        "percentual=(esperado*100)/total\n",
        "print('Percentual de faturamento em relação ao montante: {} %'.format(round(percentual,2)))"
      ]
    },
    {
      "cell_type": "markdown",
      "metadata": {
        "id": "TRdl2cRkcZLE"
      },
      "source": [
        "####Qual o Prejuízo Esperado pela Empresa em caso de falha do modelo?"
      ]
    },
    {
      "cell_type": "code",
      "source": [
        "#Dataset\n",
        "aux['fraude3']=yhat_rfc_tuned\n",
        "aux['true']=y_test\n",
        "aux=aux[['montante','fraude3','true']]\n",
        "\n",
        "#25%\n",
        "erro1=aux[(aux['fraude3']==1)&(aux['true']==0)]['montante'].sum()*0.05\n",
        "erro1\n",
        "\n",
        "#5%\n",
        "acertos=aux[(aux['fraude3']==1)&(aux['true']==1)]['montante'].sum()*0.25\n",
        "acertos\n",
        "\n",
        "#100%\n",
        "erro2=aux[(aux['fraude3']==0)&(aux['true']==1)]['montante'].sum()\n",
        "erro2\n",
        "\n",
        "total=aux['montante'].sum()\n",
        "ganhos=erro1+acertos\n",
        "perdas=erro2\n",
        "\n",
        "print('Perda percentual em relação ao montante:  {} %'.format(round((perdas*100)/total,2)))"
      ],
      "metadata": {
        "id": "XYvHvEE1ZGBG",
        "colab": {
          "base_uri": "https://localhost:8080/"
        },
        "outputId": "5bd2c7ba-7e45-44c1-9277-9fc90a868959"
      },
      "execution_count": null,
      "outputs": [
        {
          "output_type": "stream",
          "name": "stdout",
          "text": [
            "Perda percentual em relação ao montante:  0.1 %\n"
          ]
        }
      ]
    },
    {
      "cell_type": "markdown",
      "metadata": {
        "id": "g3adyUl1cex0"
      },
      "source": [
        "####Qual o Lucro Esperado pela Blocker Fraud Company ao utilizar o modelo?"
      ]
    },
    {
      "cell_type": "markdown",
      "source": [
        "* A empresa vai receber 25% do valor de cada transação detectada verdadeiramente como fraude.\n",
        "* A empresa vai receber 5% do valor de cada transação detectada como fraude, porém a transação é verdadeiramente legítima.\n",
        "* A empresa vai devolver 100% do valor para o cliente, a cada transação detectada como legítima, porém a transação é verdadeiramente uma fraude."
      ],
      "metadata": {
        "id": "0dWqt3GpGo3A"
      }
    },
    {
      "cell_type": "code",
      "source": [
        "print('Ganho percentual em relação ao montante:  {} %'.format(round((ganhos*100)/total,2)-round((perdas*100)/total,2)))"
      ],
      "metadata": {
        "id": "Bogvmn0ZOOkf",
        "colab": {
          "base_uri": "https://localhost:8080/"
        },
        "outputId": "a2f0be06-b03c-4e25-df1c-0825071fa7f4"
      },
      "execution_count": null,
      "outputs": [
        {
          "output_type": "stream",
          "name": "stdout",
          "text": [
            "Ganho percentual em relação ao montante:  21.34 %\n"
          ]
        }
      ]
    },
    {
      "cell_type": "markdown",
      "metadata": {
        "id": "6DMlVJjBaela"
      },
      "source": [
        "#10.0. PASSO 10 - DEPLOY MODEL TO PRODUCTION"
      ]
    },
    {
      "cell_type": "markdown",
      "metadata": {
        "id": "eoe3WFtfa0yS"
      },
      "source": [
        "##10.1.transformacões class"
      ]
    },
    {
      "cell_type": "code",
      "execution_count": null,
      "metadata": {
        "id": "tq1Sd-ima3WB"
      },
      "outputs": [],
      "source": [
        "'''import pandas as pd\n",
        "from sklearn.preprocessing   import RobustScaler,MinMaxScaler,LabelEncoder\n",
        "\n",
        "def transformacoes(data):\n",
        "\n",
        "  columns={   'step':'etapa','type':'tipos','amount':'montante','nameOrig':'remetente',\n",
        "              'oldbalanceOrg':'saldo_inicial_remetente','newbalanceOrig':'saldo_atual_remetente',\n",
        "              'nameDest':'destinatario','oldbalanceDest':'saldo_inicial_destinatario',\n",
        "              'newbalanceDest':'saldo_atual_destinatario','isFraud':'fraude','isFlaggedFraud':'fraude_sinalizada'}\n",
        "\n",
        "  data=data.rename(columns=columns)\n",
        "\n",
        "  data['fraude']=data['fraude'].apply(lambda x:'sim' if x==1.0 else 'nao')\n",
        "\n",
        "  data=data[data.index !=42270]\n",
        "\n",
        "  data['fraude_sinalizada']=data['fraude_sinalizada'].astype(str)\n",
        "\n",
        "  rs=RobustScaler()\n",
        "  mms=MinMaxScaler()\n",
        "\n",
        "  #MinMaxScaler\n",
        "  #etapa\n",
        "  data['etapa']=mms.fit_transform(data[['etapa']].values)\n",
        "\n",
        "  #RobustScaler\n",
        "  #montante\n",
        "  data['montante']=rs.fit_transform(data[['montante']].values)\n",
        "\n",
        "  #saldo_inicial_remetente\n",
        "  data['saldo_inicial_remetente']=rs.fit_transform(data[['saldo_inicial_remetente']].values)\n",
        "\n",
        "  #saldo_atual_remetente\n",
        "  data['saldo_atual_remetente']=rs.fit_transform(data[['saldo_atual_remetente']].values)\n",
        "\n",
        "  #saldo_inicial_destinatario\n",
        "  data['saldo_inicial_destinatario']=rs.fit_transform(data[['saldo_inicial_destinatario']].values)\n",
        "\n",
        "  #saldo_atual_destinatario\n",
        "  data['saldo_atual_destinatario']=rs.fit_transform(data[['saldo_atual_destinatario']].values)\n",
        "\n",
        "  #Label Encoding\n",
        "  #tipo\n",
        "  le=LabelEncoder()\n",
        "  data['tipos']=le.fit_transform(data['tipos'])\n",
        "\n",
        "  #cliente_remetente\n",
        "  data['remetente']=le.fit_transform(data['remetente'])\n",
        "\n",
        "  #cliente_destinatario\n",
        "  data['destinatario']=le.fit_transform(data['destinatario'])\n",
        "\n",
        "  #One Hot Encoding \n",
        "  #fraude\n",
        "  data['fraude']=data['fraude'].apply(lambda x: 1 if x=='sim' else 0)\n",
        "\n",
        "  data=data[['etapa','tipos','montante','saldo_inicial_remetente',\n",
        "             'saldo_atual_remetente','destinatario','saldo_atual_destinatario']]\n",
        "  return data\n",
        " \n",
        "def get_prediction(model,dado_original,data_transforme):\n",
        "  #prediction\n",
        "  pred=model.predict(data_transforme)\n",
        "\n",
        "  #join pred into the original data\n",
        "  dado_original['predicoes']=pred\n",
        "\n",
        "  return dado_original.to_json(orient='records',date_format='iso')'''"
      ]
    },
    {
      "cell_type": "markdown",
      "metadata": {
        "id": "A1lqCvdPa7-q"
      },
      "source": [
        "##10.2.API Handler"
      ]
    },
    {
      "cell_type": "code",
      "execution_count": null,
      "metadata": {
        "id": "fhB7BW2ya8df"
      },
      "outputs": [],
      "source": [
        "'''from flask                         import Flask,request,Response\n",
        "from transformacoes.transformacoes import transformacoes\n",
        "from transformacoes.transformacoes import get_prediction\n",
        "import os\n",
        "import pickle\n",
        "import pandas              as pd\n",
        "\n",
        "\n",
        "#Loading model\n",
        "model=pickle.load(open('model/model_rfc_train.pkl','rb'))\n",
        "\n",
        "#Initialize API\n",
        "app=Flask(__name__)\n",
        "\n",
        "@app.route('/oi',methods=['POST'])\n",
        "def diagnostico_predict():\n",
        "  test_json=request.get_json()\n",
        "\n",
        "  if test_json:\n",
        "    if isinstance (test_json,dict):\n",
        "      test_raw=pd.DataFrame(test_json,index=[0])\n",
        "\n",
        "    else:\n",
        "      test_raw=pd.DataFrame(test_json,columns=test_json[0].keys())\n",
        "    \n",
        "    #transformacoes    \n",
        "    data=transformacoes(test_raw)\n",
        "    \n",
        "    #predict\n",
        "    df_response=get_prediction(model,test_raw,data)\n",
        "    return df_response\n",
        "\n",
        "  else:\n",
        "    return Response('{}',status=200,mimetype='application/json')\n",
        "\n",
        "if __name__ == \"__main__\":\n",
        "    port = int(os.environ.get(\"PORT\", 5000))\n",
        "    app.run(host='0.0.0.0', port=port)'''"
      ]
    },
    {
      "cell_type": "markdown",
      "metadata": {
        "id": "9fnxebzna_zC"
      },
      "source": [
        "##10.3. API Tester"
      ]
    },
    {
      "cell_type": "code",
      "execution_count": null,
      "metadata": {
        "id": "RgecqyKdbAOQ"
      },
      "outputs": [],
      "source": [
        "#filtrando a linha da predicap\n",
        "df_test_deploy=df_test_deploy[df_test_deploy.index.isin([2,3,251,252,680,681,724,969,970])]\n",
        "\n",
        "#converter em json\n",
        "df_test_deploy=json.dumps(df_test_deploy.to_dict(orient='records'))"
      ]
    },
    {
      "cell_type": "code",
      "execution_count": null,
      "metadata": {
        "id": "vAQoC20LxraP",
        "colab": {
          "base_uri": "https://localhost:8080/"
        },
        "outputId": "9c140982-92bf-4841-afd2-6ecdf7256fed"
      },
      "outputs": [
        {
          "output_type": "stream",
          "name": "stdout",
          "text": [
            "Status code 200\n"
          ]
        }
      ],
      "source": [
        "#API call\n",
        "url='https://nvnvnbbbbbb.herokuapp.com/oi'\n",
        "headers={'content-type':'application/json'}\n",
        "data=df_test_deploy\n",
        "r=requests.post(url,data=data,headers=headers)\n",
        "print('Status code {}'.format(r.status_code))"
      ]
    },
    {
      "cell_type": "code",
      "execution_count": null,
      "metadata": {
        "id": "X4pQ52H9xskk",
        "colab": {
          "base_uri": "https://localhost:8080/",
          "height": 396
        },
        "outputId": "0f1554a3-3c85-4f4f-a09c-820d9e46bc97"
      },
      "outputs": [
        {
          "output_type": "execute_result",
          "data": {
            "text/html": [
              "\n",
              "  <div id=\"df-479142e2-3063-47d0-8580-98e7e67ae0fd\">\n",
              "    <div class=\"colab-df-container\">\n",
              "      <div>\n",
              "<style scoped>\n",
              "    .dataframe tbody tr th:only-of-type {\n",
              "        vertical-align: middle;\n",
              "    }\n",
              "\n",
              "    .dataframe tbody tr th {\n",
              "        vertical-align: top;\n",
              "    }\n",
              "\n",
              "    .dataframe thead th {\n",
              "        text-align: right;\n",
              "    }\n",
              "</style>\n",
              "<table border=\"1\" class=\"dataframe\">\n",
              "  <thead>\n",
              "    <tr style=\"text-align: right;\">\n",
              "      <th></th>\n",
              "      <th>step</th>\n",
              "      <th>type</th>\n",
              "      <th>amount</th>\n",
              "      <th>nameOrig</th>\n",
              "      <th>oldbalanceOrg</th>\n",
              "      <th>newbalanceOrig</th>\n",
              "      <th>nameDest</th>\n",
              "      <th>oldbalanceDest</th>\n",
              "      <th>newbalanceDest</th>\n",
              "      <th>isFlaggedFraud</th>\n",
              "      <th>predicoes</th>\n",
              "    </tr>\n",
              "  </thead>\n",
              "  <tbody>\n",
              "    <tr>\n",
              "      <th>0</th>\n",
              "      <td>1</td>\n",
              "      <td>TRANSFER</td>\n",
              "      <td>181.00</td>\n",
              "      <td>C1305486145</td>\n",
              "      <td>181.00</td>\n",
              "      <td>0.0</td>\n",
              "      <td>C553264065</td>\n",
              "      <td>0.0</td>\n",
              "      <td>0.00</td>\n",
              "      <td>0</td>\n",
              "      <td>0</td>\n",
              "    </tr>\n",
              "    <tr>\n",
              "      <th>1</th>\n",
              "      <td>1</td>\n",
              "      <td>CASH_OUT</td>\n",
              "      <td>181.00</td>\n",
              "      <td>C840083671</td>\n",
              "      <td>181.00</td>\n",
              "      <td>0.0</td>\n",
              "      <td>C38997010</td>\n",
              "      <td>21182.0</td>\n",
              "      <td>0.00</td>\n",
              "      <td>0</td>\n",
              "      <td>0</td>\n",
              "    </tr>\n",
              "    <tr>\n",
              "      <th>2</th>\n",
              "      <td>1</td>\n",
              "      <td>TRANSFER</td>\n",
              "      <td>2806.00</td>\n",
              "      <td>C1420196421</td>\n",
              "      <td>2806.00</td>\n",
              "      <td>0.0</td>\n",
              "      <td>C972765878</td>\n",
              "      <td>0.0</td>\n",
              "      <td>0.00</td>\n",
              "      <td>0</td>\n",
              "      <td>1</td>\n",
              "    </tr>\n",
              "    <tr>\n",
              "      <th>3</th>\n",
              "      <td>1</td>\n",
              "      <td>CASH_OUT</td>\n",
              "      <td>2806.00</td>\n",
              "      <td>C2101527076</td>\n",
              "      <td>2806.00</td>\n",
              "      <td>0.0</td>\n",
              "      <td>C1007251739</td>\n",
              "      <td>26202.0</td>\n",
              "      <td>0.00</td>\n",
              "      <td>0</td>\n",
              "      <td>1</td>\n",
              "    </tr>\n",
              "    <tr>\n",
              "      <th>4</th>\n",
              "      <td>1</td>\n",
              "      <td>TRANSFER</td>\n",
              "      <td>20128.00</td>\n",
              "      <td>C137533655</td>\n",
              "      <td>20128.00</td>\n",
              "      <td>0.0</td>\n",
              "      <td>C1848415041</td>\n",
              "      <td>0.0</td>\n",
              "      <td>0.00</td>\n",
              "      <td>0</td>\n",
              "      <td>1</td>\n",
              "    </tr>\n",
              "    <tr>\n",
              "      <th>5</th>\n",
              "      <td>1</td>\n",
              "      <td>CASH_OUT</td>\n",
              "      <td>20128.00</td>\n",
              "      <td>C1118430673</td>\n",
              "      <td>20128.00</td>\n",
              "      <td>0.0</td>\n",
              "      <td>C339924917</td>\n",
              "      <td>6268.0</td>\n",
              "      <td>12145.85</td>\n",
              "      <td>0</td>\n",
              "      <td>1</td>\n",
              "    </tr>\n",
              "    <tr>\n",
              "      <th>6</th>\n",
              "      <td>1</td>\n",
              "      <td>CASH_OUT</td>\n",
              "      <td>416001.33</td>\n",
              "      <td>C749981943</td>\n",
              "      <td>0.00</td>\n",
              "      <td>0.0</td>\n",
              "      <td>C667346055</td>\n",
              "      <td>102.0</td>\n",
              "      <td>9291619.62</td>\n",
              "      <td>0</td>\n",
              "      <td>0</td>\n",
              "    </tr>\n",
              "    <tr>\n",
              "      <th>7</th>\n",
              "      <td>1</td>\n",
              "      <td>TRANSFER</td>\n",
              "      <td>1277212.77</td>\n",
              "      <td>C1334405552</td>\n",
              "      <td>1277212.77</td>\n",
              "      <td>0.0</td>\n",
              "      <td>C431687661</td>\n",
              "      <td>0.0</td>\n",
              "      <td>0.00</td>\n",
              "      <td>0</td>\n",
              "      <td>1</td>\n",
              "    </tr>\n",
              "    <tr>\n",
              "      <th>8</th>\n",
              "      <td>1</td>\n",
              "      <td>CASH_OUT</td>\n",
              "      <td>1277212.77</td>\n",
              "      <td>C467632528</td>\n",
              "      <td>1277212.77</td>\n",
              "      <td>0.0</td>\n",
              "      <td>C716083600</td>\n",
              "      <td>0.0</td>\n",
              "      <td>2444985.19</td>\n",
              "      <td>0</td>\n",
              "      <td>1</td>\n",
              "    </tr>\n",
              "  </tbody>\n",
              "</table>\n",
              "</div>\n",
              "      <button class=\"colab-df-convert\" onclick=\"convertToInteractive('df-479142e2-3063-47d0-8580-98e7e67ae0fd')\"\n",
              "              title=\"Convert this dataframe to an interactive table.\"\n",
              "              style=\"display:none;\">\n",
              "        \n",
              "  <svg xmlns=\"http://www.w3.org/2000/svg\" height=\"24px\"viewBox=\"0 0 24 24\"\n",
              "       width=\"24px\">\n",
              "    <path d=\"M0 0h24v24H0V0z\" fill=\"none\"/>\n",
              "    <path d=\"M18.56 5.44l.94 2.06.94-2.06 2.06-.94-2.06-.94-.94-2.06-.94 2.06-2.06.94zm-11 1L8.5 8.5l.94-2.06 2.06-.94-2.06-.94L8.5 2.5l-.94 2.06-2.06.94zm10 10l.94 2.06.94-2.06 2.06-.94-2.06-.94-.94-2.06-.94 2.06-2.06.94z\"/><path d=\"M17.41 7.96l-1.37-1.37c-.4-.4-.92-.59-1.43-.59-.52 0-1.04.2-1.43.59L10.3 9.45l-7.72 7.72c-.78.78-.78 2.05 0 2.83L4 21.41c.39.39.9.59 1.41.59.51 0 1.02-.2 1.41-.59l7.78-7.78 2.81-2.81c.8-.78.8-2.07 0-2.86zM5.41 20L4 18.59l7.72-7.72 1.47 1.35L5.41 20z\"/>\n",
              "  </svg>\n",
              "      </button>\n",
              "      \n",
              "  <style>\n",
              "    .colab-df-container {\n",
              "      display:flex;\n",
              "      flex-wrap:wrap;\n",
              "      gap: 12px;\n",
              "    }\n",
              "\n",
              "    .colab-df-convert {\n",
              "      background-color: #E8F0FE;\n",
              "      border: none;\n",
              "      border-radius: 50%;\n",
              "      cursor: pointer;\n",
              "      display: none;\n",
              "      fill: #1967D2;\n",
              "      height: 32px;\n",
              "      padding: 0 0 0 0;\n",
              "      width: 32px;\n",
              "    }\n",
              "\n",
              "    .colab-df-convert:hover {\n",
              "      background-color: #E2EBFA;\n",
              "      box-shadow: 0px 1px 2px rgba(60, 64, 67, 0.3), 0px 1px 3px 1px rgba(60, 64, 67, 0.15);\n",
              "      fill: #174EA6;\n",
              "    }\n",
              "\n",
              "    [theme=dark] .colab-df-convert {\n",
              "      background-color: #3B4455;\n",
              "      fill: #D2E3FC;\n",
              "    }\n",
              "\n",
              "    [theme=dark] .colab-df-convert:hover {\n",
              "      background-color: #434B5C;\n",
              "      box-shadow: 0px 1px 3px 1px rgba(0, 0, 0, 0.15);\n",
              "      filter: drop-shadow(0px 1px 2px rgba(0, 0, 0, 0.3));\n",
              "      fill: #FFFFFF;\n",
              "    }\n",
              "  </style>\n",
              "\n",
              "      <script>\n",
              "        const buttonEl =\n",
              "          document.querySelector('#df-479142e2-3063-47d0-8580-98e7e67ae0fd button.colab-df-convert');\n",
              "        buttonEl.style.display =\n",
              "          google.colab.kernel.accessAllowed ? 'block' : 'none';\n",
              "\n",
              "        async function convertToInteractive(key) {\n",
              "          const element = document.querySelector('#df-479142e2-3063-47d0-8580-98e7e67ae0fd');\n",
              "          const dataTable =\n",
              "            await google.colab.kernel.invokeFunction('convertToInteractive',\n",
              "                                                     [key], {});\n",
              "          if (!dataTable) return;\n",
              "\n",
              "          const docLinkHtml = 'Like what you see? Visit the ' +\n",
              "            '<a target=\"_blank\" href=https://colab.research.google.com/notebooks/data_table.ipynb>data table notebook</a>'\n",
              "            + ' to learn more about interactive tables.';\n",
              "          element.innerHTML = '';\n",
              "          dataTable['output_type'] = 'display_data';\n",
              "          await google.colab.output.renderOutput(dataTable, element);\n",
              "          const docLink = document.createElement('div');\n",
              "          docLink.innerHTML = docLinkHtml;\n",
              "          element.appendChild(docLink);\n",
              "        }\n",
              "      </script>\n",
              "    </div>\n",
              "  </div>\n",
              "  "
            ],
            "text/plain": [
              "   step      type      amount     nameOrig  oldbalanceOrg  newbalanceOrig     nameDest  oldbalanceDest  newbalanceDest  isFlaggedFraud  predicoes\n",
              "0     1  TRANSFER      181.00  C1305486145         181.00             0.0   C553264065             0.0            0.00               0          0\n",
              "1     1  CASH_OUT      181.00   C840083671         181.00             0.0    C38997010         21182.0            0.00               0          0\n",
              "2     1  TRANSFER     2806.00  C1420196421        2806.00             0.0   C972765878             0.0            0.00               0          1\n",
              "3     1  CASH_OUT     2806.00  C2101527076        2806.00             0.0  C1007251739         26202.0            0.00               0          1\n",
              "4     1  TRANSFER    20128.00   C137533655       20128.00             0.0  C1848415041             0.0            0.00               0          1\n",
              "5     1  CASH_OUT    20128.00  C1118430673       20128.00             0.0   C339924917          6268.0        12145.85               0          1\n",
              "6     1  CASH_OUT   416001.33   C749981943           0.00             0.0   C667346055           102.0      9291619.62               0          0\n",
              "7     1  TRANSFER  1277212.77  C1334405552     1277212.77             0.0   C431687661             0.0            0.00               0          1\n",
              "8     1  CASH_OUT  1277212.77   C467632528     1277212.77             0.0   C716083600             0.0      2444985.19               0          1"
            ]
          },
          "metadata": {},
          "execution_count": 92
        }
      ],
      "source": [
        "#Prediction\n",
        "df1=pd.DataFrame(r.json(),columns=r.json()[0].keys())\n",
        "df1=df1.drop(['isFraud'],axis=1)\n",
        "df1"
      ]
    }
  ],
  "metadata": {
    "colab": {
      "collapsed_sections": [
        "0yYvm-LIIUbr",
        "Hhruxo2xIa9g",
        "M0XZw0DHIccA",
        "XzUZ5Z-xK3T_",
        "MvaOgZivOibe",
        "sR0iJiLkPN_9",
        "qJCVx9icPhqe",
        "pqPsPzXOPmKu",
        "01iSNySzVJmM",
        "tuF55r7hXLRT",
        "CxmMrZtWXfTj",
        "kh2_gw2K2vfV",
        "XNgufp4nZMza",
        "G5MqjiseZcez",
        "olrRbmpSZlpr",
        "lE3Sxx6BZsrS",
        "4IogQnHDaVcS",
        "XjFOAq--aRKS",
        "yW1rXSSScDgE",
        "AMtvcEYZcNOk",
        "Ub61SJoQcS-c",
        "TRdl2cRkcZLE",
        "g3adyUl1cex0",
        "eoe3WFtfa0yS",
        "A1lqCvdPa7-q",
        "9fnxebzna_zC"
      ],
      "name": "BLOCKER_FRAUD_COMPANY.ipynb",
      "provenance": []
    },
    "kernelspec": {
      "display_name": "Python 3 (ipykernel)",
      "language": "python",
      "name": "python3"
    },
    "language_info": {
      "codemirror_mode": {
        "name": "ipython",
        "version": 3
      },
      "file_extension": ".py",
      "mimetype": "text/x-python",
      "name": "python",
      "nbconvert_exporter": "python",
      "pygments_lexer": "ipython3",
      "version": "3.9.7"
    },
    "varInspector": {
      "cols": {
        "lenName": 16,
        "lenType": 16,
        "lenVar": 40
      },
      "kernels_config": {
        "python": {
          "delete_cmd_postfix": "",
          "delete_cmd_prefix": "del ",
          "library": "var_list.py",
          "varRefreshCmd": "print(var_dic_list())"
        },
        "r": {
          "delete_cmd_postfix": ") ",
          "delete_cmd_prefix": "rm(",
          "library": "var_list.r",
          "varRefreshCmd": "cat(var_dic_list()) "
        }
      },
      "types_to_exclude": [
        "module",
        "function",
        "builtin_function_or_method",
        "instance",
        "_Feature"
      ],
      "window_display": false
    },
    "widgets": {
      "application/vnd.jupyter.widget-state+json": {
        "64b668c1bfa04870b11813a71f588054": {
          "model_module": "@jupyter-widgets/controls",
          "model_name": "IntProgressModel",
          "model_module_version": "1.5.0",
          "state": {
            "_view_name": "ProgressView",
            "style": "IPY_MODEL_56822ced58b547718cd57ca9c3ce8ee6",
            "_dom_classes": [],
            "description": "Processing: ",
            "_model_name": "IntProgressModel",
            "bar_style": "",
            "max": 3,
            "_view_module": "@jupyter-widgets/controls",
            "_model_module_version": "1.5.0",
            "value": 3,
            "_view_count": null,
            "_view_module_version": "1.5.0",
            "orientation": "horizontal",
            "min": 0,
            "description_tooltip": null,
            "_model_module": "@jupyter-widgets/controls",
            "layout": "IPY_MODEL_b922aead837c405c862e30d005910886"
          }
        },
        "56822ced58b547718cd57ca9c3ce8ee6": {
          "model_module": "@jupyter-widgets/controls",
          "model_name": "ProgressStyleModel",
          "model_module_version": "1.5.0",
          "state": {
            "_view_name": "StyleView",
            "_model_name": "ProgressStyleModel",
            "description_width": "",
            "_view_module": "@jupyter-widgets/base",
            "_model_module_version": "1.5.0",
            "_view_count": null,
            "_view_module_version": "1.2.0",
            "bar_color": null,
            "_model_module": "@jupyter-widgets/controls"
          }
        },
        "b922aead837c405c862e30d005910886": {
          "model_module": "@jupyter-widgets/base",
          "model_name": "LayoutModel",
          "model_module_version": "1.2.0",
          "state": {
            "_view_name": "LayoutView",
            "grid_template_rows": null,
            "right": null,
            "justify_content": null,
            "_view_module": "@jupyter-widgets/base",
            "overflow": null,
            "_model_module_version": "1.2.0",
            "_view_count": null,
            "flex_flow": null,
            "width": null,
            "min_width": null,
            "border": null,
            "align_items": null,
            "bottom": null,
            "_model_module": "@jupyter-widgets/base",
            "top": null,
            "grid_column": null,
            "overflow_y": null,
            "overflow_x": null,
            "grid_auto_flow": null,
            "grid_area": null,
            "grid_template_columns": null,
            "flex": null,
            "_model_name": "LayoutModel",
            "justify_items": null,
            "grid_row": null,
            "max_height": null,
            "align_content": null,
            "visibility": null,
            "align_self": null,
            "height": null,
            "min_height": null,
            "padding": null,
            "grid_auto_rows": null,
            "grid_gap": null,
            "max_width": null,
            "order": null,
            "_view_module_version": "1.2.0",
            "grid_template_areas": null,
            "object_position": null,
            "object_fit": null,
            "grid_auto_columns": null,
            "margin": null,
            "display": null,
            "left": null
          }
        },
        "72e7dcc3dc8d4210b46eb704babf9d3c": {
          "model_module": "@jupyter-widgets/controls",
          "model_name": "TextModel",
          "model_module_version": "1.5.0",
          "state": {
            "_view_name": "TextView",
            "style": "IPY_MODEL_8c363f6b99f445259bb0eb1361a5b8fa",
            "_dom_classes": [],
            "description": "",
            "_model_name": "TextModel",
            "placeholder": "​",
            "_view_module": "@jupyter-widgets/controls",
            "_model_module_version": "1.5.0",
            "value": "Following data types have been inferred automatically, if they are correct press enter to continue or type 'quit' otherwise.",
            "_view_count": null,
            "disabled": false,
            "_view_module_version": "1.5.0",
            "continuous_update": true,
            "description_tooltip": null,
            "_model_module": "@jupyter-widgets/controls",
            "layout": "IPY_MODEL_0cc5c097c6de48e3a0e2b44e435af0af"
          }
        },
        "8c363f6b99f445259bb0eb1361a5b8fa": {
          "model_module": "@jupyter-widgets/controls",
          "model_name": "DescriptionStyleModel",
          "model_module_version": "1.5.0",
          "state": {
            "_view_name": "StyleView",
            "_model_name": "DescriptionStyleModel",
            "description_width": "",
            "_view_module": "@jupyter-widgets/base",
            "_model_module_version": "1.5.0",
            "_view_count": null,
            "_view_module_version": "1.2.0",
            "_model_module": "@jupyter-widgets/controls"
          }
        },
        "0cc5c097c6de48e3a0e2b44e435af0af": {
          "model_module": "@jupyter-widgets/base",
          "model_name": "LayoutModel",
          "model_module_version": "1.2.0",
          "state": {
            "_view_name": "LayoutView",
            "grid_template_rows": null,
            "right": null,
            "justify_content": null,
            "_view_module": "@jupyter-widgets/base",
            "overflow": null,
            "_model_module_version": "1.2.0",
            "_view_count": null,
            "flex_flow": null,
            "width": "100%",
            "min_width": null,
            "border": null,
            "align_items": null,
            "bottom": null,
            "_model_module": "@jupyter-widgets/base",
            "top": null,
            "grid_column": null,
            "overflow_y": null,
            "overflow_x": null,
            "grid_auto_flow": null,
            "grid_area": null,
            "grid_template_columns": null,
            "flex": null,
            "_model_name": "LayoutModel",
            "justify_items": null,
            "grid_row": null,
            "max_height": null,
            "align_content": null,
            "visibility": null,
            "align_self": null,
            "height": null,
            "min_height": null,
            "padding": null,
            "grid_auto_rows": null,
            "grid_gap": null,
            "max_width": null,
            "order": null,
            "_view_module_version": "1.2.0",
            "grid_template_areas": null,
            "object_position": null,
            "object_fit": null,
            "grid_auto_columns": null,
            "margin": null,
            "display": null,
            "left": null
          }
        },
        "f56648747d5e47638397a56ef53dc484": {
          "model_module": "@jupyter-widgets/controls",
          "model_name": "IntProgressModel",
          "model_module_version": "1.5.0",
          "state": {
            "_view_name": "ProgressView",
            "style": "IPY_MODEL_37612aafcd254cbca2a084c49d6e4cd9",
            "_dom_classes": [],
            "description": "Processing: ",
            "_model_name": "IntProgressModel",
            "bar_style": "",
            "max": 74,
            "_view_module": "@jupyter-widgets/controls",
            "_model_module_version": "1.5.0",
            "value": 74,
            "_view_count": null,
            "_view_module_version": "1.5.0",
            "orientation": "horizontal",
            "min": 0,
            "description_tooltip": null,
            "_model_module": "@jupyter-widgets/controls",
            "layout": "IPY_MODEL_edee3448208d43b49b71bd1438f4a758"
          }
        },
        "37612aafcd254cbca2a084c49d6e4cd9": {
          "model_module": "@jupyter-widgets/controls",
          "model_name": "ProgressStyleModel",
          "model_module_version": "1.5.0",
          "state": {
            "_view_name": "StyleView",
            "_model_name": "ProgressStyleModel",
            "description_width": "",
            "_view_module": "@jupyter-widgets/base",
            "_model_module_version": "1.5.0",
            "_view_count": null,
            "_view_module_version": "1.2.0",
            "bar_color": null,
            "_model_module": "@jupyter-widgets/controls"
          }
        },
        "edee3448208d43b49b71bd1438f4a758": {
          "model_module": "@jupyter-widgets/base",
          "model_name": "LayoutModel",
          "model_module_version": "1.2.0",
          "state": {
            "_view_name": "LayoutView",
            "grid_template_rows": null,
            "right": null,
            "justify_content": null,
            "_view_module": "@jupyter-widgets/base",
            "overflow": null,
            "_model_module_version": "1.2.0",
            "_view_count": null,
            "flex_flow": null,
            "width": null,
            "min_width": null,
            "border": null,
            "align_items": null,
            "bottom": null,
            "_model_module": "@jupyter-widgets/base",
            "top": null,
            "grid_column": null,
            "overflow_y": null,
            "overflow_x": null,
            "grid_auto_flow": null,
            "grid_area": null,
            "grid_template_columns": null,
            "flex": null,
            "_model_name": "LayoutModel",
            "justify_items": null,
            "grid_row": null,
            "max_height": null,
            "align_content": null,
            "visibility": null,
            "align_self": null,
            "height": null,
            "min_height": null,
            "padding": null,
            "grid_auto_rows": null,
            "grid_gap": null,
            "max_width": null,
            "order": null,
            "_view_module_version": "1.2.0",
            "grid_template_areas": null,
            "object_position": null,
            "object_fit": null,
            "grid_auto_columns": null,
            "margin": null,
            "display": null,
            "left": null
          }
        }
      }
    }
  },
  "nbformat": 4,
  "nbformat_minor": 0
}