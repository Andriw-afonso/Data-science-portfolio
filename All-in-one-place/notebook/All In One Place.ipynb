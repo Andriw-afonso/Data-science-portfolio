{
  "nbformat": 4,
  "nbformat_minor": 0,
  "metadata": {
    "colab": {
      "name": "All In One Place(17/05/2021).ipynb",
      "provenance": [],
      "collapsed_sections": [
        "e-HN8F8vIE0K",
        "0yYvm-LIIUbr",
        "Hhruxo2xIa9g",
        "M0XZw0DHIccA",
        "ucvRcvY6IrH4",
        "KgCn8dAOI-aY",
        "v8VI0DTjJC2Z",
        "wE9ZX6aTJG84",
        "2ty2lvOQJKc4",
        "OlJFVvHqOJeA",
        "zD9IibEiJScY",
        "MjhMzg-7JxR6",
        "2NLPgZOFKHLI",
        "XzUZ5Z-xK3T_",
        "XyU-Tah1LRnn",
        "sH_nWjMBMdAP",
        "MwwsXAvVMhY3",
        "S7nqPULlMn53",
        "y0o0GHk1Mqk-",
        "70ED8lTYNcBX",
        "AVklj13VN6dI",
        "sR0iJiLkPN_9",
        "PAmggbCsPcbd",
        "qJCVx9icPhqe",
        "pqPsPzXOPmKu",
        "Aga1DnIxSul9",
        "VHWqLgWqS9AN",
        "sK7v7hDCTEn1",
        "ty4DOZo7TZ9F",
        "otnAxQ38Tc3N",
        "XncS_BNqTeUd",
        "yA92tDyiTfbl",
        "gR45ERX5TkWt",
        "07b7kf0eTmHN",
        "kow0Z9RYUWGD",
        "KuLWx92_Uxmk",
        "uOzUB1c4U6_M",
        "01iSNySzVJmM",
        "dPeK1w55Vg8E",
        "0gLyVzvLVx5E",
        "QO5psljeV2hs",
        "Oq-HxYiXWSP0",
        "tuF55r7hXLRT",
        "Dq4lVVsUXjvL",
        "T__-6ZyvXZgB",
        "2VNXD5ZhJc9W",
        "1qrSnFNEYD-I",
        "ay5wuwFZAcvO",
        "9OPtQ7QuYpIA",
        "XOjrGD9HB1Hl",
        "RTvuT0b4Zafc",
        "2lWXE7RGcKB-",
        "MfwOvmv_aQa0",
        "MwI2oj-9hFBN",
        "5asmOVjztuz9",
        "oreGowMSgP5o",
        "WozT_WiUvPms",
        "5U7NwxmYY2XT",
        "u7j3l4avY9Eb",
        "ggunoaLQZANs",
        "XNgufp4nZMza",
        "G5MqjiseZcez",
        "olrRbmpSZlpr",
        "lE3Sxx6BZsrS",
        "NBKT0GyDSens",
        "2txiMzvXSux8",
        "rKKBEIZmS28k",
        "vHJqn53HS_68",
        "8SX8VrLDTMdM",
        "E55iZci8TS48",
        "HV9WEvjFTczj",
        "TUQtJsn3TsFi",
        "Hhetyvj8T5-U"
      ]
    },
    "kernelspec": {
      "name": "python3",
      "display_name": "Python 3"
    }
  },
  "cells": [
    {
      "cell_type": "markdown",
      "metadata": {
        "id": "e-HN8F8vIE0K"
      },
      "source": [
        "#0.0 IMPORTS"
      ]
    },
    {
      "cell_type": "code",
      "metadata": {
        "id": "NYx7XuAcHzUK",
        "colab": {
          "base_uri": "https://localhost:8080/"
        },
        "outputId": "cee7043e-831a-4d05-9935-fd759bb8b230"
      },
      "source": [
        "pip install boruta"
      ],
      "execution_count": 1,
      "outputs": [
        {
          "output_type": "stream",
          "text": [
            "Collecting boruta\n",
            "  Downloading Boruta-0.3-py3-none-any.whl (56 kB)\n",
            "\u001b[?25l\r\u001b[K     |█████▉                          | 10 kB 25.8 MB/s eta 0:00:01\r\u001b[K     |███████████▋                    | 20 kB 30.0 MB/s eta 0:00:01\r\u001b[K     |█████████████████▍              | 30 kB 29.5 MB/s eta 0:00:01\r\u001b[K     |███████████████████████▏        | 40 kB 32.2 MB/s eta 0:00:01\r\u001b[K     |█████████████████████████████   | 51 kB 35.1 MB/s eta 0:00:01\r\u001b[K     |████████████████████████████████| 56 kB 3.8 MB/s \n",
            "\u001b[?25hRequirement already satisfied: scikit-learn>=0.17.1 in /usr/local/lib/python3.7/dist-packages (from boruta) (0.22.2.post1)\n",
            "Requirement already satisfied: scipy>=0.17.0 in /usr/local/lib/python3.7/dist-packages (from boruta) (1.4.1)\n",
            "Requirement already satisfied: numpy>=1.10.4 in /usr/local/lib/python3.7/dist-packages (from boruta) (1.19.5)\n",
            "Requirement already satisfied: joblib>=0.11 in /usr/local/lib/python3.7/dist-packages (from scikit-learn>=0.17.1->boruta) (1.0.1)\n",
            "Installing collected packages: boruta\n",
            "Successfully installed boruta-0.3\n"
          ],
          "name": "stdout"
        }
      ]
    },
    {
      "cell_type": "code",
      "metadata": {
        "colab": {
          "base_uri": "https://localhost:8080/"
        },
        "id": "77U6bnZ5LOc2",
        "outputId": "ae5885c8-417b-49bf-d25b-7a71676d33f9"
      },
      "source": [
        "pip install kneed"
      ],
      "execution_count": 2,
      "outputs": [
        {
          "output_type": "stream",
          "text": [
            "Collecting kneed\n",
            "  Downloading kneed-0.7.0-py2.py3-none-any.whl (9.4 kB)\n",
            "Requirement already satisfied: numpy>=1.14.2 in /usr/local/lib/python3.7/dist-packages (from kneed) (1.19.5)\n",
            "Requirement already satisfied: matplotlib in /usr/local/lib/python3.7/dist-packages (from kneed) (3.2.2)\n",
            "Requirement already satisfied: scipy in /usr/local/lib/python3.7/dist-packages (from kneed) (1.4.1)\n",
            "Requirement already satisfied: cycler>=0.10 in /usr/local/lib/python3.7/dist-packages (from matplotlib->kneed) (0.10.0)\n",
            "Requirement already satisfied: python-dateutil>=2.1 in /usr/local/lib/python3.7/dist-packages (from matplotlib->kneed) (2.8.1)\n",
            "Requirement already satisfied: kiwisolver>=1.0.1 in /usr/local/lib/python3.7/dist-packages (from matplotlib->kneed) (1.3.1)\n",
            "Requirement already satisfied: pyparsing!=2.0.4,!=2.1.2,!=2.1.6,>=2.0.1 in /usr/local/lib/python3.7/dist-packages (from matplotlib->kneed) (2.4.7)\n",
            "Requirement already satisfied: six in /usr/local/lib/python3.7/dist-packages (from cycler>=0.10->matplotlib->kneed) (1.15.0)\n",
            "Installing collected packages: kneed\n",
            "Successfully installed kneed-0.7.0\n"
          ],
          "name": "stdout"
        }
      ]
    },
    {
      "cell_type": "code",
      "metadata": {
        "colab": {
          "base_uri": "https://localhost:8080/"
        },
        "id": "z1KZGsLIHAjt",
        "outputId": "312ba0af-cd02-4ddd-8522-bb65f009382d"
      },
      "source": [
        "!pip install tabulate"
      ],
      "execution_count": 3,
      "outputs": [
        {
          "output_type": "stream",
          "text": [
            "Requirement already satisfied: tabulate in /usr/local/lib/python3.7/dist-packages (0.8.9)\n"
          ],
          "name": "stdout"
        }
      ]
    },
    {
      "cell_type": "code",
      "metadata": {
        "id": "v5N9moORvrn1"
      },
      "source": [
        "import pandas              as pd\n",
        "import numpy               as np\n",
        "import seaborn             as sns\n",
        "import matplotlib.pyplot   as plt\n",
        "import scipy.stats         as stats\n",
        "\n",
        "import warnings\n",
        "import random\n",
        "\n",
        "from IPython.display         import Image\n",
        "from tabulate                import tabulate\n",
        "from sklearn.preprocessing   import RobustScaler,MinMaxScaler,LabelEncoder\n",
        "from kneed                   import KneeLocator\n",
        "from sklearn                 import metrics\n",
        "from sklearn.cluster         import OPTICS, MiniBatchKMeans, MeanShift\n",
        "from sklearn.cluster         import  AgglomerativeClustering, Birch, KMeans\n",
        "from sklearn.mixture         import GaussianMixture\n",
        "from sklearn.metrics         import davies_bouldin_score,calinski_harabasz_score\n",
        "from sklearn.decomposition   import PCA"
      ],
      "execution_count": 4,
      "outputs": []
    },
    {
      "cell_type": "code",
      "metadata": {
        "id": "UZv6USluWaG1"
      },
      "source": [
        "pd.set_option('display.float_format', lambda x: '%.3f' % x)"
      ],
      "execution_count": 5,
      "outputs": []
    },
    {
      "cell_type": "markdown",
      "metadata": {
        "id": "0yYvm-LIIUbr"
      },
      "source": [
        "##0.1 Helper Functions"
      ]
    },
    {
      "cell_type": "code",
      "metadata": {
        "id": "S2v1faWQIU-T"
      },
      "source": [
        "def ModelPerformance(n_features,X,yhat,model_name):\n",
        "   \n",
        "  cal = calinski_harabasz_score(X, yhat)\n",
        "  db = davies_bouldin_score(X, yhat)  \n",
        "\n",
        "  return  pd.DataFrame({ 'ModelName':         model_name,                                                 \n",
        "                          'Db':                np.round(db,2),\n",
        "                          'CalinskiHarabasz': np.round(cal,2)},index=[0]) \n",
        "\n",
        "\n",
        "  \n",
        "def PlotClustering(data):\n",
        "\n",
        "  for i in range(0,len(data['Clustering'].unique())):\n",
        "    aux=data['Clustering'].unique()\n",
        "    ax=sns.scatterplot(data=data[data['Clustering']==aux[i]], x='A', y='B', palette=\"deep\")\n",
        "\n",
        "  return ax\n",
        "\n",
        "\n",
        "\n",
        "def CrossValidation(data, kfold, model_name, model):\n",
        "    \n",
        "  db_list=[]  \n",
        "  calinski_harabasz_list=[]\n",
        "    \n",
        "  fim=[]\n",
        "  inicio=[]  \n",
        "  razao=data.index.max()/kfold\n",
        "  for i in range(1,kfold+1):\n",
        "    fim.append(round(razao*i,2))\n",
        "    inicio.append(round((razao*i)-razao,2))\n",
        "\n",
        "  for k in range(0,kfold):\n",
        "\n",
        "    #Start and end for validation\n",
        "    validation_start=inicio[k]\n",
        "    validation_end=fim[k]\n",
        "\n",
        "    #Filtering in dataset\n",
        "    aux=data[(data.index>=validation_start) & (data.index<=validation_end)]\n",
        "    training=data.drop(aux.index,axis=0)\n",
        "    validation=data[(data.index>=validation_start) & (data.index<=validation_end)]\n",
        "           \n",
        "    #Model\n",
        "    yhat=model.fit_predict(validation)   \n",
        "\n",
        "    performaces=ModelPerformance(2,validation,yhat,model_name)\n",
        "    \n",
        "    #Performance of each KFold iteration\n",
        "    db_list.append(performaces['Db'])\n",
        "    calinski_harabasz_list.append(performaces['CalinskiHarabasz'])    \n",
        "\n",
        "\n",
        "  return pd.DataFrame({ 'ModelName':             model_name,                                             \n",
        "                        'Db CV':                  np.round(np.mean(db_list),2).astype(str)                + '+/-' + np.round(np.std(db_list),2).astype(str),\n",
        "                        'CalinskiHarabasz CV':   np.round(np.mean(calinski_harabasz_list),2).astype(str) + '+/-' + np.round(np.std(calinski_harabasz_list),2).astype(str)},index=[0])\n",
        "  \n",
        "\n",
        "def NumericalCorrelation(numericos,data):\n",
        "\n",
        "  columns=numericos.columns\n",
        "  aux=data[columns]\n",
        "\n",
        "  correlation=aux.corr(method='pearson')\n",
        "  ax=sns.heatmap(correlation,annot=True);\n",
        "  ax.figure.set_size_inches(8,4)\n",
        "  ax.set_title('Correlação entre features numéricas',fontsize=14)\n",
        "\n",
        "  return ax\n",
        "\n",
        "\n",
        "def cramer_v(x,y):\n",
        "  \n",
        "  cm=pd.crosstab(x, y).to_numpy()\n",
        "  n=cm.sum()\n",
        "  r,k=cm.shape\n",
        "  chi2=stats.chi2_contingency(cm)[0]\n",
        "  chi2corr=max(0,chi2-(k-1)*(r-1)/(n-1))\n",
        "  kcorr=k-(k-1)**2/(n-1)\n",
        "  rcorr=r-(r-1)**2/(n-1)\n",
        "\n",
        "  return np.sqrt((chi2corr/n)/(min(kcorr-1,rcorr-1)))\n",
        "\n",
        "\n",
        "def CategoricalCorrelation(data):\n",
        "\n",
        "  #selecao\n",
        "  a=data.select_dtypes(include='object')\n",
        "\n",
        "  #lista 1 , todas correlacoes\n",
        "  columns=a.columns\n",
        "  lista=[]\n",
        "  for i2 in range(0,len(columns)):\n",
        "    for i in range(0,len(columns)):\n",
        "      lista.append(cramer_v(a[columns[i2]],a[columns[i]]))\n",
        "\n",
        "  #lista 2 , correlacoes por features\n",
        "  lista2=[]\n",
        "  n_features=len(columns)\n",
        "  for i in range(0,n_features):\n",
        "\n",
        "    a=n_features*i\n",
        "    b=n_features*(i+1)\n",
        "\n",
        "    lista2.append(lista[a:b])\n",
        "  \n",
        "  return lista2"
      ],
      "execution_count": 6,
      "outputs": []
    },
    {
      "cell_type": "markdown",
      "metadata": {
        "id": "Hhruxo2xIa9g"
      },
      "source": [
        "##0.2 Loading Data"
      ]
    },
    {
      "cell_type": "code",
      "metadata": {
        "id": "zQG4J1MbIbfH",
        "colab": {
          "base_uri": "https://localhost:8080/",
          "height": 204
        },
        "outputId": "8b5face9-bea3-4110-94c5-4b0857b56ca7"
      },
      "source": [
        "df_raw=pd.read_csv('/content/Ecommerce.csv',encoding = 'unicode_escape')\n",
        "df_raw.head()"
      ],
      "execution_count": 7,
      "outputs": [
        {
          "output_type": "execute_result",
          "data": {
            "text/html": [
              "<div>\n",
              "<style scoped>\n",
              "    .dataframe tbody tr th:only-of-type {\n",
              "        vertical-align: middle;\n",
              "    }\n",
              "\n",
              "    .dataframe tbody tr th {\n",
              "        vertical-align: top;\n",
              "    }\n",
              "\n",
              "    .dataframe thead th {\n",
              "        text-align: right;\n",
              "    }\n",
              "</style>\n",
              "<table border=\"1\" class=\"dataframe\">\n",
              "  <thead>\n",
              "    <tr style=\"text-align: right;\">\n",
              "      <th></th>\n",
              "      <th>InvoiceNo</th>\n",
              "      <th>StockCode</th>\n",
              "      <th>Description</th>\n",
              "      <th>Quantity</th>\n",
              "      <th>InvoiceDate</th>\n",
              "      <th>UnitPrice</th>\n",
              "      <th>CustomerID</th>\n",
              "      <th>Country</th>\n",
              "      <th>Unnamed: 8</th>\n",
              "    </tr>\n",
              "  </thead>\n",
              "  <tbody>\n",
              "    <tr>\n",
              "      <th>0</th>\n",
              "      <td>536365</td>\n",
              "      <td>85123A</td>\n",
              "      <td>WHITE HANGING HEART T-LIGHT HOLDER</td>\n",
              "      <td>6</td>\n",
              "      <td>29-Nov-16</td>\n",
              "      <td>2.550</td>\n",
              "      <td>17850.000</td>\n",
              "      <td>United Kingdom</td>\n",
              "      <td>nan</td>\n",
              "    </tr>\n",
              "    <tr>\n",
              "      <th>1</th>\n",
              "      <td>536365</td>\n",
              "      <td>71053</td>\n",
              "      <td>WHITE METAL LANTERN</td>\n",
              "      <td>6</td>\n",
              "      <td>29-Nov-16</td>\n",
              "      <td>3.390</td>\n",
              "      <td>17850.000</td>\n",
              "      <td>United Kingdom</td>\n",
              "      <td>nan</td>\n",
              "    </tr>\n",
              "    <tr>\n",
              "      <th>2</th>\n",
              "      <td>536365</td>\n",
              "      <td>84406B</td>\n",
              "      <td>CREAM CUPID HEARTS COAT HANGER</td>\n",
              "      <td>8</td>\n",
              "      <td>29-Nov-16</td>\n",
              "      <td>2.750</td>\n",
              "      <td>17850.000</td>\n",
              "      <td>United Kingdom</td>\n",
              "      <td>nan</td>\n",
              "    </tr>\n",
              "    <tr>\n",
              "      <th>3</th>\n",
              "      <td>536365</td>\n",
              "      <td>84029G</td>\n",
              "      <td>KNITTED UNION FLAG HOT WATER BOTTLE</td>\n",
              "      <td>6</td>\n",
              "      <td>29-Nov-16</td>\n",
              "      <td>3.390</td>\n",
              "      <td>17850.000</td>\n",
              "      <td>United Kingdom</td>\n",
              "      <td>nan</td>\n",
              "    </tr>\n",
              "    <tr>\n",
              "      <th>4</th>\n",
              "      <td>536365</td>\n",
              "      <td>84029E</td>\n",
              "      <td>RED WOOLLY HOTTIE WHITE HEART.</td>\n",
              "      <td>6</td>\n",
              "      <td>29-Nov-16</td>\n",
              "      <td>3.390</td>\n",
              "      <td>17850.000</td>\n",
              "      <td>United Kingdom</td>\n",
              "      <td>nan</td>\n",
              "    </tr>\n",
              "  </tbody>\n",
              "</table>\n",
              "</div>"
            ],
            "text/plain": [
              "  InvoiceNo StockCode  ...         Country  Unnamed: 8\n",
              "0    536365    85123A  ...  United Kingdom         nan\n",
              "1    536365     71053  ...  United Kingdom         nan\n",
              "2    536365    84406B  ...  United Kingdom         nan\n",
              "3    536365    84029G  ...  United Kingdom         nan\n",
              "4    536365    84029E  ...  United Kingdom         nan\n",
              "\n",
              "[5 rows x 9 columns]"
            ]
          },
          "metadata": {
            "tags": []
          },
          "execution_count": 7
        }
      ]
    },
    {
      "cell_type": "markdown",
      "metadata": {
        "id": "M0XZw0DHIccA"
      },
      "source": [
        "# 1.0 PASSO 1 - DESCRIPTION OF THE DATA"
      ]
    },
    {
      "cell_type": "code",
      "metadata": {
        "id": "XdoVIRfrIw-j"
      },
      "source": [
        "#Copia do dataframe\n",
        "df1=df_raw.copy()"
      ],
      "execution_count": 8,
      "outputs": []
    },
    {
      "cell_type": "markdown",
      "metadata": {
        "id": "ucvRcvY6IrH4"
      },
      "source": [
        "##1.1 Rename Columns"
      ]
    },
    {
      "cell_type": "code",
      "metadata": {
        "id": "UcyqLj73I36Y",
        "colab": {
          "base_uri": "https://localhost:8080/",
          "height": 111
        },
        "outputId": "b49dfb6e-2ecb-4504-d12c-a3c260b2d885"
      },
      "source": [
        "names={ 'InvoiceNo':'NumeroFatura','StockCode':'CodigoStock','Description':'Produto',\n",
        "        'Quantity':'Quantidade','InvoiceDate':'Data','UnitPrice':'Preco',\n",
        "        'CustomerID':'IdCliente','Country':'Pais','Unnamed: 8':'Unnamed: 8'}\n",
        "\n",
        "df1=df1.rename(columns=names)\n",
        "df1.head(2)"
      ],
      "execution_count": 9,
      "outputs": [
        {
          "output_type": "execute_result",
          "data": {
            "text/html": [
              "<div>\n",
              "<style scoped>\n",
              "    .dataframe tbody tr th:only-of-type {\n",
              "        vertical-align: middle;\n",
              "    }\n",
              "\n",
              "    .dataframe tbody tr th {\n",
              "        vertical-align: top;\n",
              "    }\n",
              "\n",
              "    .dataframe thead th {\n",
              "        text-align: right;\n",
              "    }\n",
              "</style>\n",
              "<table border=\"1\" class=\"dataframe\">\n",
              "  <thead>\n",
              "    <tr style=\"text-align: right;\">\n",
              "      <th></th>\n",
              "      <th>NumeroFatura</th>\n",
              "      <th>CodigoStock</th>\n",
              "      <th>Produto</th>\n",
              "      <th>Quantidade</th>\n",
              "      <th>Data</th>\n",
              "      <th>Preco</th>\n",
              "      <th>IdCliente</th>\n",
              "      <th>Pais</th>\n",
              "      <th>Unnamed: 8</th>\n",
              "    </tr>\n",
              "  </thead>\n",
              "  <tbody>\n",
              "    <tr>\n",
              "      <th>0</th>\n",
              "      <td>536365</td>\n",
              "      <td>85123A</td>\n",
              "      <td>WHITE HANGING HEART T-LIGHT HOLDER</td>\n",
              "      <td>6</td>\n",
              "      <td>29-Nov-16</td>\n",
              "      <td>2.550</td>\n",
              "      <td>17850.000</td>\n",
              "      <td>United Kingdom</td>\n",
              "      <td>nan</td>\n",
              "    </tr>\n",
              "    <tr>\n",
              "      <th>1</th>\n",
              "      <td>536365</td>\n",
              "      <td>71053</td>\n",
              "      <td>WHITE METAL LANTERN</td>\n",
              "      <td>6</td>\n",
              "      <td>29-Nov-16</td>\n",
              "      <td>3.390</td>\n",
              "      <td>17850.000</td>\n",
              "      <td>United Kingdom</td>\n",
              "      <td>nan</td>\n",
              "    </tr>\n",
              "  </tbody>\n",
              "</table>\n",
              "</div>"
            ],
            "text/plain": [
              "  NumeroFatura CodigoStock  ...            Pais  Unnamed: 8\n",
              "0       536365      85123A  ...  United Kingdom         nan\n",
              "1       536365       71053  ...  United Kingdom         nan\n",
              "\n",
              "[2 rows x 9 columns]"
            ]
          },
          "metadata": {
            "tags": []
          },
          "execution_count": 9
        }
      ]
    },
    {
      "cell_type": "markdown",
      "metadata": {
        "id": "KgCn8dAOI-aY"
      },
      "source": [
        "##1.2 Data Dimensions"
      ]
    },
    {
      "cell_type": "code",
      "metadata": {
        "id": "gcnarEM4I_AM",
        "colab": {
          "base_uri": "https://localhost:8080/"
        },
        "outputId": "73d13135-2b82-4211-dec4-6094eef71a70"
      },
      "source": [
        "print('Número de linhas: {}'.format(df1.shape[0]))\n",
        "print('Número de columnas: {}'.format(df1.shape[1]))"
      ],
      "execution_count": 10,
      "outputs": [
        {
          "output_type": "stream",
          "text": [
            "Número de linhas: 541909\n",
            "Número de columnas: 9\n"
          ],
          "name": "stdout"
        }
      ]
    },
    {
      "cell_type": "markdown",
      "metadata": {
        "id": "v8VI0DTjJC2Z"
      },
      "source": [
        "##1.3 Data Types"
      ]
    },
    {
      "cell_type": "code",
      "metadata": {
        "id": "NvykRIwwJDm2",
        "colab": {
          "base_uri": "https://localhost:8080/"
        },
        "outputId": "1329f0d6-31b2-4e89-b6ee-4821a844ffa9"
      },
      "source": [
        "df1.dtypes"
      ],
      "execution_count": 11,
      "outputs": [
        {
          "output_type": "execute_result",
          "data": {
            "text/plain": [
              "NumeroFatura     object\n",
              "CodigoStock      object\n",
              "Produto          object\n",
              "Quantidade        int64\n",
              "Data             object\n",
              "Preco           float64\n",
              "IdCliente       float64\n",
              "Pais             object\n",
              "Unnamed: 8      float64\n",
              "dtype: object"
            ]
          },
          "metadata": {
            "tags": []
          },
          "execution_count": 11
        }
      ]
    },
    {
      "cell_type": "markdown",
      "metadata": {
        "id": "wE9ZX6aTJG84"
      },
      "source": [
        "##1.4 Check NA"
      ]
    },
    {
      "cell_type": "code",
      "metadata": {
        "colab": {
          "base_uri": "https://localhost:8080/"
        },
        "id": "lnTlOGIUqB6t",
        "outputId": "03da9f68-99b8-472c-a14c-e9c9e7c8655e"
      },
      "source": [
        "df1.isna().sum()"
      ],
      "execution_count": 12,
      "outputs": [
        {
          "output_type": "execute_result",
          "data": {
            "text/plain": [
              "NumeroFatura         0\n",
              "CodigoStock          0\n",
              "Produto           1454\n",
              "Quantidade           0\n",
              "Data                 0\n",
              "Preco                0\n",
              "IdCliente       135080\n",
              "Pais                 0\n",
              "Unnamed: 8      541909\n",
              "dtype: int64"
            ]
          },
          "metadata": {
            "tags": []
          },
          "execution_count": 12
        }
      ]
    },
    {
      "cell_type": "markdown",
      "metadata": {
        "id": "2ty2lvOQJKc4"
      },
      "source": [
        "##1.5 Fillout NA"
      ]
    },
    {
      "cell_type": "code",
      "metadata": {
        "colab": {
          "base_uri": "https://localhost:8080/"
        },
        "id": "0HFj7lFbWS4V",
        "outputId": "dc8c8b31-d4fd-48fa-c053-20478ebcd802"
      },
      "source": [
        "df1=df1[df1['Produto'].isnull()==False]\n",
        "df1=df1.drop(['Unnamed: 8'],axis=1)\n",
        "df1['Quantidade']=df1['Quantidade'].apply(lambda x: x*(-1) if x<=0 else x)\n",
        "df1['Preco']=df1['Preco'].apply(lambda x: x*(-1) if x<0 else x)\n",
        "df1.isna().sum()"
      ],
      "execution_count": 13,
      "outputs": [
        {
          "output_type": "execute_result",
          "data": {
            "text/plain": [
              "NumeroFatura         0\n",
              "CodigoStock          0\n",
              "Produto              0\n",
              "Quantidade           0\n",
              "Data                 0\n",
              "Preco                0\n",
              "IdCliente       133626\n",
              "Pais                 0\n",
              "dtype: int64"
            ]
          },
          "metadata": {
            "tags": []
          },
          "execution_count": 13
        }
      ]
    },
    {
      "cell_type": "markdown",
      "metadata": {
        "id": "OlJFVvHqOJeA"
      },
      "source": [
        "##1.6 Change types"
      ]
    },
    {
      "cell_type": "code",
      "metadata": {
        "id": "SraSxqWNOTsj"
      },
      "source": [
        "#Data\n",
        "df1['Data']=pd.to_datetime(df1['Data'])"
      ],
      "execution_count": 14,
      "outputs": []
    },
    {
      "cell_type": "markdown",
      "metadata": {
        "id": "zD9IibEiJScY"
      },
      "source": [
        "##1.7 Descriptive Statistical"
      ]
    },
    {
      "cell_type": "code",
      "metadata": {
        "id": "zloVBKPSJS9-"
      },
      "source": [
        "#num_attributes and cat_attributes\n",
        "num_attributes=df1.select_dtypes(include=['int64','float64'])\n",
        "cat_attributes=df1.select_dtypes(exclude=['int64','float64','datetime64[ns]'])"
      ],
      "execution_count": 15,
      "outputs": []
    },
    {
      "cell_type": "markdown",
      "metadata": {
        "id": "MjhMzg-7JxR6"
      },
      "source": [
        "###1.7.1 Numerical Attributes"
      ]
    },
    {
      "cell_type": "code",
      "metadata": {
        "colab": {
          "base_uri": "https://localhost:8080/",
          "height": 142
        },
        "id": "apajD5W0wUhV",
        "outputId": "001817bc-b467-4e6c-d3f2-1bf57d427c02"
      },
      "source": [
        "#Central tendency=mean,median\n",
        "ct1=pd.DataFrame(num_attributes.apply(np.mean)).T\n",
        "ct2=pd.DataFrame(num_attributes.apply(np.median)).T\n",
        "\n",
        "# Dispersion=std,min,max,range,skew,kurtosis\n",
        "d1=pd.DataFrame(num_attributes.apply(np.std)).T\n",
        "d2=pd.DataFrame(num_attributes.apply(min)).T\n",
        "d3=pd.DataFrame(num_attributes.apply(max)).T\n",
        "d4=pd.DataFrame(num_attributes.apply(lambda x:x.mean()-x.min())).T\n",
        "d5=pd.DataFrame(num_attributes.apply(lambda x:x.skew())).T\n",
        "d6=pd.DataFrame(num_attributes.apply(lambda x:x.kurtosis())).T\n",
        "\n",
        "#Concatenate\n",
        "aux=pd.concat([d2,d3,d4,ct1,ct2,d1,d5,d6]).T.reset_index()  \n",
        "aux.columns=(['Attributes','Min','Max','Range','Mean','Median','Std','Skew','Kurtosis'])   \n",
        "aux"
      ],
      "execution_count": 16,
      "outputs": [
        {
          "output_type": "execute_result",
          "data": {
            "text/html": [
              "<div>\n",
              "<style scoped>\n",
              "    .dataframe tbody tr th:only-of-type {\n",
              "        vertical-align: middle;\n",
              "    }\n",
              "\n",
              "    .dataframe tbody tr th {\n",
              "        vertical-align: top;\n",
              "    }\n",
              "\n",
              "    .dataframe thead th {\n",
              "        text-align: right;\n",
              "    }\n",
              "</style>\n",
              "<table border=\"1\" class=\"dataframe\">\n",
              "  <thead>\n",
              "    <tr style=\"text-align: right;\">\n",
              "      <th></th>\n",
              "      <th>Attributes</th>\n",
              "      <th>Min</th>\n",
              "      <th>Max</th>\n",
              "      <th>Range</th>\n",
              "      <th>Mean</th>\n",
              "      <th>Median</th>\n",
              "      <th>Std</th>\n",
              "      <th>Skew</th>\n",
              "      <th>Kurtosis</th>\n",
              "    </tr>\n",
              "  </thead>\n",
              "  <tbody>\n",
              "    <tr>\n",
              "      <th>0</th>\n",
              "      <td>Quantidade</td>\n",
              "      <td>1.000</td>\n",
              "      <td>80995.000</td>\n",
              "      <td>10.225</td>\n",
              "      <td>11.225</td>\n",
              "      <td>3.000</td>\n",
              "      <td>217.930</td>\n",
              "      <td>337.220</td>\n",
              "      <td>120354.086</td>\n",
              "    </tr>\n",
              "    <tr>\n",
              "      <th>1</th>\n",
              "      <td>Preco</td>\n",
              "      <td>0.000</td>\n",
              "      <td>38970.000</td>\n",
              "      <td>4.705</td>\n",
              "      <td>4.705</td>\n",
              "      <td>2.080</td>\n",
              "      <td>96.886</td>\n",
              "      <td>197.294</td>\n",
              "      <td>58854.825</td>\n",
              "    </tr>\n",
              "    <tr>\n",
              "      <th>2</th>\n",
              "      <td>IdCliente</td>\n",
              "      <td>12346.000</td>\n",
              "      <td>18287.000</td>\n",
              "      <td>2941.691</td>\n",
              "      <td>15287.691</td>\n",
              "      <td>nan</td>\n",
              "      <td>1713.598</td>\n",
              "      <td>0.030</td>\n",
              "      <td>-1.180</td>\n",
              "    </tr>\n",
              "  </tbody>\n",
              "</table>\n",
              "</div>"
            ],
            "text/plain": [
              "   Attributes       Min       Max    Range  ...  Median      Std    Skew   Kurtosis\n",
              "0  Quantidade     1.000 80995.000   10.225  ...   3.000  217.930 337.220 120354.086\n",
              "1       Preco     0.000 38970.000    4.705  ...   2.080   96.886 197.294  58854.825\n",
              "2   IdCliente 12346.000 18287.000 2941.691  ...     nan 1713.598   0.030     -1.180\n",
              "\n",
              "[3 rows x 9 columns]"
            ]
          },
          "metadata": {
            "tags": []
          },
          "execution_count": 16
        }
      ]
    },
    {
      "cell_type": "code",
      "metadata": {
        "id": "gHYKFLdjbKBu"
      },
      "source": [
        "df1=df1[df1['Preco']>0]"
      ],
      "execution_count": 17,
      "outputs": []
    },
    {
      "cell_type": "markdown",
      "metadata": {
        "id": "2NLPgZOFKHLI"
      },
      "source": [
        "###1.7.2 Categorical attributes\n"
      ]
    },
    {
      "cell_type": "code",
      "metadata": {
        "id": "BtUghqRXKIFG",
        "colab": {
          "base_uri": "https://localhost:8080/"
        },
        "outputId": "aacdee8f-2d9a-4c30-b6f9-814102588886"
      },
      "source": [
        "cat_attributes.apply(lambda x:x.unique().shape[0])"
      ],
      "execution_count": 18,
      "outputs": [
        {
          "output_type": "execute_result",
          "data": {
            "text/plain": [
              "NumeroFatura    24446\n",
              "CodigoStock      3958\n",
              "Produto          4223\n",
              "Pais               38\n",
              "dtype: int64"
            ]
          },
          "metadata": {
            "tags": []
          },
          "execution_count": 18
        }
      ]
    },
    {
      "cell_type": "markdown",
      "metadata": {
        "id": "XzUZ5Z-xK3T_"
      },
      "source": [
        "#2.0 PASSO 2 - FEATURE ENGINEERING"
      ]
    },
    {
      "cell_type": "code",
      "metadata": {
        "id": "GmZYlduZK34F"
      },
      "source": [
        "#copia do dataframe\n",
        "df2=df1.copy()"
      ],
      "execution_count": 19,
      "outputs": []
    },
    {
      "cell_type": "markdown",
      "metadata": {
        "id": "XyU-Tah1LRnn"
      },
      "source": [
        "##2.1 Mapa mental de Hipoteses"
      ]
    },
    {
      "cell_type": "code",
      "metadata": {
        "colab": {
          "base_uri": "https://localhost:8080/",
          "height": 590
        },
        "id": "4xbSFdox9NbR",
        "outputId": "df234ca7-cbd0-488a-bb48-ae7aea8d41bc"
      },
      "source": [
        "Image('/content/All In One Place.png')"
      ],
      "execution_count": 20,
      "outputs": [
        {
          "output_type": "execute_result",
          "data": {
            "image/png": "[encoded data removed]",
            "text/plain": [
              "<IPython.core.display.Image object>"
            ]
          },
          "metadata": {
            "tags": []
          },
          "execution_count": 20
        }
      ]
    },
    {
      "cell_type": "markdown",
      "metadata": {
        "id": "Clp8FrelMYKY"
      },
      "source": [
        "##2.2 Criação das hipoteses"
      ]
    },
    {
      "cell_type": "markdown",
      "metadata": {
        "id": "sH_nWjMBMdAP"
      },
      "source": [
        "### 2.1.1 Hipoteses Temporais"
      ]
    },
    {
      "cell_type": "markdown",
      "metadata": {
        "id": "_y63imwMM1qv"
      },
      "source": [
        "**1.** As vendas aumentam ao longo dos anos"
      ]
    },
    {
      "cell_type": "markdown",
      "metadata": {
        "id": "HgBtk1VRM9qG"
      },
      "source": [
        "**2.** As vendas aumentam nos finais de ano (Setembro)."
      ]
    },
    {
      "cell_type": "markdown",
      "metadata": {
        "id": "uJFpQzqMM-PG"
      },
      "source": [
        " **3.** As vendas aumentam no início do mês"
      ]
    },
    {
      "cell_type": "markdown",
      "metadata": {
        "id": "WlJThrN6QSuW"
      },
      "source": [
        " **4.** As vendas aumentam nos sabádos."
      ]
    },
    {
      "cell_type": "markdown",
      "metadata": {
        "id": "HpegnFUdTLTm"
      },
      "source": [
        "**5.** Clientes mais antigos tendem a comprar mais."
      ]
    },
    {
      "cell_type": "markdown",
      "metadata": {
        "id": "MwwsXAvVMhY3"
      },
      "source": [
        "### 2.1.2 Hipoteses Localidades"
      ]
    },
    {
      "cell_type": "markdown",
      "metadata": {
        "id": "H5i8MLZsNLDw"
      },
      "source": [
        "**1.** O maior volume de compras está entre as regiões do Reino Unido, França  e Alemanha."
      ]
    },
    {
      "cell_type": "markdown",
      "metadata": {
        "id": "S7nqPULlMn53"
      },
      "source": [
        "### 2.1.3 Hipoteses Volumes de vendas"
      ]
    },
    {
      "cell_type": "markdown",
      "metadata": {
        "id": "DQ26N_DJNNTE"
      },
      "source": [
        "**1.** Quanto menor o preço dos produtos maior e a quantidade vendidada"
      ]
    },
    {
      "cell_type": "markdown",
      "metadata": {
        "id": "70ED8lTYNcBX"
      },
      "source": [
        "##2.3 Lista final de hipoteses"
      ]
    },
    {
      "cell_type": "markdown",
      "metadata": {
        "id": "ZuuvvGj4Nh2m"
      },
      "source": [
        "**H1-**As vendas aumentam ao longo dos anos.\n",
        "\n",
        "**H2-**As vendas aumentam nos finais de ano (Setembro).\n",
        "\n",
        "**H3-**As vendas aumentam no início do mês.\n",
        "\n",
        "**H4-**As vendas aumentam nos sabádos.\n",
        "\n",
        "**H5-**Clientes mais antigos tendem a comprar mais.\n",
        "\n",
        "**H6-**O maior volume de compras está entre as regiões do Reino Unido, França  e Alemanha.\n",
        "\n",
        "**H7-**Quanto menor o preço dos produtos maior e a quantidade vendidada."
      ]
    },
    {
      "cell_type": "markdown",
      "metadata": {
        "id": "AVklj13VN6dI"
      },
      "source": [
        "##2.3 Feature Engineering"
      ]
    },
    {
      "cell_type": "code",
      "metadata": {
        "id": "Bby7lUHcODTi"
      },
      "source": [
        "#Ano\n",
        "df2['Ano']=df2['Data'].dt.year\n",
        "\n",
        "#Mes\n",
        "df2['Mes']=df2['Data'].dt.month\n",
        "\n",
        "#Dia\n",
        "df2['Dia']=df2['Data'].dt.day\n",
        "\n",
        "#DiaDaSemana\n",
        "df2['DiaDaSemana']=df2['Data'].dt.dayofweek\n",
        "\n",
        "#ValorDaCompra\n",
        "df2['ValorDaCompra']=df2['Quantidade']*df2['Preco']"
      ],
      "execution_count": 21,
      "outputs": []
    },
    {
      "cell_type": "markdown",
      "metadata": {
        "id": "sR0iJiLkPN_9"
      },
      "source": [
        "#3.0. PASSO 3 - EXPLORATORY DATA ANALYSIS"
      ]
    },
    {
      "cell_type": "code",
      "metadata": {
        "id": "u_Lb_BBdPQCD"
      },
      "source": [
        "#copia do dataframe\n",
        "df3=df2.copy()"
      ],
      "execution_count": 22,
      "outputs": []
    },
    {
      "cell_type": "markdown",
      "metadata": {
        "id": "PAmggbCsPcbd"
      },
      "source": [
        "## 3.1 Univariate Analysis"
      ]
    },
    {
      "cell_type": "markdown",
      "metadata": {
        "id": "qJCVx9icPhqe"
      },
      "source": [
        "###3.1.1. Response Variable"
      ]
    },
    {
      "cell_type": "code",
      "metadata": {
        "id": "mka8XN6PPc_T",
        "colab": {
          "base_uri": "https://localhost:8080/",
          "height": 350
        },
        "outputId": "2c94c70f-6fbd-454c-ef67-a708b2fd554c"
      },
      "source": [
        "sns.distplot(df3['ValorDaCompra'])"
      ],
      "execution_count": 23,
      "outputs": [
        {
          "output_type": "stream",
          "text": [
            "/usr/local/lib/python3.7/dist-packages/seaborn/distributions.py:2557: FutureWarning: `distplot` is a deprecated function and will be removed in a future version. Please adapt your code to use either `displot` (a figure-level function with similar flexibility) or `histplot` (an axes-level function for histograms).\n",
            "  warnings.warn(msg, FutureWarning)\n"
          ],
          "name": "stderr"
        },
        {
          "output_type": "execute_result",
          "data": {
            "text/plain": [
              "<matplotlib.axes._subplots.AxesSubplot at 0x7f133857bfd0>"
            ]
          },
          "metadata": {
            "tags": []
          },
          "execution_count": 23
        },
        {
          "output_type": "display_data",
          "data": {
            "image/png": "[encoded data removed]",
            "text/plain": [
              "<Figure size 432x288 with 1 Axes>"
            ]
          },
          "metadata": {
            "tags": [],
            "needs_background": "light"
          }
        }
      ]
    },
    {
      "cell_type": "markdown",
      "metadata": {
        "id": "pqPsPzXOPmKu"
      },
      "source": [
        "###3.1.2. Numerical Variable"
      ]
    },
    {
      "cell_type": "code",
      "metadata": {
        "colab": {
          "base_uri": "https://localhost:8080/",
          "height": 830
        },
        "id": "XYT_j6Fx87ua",
        "outputId": "47ea4e53-5214-48ea-c068-87ca5ea16dc2"
      },
      "source": [
        "#Quantidade\n",
        "plt.subplot(3,2,1)\n",
        "ax=sns.distplot(df3['Quantidade'])\n",
        "ax.figure.set_size_inches(12,10)\n",
        "\n",
        "#Preco\n",
        "plt.subplot(3,2,2)\n",
        "ax=sns.distplot(df3['Preco'])\n",
        "\n",
        "#Ano\n",
        "plt.subplot(3,2,3)\n",
        "ax=sns.distplot(df3['Ano'])\n",
        "\n",
        "#Mes\n",
        "plt.subplot(3,2,4)\n",
        "ax=sns.distplot(df3['Mes'])\n",
        "\n",
        "#Dia\n",
        "plt.subplot(3,2,5)\n",
        "ax=sns.distplot(df3['Dia'])\n",
        "\n",
        "#DiaDaSemana\n",
        "plt.subplot(3,2,6)\n",
        "ax=sns.distplot(df3['DiaDaSemana'])"
      ],
      "execution_count": 24,
      "outputs": [
        {
          "output_type": "stream",
          "text": [
            "/usr/local/lib/python3.7/dist-packages/seaborn/distributions.py:2557: FutureWarning: `distplot` is a deprecated function and will be removed in a future version. Please adapt your code to use either `displot` (a figure-level function with similar flexibility) or `histplot` (an axes-level function for histograms).\n",
            "  warnings.warn(msg, FutureWarning)\n",
            "/usr/local/lib/python3.7/dist-packages/seaborn/distributions.py:2557: FutureWarning: `distplot` is a deprecated function and will be removed in a future version. Please adapt your code to use either `displot` (a figure-level function with similar flexibility) or `histplot` (an axes-level function for histograms).\n",
            "  warnings.warn(msg, FutureWarning)\n",
            "/usr/local/lib/python3.7/dist-packages/seaborn/distributions.py:2557: FutureWarning: `distplot` is a deprecated function and will be removed in a future version. Please adapt your code to use either `displot` (a figure-level function with similar flexibility) or `histplot` (an axes-level function for histograms).\n",
            "  warnings.warn(msg, FutureWarning)\n",
            "/usr/local/lib/python3.7/dist-packages/seaborn/distributions.py:2557: FutureWarning: `distplot` is a deprecated function and will be removed in a future version. Please adapt your code to use either `displot` (a figure-level function with similar flexibility) or `histplot` (an axes-level function for histograms).\n",
            "  warnings.warn(msg, FutureWarning)\n",
            "/usr/local/lib/python3.7/dist-packages/seaborn/distributions.py:2557: FutureWarning: `distplot` is a deprecated function and will be removed in a future version. Please adapt your code to use either `displot` (a figure-level function with similar flexibility) or `histplot` (an axes-level function for histograms).\n",
            "  warnings.warn(msg, FutureWarning)\n",
            "/usr/local/lib/python3.7/dist-packages/seaborn/distributions.py:2557: FutureWarning: `distplot` is a deprecated function and will be removed in a future version. Please adapt your code to use either `displot` (a figure-level function with similar flexibility) or `histplot` (an axes-level function for histograms).\n",
            "  warnings.warn(msg, FutureWarning)\n"
          ],
          "name": "stderr"
        },
        {
          "output_type": "display_data",
          "data": {
            "image/png": "[encoded data removed]",
            "text/plain": [
              "<Figure size 864x720 with 6 Axes>"
            ]
          },
          "metadata": {
            "tags": [],
            "needs_background": "light"
          }
        }
      ]
    },
    {
      "cell_type": "markdown",
      "metadata": {
        "id": "Aga1DnIxSul9"
      },
      "source": [
        "###3.1.3. Categorical Variable"
      ]
    },
    {
      "cell_type": "code",
      "metadata": {
        "colab": {
          "base_uri": "https://localhost:8080/",
          "height": 638
        },
        "id": "IAx2YRTz-yfA",
        "outputId": "88162cdb-c477-4450-a1a8-00caa9aa4d4c"
      },
      "source": [
        "#Produto\n",
        "plt.subplot(2,2,1)\n",
        "aux=pd.DataFrame(data=df3.groupby('Produto')['Quantidade'].sum(),columns=['Quantidade']).sort_values('Quantidade',ascending=False).head(5)\n",
        "ax=sns.barplot(y=aux.index,x='Quantidade',data=aux)\n",
        "ax.figure.set_size_inches(14,10)\n",
        "ax.set_title('Produtos mais vendidos')\n",
        "\n",
        "#IdCliente\n",
        "plt.subplot(2,2,2)\n",
        "aux2=pd.DataFrame(data=df3.groupby('IdCliente')['ValorDaCompra'].sum(),columns=['ValorDaCompra']).sort_values('ValorDaCompra',ascending=False).head(5)\n",
        "ax=sns.barplot(x=aux2.index,y='ValorDaCompra',data=aux2)\n",
        "ax.set_title('Maiores clientes')\n",
        "\n",
        "#NumeroFatura\n",
        "plt.subplot(2,2,3)\n",
        "aux3=pd.DataFrame(data=df3.groupby('NumeroFatura')['ValorDaCompra'].sum(),columns=['ValorDaCompra']).sort_values('ValorDaCompra',ascending=False).head(5)\n",
        "ax=sns.barplot(x=aux3.index,y='ValorDaCompra',data=aux3)\n",
        "ax.set_title('Faturas com maiores valores')\n",
        "\n",
        "#CodigoStock\n",
        "plt.subplot(2,2,4)\n",
        "aux4=pd.DataFrame(data=df3.groupby('CodigoStock')['ValorDaCompra'].sum(),columns=['ValorDaCompra']).sort_values('ValorDaCompra',ascending=False).head(5)\n",
        "ax=sns.barplot(x=aux4.index,y='ValorDaCompra',data=aux4)\n",
        "ax.set_title('Codigo do estoque mais utilizado')"
      ],
      "execution_count": 25,
      "outputs": [
        {
          "output_type": "execute_result",
          "data": {
            "text/plain": [
              "Text(0.5, 1.0, 'Codigo do estoque mais utilizado')"
            ]
          },
          "metadata": {
            "tags": []
          },
          "execution_count": 25
        },
        {
          "output_type": "display_data",
          "data": {
            "image/png": "[encoded data removed]",
            "text/plain": [
              "<Figure size 1008x720 with 4 Axes>"
            ]
          },
          "metadata": {
            "tags": [],
            "needs_background": "light"
          }
        }
      ]
    },
    {
      "cell_type": "markdown",
      "metadata": {
        "id": "VHWqLgWqS9AN"
      },
      "source": [
        "## 3.2 Bivariate Analysis"
      ]
    },
    {
      "cell_type": "markdown",
      "metadata": {
        "id": "sK7v7hDCTEn1"
      },
      "source": [
        "### ***H1***.As vendas aumentam ao longo dos anos.(TRUE)  \n"
      ]
    },
    {
      "cell_type": "code",
      "metadata": {
        "colab": {
          "base_uri": "https://localhost:8080/",
          "height": 312
        },
        "id": "_GXj729JAe1p",
        "outputId": "67a81538-0530-4b14-a513-295bce3c2b27"
      },
      "source": [
        "aux=df3[['Mes','Ano','ValorDaCompra']].groupby(['Ano','Mes']).sum().reset_index()\n",
        "aux=aux[(aux['Mes']==11) | (aux['Mes']==12)]\n",
        "aux=aux.groupby('Ano').sum().reset_index()\n",
        "\n",
        "ax=sns.barplot(x='Ano',y='ValorDaCompra',data=aux)\n",
        "ax.set_title('Vendas nos meses de Novembro e Dezembro')"
      ],
      "execution_count": 26,
      "outputs": [
        {
          "output_type": "execute_result",
          "data": {
            "text/plain": [
              "Text(0.5, 1.0, 'Vendas nos meses de Novembro e Dezembro')"
            ]
          },
          "metadata": {
            "tags": []
          },
          "execution_count": 26
        },
        {
          "output_type": "display_data",
          "data": {
            "image/png": "[encoded data removed]",
            "text/plain": [
              "<Figure size 432x288 with 1 Axes>"
            ]
          },
          "metadata": {
            "tags": [],
            "needs_background": "light"
          }
        }
      ]
    },
    {
      "cell_type": "markdown",
      "metadata": {
        "id": "ty4DOZo7TZ9F"
      },
      "source": [
        "### ***H2***. As vendas aumentam nos finais de ano (Setembro). (TRUE)"
      ]
    },
    {
      "cell_type": "code",
      "metadata": {
        "id": "UF2uE3tZTvoV",
        "colab": {
          "base_uri": "https://localhost:8080/",
          "height": 312
        },
        "outputId": "43e6fd5a-8ab6-4eb5-f0c4-9a1aa6a1e1be"
      },
      "source": [
        "aux=df3[df3['Ano']==2017]\n",
        "aux=aux.groupby('Mes').sum().reset_index()\n",
        "ax=sns.lineplot(x='Mes',y='ValorDaCompra',data=aux)\n",
        "ax.set_title('Vendas ao longo dos meses de 2017')"
      ],
      "execution_count": 27,
      "outputs": [
        {
          "output_type": "execute_result",
          "data": {
            "text/plain": [
              "Text(0.5, 1.0, 'Vendas ao longo dos meses de 2017')"
            ]
          },
          "metadata": {
            "tags": []
          },
          "execution_count": 27
        },
        {
          "output_type": "display_data",
          "data": {
            "image/png": "[encoded data removed]",
            "text/plain": [
              "<Figure size 432x288 with 1 Axes>"
            ]
          },
          "metadata": {
            "tags": [],
            "needs_background": "light"
          }
        }
      ]
    },
    {
      "cell_type": "markdown",
      "metadata": {
        "id": "otnAxQ38Tc3N"
      },
      "source": [
        "### ***H3***. As vendas aumentam no início do mês.(TRUE)"
      ]
    },
    {
      "cell_type": "code",
      "metadata": {
        "colab": {
          "base_uri": "https://localhost:8080/",
          "height": 296
        },
        "id": "piMdrH3H_Wxg",
        "outputId": "20aa7bef-182e-4d59-effd-533c02cd47bc"
      },
      "source": [
        "aux=df3.groupby('Dia').sum().reset_index()\n",
        "\n",
        "sns.lineplot(x='Dia',y='ValorDaCompra',data=aux)\n",
        "ax.set_title('Soma de vendas por dia ')"
      ],
      "execution_count": 28,
      "outputs": [
        {
          "output_type": "execute_result",
          "data": {
            "text/plain": [
              "Text(0.5, 1.0, 'Soma de vendas por dia ')"
            ]
          },
          "metadata": {
            "tags": []
          },
          "execution_count": 28
        },
        {
          "output_type": "display_data",
          "data": {
            "image/png": "[encoded data removed]",
            "text/plain": [
              "<Figure size 432x288 with 1 Axes>"
            ]
          },
          "metadata": {
            "tags": [],
            "needs_background": "light"
          }
        }
      ]
    },
    {
      "cell_type": "markdown",
      "metadata": {
        "id": "XncS_BNqTeUd"
      },
      "source": [
        "### ***H4***. As vendas aumentam nos sabádos.(FALSE)\n"
      ]
    },
    {
      "cell_type": "code",
      "metadata": {
        "colab": {
          "base_uri": "https://localhost:8080/",
          "height": 312
        },
        "id": "glESdvuO_WPw",
        "outputId": "c82a2a1a-6fdc-49bb-949d-4a19b6449473"
      },
      "source": [
        "aux=df3[['DiaDaSemana','ValorDaCompra']].groupby('DiaDaSemana').sum().reset_index()\n",
        "aux['DiaDaSemana']=aux['DiaDaSemana'].apply(lambda x : 'Domingo' if x==0 else 'Segunda' if x==1 else \n",
        "                                                       'Terca' if x==2 else 'Quarta' if x==3 else 'Quinta' if x==4 else\n",
        "                                                       'Sexta' if x==5 else 'Sabado'  if x==6 else x)\n",
        "\n",
        "ax=sns.lineplot(x='DiaDaSemana',y='ValorDaCompra',data=aux)\n",
        "ax.set_title('Vendas por dia da semana')"
      ],
      "execution_count": 29,
      "outputs": [
        {
          "output_type": "execute_result",
          "data": {
            "text/plain": [
              "Text(0.5, 1.0, 'Vendas por dia da semana')"
            ]
          },
          "metadata": {
            "tags": []
          },
          "execution_count": 29
        },
        {
          "output_type": "display_data",
          "data": {
            "image/png": "[encoded data removed]",
            "text/plain": [
              "<Figure size 432x288 with 1 Axes>"
            ]
          },
          "metadata": {
            "tags": [],
            "needs_background": "light"
          }
        }
      ]
    },
    {
      "cell_type": "markdown",
      "metadata": {
        "id": "yA92tDyiTfbl"
      },
      "source": [
        "### ***H5***.Clientes mais antigos tendem a comprar mais.(FALSE)\n"
      ]
    },
    {
      "cell_type": "code",
      "metadata": {
        "id": "z3vyI88LTxqV",
        "colab": {
          "base_uri": "https://localhost:8080/",
          "height": 298
        },
        "outputId": "9336f763-b734-4ba9-ef0a-7fe5c772751c"
      },
      "source": [
        "aux=df3[['IdCliente','Data','ValorDaCompra']].groupby(['IdCliente','Data']).sum().reset_index()\n",
        "aux=aux.sort_values('Data',ascending=True).reset_index()\n",
        "\n",
        "ax=sns.regplot(x=aux.index,y='ValorDaCompra',data=aux)\n",
        "ax.set_title('Valor da compra no tempo')"
      ],
      "execution_count": 30,
      "outputs": [
        {
          "output_type": "execute_result",
          "data": {
            "text/plain": [
              "Text(0.5, 1.0, 'Valor da compra no tempo')"
            ]
          },
          "metadata": {
            "tags": []
          },
          "execution_count": 30
        },
        {
          "output_type": "display_data",
          "data": {
            "image/png": "[encoded data removed]",
            "text/plain": [
              "<Figure size 432x288 with 1 Axes>"
            ]
          },
          "metadata": {
            "tags": [],
            "needs_background": "light"
          }
        }
      ]
    },
    {
      "cell_type": "markdown",
      "metadata": {
        "id": "gR45ERX5TkWt"
      },
      "source": [
        "### ***H6***.O maior volume de compras está entre as regiões do Reino Unido, França  e Alemanha.(TRUE)\n"
      ]
    },
    {
      "cell_type": "code",
      "metadata": {
        "id": "IQnQAnT8TyR0",
        "colab": {
          "base_uri": "https://localhost:8080/",
          "height": 312
        },
        "outputId": "53a4fcaa-2984-42d4-df5d-d9be45980d66"
      },
      "source": [
        "aux=df3[['Pais','ValorDaCompra']].groupby('Pais').sum().reset_index().sort_values('ValorDaCompra',ascending=False).head(5)\n",
        "\n",
        "ax=sns.barplot(x='ValorDaCompra',y='Pais',data=aux)\n",
        "ax.set_title('Maiores compradores por paises')"
      ],
      "execution_count": 31,
      "outputs": [
        {
          "output_type": "execute_result",
          "data": {
            "text/plain": [
              "Text(0.5, 1.0, 'Maiores compradores por paises')"
            ]
          },
          "metadata": {
            "tags": []
          },
          "execution_count": 31
        },
        {
          "output_type": "display_data",
          "data": {
            "image/png": "[encoded data removed]",
            "text/plain": [
              "<Figure size 432x288 with 1 Axes>"
            ]
          },
          "metadata": {
            "tags": [],
            "needs_background": "light"
          }
        }
      ]
    },
    {
      "cell_type": "markdown",
      "metadata": {
        "id": "07b7kf0eTmHN"
      },
      "source": [
        "### ***H7***.Quanto menor o preço dos produtos maior é a quantidade vendidada. (FALSE)"
      ]
    },
    {
      "cell_type": "code",
      "metadata": {
        "id": "hMZM0eYCTy3M",
        "colab": {
          "base_uri": "https://localhost:8080/",
          "height": 312
        },
        "outputId": "eb9fff3a-8d0f-4f6b-879f-4e7514fa0096"
      },
      "source": [
        "ax=sns.scatterplot(y='Preco',x='Quantidade',data=df3[df3['Quantidade']<10000])\n",
        "ax.set_title('Preco x Quantidade vendida')"
      ],
      "execution_count": 32,
      "outputs": [
        {
          "output_type": "execute_result",
          "data": {
            "text/plain": [
              "Text(0.5, 1.0, 'Preco x Quantidade vendida')"
            ]
          },
          "metadata": {
            "tags": []
          },
          "execution_count": 32
        },
        {
          "output_type": "display_data",
          "data": {
            "image/png": "[encoded data removed]",
            "text/plain": [
              "<Figure size 432x288 with 1 Axes>"
            ]
          },
          "metadata": {
            "tags": [],
            "needs_background": "light"
          }
        }
      ]
    },
    {
      "cell_type": "markdown",
      "metadata": {
        "id": "kow0Z9RYUWGD"
      },
      "source": [
        "### 3.2.1 Summary of hypotheses"
      ]
    },
    {
      "cell_type": "code",
      "metadata": {
        "id": "gbslqyTZUXSM",
        "colab": {
          "base_uri": "https://localhost:8080/"
        },
        "outputId": "040add2f-6d99-48b7-80fe-0da0ea2c39cd"
      },
      "source": [
        "tab=[['Hipoteses','conclusao','Relevancia'],\n",
        "     ['H1','True','Media'],\n",
        "     ['H2','True','Alta'],\n",
        "     ['H3','True','Media'],\n",
        "     ['H4','False','Baixa'],\n",
        "     ['H5','False','Baixa'],\n",
        "     ['H6','True','Baixa'],\n",
        "     ['H7','False','Baixa'],]\n",
        "\n",
        "print(tabulate(tab,headers='firstrow'))"
      ],
      "execution_count": 69,
      "outputs": [
        {
          "output_type": "stream",
          "text": [
            "Hipoteses    conclusao    Relevancia\n",
            "-----------  -----------  ------------\n",
            "H1           True         Media\n",
            "H2           True         Alta\n",
            "H3           True         Media\n",
            "H4           False        Baixa\n",
            "H5           False        Baixa\n",
            "H6           True         Baixa\n",
            "H7           False        Baixa\n"
          ],
          "name": "stdout"
        }
      ]
    },
    {
      "cell_type": "markdown",
      "metadata": {
        "id": "MJOXC0zsUrRs"
      },
      "source": [
        "## 3.3 Multivariate Analysis"
      ]
    },
    {
      "cell_type": "markdown",
      "metadata": {
        "id": "KuLWx92_Uxmk"
      },
      "source": [
        "###3.3.1. Numerical Atributes"
      ]
    },
    {
      "cell_type": "code",
      "metadata": {
        "id": "bedIbV3EUr1a",
        "colab": {
          "base_uri": "https://localhost:8080/",
          "height": 368
        },
        "outputId": "d7bff9f7-bdb1-4b23-d194-ab8d63052ce0"
      },
      "source": [
        "NumericalCorrelation(df3[['Quantidade','Preco','Ano','Mes','Dia','DiaDaSemana','ValorDaCompra']],df3)"
      ],
      "execution_count": 34,
      "outputs": [
        {
          "output_type": "execute_result",
          "data": {
            "text/plain": [
              "<matplotlib.axes._subplots.AxesSubplot at 0x7f132c1c7250>"
            ]
          },
          "metadata": {
            "tags": []
          },
          "execution_count": 34
        },
        {
          "output_type": "display_data",
          "data": {
            "image/png": "[encoded data removed]",
            "text/plain": [
              "<Figure size 576x288 with 2 Axes>"
            ]
          },
          "metadata": {
            "tags": [],
            "needs_background": "light"
          }
        }
      ]
    },
    {
      "cell_type": "markdown",
      "metadata": {
        "id": "uOzUB1c4U6_M"
      },
      "source": [
        "###3.3.2. Categorical Atributes"
      ]
    },
    {
      "cell_type": "code",
      "metadata": {
        "id": "EJWBpLITU7gh",
        "colab": {
          "base_uri": "https://localhost:8080/",
          "height": 111
        },
        "outputId": "24d9bdb1-4309-432d-a6af-313370e61d00"
      },
      "source": [
        "lista=CategoricalCorrelation(df3[['Pais','Produto']])\n",
        "\n",
        "d=pd.DataFrame({'Pais':                           lista[0],\n",
        "                'Produto':                        lista[1]                             \n",
        "                })\n",
        "\n",
        "d=d.set_index(d.columns)\n",
        "\n",
        "d.head()"
      ],
      "execution_count": 35,
      "outputs": [
        {
          "output_type": "execute_result",
          "data": {
            "text/html": [
              "<div>\n",
              "<style scoped>\n",
              "    .dataframe tbody tr th:only-of-type {\n",
              "        vertical-align: middle;\n",
              "    }\n",
              "\n",
              "    .dataframe tbody tr th {\n",
              "        vertical-align: top;\n",
              "    }\n",
              "\n",
              "    .dataframe thead th {\n",
              "        text-align: right;\n",
              "    }\n",
              "</style>\n",
              "<table border=\"1\" class=\"dataframe\">\n",
              "  <thead>\n",
              "    <tr style=\"text-align: right;\">\n",
              "      <th></th>\n",
              "      <th>Pais</th>\n",
              "      <th>Produto</th>\n",
              "    </tr>\n",
              "  </thead>\n",
              "  <tbody>\n",
              "    <tr>\n",
              "      <th>Pais</th>\n",
              "      <td>1.000</td>\n",
              "      <td>0.112</td>\n",
              "    </tr>\n",
              "    <tr>\n",
              "      <th>Produto</th>\n",
              "      <td>0.112</td>\n",
              "      <td>1.004</td>\n",
              "    </tr>\n",
              "  </tbody>\n",
              "</table>\n",
              "</div>"
            ],
            "text/plain": [
              "         Pais  Produto\n",
              "Pais    1.000    0.112\n",
              "Produto 0.112    1.004"
            ]
          },
          "metadata": {
            "tags": []
          },
          "execution_count": 35
        }
      ]
    },
    {
      "cell_type": "markdown",
      "metadata": {
        "id": "01iSNySzVJmM"
      },
      "source": [
        "#4.0. PASSO 4 - DATA PREPARATION"
      ]
    },
    {
      "cell_type": "code",
      "metadata": {
        "id": "NM3kNzKHVKHC"
      },
      "source": [
        "#copia do dataframe\n",
        "df4=df3.copy()"
      ],
      "execution_count": 36,
      "outputs": []
    },
    {
      "cell_type": "markdown",
      "metadata": {
        "id": "dPeK1w55Vg8E"
      },
      "source": [
        "##4.2. Rescaling"
      ]
    },
    {
      "cell_type": "code",
      "metadata": {
        "id": "jyzdgpDqVhdS"
      },
      "source": [
        "rs=RobustScaler()\n",
        "mm=MinMaxScaler()\n",
        "\n",
        "#RobustScaler\n",
        "#Quantidade\n",
        "df4['Quantidade']=rs.fit_transform(df4[['Quantidade']].values)\n",
        "\n",
        "\n",
        "#MinMaxScaler\n",
        "#Ano\n",
        "df4['Ano']=mm.fit_transform(df4[['Ano']])\n",
        "\n",
        "#Mes\n",
        "df4['Mes']=mm.fit_transform(df4[['Mes']].values)\n",
        "\n",
        "#Dia\n",
        "df4['Dia']=mm.fit_transform(df4[['Dia']].values)\n",
        "\n",
        "#Preco\n",
        "df4['Preco']=np.log1p(df4['Preco'])\n",
        "\n",
        "#ValorDaCompra\n",
        "df4['ValorDaCompra']=np.log1p(df4['ValorDaCompra'])"
      ],
      "execution_count": 37,
      "outputs": []
    },
    {
      "cell_type": "markdown",
      "metadata": {
        "id": "0gLyVzvLVx5E"
      },
      "source": [
        "## 4.3. Transformation"
      ]
    },
    {
      "cell_type": "markdown",
      "metadata": {
        "id": "QO5psljeV2hs"
      },
      "source": [
        "###4.3.1. Encoding"
      ]
    },
    {
      "cell_type": "code",
      "metadata": {
        "id": "NA3SF232vtFc"
      },
      "source": [
        "#Label Enconding\n",
        "le=LabelEncoder()\n",
        "#NumeroFatura\n",
        "df4['NumeroFatura']=le.fit_transform(df4['NumeroFatura'])\n",
        "\n",
        "#CodigoStock\n",
        "df4['CodigoStock']=le.fit_transform(df4['CodigoStock'])\n",
        "\n",
        "#Produto\n",
        "df4['Produto']=le.fit_transform(df4['Produto'])\n",
        "\n",
        "#Pais\n",
        "df4['Pais']=le.fit_transform(df4['Pais'])"
      ],
      "execution_count": 38,
      "outputs": []
    },
    {
      "cell_type": "markdown",
      "metadata": {
        "id": "Oq-HxYiXWSP0"
      },
      "source": [
        "###4.3.2. Nature transformation"
      ]
    },
    {
      "cell_type": "code",
      "metadata": {
        "id": "7JxxgR3LWS6B"
      },
      "source": [
        "#Mes\n",
        "df4['MesSin']=df4['Mes'].apply(lambda x:np.sin(x*(2.*np.pi/12)))\n",
        "df4['MesCos']=df4['Mes'].apply(lambda x:np.cos(x*(2.*np.pi/12)))\n",
        "\n",
        "#Dia\n",
        "df4['DiaSin']=df4['Dia'].apply(lambda x:np.sin(x*(2.*np.pi/30)))\n",
        "df4['DiaCos']=df4['Dia'].apply(lambda x:np.cos(x*(2.*np.pi/30)))\n",
        "\n",
        "#DiaDaSemana\n",
        "df4['DiaDaSemanaSin']=df4['DiaDaSemana'].apply(lambda x:np.sin(x*(2.*np.pi/7)))\n",
        "df4['DiaDaSemanaCos']=df4['DiaDaSemana'].apply(lambda x:np.cos(x*(2.*np.pi/7)))\n",
        "\n",
        "df4=df4.drop(['Mes','Dia','DiaDaSemana'],axis=1)"
      ],
      "execution_count": 39,
      "outputs": []
    },
    {
      "cell_type": "markdown",
      "metadata": {
        "id": "tuF55r7hXLRT"
      },
      "source": [
        "#5.0. PASSO 5 - MACHINE LEARNING MODELLING"
      ]
    },
    {
      "cell_type": "code",
      "metadata": {
        "id": "Nis1hfezXL9M",
        "colab": {
          "base_uri": "https://localhost:8080/",
          "height": 69
        },
        "outputId": "b07be9a0-5d69-4824-cf77-9d0b6c55a1ff"
      },
      "source": [
        "#Copy dataframe\n",
        "df5=df4[['NumeroFatura', 'CodigoStock', 'Produto']].copy()\n",
        "\n",
        "#Dimensionality reduction\n",
        "pca = PCA(n_components=2)\n",
        "pca_reduction=pca.fit_transform(df5) \n",
        "pca_reduction=pd.DataFrame(data=pca_reduction,columns=['A','B'])\n",
        "\n",
        "#Defining number of clusters\n",
        "sse = []\n",
        "for k in range(1, 13):\n",
        "    kmeans = KMeans(n_clusters=k)\n",
        "    kmeans.fit(pca_reduction)\n",
        "    sse.append(kmeans.inertia_)\n",
        "\n",
        "kl = KneeLocator(range(1, 13), sse, curve=\"convex\", direction=\"decreasing\" )\n",
        "n_clusters=int(kl.elbow)\n",
        "print('Número de clusters: {}'.format(n_clusters))"
      ],
      "execution_count": 40,
      "outputs": [
        {
          "output_type": "execute_result",
          "data": {
            "application/vnd.google.colaboratory.intrinsic+json": {
              "type": "string"
            },
            "text/plain": [
              "'#Defining number of clusters\\nsse = []\\nfor k in range(1, 13):\\n    kmeans = KMeans(n_clusters=k)\\n    kmeans.fit(pca_reduction)\\n    sse.append(kmeans.inertia_)\\n\\nkl = KneeLocator(range(1, 13), sse, curve=\"convex\", direction=\"decreasing\" )\\nn_clusters=int(kl.elbow)\\nprint(\\'Número de clusters: {}\\'.format(n_clusters))'"
            ]
          },
          "metadata": {
            "tags": []
          },
          "execution_count": 40
        }
      ]
    },
    {
      "cell_type": "markdown",
      "metadata": {
        "id": "Dq4lVVsUXjvL"
      },
      "source": [
        "##5.1. Kmeans"
      ]
    },
    {
      "cell_type": "code",
      "metadata": {
        "id": "W0cQawk5XlJs",
        "colab": {
          "base_uri": "https://localhost:8080/",
          "height": 69
        },
        "outputId": "7c6ef183-f1eb-4e39-e18a-b7c83a601276"
      },
      "source": [
        "#model\n",
        "kmeans=KMeans(n_clusters=n_clusters,init='random')\n",
        "\n",
        "#training\n",
        "kmeans_training=kmeans.fit(pca_reduction)\n",
        "\n",
        "#predictions\n",
        "yhat_kmeans=kmeans_training.predict(pca_reduction)\n",
        "\n",
        "#concat predictions\n",
        "yhat_kmeans=pd.DataFrame(data=yhat_kmeans,columns=['Clustering'])\n",
        "yhat_kmeans=pd.concat([pca_reduction,yhat_kmeans],axis=1)\n",
        "\n",
        "#plot clustering\n",
        "kmeans_results=ModelPerformance(2,yhat_kmeans[['A','B']],yhat_kmeans['Clustering'],'kmeans')\n",
        "kmeans_results"
      ],
      "execution_count": 41,
      "outputs": [
        {
          "output_type": "execute_result",
          "data": {
            "application/vnd.google.colaboratory.intrinsic+json": {
              "type": "string"
            },
            "text/plain": [
              "\"#model\\nkmeans=KMeans(n_clusters=n_clusters,init='random')\\n\\n#training\\nkmeans_training=kmeans.fit(pca_reduction)\\n\\n#predictions\\nyhat_kmeans=kmeans_training.predict(pca_reduction)\\n\\n#concat predictions\\nyhat_kmeans=pd.DataFrame(data=yhat_kmeans,columns=['Clustering'])\\nyhat_kmeans=pd.concat([pca_reduction,yhat_kmeans],axis=1)\\n\\n#plot clustering\\nkmeans_results=ModelPerformance(2,yhat_kmeans[['A','B']],yhat_kmeans['Clustering'],'kmeans')\\nkmeans_results\""
            ]
          },
          "metadata": {
            "tags": []
          },
          "execution_count": 41
        }
      ]
    },
    {
      "cell_type": "markdown",
      "metadata": {
        "id": "T__-6ZyvXZgB"
      },
      "source": [
        "###5.1.2. Kmeans cross validation"
      ]
    },
    {
      "cell_type": "code",
      "metadata": {
        "id": "GcPNQSe5Wh-K",
        "colab": {
          "base_uri": "https://localhost:8080/",
          "height": 35
        },
        "outputId": "3a8b3291-80ca-40d3-d38c-416535559d24"
      },
      "source": [
        "kmeans_results_cv=CrossValidation(pca_reduction,5,'kmeans',kmeans)\n",
        "kmeans_results_cv\n",
        "PlotClustering(yhat_kmeans)"
      ],
      "execution_count": 42,
      "outputs": [
        {
          "output_type": "execute_result",
          "data": {
            "application/vnd.google.colaboratory.intrinsic+json": {
              "type": "string"
            },
            "text/plain": [
              "\"kmeans_results_cv=CrossValidation(pca_reduction,5,'kmeans',kmeans)\\nkmeans_results_cv\\nPlotClustering(yhat_kmeans)\""
            ]
          },
          "metadata": {
            "tags": []
          },
          "execution_count": 42
        }
      ]
    },
    {
      "cell_type": "markdown",
      "metadata": {
        "id": "2VNXD5ZhJc9W"
      },
      "source": [
        "##5.2. OPTICS\n"
      ]
    },
    {
      "cell_type": "code",
      "metadata": {
        "id": "p3urFtRVJiB0",
        "colab": {
          "base_uri": "https://localhost:8080/",
          "height": 69
        },
        "outputId": "983aa13d-46b0-4185-8ca8-4a9e0555a6ed"
      },
      "source": [
        "#Model\n",
        "op=OPTICS(eps=0.8, min_samples=10)\n",
        "\n",
        "#Predictions\n",
        "yhat_op=op.fit_predict(pca_reduction)\n",
        "\n",
        "#Concat predictions\n",
        "yhat_op=pd.DataFrame(data=yhat_op,columns=['Clustering'])\n",
        "yhat_op=pd.concat([pca_reduction,yhat_op],axis=1)\n",
        "\n",
        "op_results=ModelPerformance(2,yhat_op[['A','B']],yhat_op['Clustering'],'optics')\n",
        "op_results"
      ],
      "execution_count": 43,
      "outputs": [
        {
          "output_type": "execute_result",
          "data": {
            "application/vnd.google.colaboratory.intrinsic+json": {
              "type": "string"
            },
            "text/plain": [
              "\"#Model\\nop=OPTICS(eps=0.8, min_samples=10)\\n\\n#Predictions\\nyhat_op=op.fit_predict(pca_reduction)\\n\\n#Concat predictions\\nyhat_op=pd.DataFrame(data=yhat_op,columns=['Clustering'])\\nyhat_op=pd.concat([pca_reduction,yhat_op],axis=1)\\n\\nop_results=ModelPerformance(2,yhat_op[['A','B']],yhat_op['Clustering'],'optics')\\nop_results\""
            ]
          },
          "metadata": {
            "tags": []
          },
          "execution_count": 43
        }
      ]
    },
    {
      "cell_type": "markdown",
      "metadata": {
        "id": "1qrSnFNEYD-I"
      },
      "source": [
        "###5.2.2. OPTICS cross validation"
      ]
    },
    {
      "cell_type": "code",
      "metadata": {
        "id": "UJYeeuFfYICU",
        "colab": {
          "base_uri": "https://localhost:8080/",
          "height": 35
        },
        "outputId": "b492c9d7-d917-4adf-9ba6-fe1386c5be32"
      },
      "source": [
        "op_results_cv=CrossValidation(pca_reduction,5,'Optics',op)\n",
        "op_results_cv\n",
        "PlotClustering(yhat_op)"
      ],
      "execution_count": 44,
      "outputs": [
        {
          "output_type": "execute_result",
          "data": {
            "application/vnd.google.colaboratory.intrinsic+json": {
              "type": "string"
            },
            "text/plain": [
              "\"op_results_cv=CrossValidation(pca_reduction,5,'Optics',op)\\nop_results_cv\\nPlotClustering(yhat_op)\""
            ]
          },
          "metadata": {
            "tags": []
          },
          "execution_count": 44
        }
      ]
    },
    {
      "cell_type": "markdown",
      "metadata": {
        "id": "ay5wuwFZAcvO"
      },
      "source": [
        "##5.3. Mini-Batch K-Means\n"
      ]
    },
    {
      "cell_type": "code",
      "metadata": {
        "id": "UIhiy36CAozt",
        "colab": {
          "base_uri": "https://localhost:8080/",
          "height": 69
        },
        "outputId": "958a9468-622d-496b-8d59-8fde9add39f0"
      },
      "source": [
        "#Model\n",
        "mbkm = MiniBatchKMeans(n_clusters=n_clusters)\n",
        "\n",
        "#Training\n",
        "mbkm_training=mbkm.fit(pca_reduction)\n",
        "\n",
        "#Prediction\n",
        "yhat_mbkm = mbkm_training.predict(pca_reduction)\n",
        "\n",
        "#Concat predictions\n",
        "yhat_mbkm=pd.DataFrame(data=yhat_mbkm,columns=['Clustering'])\n",
        "yhat_mbkm=pd.concat([pca_reduction,yhat_mbkm],axis=1)\n",
        "\n",
        "mbkm_results=ModelPerformance(2,yhat_mbkm[['A','B']],yhat_mbkm['Clustering'],'Mini-Batch')\n",
        "mbkm_results"
      ],
      "execution_count": 45,
      "outputs": [
        {
          "output_type": "execute_result",
          "data": {
            "application/vnd.google.colaboratory.intrinsic+json": {
              "type": "string"
            },
            "text/plain": [
              "\"#Model\\nmbkm = MiniBatchKMeans(n_clusters=n_clusters)\\n\\n#Training\\nmbkm_training=mbkm.fit(pca_reduction)\\n\\n#Prediction\\nyhat_mbkm = mbkm_training.predict(pca_reduction)\\n\\n#Concat predictions\\nyhat_mbkm=pd.DataFrame(data=yhat_mbkm,columns=['Clustering'])\\nyhat_mbkm=pd.concat([pca_reduction,yhat_mbkm],axis=1)\\n\\nmbkm_results=ModelPerformance(2,yhat_mbkm[['A','B']],yhat_mbkm['Clustering'],'Mini-Batch')\\nmbkm_results\""
            ]
          },
          "metadata": {
            "tags": []
          },
          "execution_count": 45
        }
      ]
    },
    {
      "cell_type": "markdown",
      "metadata": {
        "id": "9OPtQ7QuYpIA"
      },
      "source": [
        "###5.3.2. Mini-Batch K-Means cross validation"
      ]
    },
    {
      "cell_type": "code",
      "metadata": {
        "id": "wjjEMFRkZEQY",
        "colab": {
          "base_uri": "https://localhost:8080/",
          "height": 35
        },
        "outputId": "9ba17015-9352-4ef9-cd67-d8149e355f58"
      },
      "source": [
        "mbkm_results_cv=CrossValidation(pca_reduction,5,'Mini-Batch K-Means',mbkm)\n",
        "mbkm_results_cv\n",
        "PlotClustering(yhat_mbkm)"
      ],
      "execution_count": 46,
      "outputs": [
        {
          "output_type": "execute_result",
          "data": {
            "application/vnd.google.colaboratory.intrinsic+json": {
              "type": "string"
            },
            "text/plain": [
              "\"mbkm_results_cv=CrossValidation(pca_reduction,5,'Mini-Batch K-Means',mbkm)\\nmbkm_results_cv\\nPlotClustering(yhat_mbkm)\""
            ]
          },
          "metadata": {
            "tags": []
          },
          "execution_count": 46
        }
      ]
    },
    {
      "cell_type": "markdown",
      "metadata": {
        "id": "XOjrGD9HB1Hl"
      },
      "source": [
        "##5.4. Mean Shift\n",
        "\n"
      ]
    },
    {
      "cell_type": "code",
      "metadata": {
        "id": "O81xHxgIU1SG",
        "colab": {
          "base_uri": "https://localhost:8080/",
          "height": 52
        },
        "outputId": "fd78246f-cee9-4c93-8c7f-87a648de79d4"
      },
      "source": [
        "#Model\n",
        "ms = MeanShift()\n",
        "\n",
        "#Prediction\n",
        "yhat_ms = ms.fit_predict(pca_reduction)\n",
        "\n",
        "#Concat predictions\n",
        "yhat_ms=pd.DataFrame(data=yhat_ms,columns=['Clustering'])\n",
        "yhat_ms=pd.concat([pca_reduction,yhat_ms],axis=1)\n",
        "\n",
        "ms_results=ModelPerformance(2,yhat_ms[['A','B']],yhat_ms['Clustering'],'Mean Shift')\n",
        "ms_results"
      ],
      "execution_count": 47,
      "outputs": [
        {
          "output_type": "execute_result",
          "data": {
            "application/vnd.google.colaboratory.intrinsic+json": {
              "type": "string"
            },
            "text/plain": [
              "\"#Model\\nms = MeanShift()\\n\\n#Prediction\\nyhat_ms = ms.fit_predict(pca_reduction)\\n\\n#Concat predictions\\nyhat_ms=pd.DataFrame(data=yhat_ms,columns=['Clustering'])\\nyhat_ms=pd.concat([pca_reduction,yhat_ms],axis=1)\\n\\nms_results=ModelPerformance(2,yhat_ms[['A','B']],yhat_ms['Clustering'],'Mean Shift')\\nms_results\""
            ]
          },
          "metadata": {
            "tags": []
          },
          "execution_count": 47
        }
      ]
    },
    {
      "cell_type": "markdown",
      "metadata": {
        "id": "RTvuT0b4Zafc"
      },
      "source": [
        "###5.4.2. Mean Shift cross validation"
      ]
    },
    {
      "cell_type": "code",
      "metadata": {
        "id": "M82jYaDAZjmU",
        "colab": {
          "base_uri": "https://localhost:8080/",
          "height": 35
        },
        "outputId": "2d061b93-5aee-457a-c69b-b151a20e82f7"
      },
      "source": [
        "ms_results_cv=CrossValidation(pca_reduction,5,'Mean Shift',ms)\n",
        "ms_results_cv\n",
        "PlotClustering(yhat_ms)"
      ],
      "execution_count": 48,
      "outputs": [
        {
          "output_type": "execute_result",
          "data": {
            "application/vnd.google.colaboratory.intrinsic+json": {
              "type": "string"
            },
            "text/plain": [
              "\"ms_results_cv=CrossValidation(pca_reduction,5,'Mean Shift',ms)\\nms_results_cv\\nPlotClustering(yhat_ms)\""
            ]
          },
          "metadata": {
            "tags": []
          },
          "execution_count": 48
        }
      ]
    },
    {
      "cell_type": "markdown",
      "metadata": {
        "id": "2lWXE7RGcKB-"
      },
      "source": [
        "##5.5. Gaussian Mixture "
      ]
    },
    {
      "cell_type": "code",
      "metadata": {
        "id": "LV3bBNR9cTHV",
        "colab": {
          "base_uri": "https://localhost:8080/",
          "height": 69
        },
        "outputId": "f6fae829-6c1f-47c1-e567-09bb94c8fc19"
      },
      "source": [
        "#Model\n",
        "gm = GaussianMixture(n_components=n_clusters)\n",
        "\n",
        "#Training\n",
        "gm_training=gm.fit(pca_reduction)\n",
        "\n",
        "#Prediction\n",
        "yhat_gm = gm_training.predict(pca_reduction)\n",
        "\n",
        "#Concat predictions\n",
        "yhat_gm=pd.DataFrame(data=yhat_gm,columns=['Clustering'])\n",
        "yhat_gm=pd.concat([pca_reduction,yhat_gm],axis=1)\n",
        "\n",
        "gm_results=ModelPerformance(2,yhat_gm[['A','B']],yhat_gm['Clustering'],'Gaussian Mixture')\n",
        "gm_results"
      ],
      "execution_count": 49,
      "outputs": [
        {
          "output_type": "execute_result",
          "data": {
            "application/vnd.google.colaboratory.intrinsic+json": {
              "type": "string"
            },
            "text/plain": [
              "\"#Model\\ngm = GaussianMixture(n_components=n_clusters)\\n\\n#Training\\ngm_training=gm.fit(pca_reduction)\\n\\n#Prediction\\nyhat_gm = gm_training.predict(pca_reduction)\\n\\n#Concat predictions\\nyhat_gm=pd.DataFrame(data=yhat_gm,columns=['Clustering'])\\nyhat_gm=pd.concat([pca_reduction,yhat_gm],axis=1)\\n\\ngm_results=ModelPerformance(2,yhat_gm[['A','B']],yhat_gm['Clustering'],'Gaussian Mixture')\\ngm_results\""
            ]
          },
          "metadata": {
            "tags": []
          },
          "execution_count": 49
        }
      ]
    },
    {
      "cell_type": "markdown",
      "metadata": {
        "id": "MfwOvmv_aQa0"
      },
      "source": [
        "###5.5.2. Gaussian Mixture cross validation"
      ]
    },
    {
      "cell_type": "code",
      "metadata": {
        "id": "LokgRgwNaeP7",
        "colab": {
          "base_uri": "https://localhost:8080/",
          "height": 35
        },
        "outputId": "fcf47117-700d-4023-f718-264d0fe11a56"
      },
      "source": [
        "gm_results_cv=CrossValidation(pca_reduction,5,'Gaussian Mixture',gm)\n",
        "gm_results_cv\n",
        "PlotClustering(yhat_gm)"
      ],
      "execution_count": 50,
      "outputs": [
        {
          "output_type": "execute_result",
          "data": {
            "application/vnd.google.colaboratory.intrinsic+json": {
              "type": "string"
            },
            "text/plain": [
              "\"gm_results_cv=CrossValidation(pca_reduction,5,'Gaussian Mixture',gm)\\ngm_results_cv\\nPlotClustering(yhat_gm)\""
            ]
          },
          "metadata": {
            "tags": []
          },
          "execution_count": 50
        }
      ]
    },
    {
      "cell_type": "markdown",
      "metadata": {
        "id": "MwI2oj-9hFBN"
      },
      "source": [
        "##5.6. BIRCH"
      ]
    },
    {
      "cell_type": "code",
      "metadata": {
        "id": "-bi2ztIDbdHI",
        "colab": {
          "base_uri": "https://localhost:8080/",
          "height": 69
        },
        "outputId": "c79b8603-c56c-416a-9d67-60309e5b2d18"
      },
      "source": [
        "#Model\n",
        "bc = Birch(threshold=0.01, n_clusters=n_clusters)\n",
        "\n",
        "#Prediction\n",
        "yhat_bc = bc.fit_predict(pca_reduction)\n",
        "\n",
        "#Concat predictions\n",
        "yhat_bc=pd.DataFrame(data=yhat_bc,columns=['Clustering'])\n",
        "yhat_bc=pd.concat([pca_reduction,yhat_bc],axis=1)\n",
        "\n",
        "bc_results=ModelPerformance(2,yhat_bc[['A','B']],yhat_bc['Clustering'],'Gaussian Mixture')\n",
        "bc_results"
      ],
      "execution_count": 51,
      "outputs": [
        {
          "output_type": "execute_result",
          "data": {
            "application/vnd.google.colaboratory.intrinsic+json": {
              "type": "string"
            },
            "text/plain": [
              "\"#Model\\nbc = Birch(threshold=0.01, n_clusters=n_clusters)\\n\\n#Prediction\\nyhat_bc = bc.fit_predict(pca_reduction)\\n\\n#Concat predictions\\nyhat_bc=pd.DataFrame(data=yhat_bc,columns=['Clustering'])\\nyhat_bc=pd.concat([pca_reduction,yhat_bc],axis=1)\\n\\nbc_results=ModelPerformance(2,yhat_bc[['A','B']],yhat_bc['Clustering'],'Gaussian Mixture')\\nbc_results\""
            ]
          },
          "metadata": {
            "tags": []
          },
          "execution_count": 51
        }
      ]
    },
    {
      "cell_type": "markdown",
      "metadata": {
        "id": "5asmOVjztuz9"
      },
      "source": [
        "###5.6.2. BIRCH cross validation"
      ]
    },
    {
      "cell_type": "code",
      "metadata": {
        "id": "1DaOcdDYt4Qb",
        "colab": {
          "base_uri": "https://localhost:8080/",
          "height": 35
        },
        "outputId": "0c118728-c85e-4fbc-d083-7affc92abbc0"
      },
      "source": [
        "bc_results_cv=CrossValidation(pca_reduction,5,'BIRCH',bc)\n",
        "bc_results_cv\n",
        "PlotClustering(yhat_bc)"
      ],
      "execution_count": 52,
      "outputs": [
        {
          "output_type": "execute_result",
          "data": {
            "application/vnd.google.colaboratory.intrinsic+json": {
              "type": "string"
            },
            "text/plain": [
              "\"bc_results_cv=CrossValidation(pca_reduction,5,'BIRCH',bc)\\nbc_results_cv\\nPlotClustering(yhat_bc)\""
            ]
          },
          "metadata": {
            "tags": []
          },
          "execution_count": 52
        }
      ]
    },
    {
      "cell_type": "markdown",
      "metadata": {
        "id": "oreGowMSgP5o"
      },
      "source": [
        "##5.7. Agglomerative Clustering"
      ]
    },
    {
      "cell_type": "code",
      "metadata": {
        "id": "5zT4wCwhbgvn",
        "colab": {
          "base_uri": "https://localhost:8080/",
          "height": 69
        },
        "outputId": "55113f76-4b67-42b8-9cf1-8e254f1bc916"
      },
      "source": [
        "#Model\n",
        "ac=AgglomerativeClustering(n_clusters=n_clusters)\n",
        "\n",
        "#Predictions\n",
        "yhat_ac=ac.fit_predict(pca_reduction)\n",
        "\n",
        "#Concat predictions\n",
        "yhat_ac=pd.DataFrame(data=yhat_ac,columns=['Clustering'])\n",
        "yhat_ac=pd.concat([pca_reduction,yhat_ac],axis=1)\n",
        "\n",
        "ac_results=ModelPerformance(2,yhat_ac[['A','B']],yhat_ac['Clustering'],'AgglomerativeClustering')\n",
        "ac_results"
      ],
      "execution_count": 53,
      "outputs": [
        {
          "output_type": "execute_result",
          "data": {
            "application/vnd.google.colaboratory.intrinsic+json": {
              "type": "string"
            },
            "text/plain": [
              "\"#Model\\nac=AgglomerativeClustering(n_clusters=n_clusters)\\n\\n#Predictions\\nyhat_ac=ac.fit_predict(pca_reduction)\\n\\n#Concat predictions\\nyhat_ac=pd.DataFrame(data=yhat_ac,columns=['Clustering'])\\nyhat_ac=pd.concat([pca_reduction,yhat_ac],axis=1)\\n\\nac_results=ModelPerformance(2,yhat_ac[['A','B']],yhat_ac['Clustering'],'AgglomerativeClustering')\\nac_results\""
            ]
          },
          "metadata": {
            "tags": []
          },
          "execution_count": 53
        }
      ]
    },
    {
      "cell_type": "markdown",
      "metadata": {
        "id": "WozT_WiUvPms"
      },
      "source": [
        "###5.7.2. Agglomerative clustering cross validation"
      ]
    },
    {
      "cell_type": "code",
      "metadata": {
        "id": "_RZJFM2qvZd3",
        "colab": {
          "base_uri": "https://localhost:8080/",
          "height": 35
        },
        "outputId": "db5f58bc-5e09-4c18-b9ed-b5db5912886a"
      },
      "source": [
        "ac_results_cv=CrossValidation(pca_reduction,5,'agglomerative clustering',ac)\n",
        "ac_results_cv\n",
        "PlotClustering(yhat_ac)"
      ],
      "execution_count": 54,
      "outputs": [
        {
          "output_type": "execute_result",
          "data": {
            "application/vnd.google.colaboratory.intrinsic+json": {
              "type": "string"
            },
            "text/plain": [
              "\"ac_results_cv=CrossValidation(pca_reduction,5,'agglomerative clustering',ac)\\nac_results_cv\\nPlotClustering(yhat_ac)\""
            ]
          },
          "metadata": {
            "tags": []
          },
          "execution_count": 54
        }
      ]
    },
    {
      "cell_type": "markdown",
      "metadata": {
        "id": "5U7NwxmYY2XT"
      },
      "source": [
        "##5.8. Compare Model's Performance"
      ]
    },
    {
      "cell_type": "markdown",
      "metadata": {
        "id": "u7j3l4avY9Eb"
      },
      "source": [
        "### 5.8.1. Single Performance\n"
      ]
    },
    {
      "cell_type": "code",
      "metadata": {
        "id": "pXVuY_iBY_Dz",
        "colab": {
          "base_uri": "https://localhost:8080/",
          "height": 52
        },
        "outputId": "34e69aea-fa38-4b39-c929-734134311ff1"
      },
      "source": [
        "modelling_results=pd.concat([kmeans_results,op_results,mbkm_results,\n",
        "                             ms_results,gm_results,bc_results,ac_results],axis=0)\n",
        "modelling_results.sort_values('Db',ascending=False)"
      ],
      "execution_count": 55,
      "outputs": [
        {
          "output_type": "execute_result",
          "data": {
            "application/vnd.google.colaboratory.intrinsic+json": {
              "type": "string"
            },
            "text/plain": [
              "\"modelling_results=pd.concat([kmeans_results,op_results,mbkm_results,\\n                             ms_results,gm_results,bc_results,ac_results],axis=0)\\nmodelling_results.sort_values('Db',ascending=False)\""
            ]
          },
          "metadata": {
            "tags": []
          },
          "execution_count": 55
        }
      ]
    },
    {
      "cell_type": "markdown",
      "metadata": {
        "id": "ggunoaLQZANs"
      },
      "source": [
        "###5.8.2. Real Performance - Cross Validation\n"
      ]
    },
    {
      "cell_type": "code",
      "metadata": {
        "id": "4576ICmh_T2N",
        "colab": {
          "base_uri": "https://localhost:8080/",
          "height": 120
        },
        "outputId": "6eb36ead-3538-4c4a-bbdd-e82ef1344c70"
      },
      "source": [
        "modelling_results_cv=pd.concat([kmeans_results_cv,op_results_cv,mbkm_results_cv,ms_results_cv,gm_results_cv,\n",
        "                                bc_results_cv,ac_results_cv,],axis=0)\n",
        "modelling_results_cv.sort_values('Db CV',ascending=False)\n",
        "plt.subplot(3,3,1)\n",
        "ax=PlotClustering(yhat_kmeans)\n",
        "ax.figure.set_size_inches(12,12)\n",
        "ax.set_title('kemans')\n",
        "\n",
        "plt.subplot(3,3,2)\n",
        "ax=PlotClustering(yhat_op)\n",
        "ax.set_title('OPTICS')\n",
        "\n",
        "plt.subplot(3,3,3)\n",
        "ax=PlotClustering(yhat_mbkm)\n",
        "ax.set_title('Mini-Batch K-Means')\n",
        "\n",
        "plt.subplot(3,3,4)\n",
        "ax=PlotClustering(yhat_ms)\n",
        "ax.set_title('Mean-Shift')\n",
        "\n",
        "plt.subplot(3,3,5)\n",
        "ax=PlotClustering(yhat_gm)\n",
        "ax.set_title('Gaussian Mixture')\n",
        "\n",
        "plt.subplot(3,3,6)\n",
        "ax=PlotClustering(yhat_bc)\n",
        "ax.set_title('BIRCH')\n",
        "\n",
        "plt.subplot(3,3,7)\n",
        "ax=PlotClustering(yhat_ac)\n",
        "ax.set_title('Agglomerative clustering')"
      ],
      "execution_count": 56,
      "outputs": [
        {
          "output_type": "execute_result",
          "data": {
            "application/vnd.google.colaboratory.intrinsic+json": {
              "type": "string"
            },
            "text/plain": [
              "\"modelling_results_cv=pd.concat([kmeans_results_cv,op_results_cv,mbkm_results_cv,ms_results_cv,gm_results_cv,\\n                                bc_results_cv,ac_results_cv,],axis=0)\\nmodelling_results_cv.sort_values('Db CV',ascending=False)\\nplt.subplot(3,3,1)\\nax=PlotClustering(yhat_kmeans)\\nax.figure.set_size_inches(12,12)\\nax.set_title('kemans')\\n\\nplt.subplot(3,3,2)\\nax=PlotClustering(yhat_op)\\nax.set_title('OPTICS')\\n\\nplt.subplot(3,3,3)\\nax=PlotClustering(yhat_mbkm)\\nax.set_title('Mini-Batch K-Means')\\n\\nplt.subplot(3,3,4)\\nax=PlotClustering(yhat_ms)\\nax.set_title('Mean-Shift')\\n\\nplt.subplot(3,3,5)\\nax=PlotClustering(yhat_gm)\\nax.set_title('Gaussian Mixture')\\n\\nplt.subplot(3,3,6)\\nax=PlotClustering(yhat_bc)\\nax.set_title('BIRCH')\\n\\nplt.subplot(3,3,7)\\nax=PlotClustering(yhat_ac)\\nax.set_title('Agglomerative clustering')\""
            ]
          },
          "metadata": {
            "tags": []
          },
          "execution_count": 56
        }
      ]
    },
    {
      "cell_type": "markdown",
      "metadata": {
        "id": "XNgufp4nZMza"
      },
      "source": [
        "#6.0. PASSO 6 - HYPERPARAMETER FINE TUNING"
      ]
    },
    {
      "cell_type": "code",
      "metadata": {
        "id": "eUiUrsO_ZNOw"
      },
      "source": [
        "#copia do dataframe\n",
        "df6=df5.copy()"
      ],
      "execution_count": 57,
      "outputs": []
    },
    {
      "cell_type": "markdown",
      "metadata": {
        "id": "G5MqjiseZcez"
      },
      "source": [
        "##6.1.Random Search"
      ]
    },
    {
      "cell_type": "code",
      "metadata": {
        "id": "01axy4tOi0L4"
      },
      "source": [
        "warnings.filterwarnings('ignore')"
      ],
      "execution_count": 58,
      "outputs": []
    },
    {
      "cell_type": "code",
      "metadata": {
        "id": "jjYyZEGCZc7U",
        "colab": {
          "base_uri": "https://localhost:8080/",
          "height": 120
        },
        "outputId": "fe2686bc-4d32-4700-ad0f-ff57ad369328"
      },
      "source": [
        "#params\n",
        "param={        'n_clusters':  [2,3,4],\n",
        "               'tol':         [0.0001,0.001,0.01],\n",
        "               'max_iter':    [100,200,300],\n",
        "               'tol':         [0.0001,0.001,0.01],\n",
        "               'verbose':     [0,1,2]}\n",
        "\n",
        "MAX_EVAL=25\n",
        "\n",
        "final_results=pd.DataFrame()\n",
        "\n",
        "for i in range (MAX_EVAL):\n",
        "\n",
        "  #Choose values for parameters randomly\n",
        "  hp={k:random.sample(v,1)[0] for k,v in param.items()}\n",
        "  print(hp)\n",
        "\n",
        "  #model\n",
        "  kmeans_model=KMeans(init='random',   n_clusters=  hp['n_clusters'],\n",
        "                                       tol=         hp['tol'],\n",
        "                                       max_iter=    hp['max_iter'],\n",
        "                                       verbose=     hp['verbose'])             \n",
        "                            \n",
        "  \n",
        "  #performance\n",
        "  results=CrossValidation(pca_reduction,5,'K-Means',kmeans_model) \n",
        "  final_results=pd.concat([final_results,results])\n",
        "final_results"
      ],
      "execution_count": 59,
      "outputs": [
        {
          "output_type": "execute_result",
          "data": {
            "application/vnd.google.colaboratory.intrinsic+json": {
              "type": "string"
            },
            "text/plain": [
              "\"#params\\nparam={        'n_clusters':  [2,3,4],\\n               'tol':         [0.0001,0.001,0.01],\\n               'max_iter':    [100,200,300],\\n               'tol':         [0.0001,0.001,0.01],\\n               'verbose':     [0,1,2]}\\n\\nMAX_EVAL=25\\n\\nfinal_results=pd.DataFrame()\\n\\nfor i in range (MAX_EVAL):\\n\\n  #Choose values for parameters randomly\\n  hp={k:random.sample(v,1)[0] for k,v in param.items()}\\n  print(hp)\\n\\n  #model\\n  kmeans_model=KMeans(init='random',   n_clusters=  hp['n_clusters'],\\n                                       tol=         hp['tol'],\\n                                       max_iter=    hp['max_iter'],\\n                                       verbose=     hp['verbose'])             \\n                            \\n  \\n  #performance\\n  results=CrossValidation(pca_reduction,5,'K-Means',kmeans_model) \\n  final_results=pd.concat([final_results,results])\\nfinal_results\""
            ]
          },
          "metadata": {
            "tags": []
          },
          "execution_count": 59
        }
      ]
    },
    {
      "cell_type": "markdown",
      "metadata": {
        "id": "olrRbmpSZlpr"
      },
      "source": [
        "##6.2.Final Model"
      ]
    },
    {
      "cell_type": "code",
      "metadata": {
        "id": "BzzpBRmpZmIZ",
        "colab": {
          "base_uri": "https://localhost:8080/",
          "height": 342
        },
        "outputId": "61feaee2-9488-47f8-ffc8-bae83d834afb"
      },
      "source": [
        "#Params tuned\n",
        "params_tuned={'n_clusters': 3, 'tol': 0.001, 'max_iter': 200, 'verbose': 0}\n",
        "\n",
        "#Model\n",
        "kmeans_model_tuned=KMeans(         init='random',\n",
        "                                   n_clusters=  params_tuned['n_clusters'],\n",
        "                                   tol=         params_tuned['tol'],\n",
        "                                   max_iter=    params_tuned['max_iter'],\n",
        "                                   verbose=     params_tuned['verbose']) \n",
        "\n",
        "#Prediction\n",
        "yhat_model_tuned=kmeans_model_tuned.fit_predict(pca_reduction)\n",
        "\n",
        "#Concat predictions\n",
        "yhat_model_tuned=pd.DataFrame(data=yhat_model_tuned,columns=['Clustering'])\n",
        "yhat_model_tuned=pd.concat([pca_reduction,yhat_model_tuned],axis=1)\n",
        "\n",
        "#plot clustering\n",
        "PlotClustering(yhat_model_tuned)\n",
        "\n",
        "#Performance\n",
        "kmeans_result_cv=CrossValidation(pca_reduction,5,'K-Means',kmeans_model_tuned)\n",
        "kmeans_result_cv"
      ],
      "execution_count": 60,
      "outputs": [
        {
          "output_type": "execute_result",
          "data": {
            "text/html": [
              "<div>\n",
              "<style scoped>\n",
              "    .dataframe tbody tr th:only-of-type {\n",
              "        vertical-align: middle;\n",
              "    }\n",
              "\n",
              "    .dataframe tbody tr th {\n",
              "        vertical-align: top;\n",
              "    }\n",
              "\n",
              "    .dataframe thead th {\n",
              "        text-align: right;\n",
              "    }\n",
              "</style>\n",
              "<table border=\"1\" class=\"dataframe\">\n",
              "  <thead>\n",
              "    <tr style=\"text-align: right;\">\n",
              "      <th></th>\n",
              "      <th>ModelName</th>\n",
              "      <th>Db CV</th>\n",
              "      <th>CalinskiHarabasz CV</th>\n",
              "    </tr>\n",
              "  </thead>\n",
              "  <tbody>\n",
              "    <tr>\n",
              "      <th>0</th>\n",
              "      <td>K-Means</td>\n",
              "      <td>0.82+/-0.04</td>\n",
              "      <td>138766.74+/-68294.99</td>\n",
              "    </tr>\n",
              "  </tbody>\n",
              "</table>\n",
              "</div>"
            ],
            "text/plain": [
              "  ModelName        Db CV   CalinskiHarabasz CV\n",
              "0   K-Means  0.82+/-0.04  138766.74+/-68294.99"
            ]
          },
          "metadata": {
            "tags": []
          },
          "execution_count": 60
        },
        {
          "output_type": "display_data",
          "data": {
            "image/png": "[encoded data removed]",
            "text/plain": [
              "<Figure size 432x288 with 1 Axes>"
            ]
          },
          "metadata": {
            "tags": [],
            "needs_background": "light"
          }
        }
      ]
    },
    {
      "cell_type": "markdown",
      "metadata": {
        "id": "lE3Sxx6BZsrS"
      },
      "source": [
        "#7.0. PASSO 7 - REPORT"
      ]
    },
    {
      "cell_type": "code",
      "metadata": {
        "id": "o5xdCVjD2xEU"
      },
      "source": [
        "df7=pd.concat([df3.copy().reset_index(),yhat_model_tuned['Clustering']],axis=1)\n",
        "df7['Clustering']=df7['Clustering'].apply(lambda x: 'G1' if x==0 else 'G2' if x==1 else 'G3' if x==2 else x)"
      ],
      "execution_count": 61,
      "outputs": []
    },
    {
      "cell_type": "markdown",
      "metadata": {
        "id": "NBKT0GyDSens"
      },
      "source": [
        "### 1 - Quem são as pessoas elegíveis para participar do programa de Insiders ?\n"
      ]
    },
    {
      "cell_type": "code",
      "metadata": {
        "id": "xm5sBdjsSuSk",
        "colab": {
          "base_uri": "https://localhost:8080/",
          "height": 0
        },
        "outputId": "43554727-0221-43b7-856e-c1d5541bbb69"
      },
      "source": [
        "aux=df7[['Clustering','ValorDaCompra']].copy().groupby('Clustering').sum().reset_index()\n",
        "\n",
        "sns.barplot(x='Clustering',y='ValorDaCompra',data=aux)\n",
        "ax.set_title('Vendas por grupos')"
      ],
      "execution_count": 62,
      "outputs": [
        {
          "output_type": "execute_result",
          "data": {
            "text/plain": [
              "Text(0.5, 1.0, 'Vendas por grupos')"
            ]
          },
          "metadata": {
            "tags": []
          },
          "execution_count": 62
        },
        {
          "output_type": "display_data",
          "data": {
            "image/png": "[encoded data removed]",
            "text/plain": [
              "<Figure size 432x288 with 1 Axes>"
            ]
          },
          "metadata": {
            "tags": [],
            "needs_background": "light"
          }
        }
      ]
    },
    {
      "cell_type": "markdown",
      "metadata": {
        "id": "2txiMzvXSux8"
      },
      "source": [
        "### 2 - Quantos clientes farão parte do grupo?"
      ]
    },
    {
      "cell_type": "code",
      "metadata": {
        "id": "9SvKAy33S1Hi",
        "colab": {
          "base_uri": "https://localhost:8080/"
        },
        "outputId": "637cbf77-3357-4410-fc65-68f966625641"
      },
      "source": [
        "len(df7[df7['Clustering']=='G2']['IdCliente'].unique())"
      ],
      "execution_count": 63,
      "outputs": [
        {
          "output_type": "execute_result",
          "data": {
            "text/plain": [
              "2586"
            ]
          },
          "metadata": {
            "tags": []
          },
          "execution_count": 63
        }
      ]
    },
    {
      "cell_type": "markdown",
      "metadata": {
        "id": "rKKBEIZmS28k"
      },
      "source": [
        "### 3 - Quais as principais características desses clientes ?"
      ]
    },
    {
      "cell_type": "code",
      "metadata": {
        "colab": {
          "base_uri": "https://localhost:8080/",
          "height": 0
        },
        "id": "fIEVZ3zZckFc",
        "outputId": "a571e4c7-9267-4acc-ccec-e5823ecc7aa9"
      },
      "source": [
        "#Produtos mais procurandos do Grupo 2\n",
        "aux=df7[df7['Clustering']=='G2']\n",
        "aux=aux[['IdCliente','Produto']].groupby('Produto').count().reset_index().sort_values('IdCliente',ascending=False).head(10)\n",
        "\n",
        "plt.subplot(2,2,1)\n",
        "ax=sns.barplot(y='Produto',x='IdCliente',data=aux)\n",
        "ax.set_title('Produtos mais procurandos do Grupo 2')\n",
        "ax.figure.set_size_inches(10,10)\n",
        "\n",
        "#Ticket Médio por grupos\n",
        "aux=df7[['IdCliente','Clustering','ValorDaCompra']].groupby(['Clustering','IdCliente']).mean().reset_index()\n",
        "aux=aux.groupby(['Clustering']).mean().reset_index()\n",
        "\n",
        "plt.subplot(2,2,2)\n",
        "ax=sns.barplot(x='Clustering',y='ValorDaCompra',data=aux)\n",
        "ax.set_title('Ticket Médio por grupos')\n",
        "\n",
        "#Vendas Do Grupo 2 em 2017\n",
        "aux=df7[(df7['Clustering']=='G2')& (df7['Ano']==2017)]\n",
        "aux=aux[['IdCliente','Mes','ValorDaCompra']].groupby(['IdCliente','Mes']).sum().reset_index()\n",
        "\n",
        "plt.subplot(2,2,3)\n",
        "ax=sns.barplot(x='Mes',y='ValorDaCompra',data=aux)\n",
        "ax.set_title('Vendas Do Grupo 2 em 2017')"
      ],
      "execution_count": 64,
      "outputs": [
        {
          "output_type": "execute_result",
          "data": {
            "text/plain": [
              "Text(0.5, 1.0, 'Vendas Do Grupo 2 em 2017')"
            ]
          },
          "metadata": {
            "tags": []
          },
          "execution_count": 64
        },
        {
          "output_type": "display_data",
          "data": {
            "image/png": "[encoded data removed]",
            "text/plain": [
              "<Figure size 720x720 with 3 Axes>"
            ]
          },
          "metadata": {
            "tags": [],
            "needs_background": "light"
          }
        }
      ]
    },
    {
      "cell_type": "markdown",
      "metadata": {
        "id": "YhHJrF5jUtQ2"
      },
      "source": [
        "##### 1 - Consomem produtos para festas\n",
        "\n",
        "##### 2 - Possuem o ticket médio superior\n",
        "\n",
        "##### 3 - Compram mais nos meses de Outubro , Novembro e Dezembro."
      ]
    },
    {
      "cell_type": "markdown",
      "metadata": {
        "id": "vHJqn53HS_68"
      },
      "source": [
        "### 4 - Qual a porcentagem de contribuição do faturamento, vinda do Insiders ?\n"
      ]
    },
    {
      "cell_type": "code",
      "metadata": {
        "id": "1aY2mi2QTIfe",
        "colab": {
          "base_uri": "https://localhost:8080/",
          "height": 0
        },
        "outputId": "ef1f1510-1924-4244-852c-192861d1fdd8"
      },
      "source": [
        "aux=df7[['Clustering','ValorDaCompra']].groupby('Clustering').sum().reset_index()\n",
        "aux['%']=(aux['ValorDaCompra']/aux['ValorDaCompra'].sum())*100\n",
        "aux"
      ],
      "execution_count": 65,
      "outputs": [
        {
          "output_type": "execute_result",
          "data": {
            "text/html": [
              "<div>\n",
              "<style scoped>\n",
              "    .dataframe tbody tr th:only-of-type {\n",
              "        vertical-align: middle;\n",
              "    }\n",
              "\n",
              "    .dataframe tbody tr th {\n",
              "        vertical-align: top;\n",
              "    }\n",
              "\n",
              "    .dataframe thead th {\n",
              "        text-align: right;\n",
              "    }\n",
              "</style>\n",
              "<table border=\"1\" class=\"dataframe\">\n",
              "  <thead>\n",
              "    <tr style=\"text-align: right;\">\n",
              "      <th></th>\n",
              "      <th>Clustering</th>\n",
              "      <th>ValorDaCompra</th>\n",
              "      <th>%</th>\n",
              "    </tr>\n",
              "  </thead>\n",
              "  <tbody>\n",
              "    <tr>\n",
              "      <th>0</th>\n",
              "      <td>G1</td>\n",
              "      <td>3562329.231</td>\n",
              "      <td>30.748</td>\n",
              "    </tr>\n",
              "    <tr>\n",
              "      <th>1</th>\n",
              "      <td>G2</td>\n",
              "      <td>3637519.353</td>\n",
              "      <td>31.397</td>\n",
              "    </tr>\n",
              "    <tr>\n",
              "      <th>2</th>\n",
              "      <td>G3</td>\n",
              "      <td>4385772.570</td>\n",
              "      <td>37.855</td>\n",
              "    </tr>\n",
              "  </tbody>\n",
              "</table>\n",
              "</div>"
            ],
            "text/plain": [
              "  Clustering  ValorDaCompra      %\n",
              "0         G1    3562329.231 30.748\n",
              "1         G2    3637519.353 31.397\n",
              "2         G3    4385772.570 37.855"
            ]
          },
          "metadata": {
            "tags": []
          },
          "execution_count": 65
        }
      ]
    },
    {
      "cell_type": "markdown",
      "metadata": {
        "id": "8SX8VrLDTMdM"
      },
      "source": [
        "### 5 - Qual a expectativa de faturamento desse grupo para os próximos 6 meses ?\n"
      ]
    },
    {
      "cell_type": "code",
      "metadata": {
        "id": "d6QEBvGKGu0X",
        "colab": {
          "base_uri": "https://localhost:8080/",
          "height": 0
        },
        "outputId": "f795af50-e118-493f-8e9e-417fdfa4598a"
      },
      "source": [
        "aux=df7[(df7['Clustering']=='G2') & (df7['Ano']==2017)]\n",
        "aux=aux[['Mes','ValorDaCompra']].groupby('Mes').sum().reset_index().head(6)\n",
        "\n",
        "aux['PiorSenario']=(aux['ValorDaCompra'].mean()-np.std(aux['ValorDaCompra']))*6\n",
        "aux['ValorEsperado']=aux['ValorDaCompra'].mean()*6\n",
        "aux['MelhorSenario']=(aux['ValorDaCompra'].mean()+np.std(aux['ValorDaCompra']))*6\n",
        "aux=aux[['PiorSenario','ValorEsperado','MelhorSenario']].head(1)\n",
        "aux"
      ],
      "execution_count": 66,
      "outputs": [
        {
          "output_type": "execute_result",
          "data": {
            "text/html": [
              "<div>\n",
              "<style scoped>\n",
              "    .dataframe tbody tr th:only-of-type {\n",
              "        vertical-align: middle;\n",
              "    }\n",
              "\n",
              "    .dataframe tbody tr th {\n",
              "        vertical-align: top;\n",
              "    }\n",
              "\n",
              "    .dataframe thead th {\n",
              "        text-align: right;\n",
              "    }\n",
              "</style>\n",
              "<table border=\"1\" class=\"dataframe\">\n",
              "  <thead>\n",
              "    <tr style=\"text-align: right;\">\n",
              "      <th></th>\n",
              "      <th>PiorSenario</th>\n",
              "      <th>ValorEsperado</th>\n",
              "      <th>MelhorSenario</th>\n",
              "    </tr>\n",
              "  </thead>\n",
              "  <tbody>\n",
              "    <tr>\n",
              "      <th>0</th>\n",
              "      <td>3810574.319</td>\n",
              "      <td>4365023.224</td>\n",
              "      <td>4919472.128</td>\n",
              "    </tr>\n",
              "  </tbody>\n",
              "</table>\n",
              "</div>"
            ],
            "text/plain": [
              "   PiorSenario  ValorEsperado  MelhorSenario\n",
              "0  3810574.319    4365023.224    4919472.128"
            ]
          },
          "metadata": {
            "tags": []
          },
          "execution_count": 66
        }
      ]
    },
    {
      "cell_type": "markdown",
      "metadata": {
        "id": "E55iZci8TS48"
      },
      "source": [
        "### 6 - Quais as condições para uma pessoa ser elegível ao Insiders ?\n"
      ]
    },
    {
      "cell_type": "markdown",
      "metadata": {
        "id": "EFjHGtJfmSzl"
      },
      "source": [
        "#### 1 - Ter ticket médio acima de 100 dólares no ano de 2017"
      ]
    },
    {
      "cell_type": "markdown",
      "metadata": {
        "id": "HV9WEvjFTczj"
      },
      "source": [
        "###7 - Quais as condições para uma pessoa ser removida do Insiders ?\n"
      ]
    },
    {
      "cell_type": "markdown",
      "metadata": {
        "id": "eaB0jblEoevr"
      },
      "source": [
        "#### 1- Possuir um ticket médio anual abaixo de 100 dólares\n",
        "#### 2- Ficar 2 meses sem comprar."
      ]
    },
    {
      "cell_type": "markdown",
      "metadata": {
        "id": "TUQtJsn3TsFi"
      },
      "source": [
        "### 8 - Qual a garantia que o programa Insiders é melhor que o restante da base ?"
      ]
    },
    {
      "cell_type": "code",
      "metadata": {
        "colab": {
          "base_uri": "https://localhost:8080/"
        },
        "id": "tQaEuXVH8_7h",
        "outputId": "9c41505d-2208-4ce5-c494-a75d034cae60"
      },
      "source": [
        "aux=df7[['Clustering','ValorDaCompra']].groupby('Clustering').sum().reset_index()\n",
        "aux['%']=(aux['ValorDaCompra']/aux['ValorDaCompra'].sum())*100\n",
        "media=aux['%'].mean()\n",
        "percentual_acima=g2=aux['%']-media\n",
        "percentual_acima[1]"
      ],
      "execution_count": 67,
      "outputs": [
        {
          "output_type": "execute_result",
          "data": {
            "text/plain": [
              "-1.9364897403258823"
            ]
          },
          "metadata": {
            "tags": []
          },
          "execution_count": 67
        }
      ]
    },
    {
      "cell_type": "markdown",
      "metadata": {
        "id": "Y4WdCug0_KjJ"
      },
      "source": [
        "#### Os Insiders compram o ano todo e possuem faturamento de 5 % maior do que os outros grupos."
      ]
    },
    {
      "cell_type": "markdown",
      "metadata": {
        "id": "Hhetyvj8T5-U"
      },
      "source": [
        "###9 - Quais ações o time de marketing pode realizar para aumentar o faturamento?\n"
      ]
    },
    {
      "cell_type": "markdown",
      "metadata": {
        "id": "9pihbEu4oHpM"
      },
      "source": [
        "#### Fazer campanhas de marketing visando os produtos para festas."
      ]
    }
  ]
}